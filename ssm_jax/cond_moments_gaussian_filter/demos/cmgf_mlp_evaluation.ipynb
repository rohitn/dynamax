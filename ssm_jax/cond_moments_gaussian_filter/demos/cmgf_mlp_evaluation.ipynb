{
  "cells": [
    {
      "cell_type": "markdown",
      "metadata": {
        "id": "kzeh8LgE0KQ3"
      },
      "source": [
        "#CMGF-EKF Evaluation for MLP Training"
      ]
    },
    {
      "cell_type": "markdown",
      "metadata": {
        "id": "Xo0q-V7r1Rlk"
      },
      "source": [
        "Author: Peter Chang([@petergchang](https://github.com/petergchang))"
      ]
    },
    {
      "cell_type": "markdown",
      "metadata": {
        "id": "MpeCZrrr1VT8"
      },
      "source": [
        "##0. Imports"
      ]
    },
    {
      "cell_type": "code",
      "execution_count": 1,
      "metadata": {
        "id": "Jt8tn_d8zxq1"
      },
      "outputs": [],
      "source": [
        "# Silence WARNING:root:The use of `check_types` is deprecated and does not have any effect.\n",
        "# https://github.com/tensorflow/probability/issues/1523\n",
        "import logging\n",
        "\n",
        "logger = logging.getLogger()\n",
        "\n",
        "\n",
        "class CheckTypesFilter(logging.Filter):\n",
        "    def filter(self, record):\n",
        "        return \"check_types\" not in record.getMessage()\n",
        "\n",
        "\n",
        "logger.addFilter(CheckTypesFilter())\n",
        "\n",
        "import warnings\n",
        "warnings.filterwarnings('ignore')"
      ]
    },
    {
      "cell_type": "code",
      "execution_count": 2,
      "metadata": {
        "id": "oKLE1L7F0I-4",
        "colab": {
          "base_uri": "https://localhost:8080/"
        },
        "outputId": "cb42372a-aa21-4144-d22e-b369f477b5b7"
      },
      "outputs": [
        {
          "output_type": "stream",
          "name": "stdout",
          "text": [
            "installing ssm_jax\n",
            "  Installing build dependencies ... \u001b[?25l\u001b[?25hdone\n",
            "  Getting requirements to build wheel ... \u001b[?25l\u001b[?25hdone\n",
            "    Preparing wheel metadata ... \u001b[?25l\u001b[?25hdone\n",
            "\u001b[K     |████████████████████████████████| 85 kB 1.6 MB/s \n",
            "\u001b[K     |████████████████████████████████| 145 kB 11.1 MB/s \n",
            "\u001b[K     |████████████████████████████████| 180 kB 32.7 MB/s \n",
            "\u001b[K     |████████████████████████████████| 114 kB 50.4 MB/s \n",
            "\u001b[K     |████████████████████████████████| 128 kB 45.4 MB/s \n",
            "\u001b[K     |████████████████████████████████| 217 kB 41.4 MB/s \n",
            "\u001b[K     |████████████████████████████████| 51 kB 6.5 MB/s \n",
            "\u001b[?25h  Building wheel for ssm-jax (PEP 517) ... \u001b[?25l\u001b[?25hdone\n"
          ]
        },
        {
          "output_type": "stream",
          "name": "stderr",
          "text": [
            "WARNING:absl:No GPU/TPU found, falling back to CPU. (Set TF_CPP_MIN_LOG_LEVEL=0 and rerun for more info.)\n"
          ]
        }
      ],
      "source": [
        "try:\n",
        "    from ssm_jax.cond_moments_gaussian_filter.inference import *\n",
        "    from ssm_jax.cond_moments_gaussian_filter.containers import *\n",
        "    import flax.linen as nn\n",
        "except ModuleNotFoundError:\n",
        "    print('installing ssm_jax')\n",
        "    %pip install -qq git+https://github.com/probml/ssm-jax.git\n",
        "    %pip install -qq flax\n",
        "    from ssm_jax.cond_moments_gaussian_filter.inference import *\n",
        "    from ssm_jax.cond_moments_gaussian_filter.containers import *\n",
        "    import flax.linen as nn"
      ]
    },
    {
      "cell_type": "code",
      "execution_count": 26,
      "metadata": {
        "id": "EDo2iwuE1Tct"
      },
      "outputs": [],
      "source": [
        "from typing import Sequence\n",
        "from functools import partial\n",
        "\n",
        "import matplotlib.pyplot as plt\n",
        "import matplotlib.colors\n",
        "import matplotlib.cm as cm\n",
        "import jax\n",
        "import jax.numpy as jnp\n",
        "import jax.random as jr\n",
        "from jax.flatten_util import ravel_pytree\n",
        "from jax import lax\n",
        "from jax import vmap\n",
        "from jax.tree_util import tree_map, tree_reduce, tree_leaves\n",
        "from jax import jacfwd\n",
        "from jax.scipy.linalg import block_diag"
      ]
    },
    {
      "cell_type": "markdown",
      "metadata": {
        "id": "bDyP-txo1epD"
      },
      "source": [
        "#1. MLP Definition"
      ]
    },
    {
      "cell_type": "code",
      "execution_count": 27,
      "metadata": {
        "id": "Y-eMPyrA26RL"
      },
      "outputs": [],
      "source": [
        "class MLP(nn.Module):\n",
        "    features: Sequence[int]\n",
        "\n",
        "    @nn.compact\n",
        "    def __call__(self, x):\n",
        "        for feat in self.features[:-1]:\n",
        "            x = nn.relu(nn.Dense(feat)(x))\n",
        "        x = nn.Dense(self.features[-1])(x)\n",
        "        return x"
      ]
    },
    {
      "cell_type": "code",
      "execution_count": 28,
      "metadata": {
        "id": "unFLKgX929K2"
      },
      "outputs": [],
      "source": [
        "def get_mlp_flattened_params(model_dims, key=0):\n",
        "    if isinstance(key, int):\n",
        "        key = jr.PRNGKey(key)\n",
        "\n",
        "    # Define MLP model\n",
        "    input_dim, features = model_dims[0], model_dims[1:]\n",
        "    model = MLP(features)\n",
        "    dummy_input = jnp.ones((input_dim,))\n",
        "\n",
        "    # Initialize parameters using dummy input\n",
        "    params = model.init(key, dummy_input)\n",
        "    flat_params, unflatten_fn = ravel_pytree(params)\n",
        "\n",
        "    # Define apply function\n",
        "    def apply(flat_params, x, model, unflatten_fn):\n",
        "        return model.apply(unflatten_fn(flat_params), jnp.atleast_1d(x))\n",
        "\n",
        "    apply_fn = partial(apply, model=model, unflatten_fn=unflatten_fn)\n",
        "\n",
        "    return model, flat_params, unflatten_fn, apply_fn"
      ]
    },
    {
      "cell_type": "code",
      "source": [
        "# Generate spiral dataset\n",
        "# Adapted from https://gist.github.com/45deg/e731d9e7f478de134def5668324c44c5\n",
        "def generate_spiral_dataset(key=0, num_per_class=250, zero_var=1., one_var=1., shuffle=True):\n",
        "    if isinstance(key, int):\n",
        "        key = jr.PRNGKey(key)\n",
        "    key1, key2, key3, key4 = jr.split(key, 4)\n",
        "\n",
        "    theta = jnp.sqrt(jr.uniform(key1, shape=(num_per_class,))) * 2*jnp.pi\n",
        "    r = 2*theta + jnp.pi\n",
        "    generate_data = lambda theta, r: jnp.array([jnp.cos(theta)*r, jnp.sin(theta)*r]).T\n",
        "\n",
        "    # Data for output zero\n",
        "    zero_input = generate_data(theta, r) + zero_var * jr.normal(key2, shape=(num_per_class, 2))\n",
        "    zero_output = jnp.zeros((num_per_class, 1,))\n",
        "\n",
        "    # Data for output one\n",
        "    one_input = generate_data(theta, -r) + one_var * jr.normal(key3, shape=(num_per_class, 2))\n",
        "    one_output = jnp.ones((num_per_class, 1,))\n",
        "\n",
        "    # Stack the inputs and standardize\n",
        "    input = jnp.concatenate([zero_input, one_input])\n",
        "    input = (input - input.mean(axis=0)) / input.std(axis=0)\n",
        "\n",
        "    # Generate binary output\n",
        "    output = jnp.concatenate([jnp.zeros(num_per_class), jnp.ones(num_per_class)])\n",
        "\n",
        "    if shuffle:\n",
        "        idx = jr.permutation(key4, jnp.arange(num_per_class * 2))\n",
        "        input, output = input[idx], output[idx]\n",
        "\n",
        "    return input, output"
      ],
      "metadata": {
        "id": "Xwu9bJnC5Jw5"
      },
      "execution_count": 32,
      "outputs": []
    },
    {
      "cell_type": "markdown",
      "source": [
        "#2. Decouple Helper Functions"
      ],
      "metadata": {
        "id": "D6SdzpDYCmL4"
      }
    },
    {
      "cell_type": "code",
      "execution_count": 70,
      "metadata": {
        "id": "n4c6sV4U290N"
      },
      "outputs": [],
      "source": [
        "def decouple_flat_params(model_dims):\n",
        "    assert len(model_dims) > 1\n",
        "    decoupled_params_idx = []\n",
        "    curr_idx = 0\n",
        "    for layer in range(1, len(model_dims)):\n",
        "        # Number of parameter elements corresponding to current layer\n",
        "        num_prev, num_curr = model_dims[layer-1], model_dims[layer] # Number of nodes in prev, curr layer\n",
        "        num_bias_params = num_curr\n",
        "        num_weight_params = num_prev * num_curr\n",
        "        num_params_curr_layer = num_bias_params + num_weight_params\n",
        "        \n",
        "        # Range of indices in flattened params array corresponding to current layer\n",
        "        idx_range = jnp.arange(curr_idx, curr_idx + num_params_curr_layer)\n",
        "        \n",
        "        # Append list of indices for each node in current layer\n",
        "        decoupled_params_idx += [jnp.array([idx_range[i + num_curr * j] for j in range(num_prev + 1)]) for i in range(num_curr)]\n",
        "        \n",
        "        curr_idx += num_params_curr_layer\n",
        "\n",
        "    # Function to decouple parameters by node\n",
        "    def decouple_fn(params, select_rows=True):\n",
        "        if select_rows:\n",
        "            return {i: params[idx] for i, idx in enumerate(decoupled_params_idx)}\n",
        "        return {i: params[:,idx] for i, idx in enumerate(decoupled_params_idx)}\n",
        "\n",
        "    params_sizes = jnp.array([0] + [len(node_params) for node_params in decoupled_params_idx])\n",
        "    diag_idx = jnp.cumsum(params_sizes)\n",
        "    \n",
        "    # Function to separate parameter covariance matrix by node\n",
        "    decouple_cov_fn = lambda cov: {i: lax.dynamic_slice(cov, (diag_idx[i], diag_idx[i]), (params_sizes[i+1], params_sizes[i+1])) for i in range(0, len(diag_idx)-1)}\n",
        "    recouple_cov_fn = lambda covs: block_diag(*tree_leaves(covs))\n",
        "    \n",
        "    # Function to recouple decoupled params list \n",
        "    def recouple_fn(decoupled_params):\n",
        "        decoupled_params_list = tree_leaves(decouple_fn(flat_params))\n",
        "        recoupled_params_list = []\n",
        "        curr_idx = 0\n",
        "        for layer in range(1, len(model_dims)):\n",
        "            # Flatten params sublist corresponding to each layer\n",
        "            recoupled_params_list.append(jnp.ravel(jnp.array(decoupled_params_list[curr_idx:curr_idx + model_dims[layer]]), order='F'))\n",
        "            curr_idx += model_dims[layer]\n",
        "            \n",
        "        return jnp.concatenate(recoupled_params_list)\n",
        "    \n",
        "    return decouple_fn, recouple_fn, decouple_cov_fn, recouple_cov_fn"
      ]
    },
    {
      "cell_type": "markdown",
      "source": [
        "#3. Decoupled CMGF-EKF-MLP"
      ],
      "metadata": {
        "id": "xJljOF_zlnkD"
      }
    },
    {
      "cell_type": "code",
      "source": [
        "from jax.scipy.linalg import block_diag"
      ],
      "metadata": {
        "id": "u7acW11t2IQ2"
      },
      "execution_count": 71,
      "outputs": []
    },
    {
      "cell_type": "code",
      "source": [
        "# Helper functions\n",
        "_get_params = lambda x, dim, t: x[t] if x.ndim == dim + 1 else x\n",
        "_process_fn = lambda f, u: (lambda x, y: f(x)) if u is None else f\n",
        "_process_input = lambda x, y: jnp.zeros((y,)) if x is None else x"
      ],
      "metadata": {
        "id": "_MkBHQahtGup"
      },
      "execution_count": 72,
      "outputs": []
    },
    {
      "cell_type": "code",
      "source": [
        "@chex.dataclass\n",
        "class DecoupleParams:\n",
        "    decouple_fn: Callable\n",
        "    recouple_fn: Callable\n",
        "    decouple_cov_fn: Callable\n",
        "    recouple_cov_fn: Callable"
      ],
      "metadata": {
        "id": "VHbmiGFdnOlV"
      },
      "execution_count": 73,
      "outputs": []
    },
    {
      "cell_type": "code",
      "source": [
        "from functools import partial\n",
        "\n",
        "_jacfwd_2d = lambda f, x: jnp.atleast_2d(jacfwd(f)(x))\n",
        "\n",
        "def _decoupled_condition_on(m, P, decouple_params, y_cond_mean, y_cond_cov, u, y, num_iter):\n",
        "    m_Y = lambda x: y_cond_mean(x, u)\n",
        "    Cov_Y = lambda x: y_cond_cov(x, u)\n",
        "\n",
        "    decouple_fn, recouple_fn = decouple_params.decouple_fn, decouple_params.recouple_fn\n",
        "    decouple_cov_fn, recouple_cov_fn = decouple_params.decouple_cov_fn, decouple_params.recouple_cov_fn\n",
        "    \n",
        "    def _step(carry, _):\n",
        "        prior_means, prior_covs = carry\n",
        "        prior_mean = recouple_fn(prior_means)\n",
        "        yhat = jnp.atleast_1d(m_Y(prior_mean))\n",
        "\n",
        "        # Compute and decouple Jacobian\n",
        "        H = _jacfwd_2d(m_Y, prior_mean)\n",
        "        Hs = decouple_fn(H, select_rows=False)\n",
        "\n",
        "        # Compute intermediate parameters\n",
        "        S = jnp.atleast_1d(Cov_Y(prior_mean)) + \\\n",
        "            tree_reduce(lambda a, b: a+b, tree_map(lambda hh, pp: hh @ pp @ hh.T, Hs, Ps))\n",
        "        log_likelihood = MVN(yhat, S).log_prob(jnp.atleast_1d(y))\n",
        "        Ks = tree_map(lambda hh, pp: jnp.linalg.solve(S, hh @ pp.T).T, Hs, Ps)\n",
        "\n",
        "        # Compute posterior parameters\n",
        "        posterior_means = tree_map(lambda mm, dd: mm + dd, prior_means, \n",
        "                                   tree_map(lambda kk: kk @ (y - yhat), Ks))\n",
        "        posterior_covs = tree_map(lambda pp, kk, hh: pp - kk @ hh @ pp, prior_covs, Ks, Hs)\n",
        "        return (posterior_means, posterior_covs), log_likelihood\n",
        "\n",
        "    # Decouple parameters before iteration\n",
        "    ms, Ps = decouple_fn(m), decouple_cov_fn(P)\n",
        "    carry = (ms, Ps)\n",
        "    # Iterate re-linearization over posterior mean and covariance\n",
        "    (mus_cond, Sigmas_cond), lls = lax.scan(_step, carry, jnp.arange(num_iter))\n",
        "    mu_cond, Sigma_cond = recouple_fn(mus_cond), recouple_cov_fn(Sigmas_cond)\n",
        "\n",
        "    return lls[0], mu_cond, Sigma_cond"
      ],
      "metadata": {
        "id": "EtO5wROwwyyS"
      },
      "execution_count": 85,
      "outputs": []
    },
    {
      "cell_type": "code",
      "source": [
        "def _predict(m, P, f, Q, u, g_ev, g_cov):\n",
        "    dynamics_fn = lambda x: f(x, u)\n",
        "    identity_fn = lambda x: x\n",
        "    mu_pred = g_ev(dynamics_fn, m, P)\n",
        "    Sigma_pred = g_cov(dynamics_fn, dynamics_fn, m, P) + Q\n",
        "    cross_pred = g_cov(identity_fn, dynamics_fn, m, P)\n",
        "    return mu_pred, Sigma_pred, cross_pred"
      ],
      "metadata": {
        "id": "Iy5XULzk6Kev"
      },
      "execution_count": 87,
      "outputs": []
    },
    {
      "cell_type": "code",
      "source": [
        "def decoupled_extended_conditional_moments_gaussian_filter(params, decouple_params, emissions, num_iter=1, inputs=None):\n",
        "    num_timesteps = len(emissions)\n",
        "\n",
        "    # Process dynamics function and conditional emission moments to take in control inputs\n",
        "    f = params.dynamics_function\n",
        "    m_Y, Cov_Y = params.emission_mean_function, params.emission_cov_function\n",
        "    f, m_Y, Cov_Y  = (_process_fn(fn, inputs) for fn in (f, m_Y, Cov_Y))\n",
        "    inputs = _process_input(inputs, num_timesteps)\n",
        "\n",
        "    # Gaussian expectation value function\n",
        "    g_ev = params.gaussian_expectation\n",
        "    g_cov = params.gaussian_cross_covariance\n",
        "\n",
        "    def _step(carry, t):\n",
        "        ll, pred_mean, pred_cov = carry\n",
        "\n",
        "        # Get parameters and inputs for time index t\n",
        "        Q = _get_params(params.dynamics_covariance, 2, t)\n",
        "        u = inputs[t]\n",
        "        y = emissions[t]\n",
        "\n",
        "        # Condition on the emission\n",
        "        log_likelihood, filtered_mean, filtered_cov = _decoupled_condition_on(pred_mean, pred_cov, decouple_params, \n",
        "                                                                              m_Y, Cov_Y, u, y, num_iter)\n",
        "        ll += log_likelihood\n",
        "\n",
        "        # Predict the next state\n",
        "        pred_mean, pred_cov, _ = _predict(filtered_mean, filtered_cov, f, Q, u, g_ev, g_cov)\n",
        "\n",
        "        return (ll, pred_mean, pred_cov), (filtered_mean, filtered_cov)\n",
        "\n",
        "    # Run the general linearization filter\n",
        "    carry = (0.0, params.initial_mean, params.initial_covariance)\n",
        "    (ll, _, _), (filtered_means, filtered_covs) = lax.scan(_step, carry, jnp.arange(num_timesteps))\n",
        "    return GSSMPosterior(marginal_loglik=ll, filtered_means=filtered_means, filtered_covariances=filtered_covs)\n"
      ],
      "metadata": {
        "id": "6oZiV7nckpRs"
      },
      "execution_count": 88,
      "outputs": []
    },
    {
      "cell_type": "markdown",
      "source": [
        "# Experiment"
      ],
      "metadata": {
        "id": "supk3r7Y5Wpi"
      }
    },
    {
      "cell_type": "code",
      "source": [
        "# Generate data\n",
        "input, output = generate_spiral_dataset()\n",
        "\n",
        "# Define MLP architecture\n",
        "input_dim, hidden_dims, output_dim = 2, [2,], 1\n",
        "model_dims = [input_dim, *hidden_dims, output_dim]\n",
        "\n",
        "\n",
        "model, flat_params, unflatten_fn, apply_fn = get_mlp_flattened_params(model_dims)\n",
        "\n",
        "# Some model parameters and helper funciton\n",
        "state_dim, emission_dim = flat_params.size, output_dim\n",
        "sigmoid_fn = lambda w, x: jax.nn.sigmoid(apply_fn(w, x))\n",
        "\n",
        "cmgf_ekf_params = EKFParams(\n",
        "    initial_mean=flat_params,\n",
        "    initial_covariance=jnp.eye(state_dim),\n",
        "    dynamics_function=lambda w, x: w,\n",
        "    dynamics_covariance=jnp.eye(state_dim) * 1e-4,\n",
        "    emission_mean_function = lambda w, x: sigmoid_fn(w, x),\n",
        "    emission_cov_function = lambda w, x: sigmoid_fn(w, x) * (1 - sigmoid_fn(w, x))\n",
        ")\n",
        "\n",
        "decouple_params = DecoupleParams(\n",
        "    decouple_fn = decouple_flat_params(model_dims)[0],\n",
        "    recouple_fn = decouple_flat_params(model_dims)[1],\n",
        "    decouple_cov_fn = decouple_flat_params(model_dims)[2],\n",
        "    recouple_cov_fn = decouple_flat_params(model_dims)[3]\n",
        ")"
      ],
      "metadata": {
        "id": "uLaJKp6zkpPt"
      },
      "execution_count": 91,
      "outputs": []
    },
    {
      "cell_type": "code",
      "source": [
        "decoupled_extended_conditional_moments_gaussian_filter(cmgf_ekf_params, decouple_params, output, inputs=input)"
      ],
      "metadata": {
        "id": "tmMFgUDUVK37",
        "outputId": "805c65f7-4885-47bc-e6e0-a6aa413b649d",
        "colab": {
          "base_uri": "https://localhost:8080/",
          "height": 550
        }
      },
      "execution_count": 92,
      "outputs": [
        {
          "output_type": "error",
          "ename": "TypeError",
          "evalue": "ignored",
          "traceback": [
            "\u001b[0;31m---------------------------------------------------------------------------\u001b[0m",
            "\u001b[0;31mUnfilteredStackTrace\u001b[0m                      Traceback (most recent call last)",
            "\u001b[0;32m<ipython-input-92-78f8dc63ca03>\u001b[0m in \u001b[0;36m<module>\u001b[0;34m\u001b[0m\n\u001b[0;32m----> 1\u001b[0;31m \u001b[0mdecoupled_extended_conditional_moments_gaussian_filter\u001b[0m\u001b[0;34m(\u001b[0m\u001b[0mcmgf_ekf_params\u001b[0m\u001b[0;34m,\u001b[0m \u001b[0mdecouple_params\u001b[0m\u001b[0;34m,\u001b[0m \u001b[0moutput\u001b[0m\u001b[0;34m,\u001b[0m \u001b[0minputs\u001b[0m\u001b[0;34m=\u001b[0m\u001b[0minput\u001b[0m\u001b[0;34m)\u001b[0m\u001b[0;34m\u001b[0m\u001b[0;34m\u001b[0m\u001b[0m\n\u001b[0m",
            "\u001b[0;32m<ipython-input-88-9930e551a364>\u001b[0m in \u001b[0;36mdecoupled_extended_conditional_moments_gaussian_filter\u001b[0;34m(params, decouple_params, emissions, num_iter, inputs)\u001b[0m\n\u001b[1;32m     33\u001b[0m     \u001b[0mcarry\u001b[0m \u001b[0;34m=\u001b[0m \u001b[0;34m(\u001b[0m\u001b[0;36m0.0\u001b[0m\u001b[0;34m,\u001b[0m \u001b[0mparams\u001b[0m\u001b[0;34m.\u001b[0m\u001b[0minitial_mean\u001b[0m\u001b[0;34m,\u001b[0m \u001b[0mparams\u001b[0m\u001b[0;34m.\u001b[0m\u001b[0minitial_covariance\u001b[0m\u001b[0;34m)\u001b[0m\u001b[0;34m\u001b[0m\u001b[0;34m\u001b[0m\u001b[0m\n\u001b[0;32m---> 34\u001b[0;31m     \u001b[0;34m(\u001b[0m\u001b[0mll\u001b[0m\u001b[0;34m,\u001b[0m \u001b[0m_\u001b[0m\u001b[0;34m,\u001b[0m \u001b[0m_\u001b[0m\u001b[0;34m)\u001b[0m\u001b[0;34m,\u001b[0m \u001b[0;34m(\u001b[0m\u001b[0mfiltered_means\u001b[0m\u001b[0;34m,\u001b[0m \u001b[0mfiltered_covs\u001b[0m\u001b[0;34m)\u001b[0m \u001b[0;34m=\u001b[0m \u001b[0mlax\u001b[0m\u001b[0;34m.\u001b[0m\u001b[0mscan\u001b[0m\u001b[0;34m(\u001b[0m\u001b[0m_step\u001b[0m\u001b[0;34m,\u001b[0m \u001b[0mcarry\u001b[0m\u001b[0;34m,\u001b[0m \u001b[0mjnp\u001b[0m\u001b[0;34m.\u001b[0m\u001b[0marange\u001b[0m\u001b[0;34m(\u001b[0m\u001b[0mnum_timesteps\u001b[0m\u001b[0;34m)\u001b[0m\u001b[0;34m)\u001b[0m\u001b[0;34m\u001b[0m\u001b[0;34m\u001b[0m\u001b[0m\n\u001b[0m\u001b[1;32m     35\u001b[0m     \u001b[0;32mreturn\u001b[0m \u001b[0mGSSMPosterior\u001b[0m\u001b[0;34m(\u001b[0m\u001b[0mmarginal_loglik\u001b[0m\u001b[0;34m=\u001b[0m\u001b[0mll\u001b[0m\u001b[0;34m,\u001b[0m \u001b[0mfiltered_means\u001b[0m\u001b[0;34m=\u001b[0m\u001b[0mfiltered_means\u001b[0m\u001b[0;34m,\u001b[0m \u001b[0mfiltered_covariances\u001b[0m\u001b[0;34m=\u001b[0m\u001b[0mfiltered_covs\u001b[0m\u001b[0;34m)\u001b[0m\u001b[0;34m\u001b[0m\u001b[0;34m\u001b[0m\u001b[0m\n",
            "\u001b[0;32m/usr/local/lib/python3.7/dist-packages/jax/_src/traceback_util.py\u001b[0m in \u001b[0;36mreraise_with_filtered_traceback\u001b[0;34m(*args, **kwargs)\u001b[0m\n\u001b[1;32m    161\u001b[0m     \u001b[0;32mtry\u001b[0m\u001b[0;34m:\u001b[0m\u001b[0;34m\u001b[0m\u001b[0;34m\u001b[0m\u001b[0m\n\u001b[0;32m--> 162\u001b[0;31m       \u001b[0;32mreturn\u001b[0m \u001b[0mfun\u001b[0m\u001b[0;34m(\u001b[0m\u001b[0;34m*\u001b[0m\u001b[0margs\u001b[0m\u001b[0;34m,\u001b[0m \u001b[0;34m**\u001b[0m\u001b[0mkwargs\u001b[0m\u001b[0;34m)\u001b[0m\u001b[0;34m\u001b[0m\u001b[0;34m\u001b[0m\u001b[0m\n\u001b[0m\u001b[1;32m    163\u001b[0m     \u001b[0;32mexcept\u001b[0m \u001b[0mException\u001b[0m \u001b[0;32mas\u001b[0m \u001b[0me\u001b[0m\u001b[0;34m:\u001b[0m\u001b[0;34m\u001b[0m\u001b[0;34m\u001b[0m\u001b[0m\n",
            "\u001b[0;32m/usr/local/lib/python3.7/dist-packages/jax/_src/lax/control_flow/loops.py\u001b[0m in \u001b[0;36mscan\u001b[0;34m(f, init, xs, length, reverse, unroll)\u001b[0m\n\u001b[1;32m    258\u001b[0m   \u001b[0;31m# necessary, a second time with modified init values.\u001b[0m\u001b[0;34m\u001b[0m\u001b[0;34m\u001b[0m\u001b[0;34m\u001b[0m\u001b[0m\n\u001b[0;32m--> 259\u001b[0;31m   \u001b[0minit_flat\u001b[0m\u001b[0;34m,\u001b[0m \u001b[0mcarry_avals\u001b[0m\u001b[0;34m,\u001b[0m \u001b[0mcarry_avals_out\u001b[0m\u001b[0;34m,\u001b[0m \u001b[0minit_tree\u001b[0m\u001b[0;34m,\u001b[0m \u001b[0;34m*\u001b[0m\u001b[0mrest\u001b[0m \u001b[0;34m=\u001b[0m \u001b[0m_create_jaxpr\u001b[0m\u001b[0;34m(\u001b[0m\u001b[0minit\u001b[0m\u001b[0;34m)\u001b[0m\u001b[0;34m\u001b[0m\u001b[0;34m\u001b[0m\u001b[0m\n\u001b[0m\u001b[1;32m    260\u001b[0m   \u001b[0mnew_init_flat\u001b[0m\u001b[0;34m,\u001b[0m \u001b[0mchanged\u001b[0m \u001b[0;34m=\u001b[0m \u001b[0m_promote_weak_typed_inputs\u001b[0m\u001b[0;34m(\u001b[0m\u001b[0minit_flat\u001b[0m\u001b[0;34m,\u001b[0m \u001b[0mcarry_avals\u001b[0m\u001b[0;34m,\u001b[0m \u001b[0mcarry_avals_out\u001b[0m\u001b[0;34m)\u001b[0m\u001b[0;34m\u001b[0m\u001b[0;34m\u001b[0m\u001b[0m\n",
            "\u001b[0;32m/usr/local/lib/python3.7/dist-packages/jax/_src/lax/control_flow/loops.py\u001b[0m in \u001b[0;36m_create_jaxpr\u001b[0;34m(init)\u001b[0m\n\u001b[1;32m    245\u001b[0m     jaxpr, consts, out_tree = _initial_style_jaxpr(\n\u001b[0;32m--> 246\u001b[0;31m         f, in_tree, (*carry_avals, *x_avals), \"scan\")\n\u001b[0m\u001b[1;32m    247\u001b[0m     \u001b[0mout_tree_children\u001b[0m \u001b[0;34m=\u001b[0m \u001b[0mout_tree\u001b[0m\u001b[0;34m.\u001b[0m\u001b[0mchildren\u001b[0m\u001b[0;34m(\u001b[0m\u001b[0;34m)\u001b[0m\u001b[0;34m\u001b[0m\u001b[0;34m\u001b[0m\u001b[0m\n",
            "\u001b[0;32m/usr/local/lib/python3.7/dist-packages/jax/_src/util.py\u001b[0m in \u001b[0;36mwrapped\u001b[0;34m(weak_arg, *args, **kwargs)\u001b[0m\n\u001b[1;32m    276\u001b[0m       \u001b[0mmisses\u001b[0m \u001b[0;34m+=\u001b[0m \u001b[0;36m1\u001b[0m\u001b[0;34m\u001b[0m\u001b[0;34m\u001b[0m\u001b[0m\n\u001b[0;32m--> 277\u001b[0;31m     \u001b[0mresult\u001b[0m \u001b[0;34m=\u001b[0m \u001b[0mcall\u001b[0m\u001b[0;34m(\u001b[0m\u001b[0mweak_arg\u001b[0m\u001b[0;34m,\u001b[0m \u001b[0;34m*\u001b[0m\u001b[0margs\u001b[0m\u001b[0;34m,\u001b[0m \u001b[0;34m**\u001b[0m\u001b[0mkwargs\u001b[0m\u001b[0;34m)\u001b[0m\u001b[0;34m\u001b[0m\u001b[0;34m\u001b[0m\u001b[0m\n\u001b[0m\u001b[1;32m    278\u001b[0m     \u001b[0;32mwith\u001b[0m \u001b[0mlock\u001b[0m\u001b[0;34m:\u001b[0m\u001b[0;34m\u001b[0m\u001b[0;34m\u001b[0m\u001b[0m\n",
            "\u001b[0;32m/usr/local/lib/python3.7/dist-packages/jax/_src/lax/control_flow/common.py\u001b[0m in \u001b[0;36m_initial_style_jaxpr\u001b[0;34m(fun, in_tree, in_avals, primitive_name)\u001b[0m\n\u001b[1;32m     57\u001b[0m   jaxpr, consts, out_tree = _initial_style_open_jaxpr(\n\u001b[0;32m---> 58\u001b[0;31m       fun, in_tree, in_avals, primitive_name)\n\u001b[0m\u001b[1;32m     59\u001b[0m   \u001b[0mclosed_jaxpr\u001b[0m \u001b[0;34m=\u001b[0m \u001b[0mcore\u001b[0m\u001b[0;34m.\u001b[0m\u001b[0mClosedJaxpr\u001b[0m\u001b[0;34m(\u001b[0m\u001b[0mpe\u001b[0m\u001b[0;34m.\u001b[0m\u001b[0mconvert_constvars_jaxpr\u001b[0m\u001b[0;34m(\u001b[0m\u001b[0mjaxpr\u001b[0m\u001b[0;34m)\u001b[0m\u001b[0;34m,\u001b[0m \u001b[0;34m(\u001b[0m\u001b[0;34m)\u001b[0m\u001b[0;34m)\u001b[0m\u001b[0;34m\u001b[0m\u001b[0;34m\u001b[0m\u001b[0m\n",
            "\u001b[0;32m/usr/local/lib/python3.7/dist-packages/jax/_src/util.py\u001b[0m in \u001b[0;36mwrapped\u001b[0;34m(weak_arg, *args, **kwargs)\u001b[0m\n\u001b[1;32m    276\u001b[0m       \u001b[0mmisses\u001b[0m \u001b[0;34m+=\u001b[0m \u001b[0;36m1\u001b[0m\u001b[0;34m\u001b[0m\u001b[0;34m\u001b[0m\u001b[0m\n\u001b[0;32m--> 277\u001b[0;31m     \u001b[0mresult\u001b[0m \u001b[0;34m=\u001b[0m \u001b[0mcall\u001b[0m\u001b[0;34m(\u001b[0m\u001b[0mweak_arg\u001b[0m\u001b[0;34m,\u001b[0m \u001b[0;34m*\u001b[0m\u001b[0margs\u001b[0m\u001b[0;34m,\u001b[0m \u001b[0;34m**\u001b[0m\u001b[0mkwargs\u001b[0m\u001b[0;34m)\u001b[0m\u001b[0;34m\u001b[0m\u001b[0;34m\u001b[0m\u001b[0m\n\u001b[0m\u001b[1;32m    278\u001b[0m     \u001b[0;32mwith\u001b[0m \u001b[0mlock\u001b[0m\u001b[0;34m:\u001b[0m\u001b[0;34m\u001b[0m\u001b[0;34m\u001b[0m\u001b[0m\n",
            "\u001b[0;32m/usr/local/lib/python3.7/dist-packages/jax/_src/lax/control_flow/common.py\u001b[0m in \u001b[0;36m_initial_style_open_jaxpr\u001b[0;34m(fun, in_tree, in_avals, primitive_name)\u001b[0m\n\u001b[1;32m     50\u001b[0m   \u001b[0mdebug\u001b[0m \u001b[0;34m=\u001b[0m \u001b[0mpe\u001b[0m\u001b[0;34m.\u001b[0m\u001b[0mdebug_info\u001b[0m\u001b[0;34m(\u001b[0m\u001b[0mfun\u001b[0m\u001b[0;34m,\u001b[0m \u001b[0min_tree\u001b[0m\u001b[0;34m,\u001b[0m \u001b[0;32mFalse\u001b[0m\u001b[0;34m,\u001b[0m \u001b[0mprimitive_name\u001b[0m \u001b[0;32mor\u001b[0m \u001b[0;34m\"<unknown>\"\u001b[0m\u001b[0;34m)\u001b[0m\u001b[0;34m\u001b[0m\u001b[0;34m\u001b[0m\u001b[0m\n\u001b[0;32m---> 51\u001b[0;31m   \u001b[0mjaxpr\u001b[0m\u001b[0;34m,\u001b[0m \u001b[0m_\u001b[0m\u001b[0;34m,\u001b[0m \u001b[0mconsts\u001b[0m \u001b[0;34m=\u001b[0m \u001b[0mpe\u001b[0m\u001b[0;34m.\u001b[0m\u001b[0mtrace_to_jaxpr_dynamic\u001b[0m\u001b[0;34m(\u001b[0m\u001b[0mwrapped_fun\u001b[0m\u001b[0;34m,\u001b[0m \u001b[0min_avals\u001b[0m\u001b[0;34m,\u001b[0m \u001b[0mdebug\u001b[0m\u001b[0;34m)\u001b[0m\u001b[0;34m\u001b[0m\u001b[0;34m\u001b[0m\u001b[0m\n\u001b[0m\u001b[1;32m     52\u001b[0m   \u001b[0;32mreturn\u001b[0m \u001b[0mjaxpr\u001b[0m\u001b[0;34m,\u001b[0m \u001b[0mconsts\u001b[0m\u001b[0;34m,\u001b[0m \u001b[0mout_tree\u001b[0m\u001b[0;34m(\u001b[0m\u001b[0;34m)\u001b[0m\u001b[0;34m\u001b[0m\u001b[0;34m\u001b[0m\u001b[0m\n",
            "\u001b[0;32m/usr/local/lib/python3.7/dist-packages/jax/_src/profiler.py\u001b[0m in \u001b[0;36mwrapper\u001b[0;34m(*args, **kwargs)\u001b[0m\n\u001b[1;32m    312\u001b[0m     \u001b[0;32mwith\u001b[0m \u001b[0mTraceAnnotation\u001b[0m\u001b[0;34m(\u001b[0m\u001b[0mname\u001b[0m\u001b[0;34m,\u001b[0m \u001b[0;34m**\u001b[0m\u001b[0mdecorator_kwargs\u001b[0m\u001b[0;34m)\u001b[0m\u001b[0;34m:\u001b[0m\u001b[0;34m\u001b[0m\u001b[0;34m\u001b[0m\u001b[0m\n\u001b[0;32m--> 313\u001b[0;31m       \u001b[0;32mreturn\u001b[0m \u001b[0mfunc\u001b[0m\u001b[0;34m(\u001b[0m\u001b[0;34m*\u001b[0m\u001b[0margs\u001b[0m\u001b[0;34m,\u001b[0m \u001b[0;34m**\u001b[0m\u001b[0mkwargs\u001b[0m\u001b[0;34m)\u001b[0m\u001b[0;34m\u001b[0m\u001b[0;34m\u001b[0m\u001b[0m\n\u001b[0m\u001b[1;32m    314\u001b[0m     \u001b[0;32mreturn\u001b[0m \u001b[0mwrapper\u001b[0m\u001b[0;34m\u001b[0m\u001b[0;34m\u001b[0m\u001b[0m\n",
            "\u001b[0;32m/usr/local/lib/python3.7/dist-packages/jax/interpreters/partial_eval.py\u001b[0m in \u001b[0;36mtrace_to_jaxpr_dynamic\u001b[0;34m(fun, in_avals, debug_info, keep_inputs)\u001b[0m\n\u001b[1;32m   1929\u001b[0m     jaxpr, out_avals, consts = trace_to_subjaxpr_dynamic(\n\u001b[0;32m-> 1930\u001b[0;31m       fun, main, in_avals, keep_inputs=keep_inputs, debug_info=debug_info)\n\u001b[0m\u001b[1;32m   1931\u001b[0m     \u001b[0;32mdel\u001b[0m \u001b[0mmain\u001b[0m\u001b[0;34m,\u001b[0m \u001b[0mfun\u001b[0m\u001b[0;34m\u001b[0m\u001b[0;34m\u001b[0m\u001b[0m\n",
            "\u001b[0;32m/usr/local/lib/python3.7/dist-packages/jax/interpreters/partial_eval.py\u001b[0m in \u001b[0;36mtrace_to_subjaxpr_dynamic\u001b[0;34m(fun, main, in_avals, keep_inputs, debug_info)\u001b[0m\n\u001b[1;32m   1945\u001b[0m     \u001b[0min_tracers_\u001b[0m \u001b[0;34m=\u001b[0m \u001b[0;34m[\u001b[0m\u001b[0mt\u001b[0m \u001b[0;32mfor\u001b[0m \u001b[0mt\u001b[0m\u001b[0;34m,\u001b[0m \u001b[0mkeep\u001b[0m \u001b[0;32min\u001b[0m \u001b[0mzip\u001b[0m\u001b[0;34m(\u001b[0m\u001b[0min_tracers\u001b[0m\u001b[0;34m,\u001b[0m \u001b[0mkeep_inputs\u001b[0m\u001b[0;34m)\u001b[0m \u001b[0;32mif\u001b[0m \u001b[0mkeep\u001b[0m\u001b[0;34m]\u001b[0m\u001b[0;34m\u001b[0m\u001b[0;34m\u001b[0m\u001b[0m\n\u001b[0;32m-> 1946\u001b[0;31m     \u001b[0mans\u001b[0m \u001b[0;34m=\u001b[0m \u001b[0mfun\u001b[0m\u001b[0;34m.\u001b[0m\u001b[0mcall_wrapped\u001b[0m\u001b[0;34m(\u001b[0m\u001b[0;34m*\u001b[0m\u001b[0min_tracers_\u001b[0m\u001b[0;34m)\u001b[0m\u001b[0;34m\u001b[0m\u001b[0;34m\u001b[0m\u001b[0m\n\u001b[0m\u001b[1;32m   1947\u001b[0m     \u001b[0mout_tracers\u001b[0m \u001b[0;34m=\u001b[0m \u001b[0mmap\u001b[0m\u001b[0;34m(\u001b[0m\u001b[0mtrace\u001b[0m\u001b[0;34m.\u001b[0m\u001b[0mfull_raise\u001b[0m\u001b[0;34m,\u001b[0m \u001b[0mans\u001b[0m\u001b[0;34m)\u001b[0m\u001b[0;34m\u001b[0m\u001b[0;34m\u001b[0m\u001b[0m\n",
            "\u001b[0;32m/usr/local/lib/python3.7/dist-packages/jax/linear_util.py\u001b[0m in \u001b[0;36mcall_wrapped\u001b[0;34m(self, *args, **kwargs)\u001b[0m\n\u001b[1;32m    167\u001b[0m     \u001b[0;32mtry\u001b[0m\u001b[0;34m:\u001b[0m\u001b[0;34m\u001b[0m\u001b[0;34m\u001b[0m\u001b[0m\n\u001b[0;32m--> 168\u001b[0;31m       \u001b[0mans\u001b[0m \u001b[0;34m=\u001b[0m \u001b[0mself\u001b[0m\u001b[0;34m.\u001b[0m\u001b[0mf\u001b[0m\u001b[0;34m(\u001b[0m\u001b[0;34m*\u001b[0m\u001b[0margs\u001b[0m\u001b[0;34m,\u001b[0m \u001b[0;34m**\u001b[0m\u001b[0mdict\u001b[0m\u001b[0;34m(\u001b[0m\u001b[0mself\u001b[0m\u001b[0;34m.\u001b[0m\u001b[0mparams\u001b[0m\u001b[0;34m,\u001b[0m \u001b[0;34m**\u001b[0m\u001b[0mkwargs\u001b[0m\u001b[0;34m)\u001b[0m\u001b[0;34m)\u001b[0m\u001b[0;34m\u001b[0m\u001b[0;34m\u001b[0m\u001b[0m\n\u001b[0m\u001b[1;32m    169\u001b[0m     \u001b[0;32mexcept\u001b[0m\u001b[0;34m:\u001b[0m\u001b[0;34m\u001b[0m\u001b[0;34m\u001b[0m\u001b[0m\n",
            "\u001b[0;32m<ipython-input-88-9930e551a364>\u001b[0m in \u001b[0;36m_step\u001b[0;34m(carry, t)\u001b[0m\n\u001b[1;32m     23\u001b[0m         log_likelihood, filtered_mean, filtered_cov = _decoupled_condition_on(pred_mean, pred_cov, decouple_params, \n\u001b[0;32m---> 24\u001b[0;31m                                                                               m_Y, Cov_Y, u, y, num_iter)\n\u001b[0m\u001b[1;32m     25\u001b[0m         \u001b[0mll\u001b[0m \u001b[0;34m+=\u001b[0m \u001b[0mlog_likelihood\u001b[0m\u001b[0;34m\u001b[0m\u001b[0;34m\u001b[0m\u001b[0m\n",
            "\u001b[0;32m<ipython-input-85-59cbba0c08c5>\u001b[0m in \u001b[0;36m_decoupled_condition_on\u001b[0;34m(m, P, decouple_params, y_cond_mean, y_cond_cov, u, y, num_iter)\u001b[0m\n\u001b[1;32m     33\u001b[0m     \u001b[0;31m# Decouple parameters before iteration\u001b[0m\u001b[0;34m\u001b[0m\u001b[0;34m\u001b[0m\u001b[0;34m\u001b[0m\u001b[0m\n\u001b[0;32m---> 34\u001b[0;31m     \u001b[0mms\u001b[0m\u001b[0;34m,\u001b[0m \u001b[0mPs\u001b[0m \u001b[0;34m=\u001b[0m \u001b[0mdecouple_fn\u001b[0m\u001b[0;34m(\u001b[0m\u001b[0mm\u001b[0m\u001b[0;34m)\u001b[0m\u001b[0;34m,\u001b[0m \u001b[0mdecouple_cov_fn\u001b[0m\u001b[0;34m(\u001b[0m\u001b[0mP\u001b[0m\u001b[0;34m)\u001b[0m\u001b[0;34m\u001b[0m\u001b[0;34m\u001b[0m\u001b[0m\n\u001b[0m\u001b[1;32m     35\u001b[0m     \u001b[0mcarry\u001b[0m \u001b[0;34m=\u001b[0m \u001b[0;34m(\u001b[0m\u001b[0mms\u001b[0m\u001b[0;34m,\u001b[0m \u001b[0mPs\u001b[0m\u001b[0;34m)\u001b[0m\u001b[0;34m\u001b[0m\u001b[0;34m\u001b[0m\u001b[0m\n",
            "\u001b[0;32m<ipython-input-70-126f4aaaf097>\u001b[0m in \u001b[0;36m<lambda>\u001b[0;34m(cov)\u001b[0m\n\u001b[1;32m     29\u001b[0m     \u001b[0;31m# Function to separate parameter covariance matrix by node\u001b[0m\u001b[0;34m\u001b[0m\u001b[0;34m\u001b[0m\u001b[0;34m\u001b[0m\u001b[0m\n\u001b[0;32m---> 30\u001b[0;31m     \u001b[0mdecouple_cov_fn\u001b[0m \u001b[0;34m=\u001b[0m \u001b[0;32mlambda\u001b[0m \u001b[0mcov\u001b[0m\u001b[0;34m:\u001b[0m \u001b[0;34m{\u001b[0m\u001b[0mi\u001b[0m\u001b[0;34m:\u001b[0m \u001b[0mlax\u001b[0m\u001b[0;34m.\u001b[0m\u001b[0mdynamic_slice\u001b[0m\u001b[0;34m(\u001b[0m\u001b[0mcov\u001b[0m\u001b[0;34m,\u001b[0m \u001b[0;34m(\u001b[0m\u001b[0mdiag_idx\u001b[0m\u001b[0;34m[\u001b[0m\u001b[0mi\u001b[0m\u001b[0;34m]\u001b[0m\u001b[0;34m,\u001b[0m \u001b[0mdiag_idx\u001b[0m\u001b[0;34m[\u001b[0m\u001b[0mi\u001b[0m\u001b[0;34m]\u001b[0m\u001b[0;34m)\u001b[0m\u001b[0;34m,\u001b[0m \u001b[0;34m(\u001b[0m\u001b[0mparams_sizes\u001b[0m\u001b[0;34m[\u001b[0m\u001b[0mi\u001b[0m\u001b[0;34m+\u001b[0m\u001b[0;36m1\u001b[0m\u001b[0;34m]\u001b[0m\u001b[0;34m,\u001b[0m \u001b[0mparams_sizes\u001b[0m\u001b[0;34m[\u001b[0m\u001b[0mi\u001b[0m\u001b[0;34m+\u001b[0m\u001b[0;36m1\u001b[0m\u001b[0;34m]\u001b[0m\u001b[0;34m)\u001b[0m\u001b[0;34m)\u001b[0m \u001b[0;32mfor\u001b[0m \u001b[0mi\u001b[0m \u001b[0;32min\u001b[0m \u001b[0mrange\u001b[0m\u001b[0;34m(\u001b[0m\u001b[0;36m0\u001b[0m\u001b[0;34m,\u001b[0m \u001b[0mlen\u001b[0m\u001b[0;34m(\u001b[0m\u001b[0mdiag_idx\u001b[0m\u001b[0;34m)\u001b[0m\u001b[0;34m-\u001b[0m\u001b[0;36m1\u001b[0m\u001b[0;34m)\u001b[0m\u001b[0;34m}\u001b[0m\u001b[0;34m\u001b[0m\u001b[0;34m\u001b[0m\u001b[0m\n\u001b[0m\u001b[1;32m     31\u001b[0m     \u001b[0mrecouple_cov_fn\u001b[0m \u001b[0;34m=\u001b[0m \u001b[0;32mlambda\u001b[0m \u001b[0mcovs\u001b[0m\u001b[0;34m:\u001b[0m \u001b[0mblock_diag\u001b[0m\u001b[0;34m(\u001b[0m\u001b[0;34m*\u001b[0m\u001b[0mtree_leaves\u001b[0m\u001b[0;34m(\u001b[0m\u001b[0mcovs\u001b[0m\u001b[0;34m)\u001b[0m\u001b[0;34m)\u001b[0m\u001b[0;34m\u001b[0m\u001b[0;34m\u001b[0m\u001b[0m\n",
            "\u001b[0;32m<ipython-input-70-126f4aaaf097>\u001b[0m in \u001b[0;36m<dictcomp>\u001b[0;34m(.0)\u001b[0m\n\u001b[1;32m     29\u001b[0m     \u001b[0;31m# Function to separate parameter covariance matrix by node\u001b[0m\u001b[0;34m\u001b[0m\u001b[0;34m\u001b[0m\u001b[0;34m\u001b[0m\u001b[0m\n\u001b[0;32m---> 30\u001b[0;31m     \u001b[0mdecouple_cov_fn\u001b[0m \u001b[0;34m=\u001b[0m \u001b[0;32mlambda\u001b[0m \u001b[0mcov\u001b[0m\u001b[0;34m:\u001b[0m \u001b[0;34m{\u001b[0m\u001b[0mi\u001b[0m\u001b[0;34m:\u001b[0m \u001b[0mlax\u001b[0m\u001b[0;34m.\u001b[0m\u001b[0mdynamic_slice\u001b[0m\u001b[0;34m(\u001b[0m\u001b[0mcov\u001b[0m\u001b[0;34m,\u001b[0m \u001b[0;34m(\u001b[0m\u001b[0mdiag_idx\u001b[0m\u001b[0;34m[\u001b[0m\u001b[0mi\u001b[0m\u001b[0;34m]\u001b[0m\u001b[0;34m,\u001b[0m \u001b[0mdiag_idx\u001b[0m\u001b[0;34m[\u001b[0m\u001b[0mi\u001b[0m\u001b[0;34m]\u001b[0m\u001b[0;34m)\u001b[0m\u001b[0;34m,\u001b[0m \u001b[0;34m(\u001b[0m\u001b[0mparams_sizes\u001b[0m\u001b[0;34m[\u001b[0m\u001b[0mi\u001b[0m\u001b[0;34m+\u001b[0m\u001b[0;36m1\u001b[0m\u001b[0;34m]\u001b[0m\u001b[0;34m,\u001b[0m \u001b[0mparams_sizes\u001b[0m\u001b[0;34m[\u001b[0m\u001b[0mi\u001b[0m\u001b[0;34m+\u001b[0m\u001b[0;36m1\u001b[0m\u001b[0;34m]\u001b[0m\u001b[0;34m)\u001b[0m\u001b[0;34m)\u001b[0m \u001b[0;32mfor\u001b[0m \u001b[0mi\u001b[0m \u001b[0;32min\u001b[0m \u001b[0mrange\u001b[0m\u001b[0;34m(\u001b[0m\u001b[0;36m0\u001b[0m\u001b[0;34m,\u001b[0m \u001b[0mlen\u001b[0m\u001b[0;34m(\u001b[0m\u001b[0mdiag_idx\u001b[0m\u001b[0;34m)\u001b[0m\u001b[0;34m-\u001b[0m\u001b[0;36m1\u001b[0m\u001b[0;34m)\u001b[0m\u001b[0;34m}\u001b[0m\u001b[0;34m\u001b[0m\u001b[0;34m\u001b[0m\u001b[0m\n\u001b[0m\u001b[1;32m     31\u001b[0m     \u001b[0mrecouple_cov_fn\u001b[0m \u001b[0;34m=\u001b[0m \u001b[0;32mlambda\u001b[0m \u001b[0mcovs\u001b[0m\u001b[0;34m:\u001b[0m \u001b[0mblock_diag\u001b[0m\u001b[0;34m(\u001b[0m\u001b[0;34m*\u001b[0m\u001b[0mtree_leaves\u001b[0m\u001b[0;34m(\u001b[0m\u001b[0mcovs\u001b[0m\u001b[0;34m)\u001b[0m\u001b[0;34m)\u001b[0m\u001b[0;34m\u001b[0m\u001b[0;34m\u001b[0m\u001b[0m\n",
            "\u001b[0;32m/usr/local/lib/python3.7/dist-packages/jax/_src/lax/slicing.py\u001b[0m in \u001b[0;36mdynamic_slice\u001b[0;34m(operand, start_indices, slice_sizes)\u001b[0m\n\u001b[1;32m    107\u001b[0m   return dynamic_slice_p.bind(operand, *start_indices,\n\u001b[0;32m--> 108\u001b[0;31m                               slice_sizes=core.canonicalize_shape(slice_sizes))\n\u001b[0m\u001b[1;32m    109\u001b[0m \u001b[0;34m\u001b[0m\u001b[0m\n",
            "\u001b[0;32m/usr/local/lib/python3.7/dist-packages/jax/core.py\u001b[0m in \u001b[0;36mcanonicalize_shape\u001b[0;34m(shape, context)\u001b[0m\n\u001b[1;32m   1830\u001b[0m     \u001b[0;32mpass\u001b[0m\u001b[0;34m\u001b[0m\u001b[0;34m\u001b[0m\u001b[0m\n\u001b[0;32m-> 1831\u001b[0;31m   \u001b[0;32mraise\u001b[0m \u001b[0m_invalid_shape_error\u001b[0m\u001b[0;34m(\u001b[0m\u001b[0mshape\u001b[0m\u001b[0;34m,\u001b[0m \u001b[0mcontext\u001b[0m\u001b[0;34m)\u001b[0m\u001b[0;34m\u001b[0m\u001b[0;34m\u001b[0m\u001b[0m\n\u001b[0m\u001b[1;32m   1832\u001b[0m \u001b[0;34m\u001b[0m\u001b[0m\n",
            "\u001b[0;31mUnfilteredStackTrace\u001b[0m: TypeError: Shapes must be 1D sequences of concrete values of integer type, got (Traced<ShapedArray(int32[])>with<DynamicJaxprTrace(level=1/0)>, Traced<ShapedArray(int32[])>with<DynamicJaxprTrace(level=1/0)>).\nIf using `jit`, try using `static_argnums` or applying `jit` to smaller subfunctions.\n\nThe stack trace below excludes JAX-internal frames.\nThe preceding is the original exception that occurred, unmodified.\n\n--------------------",
            "\nThe above exception was the direct cause of the following exception:\n",
            "\u001b[0;31mTypeError\u001b[0m                                 Traceback (most recent call last)",
            "\u001b[0;32m<ipython-input-92-78f8dc63ca03>\u001b[0m in \u001b[0;36m<module>\u001b[0;34m\u001b[0m\n\u001b[0;32m----> 1\u001b[0;31m \u001b[0mdecoupled_extended_conditional_moments_gaussian_filter\u001b[0m\u001b[0;34m(\u001b[0m\u001b[0mcmgf_ekf_params\u001b[0m\u001b[0;34m,\u001b[0m \u001b[0mdecouple_params\u001b[0m\u001b[0;34m,\u001b[0m \u001b[0moutput\u001b[0m\u001b[0;34m,\u001b[0m \u001b[0minputs\u001b[0m\u001b[0;34m=\u001b[0m\u001b[0minput\u001b[0m\u001b[0;34m)\u001b[0m\u001b[0;34m\u001b[0m\u001b[0;34m\u001b[0m\u001b[0m\n\u001b[0m",
            "\u001b[0;32m<ipython-input-88-9930e551a364>\u001b[0m in \u001b[0;36mdecoupled_extended_conditional_moments_gaussian_filter\u001b[0;34m(params, decouple_params, emissions, num_iter, inputs)\u001b[0m\n\u001b[1;32m     32\u001b[0m     \u001b[0;31m# Run the general linearization filter\u001b[0m\u001b[0;34m\u001b[0m\u001b[0;34m\u001b[0m\u001b[0;34m\u001b[0m\u001b[0m\n\u001b[1;32m     33\u001b[0m     \u001b[0mcarry\u001b[0m \u001b[0;34m=\u001b[0m \u001b[0;34m(\u001b[0m\u001b[0;36m0.0\u001b[0m\u001b[0;34m,\u001b[0m \u001b[0mparams\u001b[0m\u001b[0;34m.\u001b[0m\u001b[0minitial_mean\u001b[0m\u001b[0;34m,\u001b[0m \u001b[0mparams\u001b[0m\u001b[0;34m.\u001b[0m\u001b[0minitial_covariance\u001b[0m\u001b[0;34m)\u001b[0m\u001b[0;34m\u001b[0m\u001b[0;34m\u001b[0m\u001b[0m\n\u001b[0;32m---> 34\u001b[0;31m     \u001b[0;34m(\u001b[0m\u001b[0mll\u001b[0m\u001b[0;34m,\u001b[0m \u001b[0m_\u001b[0m\u001b[0;34m,\u001b[0m \u001b[0m_\u001b[0m\u001b[0;34m)\u001b[0m\u001b[0;34m,\u001b[0m \u001b[0;34m(\u001b[0m\u001b[0mfiltered_means\u001b[0m\u001b[0;34m,\u001b[0m \u001b[0mfiltered_covs\u001b[0m\u001b[0;34m)\u001b[0m \u001b[0;34m=\u001b[0m \u001b[0mlax\u001b[0m\u001b[0;34m.\u001b[0m\u001b[0mscan\u001b[0m\u001b[0;34m(\u001b[0m\u001b[0m_step\u001b[0m\u001b[0;34m,\u001b[0m \u001b[0mcarry\u001b[0m\u001b[0;34m,\u001b[0m \u001b[0mjnp\u001b[0m\u001b[0;34m.\u001b[0m\u001b[0marange\u001b[0m\u001b[0;34m(\u001b[0m\u001b[0mnum_timesteps\u001b[0m\u001b[0;34m)\u001b[0m\u001b[0;34m)\u001b[0m\u001b[0;34m\u001b[0m\u001b[0;34m\u001b[0m\u001b[0m\n\u001b[0m\u001b[1;32m     35\u001b[0m     \u001b[0;32mreturn\u001b[0m \u001b[0mGSSMPosterior\u001b[0m\u001b[0;34m(\u001b[0m\u001b[0mmarginal_loglik\u001b[0m\u001b[0;34m=\u001b[0m\u001b[0mll\u001b[0m\u001b[0;34m,\u001b[0m \u001b[0mfiltered_means\u001b[0m\u001b[0;34m=\u001b[0m\u001b[0mfiltered_means\u001b[0m\u001b[0;34m,\u001b[0m \u001b[0mfiltered_covariances\u001b[0m\u001b[0;34m=\u001b[0m\u001b[0mfiltered_covs\u001b[0m\u001b[0;34m)\u001b[0m\u001b[0;34m\u001b[0m\u001b[0;34m\u001b[0m\u001b[0m\n",
            "\u001b[0;32m<ipython-input-88-9930e551a364>\u001b[0m in \u001b[0;36m_step\u001b[0;34m(carry, t)\u001b[0m\n\u001b[1;32m     22\u001b[0m         \u001b[0;31m# Condition on the emission\u001b[0m\u001b[0;34m\u001b[0m\u001b[0;34m\u001b[0m\u001b[0;34m\u001b[0m\u001b[0m\n\u001b[1;32m     23\u001b[0m         log_likelihood, filtered_mean, filtered_cov = _decoupled_condition_on(pred_mean, pred_cov, decouple_params, \n\u001b[0;32m---> 24\u001b[0;31m                                                                               m_Y, Cov_Y, u, y, num_iter)\n\u001b[0m\u001b[1;32m     25\u001b[0m         \u001b[0mll\u001b[0m \u001b[0;34m+=\u001b[0m \u001b[0mlog_likelihood\u001b[0m\u001b[0;34m\u001b[0m\u001b[0;34m\u001b[0m\u001b[0m\n\u001b[1;32m     26\u001b[0m \u001b[0;34m\u001b[0m\u001b[0m\n",
            "\u001b[0;32m<ipython-input-85-59cbba0c08c5>\u001b[0m in \u001b[0;36m_decoupled_condition_on\u001b[0;34m(m, P, decouple_params, y_cond_mean, y_cond_cov, u, y, num_iter)\u001b[0m\n\u001b[1;32m     32\u001b[0m \u001b[0;34m\u001b[0m\u001b[0m\n\u001b[1;32m     33\u001b[0m     \u001b[0;31m# Decouple parameters before iteration\u001b[0m\u001b[0;34m\u001b[0m\u001b[0;34m\u001b[0m\u001b[0;34m\u001b[0m\u001b[0m\n\u001b[0;32m---> 34\u001b[0;31m     \u001b[0mms\u001b[0m\u001b[0;34m,\u001b[0m \u001b[0mPs\u001b[0m \u001b[0;34m=\u001b[0m \u001b[0mdecouple_fn\u001b[0m\u001b[0;34m(\u001b[0m\u001b[0mm\u001b[0m\u001b[0;34m)\u001b[0m\u001b[0;34m,\u001b[0m \u001b[0mdecouple_cov_fn\u001b[0m\u001b[0;34m(\u001b[0m\u001b[0mP\u001b[0m\u001b[0;34m)\u001b[0m\u001b[0;34m\u001b[0m\u001b[0;34m\u001b[0m\u001b[0m\n\u001b[0m\u001b[1;32m     35\u001b[0m     \u001b[0mcarry\u001b[0m \u001b[0;34m=\u001b[0m \u001b[0;34m(\u001b[0m\u001b[0mms\u001b[0m\u001b[0;34m,\u001b[0m \u001b[0mPs\u001b[0m\u001b[0;34m)\u001b[0m\u001b[0;34m\u001b[0m\u001b[0;34m\u001b[0m\u001b[0m\n\u001b[1;32m     36\u001b[0m     \u001b[0;31m# Iterate re-linearization over posterior mean and covariance\u001b[0m\u001b[0;34m\u001b[0m\u001b[0;34m\u001b[0m\u001b[0;34m\u001b[0m\u001b[0m\n",
            "\u001b[0;32m<ipython-input-70-126f4aaaf097>\u001b[0m in \u001b[0;36m<lambda>\u001b[0;34m(cov)\u001b[0m\n\u001b[1;32m     28\u001b[0m \u001b[0;34m\u001b[0m\u001b[0m\n\u001b[1;32m     29\u001b[0m     \u001b[0;31m# Function to separate parameter covariance matrix by node\u001b[0m\u001b[0;34m\u001b[0m\u001b[0;34m\u001b[0m\u001b[0;34m\u001b[0m\u001b[0m\n\u001b[0;32m---> 30\u001b[0;31m     \u001b[0mdecouple_cov_fn\u001b[0m \u001b[0;34m=\u001b[0m \u001b[0;32mlambda\u001b[0m \u001b[0mcov\u001b[0m\u001b[0;34m:\u001b[0m \u001b[0;34m{\u001b[0m\u001b[0mi\u001b[0m\u001b[0;34m:\u001b[0m \u001b[0mlax\u001b[0m\u001b[0;34m.\u001b[0m\u001b[0mdynamic_slice\u001b[0m\u001b[0;34m(\u001b[0m\u001b[0mcov\u001b[0m\u001b[0;34m,\u001b[0m \u001b[0;34m(\u001b[0m\u001b[0mdiag_idx\u001b[0m\u001b[0;34m[\u001b[0m\u001b[0mi\u001b[0m\u001b[0;34m]\u001b[0m\u001b[0;34m,\u001b[0m \u001b[0mdiag_idx\u001b[0m\u001b[0;34m[\u001b[0m\u001b[0mi\u001b[0m\u001b[0;34m]\u001b[0m\u001b[0;34m)\u001b[0m\u001b[0;34m,\u001b[0m \u001b[0;34m(\u001b[0m\u001b[0mparams_sizes\u001b[0m\u001b[0;34m[\u001b[0m\u001b[0mi\u001b[0m\u001b[0;34m+\u001b[0m\u001b[0;36m1\u001b[0m\u001b[0;34m]\u001b[0m\u001b[0;34m,\u001b[0m \u001b[0mparams_sizes\u001b[0m\u001b[0;34m[\u001b[0m\u001b[0mi\u001b[0m\u001b[0;34m+\u001b[0m\u001b[0;36m1\u001b[0m\u001b[0;34m]\u001b[0m\u001b[0;34m)\u001b[0m\u001b[0;34m)\u001b[0m \u001b[0;32mfor\u001b[0m \u001b[0mi\u001b[0m \u001b[0;32min\u001b[0m \u001b[0mrange\u001b[0m\u001b[0;34m(\u001b[0m\u001b[0;36m0\u001b[0m\u001b[0;34m,\u001b[0m \u001b[0mlen\u001b[0m\u001b[0;34m(\u001b[0m\u001b[0mdiag_idx\u001b[0m\u001b[0;34m)\u001b[0m\u001b[0;34m-\u001b[0m\u001b[0;36m1\u001b[0m\u001b[0;34m)\u001b[0m\u001b[0;34m}\u001b[0m\u001b[0;34m\u001b[0m\u001b[0;34m\u001b[0m\u001b[0m\n\u001b[0m\u001b[1;32m     31\u001b[0m     \u001b[0mrecouple_cov_fn\u001b[0m \u001b[0;34m=\u001b[0m \u001b[0;32mlambda\u001b[0m \u001b[0mcovs\u001b[0m\u001b[0;34m:\u001b[0m \u001b[0mblock_diag\u001b[0m\u001b[0;34m(\u001b[0m\u001b[0;34m*\u001b[0m\u001b[0mtree_leaves\u001b[0m\u001b[0;34m(\u001b[0m\u001b[0mcovs\u001b[0m\u001b[0;34m)\u001b[0m\u001b[0;34m)\u001b[0m\u001b[0;34m\u001b[0m\u001b[0;34m\u001b[0m\u001b[0m\n\u001b[1;32m     32\u001b[0m \u001b[0;34m\u001b[0m\u001b[0m\n",
            "\u001b[0;32m<ipython-input-70-126f4aaaf097>\u001b[0m in \u001b[0;36m<dictcomp>\u001b[0;34m(.0)\u001b[0m\n\u001b[1;32m     28\u001b[0m \u001b[0;34m\u001b[0m\u001b[0m\n\u001b[1;32m     29\u001b[0m     \u001b[0;31m# Function to separate parameter covariance matrix by node\u001b[0m\u001b[0;34m\u001b[0m\u001b[0;34m\u001b[0m\u001b[0;34m\u001b[0m\u001b[0m\n\u001b[0;32m---> 30\u001b[0;31m     \u001b[0mdecouple_cov_fn\u001b[0m \u001b[0;34m=\u001b[0m \u001b[0;32mlambda\u001b[0m \u001b[0mcov\u001b[0m\u001b[0;34m:\u001b[0m \u001b[0;34m{\u001b[0m\u001b[0mi\u001b[0m\u001b[0;34m:\u001b[0m \u001b[0mlax\u001b[0m\u001b[0;34m.\u001b[0m\u001b[0mdynamic_slice\u001b[0m\u001b[0;34m(\u001b[0m\u001b[0mcov\u001b[0m\u001b[0;34m,\u001b[0m \u001b[0;34m(\u001b[0m\u001b[0mdiag_idx\u001b[0m\u001b[0;34m[\u001b[0m\u001b[0mi\u001b[0m\u001b[0;34m]\u001b[0m\u001b[0;34m,\u001b[0m \u001b[0mdiag_idx\u001b[0m\u001b[0;34m[\u001b[0m\u001b[0mi\u001b[0m\u001b[0;34m]\u001b[0m\u001b[0;34m)\u001b[0m\u001b[0;34m,\u001b[0m \u001b[0;34m(\u001b[0m\u001b[0mparams_sizes\u001b[0m\u001b[0;34m[\u001b[0m\u001b[0mi\u001b[0m\u001b[0;34m+\u001b[0m\u001b[0;36m1\u001b[0m\u001b[0;34m]\u001b[0m\u001b[0;34m,\u001b[0m \u001b[0mparams_sizes\u001b[0m\u001b[0;34m[\u001b[0m\u001b[0mi\u001b[0m\u001b[0;34m+\u001b[0m\u001b[0;36m1\u001b[0m\u001b[0;34m]\u001b[0m\u001b[0;34m)\u001b[0m\u001b[0;34m)\u001b[0m \u001b[0;32mfor\u001b[0m \u001b[0mi\u001b[0m \u001b[0;32min\u001b[0m \u001b[0mrange\u001b[0m\u001b[0;34m(\u001b[0m\u001b[0;36m0\u001b[0m\u001b[0;34m,\u001b[0m \u001b[0mlen\u001b[0m\u001b[0;34m(\u001b[0m\u001b[0mdiag_idx\u001b[0m\u001b[0;34m)\u001b[0m\u001b[0;34m-\u001b[0m\u001b[0;36m1\u001b[0m\u001b[0;34m)\u001b[0m\u001b[0;34m}\u001b[0m\u001b[0;34m\u001b[0m\u001b[0;34m\u001b[0m\u001b[0m\n\u001b[0m\u001b[1;32m     31\u001b[0m     \u001b[0mrecouple_cov_fn\u001b[0m \u001b[0;34m=\u001b[0m \u001b[0;32mlambda\u001b[0m \u001b[0mcovs\u001b[0m\u001b[0;34m:\u001b[0m \u001b[0mblock_diag\u001b[0m\u001b[0;34m(\u001b[0m\u001b[0;34m*\u001b[0m\u001b[0mtree_leaves\u001b[0m\u001b[0;34m(\u001b[0m\u001b[0mcovs\u001b[0m\u001b[0;34m)\u001b[0m\u001b[0;34m)\u001b[0m\u001b[0;34m\u001b[0m\u001b[0;34m\u001b[0m\u001b[0m\n\u001b[1;32m     32\u001b[0m \u001b[0;34m\u001b[0m\u001b[0m\n",
            "\u001b[0;31mTypeError\u001b[0m: Shapes must be 1D sequences of concrete values of integer type, got (Traced<ShapedArray(int32[])>with<DynamicJaxprTrace(level=1/0)>, Traced<ShapedArray(int32[])>with<DynamicJaxprTrace(level=1/0)>).\nIf using `jit`, try using `static_argnums` or applying `jit` to smaller subfunctions."
          ]
        }
      ]
    }
  ],
  "metadata": {
    "colab": {
      "provenance": []
    },
    "kernelspec": {
      "display_name": "Python 3.10.4 ('.venv': venv)",
      "language": "python",
      "name": "python3"
    },
    "language_info": {
      "codemirror_mode": {
        "name": "ipython",
        "version": 3
      },
      "file_extension": ".py",
      "mimetype": "text/x-python",
      "name": "python",
      "nbconvert_exporter": "python",
      "pygments_lexer": "ipython3",
      "version": "3.10.4"
    },
    "vscode": {
      "interpreter": {
        "hash": "318f4a281a9045fa754c1e6daf91d23ec39e886b252f1bbccc2b4e9f6d70b1b8"
      }
    }
  },
  "nbformat": 4,
  "nbformat_minor": 0
}
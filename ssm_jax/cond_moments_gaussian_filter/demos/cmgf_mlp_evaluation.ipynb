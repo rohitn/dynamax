{
  "cells": [
    {
      "cell_type": "markdown",
      "metadata": {
        "id": "kzeh8LgE0KQ3"
      },
      "source": [
        "#CMGF-EKF Evaluation for MLP Training"
      ]
    },
    {
      "cell_type": "markdown",
      "metadata": {
        "id": "Xo0q-V7r1Rlk"
      },
      "source": [
        "Author: Peter Chang([@petergchang](https://github.com/petergchang))"
      ]
    },
    {
      "cell_type": "markdown",
      "metadata": {
        "id": "MpeCZrrr1VT8"
      },
      "source": [
        "##0. Imports"
      ]
    },
    {
      "cell_type": "code",
      "execution_count": 1,
      "metadata": {
        "id": "Jt8tn_d8zxq1"
      },
      "outputs": [],
      "source": [
        "# Silence WARNING:root:The use of `check_types` is deprecated and does not have any effect.\n",
        "# https://github.com/tensorflow/probability/issues/1523\n",
        "import logging\n",
        "\n",
        "logger = logging.getLogger()\n",
        "\n",
        "\n",
        "class CheckTypesFilter(logging.Filter):\n",
        "    def filter(self, record):\n",
        "        return \"check_types\" not in record.getMessage()\n",
        "\n",
        "\n",
        "logger.addFilter(CheckTypesFilter())\n",
        "\n",
        "import warnings\n",
        "warnings.filterwarnings('ignore')"
      ]
    },
    {
      "cell_type": "code",
      "execution_count": 2,
      "metadata": {
        "id": "oKLE1L7F0I-4",
        "colab": {
          "base_uri": "https://localhost:8080/"
        },
        "outputId": "339fd57d-7a91-4de9-948c-cdbaab63568d"
      },
      "outputs": [
        {
          "output_type": "stream",
          "name": "stdout",
          "text": [
            "installing ssm_jax\n",
            "  Installing build dependencies ... \u001b[?25l\u001b[?25hdone\n",
            "  Getting requirements to build wheel ... \u001b[?25l\u001b[?25hdone\n",
            "    Preparing wheel metadata ... \u001b[?25l\u001b[?25hdone\n",
            "\u001b[K     |████████████████████████████████| 114 kB 8.4 MB/s \n",
            "\u001b[K     |████████████████████████████████| 180 kB 53.4 MB/s \n",
            "\u001b[K     |████████████████████████████████| 85 kB 3.9 MB/s \n",
            "\u001b[K     |████████████████████████████████| 145 kB 42.1 MB/s \n",
            "\u001b[K     |████████████████████████████████| 128 kB 46.6 MB/s \n",
            "\u001b[K     |████████████████████████████████| 217 kB 39.4 MB/s \n",
            "\u001b[K     |████████████████████████████████| 51 kB 7.3 MB/s \n",
            "\u001b[?25h  Building wheel for ssm-jax (PEP 517) ... \u001b[?25l\u001b[?25hdone\n"
          ]
        },
        {
          "output_type": "stream",
          "name": "stderr",
          "text": [
            "WARNING:absl:No GPU/TPU found, falling back to CPU. (Set TF_CPP_MIN_LOG_LEVEL=0 and rerun for more info.)\n"
          ]
        }
      ],
      "source": [
        "try:\n",
        "    from ssm_jax.cond_moments_gaussian_filter.inference import *\n",
        "    from ssm_jax.cond_moments_gaussian_filter.containers import *\n",
        "    import flax.linen as nn\n",
        "except ModuleNotFoundError:\n",
        "    print('installing ssm_jax')\n",
        "    %pip install -qq git+https://github.com/probml/ssm-jax.git\n",
        "    %pip install -qq flax\n",
        "    from ssm_jax.cond_moments_gaussian_filter.inference import *\n",
        "    from ssm_jax.cond_moments_gaussian_filter.containers import *\n",
        "    import flax.linen as nn"
      ]
    },
    {
      "cell_type": "code",
      "execution_count": 3,
      "metadata": {
        "id": "EDo2iwuE1Tct"
      },
      "outputs": [],
      "source": [
        "from typing import Sequence\n",
        "from functools import partial\n",
        "\n",
        "import matplotlib.pyplot as plt\n",
        "import matplotlib.colors\n",
        "import matplotlib.cm as cm\n",
        "import jax\n",
        "import jax.numpy as jnp\n",
        "import jax.random as jr\n",
        "from jax.flatten_util import ravel_pytree\n",
        "from jax import lax\n",
        "from jax import vmap"
      ]
    },
    {
      "cell_type": "markdown",
      "metadata": {
        "id": "bDyP-txo1epD"
      },
      "source": [
        "#1. MLP Definition"
      ]
    },
    {
      "cell_type": "code",
      "execution_count": 4,
      "metadata": {
        "id": "Y-eMPyrA26RL"
      },
      "outputs": [],
      "source": [
        "class MLP(nn.Module):\n",
        "    features: Sequence[int]\n",
        "\n",
        "    @nn.compact\n",
        "    def __call__(self, x):\n",
        "        for feat in self.features[:-1]:\n",
        "            x = nn.relu(nn.Dense(feat)(x))\n",
        "        x = nn.Dense(self.features[-1])(x)\n",
        "        return x"
      ]
    },
    {
      "cell_type": "code",
      "execution_count": 5,
      "metadata": {
        "id": "unFLKgX929K2"
      },
      "outputs": [],
      "source": [
        "def get_mlp_flattened_params(model_dims, key=0):\n",
        "    if isinstance(key, int):\n",
        "        key = jr.PRNGKey(key)\n",
        "\n",
        "    # Define MLP model\n",
        "    input_dim, features = model_dims[0], model_dims[1:]\n",
        "    model = MLP(features)\n",
        "    dummy_input = jnp.ones((input_dim,))\n",
        "\n",
        "    # Initialize parameters using dummy input\n",
        "    params = model.init(key, dummy_input)\n",
        "    flat_params, unflatten_fn = ravel_pytree(params)\n",
        "\n",
        "    # Define apply function\n",
        "    def apply(flat_params, x, model, unflatten_fn):\n",
        "        return model.apply(unflatten_fn(flat_params), jnp.atleast_1d(x))\n",
        "\n",
        "    apply_fn = partial(apply, model=model, unflatten_fn=unflatten_fn)\n",
        "\n",
        "    return model, flat_params, unflatten_fn, apply_fn"
      ]
    },
    {
      "cell_type": "code",
      "source": [
        "xs = [jnp.zeros(3) for i in range(4)]\n",
        "ys = [jnp.zeros(2) for i in range(4)]"
      ],
      "metadata": {
        "id": "kVloyUapFaT8"
      },
      "execution_count": 53,
      "outputs": []
    },
    {
      "cell_type": "code",
      "source": [
        "from collections import namedtuple\n",
        "testtup = namedtuple(\"testtup\", ['x', 'y', 'n'])\n",
        "tup_list = [testtup(x=jnp.ones(5)*i, y=jnp.zeros(5) + i, n=i) for i in range(4)]\n"
      ],
      "metadata": {
        "id": "NMxu6Qp6Fa3p"
      },
      "execution_count": 65,
      "outputs": []
    },
    {
      "cell_type": "code",
      "source": [
        "A = jnp.array([jnp.arange(100000)] * 10)"
      ],
      "metadata": {
        "id": "iOUFz7a8GG0p"
      },
      "execution_count": 106,
      "outputs": []
    },
    {
      "cell_type": "code",
      "source": [
        "sum_fn_jax = lambda x: x.sum()"
      ],
      "metadata": {
        "id": "l2-f2DYwHrFe"
      },
      "execution_count": 107,
      "outputs": []
    },
    {
      "cell_type": "code",
      "source": [
        "%%timeit\n",
        "vmap(sum_fn_jax)(A)"
      ],
      "metadata": {
        "colab": {
          "base_uri": "https://localhost:8080/"
        },
        "id": "fDp5IdfUHmjS",
        "outputId": "2bd9f983-a7c0-488f-c55b-712b43a7da4d"
      },
      "execution_count": 108,
      "outputs": [
        {
          "output_type": "stream",
          "name": "stdout",
          "text": [
            "1.05 ms ± 260 µs per loop (mean ± std. dev. of 7 runs, 1000 loops each)\n"
          ]
        }
      ]
    },
    {
      "cell_type": "code",
      "source": [
        "A = {c: jnp.arange(100000) for c in [str(i) for i in range(10)]}"
      ],
      "metadata": {
        "id": "edtvJke-Ijcf"
      },
      "execution_count": 109,
      "outputs": []
    },
    {
      "cell_type": "code",
      "source": [
        "%%timeit\n",
        "tree_map(lambda x: x.sum(), A)"
      ],
      "metadata": {
        "colab": {
          "base_uri": "https://localhost:8080/"
        },
        "id": "ArcB0_lTHPBo",
        "outputId": "e8833f52-7afa-40fd-a59e-6c789167c061"
      },
      "execution_count": 110,
      "outputs": [
        {
          "output_type": "stream",
          "name": "stdout",
          "text": [
            "240 µs ± 14 µs per loop (mean ± std. dev. of 7 runs, 1000 loops each)\n"
          ]
        }
      ]
    },
    {
      "cell_type": "code",
      "source": [
        "tree_map(lambda *args: jnp.stack(args), *tup_list)"
      ],
      "metadata": {
        "colab": {
          "base_uri": "https://localhost:8080/"
        },
        "id": "maWalmsPGdzO",
        "outputId": "e70deec9-b136-484a-ff2a-a7fbee303eea"
      },
      "execution_count": 67,
      "outputs": [
        {
          "output_type": "execute_result",
          "data": {
            "text/plain": [
              "testtup(x=DeviceArray([[0., 0., 0., 0., 0.],\n",
              "             [1., 1., 1., 1., 1.],\n",
              "             [2., 2., 2., 2., 2.],\n",
              "             [3., 3., 3., 3., 3.]], dtype=float32), y=DeviceArray([[0., 0., 0., 0., 0.],\n",
              "             [1., 1., 1., 1., 1.],\n",
              "             [2., 2., 2., 2., 2.],\n",
              "             [3., 3., 3., 3., 3.]], dtype=float32), n=DeviceArray([0, 1, 2, 3], dtype=int32, weak_type=True))"
            ]
          },
          "metadata": {},
          "execution_count": 67
        }
      ]
    },
    {
      "cell_type": "code",
      "source": [
        "# Define MLP architecture\n",
        "input_dim, hidden_dims, output_dim = 2, [4, 4], 1\n",
        "model_dims = [input_dim, *hidden_dims, output_dim]\n",
        "model, flat_params, unflatten_fn, apply_fn = get_mlp_flattened_params(model_dims)"
      ],
      "metadata": {
        "id": "STrWppN4EwoT"
      },
      "execution_count": 138,
      "outputs": []
    },
    {
      "cell_type": "code",
      "source": [
        "params = unflatten_fn(flat_params).unfreeze()"
      ],
      "metadata": {
        "id": "1zcjKRAyE17E"
      },
      "execution_count": 139,
      "outputs": []
    },
    {
      "cell_type": "code",
      "source": [
        "fn1, decoupled_params_dict_fn, *_ = decouple_flat_params(model_dims)"
      ],
      "metadata": {
        "id": "IwXkPnBbLs3w"
      },
      "execution_count": 140,
      "outputs": []
    },
    {
      "cell_type": "code",
      "source": [
        "fn1(flat_params)"
      ],
      "metadata": {
        "colab": {
          "base_uri": "https://localhost:8080/"
        },
        "id": "EXcvlJ_5MDjY",
        "outputId": "1f67a1f3-c6a8-454a-9525-bb9c65a6f23b"
      },
      "execution_count": 141,
      "outputs": [
        {
          "output_type": "execute_result",
          "data": {
            "text/plain": [
              "[DeviceArray([ 0.       , -1.2662824,  0.557601 ], dtype=float32),\n",
              " DeviceArray([0.        , 0.6269297 , 0.11622565], dtype=float32),\n",
              " DeviceArray([ 0.        ,  0.35720623, -0.27115023], dtype=float32),\n",
              " DeviceArray([ 0.        ,  0.04510251, -0.19996592], dtype=float32),\n",
              " DeviceArray([ 0.        ,  0.62617886,  0.5014711 , -0.6020613 ,\n",
              "              -1.0135733 ], dtype=float32),\n",
              " DeviceArray([ 0.        ,  0.46124476,  0.5884816 , -0.5901677 ,\n",
              "              -0.2912583 ], dtype=float32),\n",
              " DeviceArray([ 0.        , -0.05645338,  0.4206315 , -0.03776331,\n",
              "               0.26864907], dtype=float32),\n",
              " DeviceArray([ 0.        , -0.03055437, -0.4431366 ,  0.53358877,\n",
              "               0.12585698], dtype=float32),\n",
              " DeviceArray([ 0.        ,  0.12871431,  0.57244253, -0.36538973,\n",
              "              -0.07911778], dtype=float32)]"
            ]
          },
          "metadata": {},
          "execution_count": 141
        }
      ]
    },
    {
      "cell_type": "code",
      "source": [
        "A = decoupled_params_dict_fn(flat_params)"
      ],
      "metadata": {
        "id": "d5NS4l2DFCwy"
      },
      "execution_count": 149,
      "outputs": []
    },
    {
      "cell_type": "code",
      "source": [
        "B = jnp.array([[[1, 2], [3, 4]], [[5, 6], [7, 8]], [[9, 10], [11, 12]]])\n",
        "B"
      ],
      "metadata": {
        "id": "mdPa97snQGmh",
        "outputId": "88270fb3-4d83-4cd4-fd12-9d53eb932643",
        "colab": {
          "base_uri": "https://localhost:8080/"
        }
      },
      "execution_count": 164,
      "outputs": [
        {
          "output_type": "execute_result",
          "data": {
            "text/plain": [
              "DeviceArray([[[ 1,  2],\n",
              "              [ 3,  4]],\n",
              "\n",
              "             [[ 5,  6],\n",
              "              [ 7,  8]],\n",
              "\n",
              "             [[ 9, 10],\n",
              "              [11, 12]]], dtype=int32)"
            ]
          },
          "metadata": {},
          "execution_count": 164
        }
      ]
    },
    {
      "cell_type": "code",
      "source": [
        "jnp.sum(B, axis=0)"
      ],
      "metadata": {
        "id": "hyxW2V1KQZOV",
        "outputId": "c333e02d-9650-4fd1-e241-0abbe9c9a61f",
        "colab": {
          "base_uri": "https://localhost:8080/"
        }
      },
      "execution_count": 165,
      "outputs": [
        {
          "output_type": "execute_result",
          "data": {
            "text/plain": [
              "DeviceArray([[15, 18],\n",
              "             [21, 24]], dtype=int32)"
            ]
          },
          "metadata": {},
          "execution_count": 165
        }
      ]
    },
    {
      "cell_type": "code",
      "source": [
        "jnp.array(list(tree_map(lambda x: x.sum(), A).values())).sum()"
      ],
      "metadata": {
        "id": "pvs66QlpPwXP",
        "outputId": "10545149-355f-4330-94eb-f84719b7aad3",
        "colab": {
          "base_uri": "https://localhost:8080/"
        }
      },
      "execution_count": 157,
      "outputs": [
        {
          "output_type": "execute_result",
          "data": {
            "text/plain": [
              "DeviceArray(0.6834502, dtype=float32)"
            ]
          },
          "metadata": {},
          "execution_count": 157
        }
      ]
    },
    {
      "cell_type": "markdown",
      "source": [
        "#2. Decouple Helper Functions"
      ],
      "metadata": {
        "id": "D6SdzpDYCmL4"
      }
    },
    {
      "cell_type": "code",
      "execution_count": 137,
      "metadata": {
        "id": "n4c6sV4U290N"
      },
      "outputs": [],
      "source": [
        "def decouple_flat_params(model_dims):\n",
        "    assert len(model_dims) > 1\n",
        "    decoupled_params_idx = []\n",
        "    curr_idx = 0\n",
        "    for layer in range(1, len(model_dims)):\n",
        "        # Number of parameter elements corresponding to current layer\n",
        "        num_prev, num_curr = model_dims[layer-1], model_dims[layer] # Number of nodes in prev, curr layer\n",
        "        num_bias_params = num_curr\n",
        "        num_weight_params = num_prev * num_curr\n",
        "        num_params_curr_layer = num_bias_params + num_weight_params\n",
        "        \n",
        "        # Range of indices in flattened params array corresponding to current layer\n",
        "        idx_range = jnp.arange(curr_idx, curr_idx + num_params_curr_layer)\n",
        "        \n",
        "        # Append list of indices for each node in current layer\n",
        "        decoupled_params_idx += [jnp.array([idx_range[i + num_curr * j] for j in range(num_prev + 1)]) for i in range(num_curr)]\n",
        "        \n",
        "        curr_idx += num_params_curr_layer\n",
        "\n",
        "    # Function to decouple parameters by node\n",
        "    decoupled_params_fn = lambda params: [params[idx] for idx in decoupled_params_idx]\n",
        "    decoupled_params_dict_fn = lambda params: {i: params[idx] for i, idx in enumerate(decoupled_params_idx)}\n",
        "\n",
        "    params_sizes = jnp.array([0] + [len(node_params) for node_params in decoupled_params_idx])\n",
        "    diag_idx = jnp.cumsum(params_sizes)\n",
        "    # Function to separate parameter covariance matrix by node\n",
        "    separate_cov_fn = lambda cov: [lax.dynamic_slice(cov, (diag_idx[i], diag_idx[i]), (params_sizes[i+1], params_sizes[i+1])) for i in range(0, len(diag_idx)-1)]\n",
        "    \n",
        "    # Function to recouple decoupled params list \n",
        "    def recouple_params_fn(decoupled_params, model_dims):\n",
        "        assert len(model_dims) > 1\n",
        "        recoupled_params_list = []\n",
        "        curr_idx = 0\n",
        "        for layer in range(1, len(model_dims)):\n",
        "            # Flatten params sublist corresponding to each layer\n",
        "            recoupled_params_list.append(jnp.ravel(jnp.array(decoupled_params[curr_idx:curr_idx + model_dims[layer]]), order='F'))\n",
        "            curr_idx += model_dims[layer]\n",
        "            \n",
        "        return jnp.concatenate(recoupled_params_list)\n",
        "    \n",
        "    return decoupled_params_fn, decoupled_params_dict_fn, partial(recouple_params_fn, model_dims = model_dims), separate_cov_fn"
      ]
    },
    {
      "cell_type": "markdown",
      "source": [
        "#3. Decoupled CMGF-EKF-MLP"
      ],
      "metadata": {
        "id": "xJljOF_zlnkD"
      }
    },
    {
      "cell_type": "code",
      "source": [
        "import chex"
      ],
      "metadata": {
        "id": "CArKuui_nMQC"
      },
      "execution_count": 6,
      "outputs": []
    },
    {
      "cell_type": "code",
      "source": [
        "# Helper functions\n",
        "_get_params = lambda x, dim, t: x[t] if x.ndim == dim + 1 else x\n",
        "_process_fn = lambda f, u: (lambda x, y: f(x)) if u is None else f\n",
        "_process_input = lambda x, y: jnp.zeros((y,)) if x is None else x"
      ],
      "metadata": {
        "id": "_MkBHQahtGup"
      },
      "execution_count": 11,
      "outputs": []
    },
    {
      "cell_type": "code",
      "source": [
        "@chex.dataclass\n",
        "class CMGFParams:\n",
        "    \"\"\"Lightweight container for CMGF parameters.\n",
        "    \"\"\"\n",
        "    initial_mean: chex.Array\n",
        "    initial_covariance: chex.Array\n",
        "    dynamics_function: Callable\n",
        "    dynamics_covariance: chex.Array\n",
        "    emission_mean_function: Callable\n",
        "    emission_cov_function: Callable\n",
        "    gaussian_expectation: Callable\n",
        "    gaussian_cross_covariance: Callable"
      ],
      "metadata": {
        "id": "cefllEc7nYSG"
      },
      "execution_count": 7,
      "outputs": []
    },
    {
      "cell_type": "code",
      "source": [
        "from jax import jacfwd\n",
        "\n",
        "_jacfwd_2d = lambda f, x: jnp.atleast_2d(jacfwd(f)(x))\n",
        "\n",
        "@chex.dataclass\n",
        "class DCMGFParams(CMGFParams):\n",
        "    decouple_fn: Callable = None\n",
        "    gaussian_expectation: Callable = lambda f, m, P: jnp.atleast_1d(f(m))\n",
        "    gaussian_cross_covariance: Callable = None\n",
        "\n",
        "    def __post_init__(self):\n",
        "        self.gaussian_cross_covariance = self._gaussian_cross_covariance\n",
        "    \n",
        "    lambda f, g, m, P: _jacfwd_2d(f, m) @ P @ _jacfwd_2d(g, m).T\n",
        "\n",
        "    def _gaussian_cross_covariance(self, f, g, m, P, decoupled_params_idx):\n",
        "        H = _jacfwd_2d(f, m)\n",
        "        Hj = {i: H[idx] for i, idx in enumerate(decoupled_params_idx)}\n",
        "        return \n"
      ],
      "metadata": {
        "id": "VHbmiGFdnOlV"
      },
      "execution_count": 17,
      "outputs": []
    },
    {
      "cell_type": "code",
      "source": [
        "A = [[1, 2], [1, 2, 3], [3, 4, 5, 6]]"
      ],
      "metadata": {
        "id": "uTjszJpU2RQG"
      },
      "execution_count": 26,
      "outputs": []
    },
    {
      "cell_type": "code",
      "source": [
        "A = jnp.array([[1, 2, 3], [4, 5, 6]])"
      ],
      "metadata": {
        "id": "EbVQCDhZOxD5"
      },
      "execution_count": 175,
      "outputs": []
    },
    {
      "cell_type": "code",
      "source": [
        "A[:,jnp.array([0,1])]"
      ],
      "metadata": {
        "id": "LcOKgs1jO0mp",
        "outputId": "8ea17134-31dd-4da5-af83-bb3b2915659c",
        "colab": {
          "base_uri": "https://localhost:8080/"
        }
      },
      "execution_count": 179,
      "outputs": [
        {
          "output_type": "execute_result",
          "data": {
            "text/plain": [
              "DeviceArray([[1, 2],\n",
              "             [4, 5]], dtype=int32)"
            ]
          },
          "metadata": {},
          "execution_count": 179
        }
      ]
    },
    {
      "cell_type": "code",
      "source": [
        "A[1]"
      ],
      "metadata": {
        "id": "Mc3VwbJ6O1O6",
        "outputId": "30fba421-4b9b-46ea-87c7-87d3558590c2",
        "colab": {
          "base_uri": "https://localhost:8080/"
        }
      },
      "execution_count": 169,
      "outputs": [
        {
          "output_type": "execute_result",
          "data": {
            "text/plain": [
              "DeviceArray([0.        , 0.6269297 , 0.11622565], dtype=float32)"
            ]
          },
          "metadata": {},
          "execution_count": 169
        }
      ]
    },
    {
      "cell_type": "code",
      "source": [
        "from jax.tree_util import tree_map\n"
      ],
      "metadata": {
        "id": "7KESRb32DUyL"
      },
      "execution_count": 35,
      "outputs": []
    },
    {
      "cell_type": "code",
      "source": [
        "list_sum = lambda x: sum(x)\n",
        "\n",
        "tree_map(list_sum, *A)"
      ],
      "metadata": {
        "colab": {
          "base_uri": "https://localhost:8080/",
          "height": 478
        },
        "id": "QLb7B1W42ka5",
        "outputId": "716fd013-0122-4855-d7a8-ddc3ca25b8d9"
      },
      "execution_count": 38,
      "outputs": [
        {
          "output_type": "error",
          "ename": "ValueError",
          "evalue": "ignored",
          "traceback": [
            "\u001b[0;31m---------------------------------------------------------------------------\u001b[0m",
            "\u001b[0;31mValueError\u001b[0m                                Traceback (most recent call last)",
            "\u001b[0;32m<ipython-input-38-0d23595a12e4>\u001b[0m in \u001b[0;36m<module>\u001b[0;34m\u001b[0m\n\u001b[1;32m      1\u001b[0m \u001b[0mlist_sum\u001b[0m \u001b[0;34m=\u001b[0m \u001b[0;32mlambda\u001b[0m \u001b[0mx\u001b[0m\u001b[0;34m:\u001b[0m \u001b[0msum\u001b[0m\u001b[0;34m(\u001b[0m\u001b[0mx\u001b[0m\u001b[0;34m)\u001b[0m\u001b[0;34m\u001b[0m\u001b[0;34m\u001b[0m\u001b[0m\n\u001b[1;32m      2\u001b[0m \u001b[0;34m\u001b[0m\u001b[0m\n\u001b[0;32m----> 3\u001b[0;31m \u001b[0mtree_map\u001b[0m\u001b[0;34m(\u001b[0m\u001b[0mlist_sum\u001b[0m\u001b[0;34m,\u001b[0m \u001b[0;34m*\u001b[0m\u001b[0mA\u001b[0m\u001b[0;34m)\u001b[0m\u001b[0;34m\u001b[0m\u001b[0;34m\u001b[0m\u001b[0m\n\u001b[0m",
            "\u001b[0;32m/usr/local/lib/python3.7/dist-packages/jax/_src/tree_util.py\u001b[0m in \u001b[0;36mtree_map\u001b[0;34m(f, tree, is_leaf, *rest)\u001b[0m\n\u001b[1;32m    202\u001b[0m   \"\"\"\n\u001b[1;32m    203\u001b[0m   \u001b[0mleaves\u001b[0m\u001b[0;34m,\u001b[0m \u001b[0mtreedef\u001b[0m \u001b[0;34m=\u001b[0m \u001b[0mtree_flatten\u001b[0m\u001b[0;34m(\u001b[0m\u001b[0mtree\u001b[0m\u001b[0;34m,\u001b[0m \u001b[0mis_leaf\u001b[0m\u001b[0;34m)\u001b[0m\u001b[0;34m\u001b[0m\u001b[0;34m\u001b[0m\u001b[0m\n\u001b[0;32m--> 204\u001b[0;31m   \u001b[0mall_leaves\u001b[0m \u001b[0;34m=\u001b[0m \u001b[0;34m[\u001b[0m\u001b[0mleaves\u001b[0m\u001b[0;34m]\u001b[0m \u001b[0;34m+\u001b[0m \u001b[0;34m[\u001b[0m\u001b[0mtreedef\u001b[0m\u001b[0;34m.\u001b[0m\u001b[0mflatten_up_to\u001b[0m\u001b[0;34m(\u001b[0m\u001b[0mr\u001b[0m\u001b[0;34m)\u001b[0m \u001b[0;32mfor\u001b[0m \u001b[0mr\u001b[0m \u001b[0;32min\u001b[0m \u001b[0mrest\u001b[0m\u001b[0;34m]\u001b[0m\u001b[0;34m\u001b[0m\u001b[0;34m\u001b[0m\u001b[0m\n\u001b[0m\u001b[1;32m    205\u001b[0m   \u001b[0;32mreturn\u001b[0m \u001b[0mtreedef\u001b[0m\u001b[0;34m.\u001b[0m\u001b[0munflatten\u001b[0m\u001b[0;34m(\u001b[0m\u001b[0mf\u001b[0m\u001b[0;34m(\u001b[0m\u001b[0;34m*\u001b[0m\u001b[0mxs\u001b[0m\u001b[0;34m)\u001b[0m \u001b[0;32mfor\u001b[0m \u001b[0mxs\u001b[0m \u001b[0;32min\u001b[0m \u001b[0mzip\u001b[0m\u001b[0;34m(\u001b[0m\u001b[0;34m*\u001b[0m\u001b[0mall_leaves\u001b[0m\u001b[0;34m)\u001b[0m\u001b[0;34m)\u001b[0m\u001b[0;34m\u001b[0m\u001b[0;34m\u001b[0m\u001b[0m\n\u001b[1;32m    206\u001b[0m \u001b[0;34m\u001b[0m\u001b[0m\n",
            "\u001b[0;32m/usr/local/lib/python3.7/dist-packages/jax/_src/tree_util.py\u001b[0m in \u001b[0;36m<listcomp>\u001b[0;34m(.0)\u001b[0m\n\u001b[1;32m    202\u001b[0m   \"\"\"\n\u001b[1;32m    203\u001b[0m   \u001b[0mleaves\u001b[0m\u001b[0;34m,\u001b[0m \u001b[0mtreedef\u001b[0m \u001b[0;34m=\u001b[0m \u001b[0mtree_flatten\u001b[0m\u001b[0;34m(\u001b[0m\u001b[0mtree\u001b[0m\u001b[0;34m,\u001b[0m \u001b[0mis_leaf\u001b[0m\u001b[0;34m)\u001b[0m\u001b[0;34m\u001b[0m\u001b[0;34m\u001b[0m\u001b[0m\n\u001b[0;32m--> 204\u001b[0;31m   \u001b[0mall_leaves\u001b[0m \u001b[0;34m=\u001b[0m \u001b[0;34m[\u001b[0m\u001b[0mleaves\u001b[0m\u001b[0;34m]\u001b[0m \u001b[0;34m+\u001b[0m \u001b[0;34m[\u001b[0m\u001b[0mtreedef\u001b[0m\u001b[0;34m.\u001b[0m\u001b[0mflatten_up_to\u001b[0m\u001b[0;34m(\u001b[0m\u001b[0mr\u001b[0m\u001b[0;34m)\u001b[0m \u001b[0;32mfor\u001b[0m \u001b[0mr\u001b[0m \u001b[0;32min\u001b[0m \u001b[0mrest\u001b[0m\u001b[0;34m]\u001b[0m\u001b[0;34m\u001b[0m\u001b[0;34m\u001b[0m\u001b[0m\n\u001b[0m\u001b[1;32m    205\u001b[0m   \u001b[0;32mreturn\u001b[0m \u001b[0mtreedef\u001b[0m\u001b[0;34m.\u001b[0m\u001b[0munflatten\u001b[0m\u001b[0;34m(\u001b[0m\u001b[0mf\u001b[0m\u001b[0;34m(\u001b[0m\u001b[0;34m*\u001b[0m\u001b[0mxs\u001b[0m\u001b[0;34m)\u001b[0m \u001b[0;32mfor\u001b[0m \u001b[0mxs\u001b[0m \u001b[0;32min\u001b[0m \u001b[0mzip\u001b[0m\u001b[0;34m(\u001b[0m\u001b[0;34m*\u001b[0m\u001b[0mall_leaves\u001b[0m\u001b[0;34m)\u001b[0m\u001b[0;34m)\u001b[0m\u001b[0;34m\u001b[0m\u001b[0;34m\u001b[0m\u001b[0m\n\u001b[1;32m    206\u001b[0m \u001b[0;34m\u001b[0m\u001b[0m\n",
            "\u001b[0;31mValueError\u001b[0m: List arity mismatch: 3 != 2; list: [1, 2, 3]."
          ]
        }
      ]
    },
    {
      "cell_type": "code",
      "source": [
        "AA = {1: 15, 2: 30}\n",
        "BB = {1: 10, 2: 20}"
      ],
      "metadata": {
        "id": "tnRNQuyNTdR-"
      },
      "execution_count": 180,
      "outputs": []
    },
    {
      "cell_type": "code",
      "source": [
        "tree_map(lambda x, b: x + b, AA, BB)"
      ],
      "metadata": {
        "id": "sj5u1rvmTkuT",
        "outputId": "20bccaac-333e-4af7-9a3b-3bb4b7a35fc1",
        "colab": {
          "base_uri": "https://localhost:8080/"
        }
      },
      "execution_count": 182,
      "outputs": [
        {
          "output_type": "execute_result",
          "data": {
            "text/plain": [
              "{1: 25, 2: 50}"
            ]
          },
          "metadata": {},
          "execution_count": 182
        }
      ]
    },
    {
      "cell_type": "code",
      "source": [
        "def _decoupled_condition_on(m, P, decouple_fn, decouple_cov_fn, recouple_fn, y_cond_mean, y_cond_cov, u, y, g_ev, g_cov, num_iter):\n",
        "    m_Y = lambda x: y_cond_mean(x, u)\n",
        "    Cov_Y = lambda x: y_cond_cov(x, u)\n",
        "    identity_fn = lambda x: x\n",
        "    \n",
        "    def _step(carry, _):\n",
        "        prior_means, prior_covs = carry\n",
        "        prior_mean = recouple_fn(prior_means)\n",
        "\n",
        "        yhat = jnp.atleast_1d(m_Y(prior_mean))\n",
        "        H = _jacfwd_2d(m_Y, prior_mean)\n",
        "        Hs = {i: H[:,idx] for i, idx in enumerate(decoupled_params_idx)}\n",
        "        S = jnp.atleast_1d(Cov_Y(prior_mean)) + jnp.sum(tree_map(lambda x: x.T @ P @ x, Hs), axis=0)\n",
        "        log_likelihood = MVN(yhat, S).log_prob(jnp.atleast_1d(y))\n",
        "        Ks = tree_map(lambda x: jnp.linalg.solve(S, x.T @ P), Hs)\n",
        "        posterior_means = tree_map(lambda mm, kk: mm + kk, prior_means, tree_map(lambda x: x @ (y - yhat), Ks))\n",
        "        posterior_covs = tree_map(lambda pp, kk, hh: pp - kk @ hh @ pp, prior_covs, Ks, Hs)\n",
        "        return (posterior_means, posterior_covs), log_likelihood\n",
        "\n",
        "    # Iterate re-linearization over posterior mean and covariance\n",
        "    ms = decoupled_params_dict_fn(m)\n",
        "    Ps = decoupled_cov_dict_fn(P)\n",
        "    carry = (ms, Ps)\n",
        "    (mus_cond, Sigmas_cond), lls = lax.scan(_step, carry, jnp.arange(num_iter))\n",
        "    mu_cond, Sigma_cond = recouple_fn(mus_cond), recouple_cov_fn(Sigmas_cond)\n",
        "    return lls[0], mu_cond, Sigma_cond"
      ],
      "metadata": {
        "id": "EtO5wROwwyyS"
      },
      "execution_count": null,
      "outputs": []
    },
    {
      "cell_type": "code",
      "source": [
        "def _condition_on(m, P, y_cond_mean, y_cond_cov, u, y, g_ev, g_cov, num_iter):\n",
        "    m_Y = lambda x: y_cond_mean(x, u)\n",
        "    Cov_Y = lambda x: y_cond_cov(x, u)\n",
        "    identity_fn = lambda x: x\n",
        "\n",
        "    def _step(carry, _):\n",
        "        prior_mean, prior_cov = carry\n",
        "        yhat = g_ev(m_Y, prior_mean, prior_cov)\n",
        "        S = g_ev(Cov_Y, prior_mean, prior_cov) + g_cov(m_Y, m_Y, prior_mean, prior_cov)\n",
        "        log_likelihood = MVN(yhat, S).log_prob(jnp.atleast_1d(y))\n",
        "        C = g_cov(identity_fn, m_Y, prior_mean, prior_cov)\n",
        "        K = jnp.linalg.solve(S, C.T).T\n",
        "        posterior_mean = prior_mean + K @ (y - yhat)\n",
        "        posterior_cov = prior_cov - K @ S @ K.T\n",
        "        return (posterior_mean, posterior_cov), log_likelihood\n",
        "\n",
        "    # Iterate re-linearization over posterior mean and covariance\n",
        "    carry = (m, P)\n",
        "    (mu_cond, Sigma_cond), lls = lax.scan(_step, carry, jnp.arange(num_iter))\n",
        "    return lls[0], mu_cond, Sigma_cond"
      ],
      "metadata": {
        "id": "xyFVXKhKwn-4"
      },
      "execution_count": null,
      "outputs": []
    },
    {
      "cell_type": "code",
      "source": [
        "def decoupled_extended_conditional_moments_gaussian_filter(params, emissions, num_iter=1, inputs=None):\n",
        "    num_timesteps = len(emissions)\n",
        "\n",
        "    # Process dynamics function and conditional emission moments to take in control inputs\n",
        "    f = params.dynamics_function\n",
        "    m_Y, Cov_Y = params.emission_mean_function, params.emission_cov_function\n",
        "    f, m_Y, Cov_Y  = (_process_fn(fn, inputs) for fn in (f, m_Y, Cov_Y))\n",
        "    inputs = _process_input(inputs, num_timesteps)\n",
        "\n",
        "    # Gaussian expectation value function\n",
        "    g_ev = params.gaussian_expectation\n",
        "    g_cov = params.gaussian_cross_covariance\n",
        "\n",
        "    def _step(carry, t):\n",
        "        ll, pred_mean, pred_cov = carry\n",
        "\n",
        "        # Get parameters and inputs for time index t\n",
        "        Q = _get_params(params.dynamics_covariance, 2, t)\n",
        "        u = inputs[t]\n",
        "        y = emissions[t]\n",
        "\n",
        "        # Condition on the emission\n",
        "        log_likelihood, filtered_mean, filtered_cov = _condition_on(pred_mean, pred_cov, m_Y, Cov_Y, u, y, g_ev, g_cov, num_iter)\n",
        "        ll += log_likelihood\n",
        "\n",
        "        # Predict the next state\n",
        "        pred_mean, pred_cov, _ = _predict(filtered_mean, filtered_cov, f, Q, u, g_ev, g_cov)\n",
        "\n",
        "        return (ll, pred_mean, pred_cov), (filtered_mean, filtered_cov)\n",
        "\n",
        "    # Run the general linearization filter\n",
        "    carry = (0.0, params.initial_mean, params.initial_covariance)\n",
        "    (ll, _, _), (filtered_means, filtered_covs) = lax.scan(_step, carry, jnp.arange(num_timesteps))\n",
        "    return GSSMPosterior(marginal_loglik=ll, filtered_means=filtered_means, filtered_covariances=filtered_covs)\n"
      ],
      "metadata": {
        "id": "6oZiV7nckpRs"
      },
      "execution_count": null,
      "outputs": []
    },
    {
      "cell_type": "code",
      "source": [
        "# Generate spiral dataset\n",
        "# Adapted from https://gist.github.com/45deg/e731d9e7f478de134def5668324c44c5\n",
        "def generate_spiral_dataset(key=0, num_per_class=250, zero_var=1., one_var=1., shuffle=True):\n",
        "    if isinstance(key, int):\n",
        "        key = jr.PRNGKey(key)\n",
        "    key1, key2, key3, key4 = jr.split(key, 4)\n",
        "\n",
        "    theta = jnp.sqrt(jr.uniform(key1, shape=(num_per_class,))) * 2*jnp.pi\n",
        "    r = 2*theta + jnp.pi\n",
        "    generate_data = lambda theta, r: jnp.array([jnp.cos(theta)*r, jnp.sin(theta)*r]).T\n",
        "\n",
        "    # Data for output zero\n",
        "    zero_input = generate_data(theta, r) + zero_var * jr.normal(key2, shape=(num_per_class, 2))\n",
        "    zero_output = jnp.zeros((num_per_class, 1,))\n",
        "\n",
        "    # Data for output one\n",
        "    one_input = generate_data(theta, -r) + one_var * jr.normal(key3, shape=(num_per_class, 2))\n",
        "    one_output = jnp.ones((num_per_class, 1,))\n",
        "\n",
        "    # Stack the inputs and standardize\n",
        "    input = jnp.concatenate([zero_input, one_input])\n",
        "    input = (input - input.mean(axis=0)) / input.std(axis=0)\n",
        "\n",
        "    # Generate binary output\n",
        "    output = jnp.concatenate([jnp.zeros(num_per_class), jnp.ones(num_per_class)])\n",
        "\n",
        "    if shuffle:\n",
        "        idx = jr.permutation(key4, jnp.arange(num_per_class * 2))\n",
        "        input, output = input[idx], output[idx]\n",
        "\n",
        "    return input, output"
      ],
      "metadata": {
        "id": "OQN7eBBdktr7"
      },
      "execution_count": null,
      "outputs": []
    },
    {
      "cell_type": "code",
      "source": [
        "# Generate data\n",
        "input, output = generate_spiral_dataset()\n",
        "\n",
        "# Define MLP architecture\n",
        "input_dim, hidden_dims, output_dim = 2, [2], 1\n",
        "model_dims = [input_dim, *hidden_dims, output_dim]\n",
        "_, flat_params, _, apply_fn = get_mlp_flattened_params(model_dims)\n",
        "decouple_fn, recouple_fn, decouple_cov_fn = decouple_flat_params(model_dims)"
      ],
      "metadata": {
        "id": "uLaJKp6zkpPt"
      },
      "execution_count": null,
      "outputs": []
    },
    {
      "cell_type": "code",
      "source": [
        "flat_params.size"
      ],
      "metadata": {
        "id": "tmMFgUDUVK37",
        "outputId": "f7f036c4-b7cd-454d-c158-9a871c561a0b",
        "colab": {
          "base_uri": "https://localhost:8080/"
        }
      },
      "execution_count": null,
      "outputs": [
        {
          "output_type": "execute_result",
          "data": {
            "text/plain": [
              "9"
            ]
          },
          "metadata": {},
          "execution_count": 215
        }
      ]
    },
    {
      "cell_type": "code",
      "source": [
        "jnp.arange(81).reshape(9,-1)"
      ],
      "metadata": {
        "id": "xbBb3-bsUxnH",
        "outputId": "63adf81c-ecd0-4e3c-d1b6-8dfc7b65921a",
        "colab": {
          "base_uri": "https://localhost:8080/"
        }
      },
      "execution_count": null,
      "outputs": [
        {
          "output_type": "execute_result",
          "data": {
            "text/plain": [
              "DeviceArray([[ 0,  1,  2,  3,  4,  5,  6,  7,  8],\n",
              "             [ 9, 10, 11, 12, 13, 14, 15, 16, 17],\n",
              "             [18, 19, 20, 21, 22, 23, 24, 25, 26],\n",
              "             [27, 28, 29, 30, 31, 32, 33, 34, 35],\n",
              "             [36, 37, 38, 39, 40, 41, 42, 43, 44],\n",
              "             [45, 46, 47, 48, 49, 50, 51, 52, 53],\n",
              "             [54, 55, 56, 57, 58, 59, 60, 61, 62],\n",
              "             [63, 64, 65, 66, 67, 68, 69, 70, 71],\n",
              "             [72, 73, 74, 75, 76, 77, 78, 79, 80]], dtype=int32)"
            ]
          },
          "metadata": {},
          "execution_count": 216
        }
      ]
    },
    {
      "cell_type": "code",
      "source": [
        "for A in decouple_cov_fn(jnp.arange(81).reshape(9,-1)):\n",
        "    print(A, '\\n')"
      ],
      "metadata": {
        "id": "RpVn5lEuU5Yc",
        "outputId": "cbfc9b5f-3def-41b6-cfda-5d003c22be6b",
        "colab": {
          "base_uri": "https://localhost:8080/"
        }
      },
      "execution_count": null,
      "outputs": [
        {
          "output_type": "stream",
          "name": "stdout",
          "text": [
            "[[ 0  1  2]\n",
            " [ 9 10 11]\n",
            " [18 19 20]] \n",
            "\n",
            "[[30 31 32]\n",
            " [39 40 41]\n",
            " [48 49 50]] \n",
            "\n",
            "[[60 61 62]\n",
            " [69 70 71]\n",
            " [78 79 80]] \n",
            "\n"
          ]
        }
      ]
    },
    {
      "cell_type": "code",
      "source": [
        "jax.scipy.linalg.block_diag(*decouple_cov_fn(jnp.eye(25))).shape"
      ],
      "metadata": {
        "colab": {
          "base_uri": "https://localhost:8080/"
        },
        "id": "jNH3oLyUxGEa",
        "outputId": "8350deac-9c70-4f58-ed09-a9ee66426b62"
      },
      "execution_count": null,
      "outputs": [
        {
          "output_type": "execute_result",
          "data": {
            "text/plain": [
              "(9, 9)"
            ]
          },
          "metadata": {},
          "execution_count": 218
        }
      ]
    },
    {
      "cell_type": "code",
      "execution_count": null,
      "metadata": {
        "id": "_gCxBHQPBRZB"
      },
      "outputs": [],
      "source": [
        "from jax.config import config\n",
        "config.update(\"jax_disable_jit\", True)\n",
        "\n",
        "\n",
        "from jax import numpy as jnp\n",
        "from jax import lax\n",
        "from tensorflow_probability.substrates.jax.distributions import MultivariateNormalFullCovariance as MVN\n",
        "from ssm_jax.containers import GSSMPosterior\n",
        "\n",
        "from jax.scipy.linalg import block_diag\n",
        "\n",
        "\n",
        "# Helper functions\n",
        "_get_params = lambda x, dim, t: x[t] if x.ndim == dim + 1 else x\n",
        "_process_fn = lambda f, u: (lambda x, y: f(x)) if u is None else f\n",
        "_process_input = lambda x, y: jnp.zeros((y,)) if x is None else x\n",
        "\n",
        "\n",
        "def _predict(m, P, f, Q, u, g_ev, g_cov):\n",
        "    \"\"\"Predict next mean and covariance under an additive-noise Gaussian filter\n",
        "\n",
        "        p(x_{t+1}) = N(x_{t+1} | mu_pred, Sigma_pred)\n",
        "        where\n",
        "            mu_pred = gev(f, m, P)\n",
        "                    = \\int f(x_t, u) N(x_t | m, P) dx_t\n",
        "            Sigma_pred = gev((f - mu_pred)(f - mu_pred)^T, m, P) + Q\n",
        "                       = \\int (f(x_t, u) - mu_pred)(f(x_t, u) - mu_pred)^T\n",
        "                           N(x_t | m, P)dx_t + Q\n",
        "\n",
        "    Args:\n",
        "        m (D_hid,): prior mean.\n",
        "        P (D_hid,D_hid): prior covariance.\n",
        "        f (Callable): dynamics function.\n",
        "        Q (D_hid,D_hid): dynamics covariance matrix.\n",
        "        u (D_in,): inputs.\n",
        "        g_ev (Callable): Gaussian expectation value function.\n",
        "        g_cov (Callable): Gaussian cross covariance function.\n",
        "\n",
        "    Returns:\n",
        "        mu_pred (D_hid,): predicted mean.\n",
        "        Sigma_pred (D_hid,D_hid): predicted covariance.\n",
        "        cross_pred (D_hid,D_hid): cross covariance term.\n",
        "    \"\"\"\n",
        "    dynamics_fn = lambda x: f(x, u)\n",
        "    identity_fn = lambda x: x\n",
        "    mu_pred = g_ev(dynamics_fn, m, P)\n",
        "    Sigma_pred = g_cov(dynamics_fn, dynamics_fn, m, P) + Q\n",
        "    cross_pred = g_cov(identity_fn, dynamics_fn, m, P)\n",
        "    return mu_pred, Sigma_pred, cross_pred\n",
        "\n",
        "\n",
        "def _decoupled_predict(ms, Ps, f, Q, u, g_ev, g_cov):\n",
        "    return vmap(_predict, (0, 0, None, None, None, None, None))(ms, Ps, f, Q, u, g_ev, g_cov)\n",
        "\n",
        "\n",
        "def _condition_on(m, P, y_cond_mean, y_cond_cov, u, y, g_ev, g_cov, num_iter):\n",
        "    \"\"\"Condition a Gaussian potential on a new observation with arbitrary\n",
        "       likelihood with given functions for conditional moments and make a\n",
        "       Gaussian approximation.\n",
        "       p(x_t | y_t, u_t, y_{1:t-1}, u_{1:t-1})\n",
        "         propto p(x_t | y_{1:t-1}, u_{1:t-1}) p(y_t | x_t, u_t)\n",
        "         = N(x_t | m, P) ArbitraryDist(y_t |y_cond_mean(x_t), y_cond_cov(x_t))\n",
        "         \\approx N(x_t | mu_cond, Sigma_cond)\n",
        "     where\n",
        "        mu_cond = m + K*(y - yhat)\n",
        "        yhat = gev(h, m, P)\n",
        "        S = gev((h - yhat)(h - yhat)^T, m, P) + R\n",
        "        C = gev((Identity - m)(h - yhat)^T, m, P)\n",
        "        K = C * S^{-1}\n",
        "        Sigma_cond = P - K S K'\n",
        "\n",
        "    Args:\n",
        "        m (D_hid,): prior mean.\n",
        "        P (D_hid,D_hid): prior covariance.\n",
        "        y_cond_mean (Callable): conditional emission mean function.\n",
        "        y_cond_cov (Callable): conditional emission covariance function.\n",
        "        u (D_in,): inputs.\n",
        "        y (D_obs,): observation.\n",
        "        g_ev (Callable): Gaussian expectation value function.\n",
        "        g_cov (Callable): Gaussian cross covariance function.\n",
        "        num_iter (int): number of re-linearizations around posterior for update step.\n",
        "\n",
        "     Returns:\n",
        "        log_likelihood (Scalar): prediction log likelihood for observation y\n",
        "        mu_cond (D_hid,): conditioned mean.\n",
        "        Sigma_cond (D_hid,D_hid): conditioned covariance.\n",
        "    \"\"\"\n",
        "    m_Y = lambda x: y_cond_mean(x, u)\n",
        "    Cov_Y = lambda x: y_cond_cov(x, u)\n",
        "    identity_fn = lambda x: x\n",
        "\n",
        "    def _step(carry, _):\n",
        "        prior_mean, prior_cov = carry\n",
        "        yhat = g_ev(m_Y, prior_mean, prior_cov)\n",
        "        S = g_ev(Cov_Y, prior_mean, prior_cov) + g_cov(m_Y, m_Y, prior_mean, prior_cov)\n",
        "        log_likelihood = MVN(yhat, S).log_prob(jnp.atleast_1d(y))\n",
        "        C = g_cov(identity_fn, m_Y, prior_mean, prior_cov)\n",
        "        K = jnp.linalg.solve(S, C.T).T\n",
        "        posterior_mean = prior_mean + K @ (y - yhat)\n",
        "        posterior_cov = prior_cov - K @ S @ K.T\n",
        "        return (posterior_mean, posterior_cov), log_likelihood\n",
        "\n",
        "    # Iterate re-linearization over posterior mean and covariance\n",
        "    carry = (m, P)\n",
        "    (mu_cond, Sigma_cond), lls = lax.scan(_step, carry, jnp.arange(num_iter))\n",
        "    return lls[0], mu_cond, Sigma_cond\n",
        "\n",
        "\n",
        "def _decoupled_condition_on(m, P, decouple_fn, decouple_cov_fn, recouple_fn, y_cond_mean, y_cond_cov, u, y, g_ev, g_cov, num_iter):\n",
        "    m_Y = lambda x: y_cond_mean(x, u)\n",
        "    Cov_Y = lambda x: y_cond_cov(x, u)\n",
        "    identity_fn = lambda x: x\n",
        "    \n",
        "    def _step(carry, _):\n",
        "        prior_mean, prior_cov = carry\n",
        "        prior_means = decouple_fn(prior_mean)\n",
        "        prior_covs = decouple_cov_fn(prior_cov)\n",
        "\n",
        "        yhat = g_ev(m_Y, prior_mean, prior_cov)\n",
        "        print([g_cov(m_Y, m_Y, prior_means[i], prior_covs[i]) for i, _ in enumerate(prior_means)])\n",
        "        S = g_ev(Cov_Y, prior_mean, prior_cov) + vmap(g_cov, (None, None, 0, 0))(m_Y, m_Y, prior_means, prior_covs).sum()\n",
        "        log_likelihood = MVN(yhat, S).log_prob(jnp.atleast_1d(y))\n",
        "        Cs = vmap(g_cov, (None, None, 0, 0))(identity_fn, m_Y, prior_means, prior_covs)\n",
        "        compute_K = lambda S, C: jnp.linalg.solve(S, C.T).T\n",
        "        Ks = vmap(compute_K, (None, 0))(S, Cs)\n",
        "        posterior_means = prior_means + Ks @ (y - yhat)\n",
        "        compute_cov_diff = lambda S, K: K @ S @ K.T\n",
        "        posterior_covs = prior_covs - vmap(compute_cov_diff, (None, 0))(S, Ks)\n",
        "        return (posterior_means, posterior_covs), log_likelihood\n",
        "\n",
        "    # Iterate re-linearization over posterior mean and covariance\n",
        "    carry = (m, P)\n",
        "    (mu_cond, Sigma_cond), lls = lax.scan(_step, carry, jnp.arange(num_iter))\n",
        "    return lls[0], mu_cond, Sigma_cond\n",
        "\n",
        "\n",
        "def statistical_linear_regression(mu, Sigma, m, S, C):\n",
        "    \"\"\"Return moment-matching affine coefficients and approximation noise variance\n",
        "    given joint moments.\n",
        "        g(x) \\approx Ax + b + e where e ~ N(0, Omega)\n",
        "        p(x) = N(x | mu, Sigma)\n",
        "        m = E[g(x)]\n",
        "        S = Var[g(x)]\n",
        "        C = Cov[x, g(x)]\n",
        "\n",
        "    Args:\n",
        "        mu (D_hid): prior mean.\n",
        "        Sigma (D_hid, D_hid): prior covariance.\n",
        "        m (D_obs): E[g(x)].\n",
        "        S (D_obs, D_obs): Var[g(x)]\n",
        "        C (D_hid, D_obs): Cov[x, g(x)]\n",
        "\n",
        "    Returns:\n",
        "        A (D_obs, D_hid): _description_\n",
        "        b (D_obs):\n",
        "        Omega (D_obs, D_obs):\n",
        "    \"\"\"\n",
        "    A = jnp.linalg.solve(Sigma.T, C).T\n",
        "    b = m - A @ mu\n",
        "    Omega = S - A @ Sigma @ A.T\n",
        "    return A, b, Omega\n",
        "\n",
        "\n",
        "def conditional_moments_gaussian_filter(params, emissions, num_iter=1, inputs=None):\n",
        "    \"\"\"Run an (iterated) conditional moments Gaussian filter to produce the\n",
        "    marginal likelihood and filtered state estimates.\n",
        "\n",
        "    Args:\n",
        "        params: a CMGFParams instance (or object with the same fields)\n",
        "        emissions (T,D_hid): array of observations.\n",
        "        num_iter (int): number of linearizations around prior/posterior for update step.\n",
        "        inputs (T,D_in): array of inputs.\n",
        "\n",
        "    Returns:\n",
        "        filtered_posterior: GSSMPosterior instance containing,\n",
        "            marginal_log_lik\n",
        "            filtered_means (T, D_hid)\n",
        "            filtered_covariances (T, D_hid, D_hid)\n",
        "    \"\"\"\n",
        "    num_timesteps = len(emissions)\n",
        "\n",
        "    # Process dynamics function and conditional emission moments to take in control inputs\n",
        "    f = params.dynamics_function\n",
        "    m_Y, Cov_Y = params.emission_mean_function, params.emission_cov_function\n",
        "    f, m_Y, Cov_Y  = (_process_fn(fn, inputs) for fn in (f, m_Y, Cov_Y))\n",
        "    inputs = _process_input(inputs, num_timesteps)\n",
        "\n",
        "    # Gaussian expectation value function\n",
        "    g_ev = params.gaussian_expectation\n",
        "    g_cov = params.gaussian_cross_covariance\n",
        "\n",
        "    def _step(carry, t):\n",
        "        ll, pred_mean, pred_cov = carry\n",
        "\n",
        "        # Get parameters and inputs for time index t\n",
        "        Q = _get_params(params.dynamics_covariance, 2, t)\n",
        "        u = inputs[t]\n",
        "        y = emissions[t]\n",
        "\n",
        "        # Condition on the emission\n",
        "        log_likelihood, filtered_mean, filtered_cov = _condition_on(pred_mean, pred_cov, m_Y, Cov_Y, u, y, g_ev, g_cov, num_iter)\n",
        "        ll += log_likelihood\n",
        "\n",
        "        # Predict the next state\n",
        "        pred_mean, pred_cov, _ = _predict(filtered_mean, filtered_cov, f, Q, u, g_ev, g_cov)\n",
        "\n",
        "        return (ll, pred_mean, pred_cov), (filtered_mean, filtered_cov)\n",
        "\n",
        "    # Run the general linearization filter\n",
        "    carry = (0.0, params.initial_mean, params.initial_covariance)\n",
        "    (ll, _, _), (filtered_means, filtered_covs) = lax.scan(_step, carry, jnp.arange(num_timesteps))\n",
        "    return GSSMPosterior(marginal_loglik=ll, filtered_means=filtered_means, filtered_covariances=filtered_covs)\n",
        "\n",
        "\n",
        "def decoupled_conditional_moments_gaussian_filter(params, decouple_fn, decouple_cov_fn, recouple_fn, emissions, num_iter=1, inputs=None):\n",
        "    num_timesteps = len(emissions)\n",
        "\n",
        "    # Process dynamics function and conditional emission moments to take in control inputs\n",
        "    f = params.dynamics_function\n",
        "    m_Y, Cov_Y = params.emission_mean_function, params.emission_cov_function\n",
        "    f, m_Y, Cov_Y  = (_process_fn(fn, inputs) for fn in (f, m_Y, Cov_Y))\n",
        "    inputs = _process_input(inputs, num_timesteps)\n",
        "\n",
        "    # Gaussian expectation value function\n",
        "    g_ev = params.gaussian_expectation\n",
        "    g_cov = params.gaussian_cross_covariance\n",
        "\n",
        "    def _step(carry, t):\n",
        "        ll, pred_mean, pred_cov = carry\n",
        "\n",
        "        # Get parameters and inputs for time index t\n",
        "        Q = _get_params(params.dynamics_covariance, 2, t)\n",
        "        u = inputs[t]\n",
        "        y = emissions[t]\n",
        "\n",
        "        # Condition on the emission\n",
        "        log_likelihood, filtered_mean, filtered_cov = _decoupled_condition_on(pred_mean, pred_cov, decouple_fn, decouple_cov_fn,\n",
        "                                                                              recouple_fn, m_Y, Cov_Y, u, y, g_ev, g_cov, num_iter)\n",
        "        ll += log_likelihood\n",
        "\n",
        "        # Predict the next state\n",
        "        pred_mean, pred_cov, _ = _predict(filtered_mean, filtered_cov, f, Q, u, g_ev, g_cov)\n",
        "\n",
        "        return (ll, pred_mean, pred_cov), (filtered_mean, filtered_cov)\n",
        "\n",
        "    # Run the general linearization filter\n",
        "    carry = (0.0, params.initial_mean, params.initial_covariance)\n",
        "    (ll, _, _), (filtered_means, filtered_covs) = lax.scan(_step, carry, jnp.arange(num_timesteps))\n",
        "    return GSSMPosterior(marginal_loglik=ll, filtered_means=filtered_means, filtered_covariances=filtered_covs)\n",
        "\n",
        "\n",
        "def iterated_conditional_moments_gaussian_filter(params, emissions, num_iter=2, inputs=None):\n",
        "    \"\"\"Run an iterated conditional moments Gaussian filter.\n",
        "\n",
        "    Args:\n",
        "        params: a CMGFParams instance (or object with the same fields)\n",
        "        emissions (T,D_hid): array of observations.\n",
        "        num_iter (int): number of linearizations around smoothed posterior.\n",
        "        inputs (T,D_in): array of inputs.\n",
        "\n",
        "    Returns:\n",
        "        filtered_posterior: GSSMPosterior instance containing,\n",
        "            marginal_log_lik\n",
        "            filtered_means (T, D_hid)\n",
        "            filtered_covariances (T, D_hid, D_hid)\n",
        "    \"\"\"\n",
        "    filtered_posterior = conditional_moments_gaussian_filter(params, emissions, num_iter, inputs)\n",
        "    return filtered_posterior\n",
        "\n",
        "\n",
        "def conditional_moments_gaussian_smoother(params, emissions, filtered_posterior=None, inputs=None):\n",
        "    \"\"\"Run a conditional moments Gaussian smoother.\n",
        "\n",
        "    Args:\n",
        "        params: a CMGFParams instance (or object with the same fields)\n",
        "        emissions (T,D_hid): array of observations.\n",
        "        filtered_posterior (GSLRPosterior): filtered posterior to use for smoothing.\n",
        "            If None, the smoother computes the filtered posterior directly.\n",
        "        inputs (T,D_in): array of inputs.\n",
        "\n",
        "    Returns:\n",
        "        nlgssm_posterior: GSSMPosterior instance containing properties of\n",
        "            filtered and smoothed posterior distributions.\n",
        "    \"\"\"\n",
        "    num_timesteps = len(emissions)\n",
        "\n",
        "    # Get filtered posterior\n",
        "    if filtered_posterior is None:\n",
        "        filtered_posterior = conditional_moments_gaussian_filter(params, emissions, inputs=inputs)\n",
        "    ll, filtered_means, filtered_covs, *_ = filtered_posterior.to_tuple()\n",
        "\n",
        "    # Process dynamics function to take in control inputs\n",
        "    f  = _process_fn(params.dynamics_function, inputs)\n",
        "    inputs = _process_input(inputs, num_timesteps)\n",
        "\n",
        "    # Gaussian expectation value function\n",
        "    g_ev = params.gaussian_expectation\n",
        "    g_cov = params.gaussian_cross_covariance\n",
        "\n",
        "    def _step(carry, args):\n",
        "        # Unpack the inputs\n",
        "        smoothed_mean_next, smoothed_cov_next = carry\n",
        "        t, filtered_mean, filtered_cov = args\n",
        "\n",
        "        # Get parameters and inputs for time index t\n",
        "        Q = _get_params(params.dynamics_covariance, 2, t)\n",
        "        u = inputs[t]\n",
        "\n",
        "        # Prediction step\n",
        "        pred_mean, pred_cov, pred_cross = _predict(filtered_mean, filtered_cov, f, Q, u, g_ev, g_cov)\n",
        "        G = jnp.linalg.solve(pred_cov, pred_cross.T).T\n",
        "\n",
        "        # Compute smoothed mean and covariance\n",
        "        smoothed_mean = filtered_mean + G @ (smoothed_mean_next - pred_mean)\n",
        "        smoothed_cov = filtered_cov + G @ (smoothed_cov_next - pred_cov) @ G.T\n",
        "\n",
        "        return (smoothed_mean, smoothed_cov), (smoothed_mean, smoothed_cov)\n",
        "\n",
        "    # Run the smoother\n",
        "    init_carry = (filtered_means[-1], filtered_covs[-1])\n",
        "    args = (jnp.arange(num_timesteps - 2, -1, -1), filtered_means[:-1][::-1], filtered_covs[:-1][::-1])\n",
        "    _, (smoothed_means, smoothed_covs) = lax.scan(_step, init_carry, args)\n",
        "\n",
        "    # Reverse the arrays and return\n",
        "    smoothed_means = jnp.row_stack((smoothed_means[::-1], filtered_means[-1][None, ...]))\n",
        "    smoothed_covs = jnp.row_stack((smoothed_covs[::-1], filtered_covs[-1][None, ...]))\n",
        "    return GSSMPosterior(\n",
        "        marginal_loglik=ll,\n",
        "        filtered_means=filtered_means,\n",
        "        filtered_covariances=filtered_covs,\n",
        "        smoothed_means=smoothed_means,\n",
        "        smoothed_covariances=smoothed_covs,\n",
        "    )\n",
        "\n",
        "\n",
        "def iterated_conditional_moments_gaussian_smoother(params, emissions, num_iter=1, inputs=None):\n",
        "    \"\"\"Run an iterated conditional moments Gaussian smoother.\n",
        "\n",
        "    Args:\n",
        "        params: an CMGFParams instance (or object with the same fields)\n",
        "        emissions (T,D_hid): array of observations.\n",
        "        num_iter (int): number of re-linearizations around smoothed posterior.\n",
        "        inputs (T,D_in): array of inputs.\n",
        "\n",
        "    Returns:\n",
        "        nlgssm_posterior: GSSMPosterior instance containing properties of\n",
        "            filtered and smoothed posterior distributions.\n",
        "    \"\"\"\n",
        "    def _step(carry, _):\n",
        "        # Relinearize around smoothed posterior from previous iteration\n",
        "        smoothed_prior = carry\n",
        "        smoothed_posterior = conditional_moments_gaussian_smoother(params, emissions, smoothed_prior, inputs)\n",
        "        return smoothed_posterior, None\n",
        "\n",
        "    smoothed_posterior, _ = lax.scan(_step, None, jnp.arange(num_iter))\n",
        "    return smoothed_posterior\n"
      ]
    },
    {
      "cell_type": "code",
      "source": [
        "# Generate data\n",
        "input, output = generate_spiral_dataset()"
      ],
      "metadata": {
        "id": "F34QW0BMI86f"
      },
      "execution_count": null,
      "outputs": []
    },
    {
      "cell_type": "code",
      "source": [
        "# Define MLP architecture\n",
        "input_dim, hidden_dims, output_dim = 2, [2], 1\n",
        "model_dims = [input_dim, *hidden_dims, output_dim]\n",
        "_, flat_params, _, apply_fn = get_mlp_flattened_params(model_dims)\n",
        "decouple_fn, recouple_fn, decouple_cov_fn = decouple_flat_params(model_dims)"
      ],
      "metadata": {
        "id": "iZVtX7e_JE2x"
      },
      "execution_count": null,
      "outputs": []
    },
    {
      "cell_type": "code",
      "source": [
        "flat_params"
      ],
      "metadata": {
        "colab": {
          "base_uri": "https://localhost:8080/"
        },
        "id": "gh1cIK4Frerb",
        "outputId": "051fc8b2-d026-436c-930f-171f9998511b"
      },
      "execution_count": null,
      "outputs": [
        {
          "output_type": "execute_result",
          "data": {
            "text/plain": [
              "DeviceArray([ 0.        ,  0.        , -0.2788025 , -0.74077964,\n",
              "             -0.47987294,  0.25528678,  0.        ,  0.94259536,\n",
              "             -0.05666351], dtype=float32)"
            ]
          },
          "metadata": {},
          "execution_count": 234
        }
      ]
    },
    {
      "cell_type": "code",
      "source": [
        "decouple_fn(flat_params)"
      ],
      "metadata": {
        "colab": {
          "base_uri": "https://localhost:8080/"
        },
        "id": "2SOzQQqirZmr",
        "outputId": "7c9b2808-e9f8-4e75-a2bd-791f0e7ae6f3"
      },
      "execution_count": null,
      "outputs": [
        {
          "output_type": "execute_result",
          "data": {
            "text/plain": [
              "[DeviceArray([ 0.        , -0.2788025 , -0.47987294], dtype=float32),\n",
              " DeviceArray([ 0.        , -0.74077964,  0.25528678], dtype=float32),\n",
              " DeviceArray([ 0.        ,  0.94259536, -0.05666351], dtype=float32)]"
            ]
          },
          "metadata": {},
          "execution_count": 235
        }
      ]
    },
    {
      "cell_type": "code",
      "source": [
        "# Some model parameters and helper funciton\n",
        "state_dim, emission_dim = flat_params.size, output_dim\n",
        "sigmoid_fn = lambda w, x: jax.nn.sigmoid(apply_fn(w, x))\n",
        "\n",
        "# Run CMGF-EKF to train the MLP Classifier\n",
        "cmgf_ekf_params = EKFParams(\n",
        "    initial_mean=flat_params,\n",
        "    initial_covariance=jnp.eye(state_dim),\n",
        "    dynamics_function=lambda w, x: w,\n",
        "    dynamics_covariance=jnp.eye(state_dim) * 1e-4,\n",
        "    emission_mean_function = lambda w, x: sigmoid_fn(w, x),\n",
        "    emission_cov_function = lambda w, x: sigmoid_fn(w, x) * (1 - sigmoid_fn(w, x))\n",
        ")\n",
        "cmgf_ekf_post = decoupled_conditional_moments_gaussian_filter(cmgf_ekf_params, decouple_fn, decouple_cov_fn, recouple_fn, output, inputs=input)\n",
        "\n",
        "# Extract history of filtered weight values\n",
        "w_means, w_covs = cmgf_ekf_post.filtered_means, cmgf_ekf_post.filtered_covariances"
      ],
      "metadata": {
        "colab": {
          "base_uri": "https://localhost:8080/",
          "height": 1000
        },
        "id": "_Gwj9ZueI-Bp",
        "outputId": "68c61579-b636-4490-829d-fb5d59c476b2"
      },
      "execution_count": null,
      "outputs": [
        {
          "output_type": "error",
          "ename": "TypeError",
          "evalue": "ignored",
          "traceback": [
            "\u001b[0;31m---------------------------------------------------------------------------\u001b[0m",
            "\u001b[0;31mUnfilteredStackTrace\u001b[0m                      Traceback (most recent call last)",
            "\u001b[0;32m<ipython-input-236-7c9515335e69>\u001b[0m in \u001b[0;36m<module>\u001b[0;34m\u001b[0m\n\u001b[1;32m     13\u001b[0m )\n\u001b[0;32m---> 14\u001b[0;31m \u001b[0mcmgf_ekf_post\u001b[0m \u001b[0;34m=\u001b[0m \u001b[0mdecoupled_conditional_moments_gaussian_filter\u001b[0m\u001b[0;34m(\u001b[0m\u001b[0mcmgf_ekf_params\u001b[0m\u001b[0;34m,\u001b[0m \u001b[0mdecouple_fn\u001b[0m\u001b[0;34m,\u001b[0m \u001b[0mdecouple_cov_fn\u001b[0m\u001b[0;34m,\u001b[0m \u001b[0mrecouple_fn\u001b[0m\u001b[0;34m,\u001b[0m \u001b[0moutput\u001b[0m\u001b[0;34m,\u001b[0m \u001b[0minputs\u001b[0m\u001b[0;34m=\u001b[0m\u001b[0minput\u001b[0m\u001b[0;34m)\u001b[0m\u001b[0;34m\u001b[0m\u001b[0;34m\u001b[0m\u001b[0m\n\u001b[0m\u001b[1;32m     15\u001b[0m \u001b[0;34m\u001b[0m\u001b[0m\n",
            "\u001b[0;32m<ipython-input-231-f5534bbb3d5a>\u001b[0m in \u001b[0;36mdecoupled_conditional_moments_gaussian_filter\u001b[0;34m(params, decouple_fn, decouple_cov_fn, recouple_fn, emissions, num_iter, inputs)\u001b[0m\n\u001b[1;32m    247\u001b[0m     \u001b[0mcarry\u001b[0m \u001b[0;34m=\u001b[0m \u001b[0;34m(\u001b[0m\u001b[0;36m0.0\u001b[0m\u001b[0;34m,\u001b[0m \u001b[0mparams\u001b[0m\u001b[0;34m.\u001b[0m\u001b[0minitial_mean\u001b[0m\u001b[0;34m,\u001b[0m \u001b[0mparams\u001b[0m\u001b[0;34m.\u001b[0m\u001b[0minitial_covariance\u001b[0m\u001b[0;34m)\u001b[0m\u001b[0;34m\u001b[0m\u001b[0;34m\u001b[0m\u001b[0m\n\u001b[0;32m--> 248\u001b[0;31m     \u001b[0;34m(\u001b[0m\u001b[0mll\u001b[0m\u001b[0;34m,\u001b[0m \u001b[0m_\u001b[0m\u001b[0;34m,\u001b[0m \u001b[0m_\u001b[0m\u001b[0;34m)\u001b[0m\u001b[0;34m,\u001b[0m \u001b[0;34m(\u001b[0m\u001b[0mfiltered_means\u001b[0m\u001b[0;34m,\u001b[0m \u001b[0mfiltered_covs\u001b[0m\u001b[0;34m)\u001b[0m \u001b[0;34m=\u001b[0m \u001b[0mlax\u001b[0m\u001b[0;34m.\u001b[0m\u001b[0mscan\u001b[0m\u001b[0;34m(\u001b[0m\u001b[0m_step\u001b[0m\u001b[0;34m,\u001b[0m \u001b[0mcarry\u001b[0m\u001b[0;34m,\u001b[0m \u001b[0mjnp\u001b[0m\u001b[0;34m.\u001b[0m\u001b[0marange\u001b[0m\u001b[0;34m(\u001b[0m\u001b[0mnum_timesteps\u001b[0m\u001b[0;34m)\u001b[0m\u001b[0;34m)\u001b[0m\u001b[0;34m\u001b[0m\u001b[0;34m\u001b[0m\u001b[0m\n\u001b[0m\u001b[1;32m    249\u001b[0m     \u001b[0;32mreturn\u001b[0m \u001b[0mGSSMPosterior\u001b[0m\u001b[0;34m(\u001b[0m\u001b[0mmarginal_loglik\u001b[0m\u001b[0;34m=\u001b[0m\u001b[0mll\u001b[0m\u001b[0;34m,\u001b[0m \u001b[0mfiltered_means\u001b[0m\u001b[0;34m=\u001b[0m\u001b[0mfiltered_means\u001b[0m\u001b[0;34m,\u001b[0m \u001b[0mfiltered_covariances\u001b[0m\u001b[0;34m=\u001b[0m\u001b[0mfiltered_covs\u001b[0m\u001b[0;34m)\u001b[0m\u001b[0;34m\u001b[0m\u001b[0;34m\u001b[0m\u001b[0m\n",
            "\u001b[0;32m/usr/local/lib/python3.7/dist-packages/jax/_src/traceback_util.py\u001b[0m in \u001b[0;36mreraise_with_filtered_traceback\u001b[0;34m(*args, **kwargs)\u001b[0m\n\u001b[1;32m    161\u001b[0m     \u001b[0;32mtry\u001b[0m\u001b[0;34m:\u001b[0m\u001b[0;34m\u001b[0m\u001b[0;34m\u001b[0m\u001b[0m\n\u001b[0;32m--> 162\u001b[0;31m       \u001b[0;32mreturn\u001b[0m \u001b[0mfun\u001b[0m\u001b[0;34m(\u001b[0m\u001b[0;34m*\u001b[0m\u001b[0margs\u001b[0m\u001b[0;34m,\u001b[0m \u001b[0;34m**\u001b[0m\u001b[0mkwargs\u001b[0m\u001b[0;34m)\u001b[0m\u001b[0;34m\u001b[0m\u001b[0;34m\u001b[0m\u001b[0m\n\u001b[0m\u001b[1;32m    163\u001b[0m     \u001b[0;32mexcept\u001b[0m \u001b[0mException\u001b[0m \u001b[0;32mas\u001b[0m \u001b[0me\u001b[0m\u001b[0;34m:\u001b[0m\u001b[0;34m\u001b[0m\u001b[0;34m\u001b[0m\u001b[0m\n",
            "\u001b[0;32m/usr/local/lib/python3.7/dist-packages/jax/_src/lax/control_flow/loops.py\u001b[0m in \u001b[0;36mscan\u001b[0;34m(f, init, xs, length, reverse, unroll)\u001b[0m\n\u001b[1;32m    230\u001b[0m       \u001b[0mxs_slice\u001b[0m \u001b[0;34m=\u001b[0m \u001b[0;34m[\u001b[0m\u001b[0m_index_array\u001b[0m\u001b[0;34m(\u001b[0m\u001b[0mi\u001b[0m\u001b[0;34m,\u001b[0m \u001b[0mcore\u001b[0m\u001b[0;34m.\u001b[0m\u001b[0mget_aval\u001b[0m\u001b[0;34m(\u001b[0m\u001b[0mx\u001b[0m\u001b[0;34m)\u001b[0m\u001b[0;34m,\u001b[0m \u001b[0mx\u001b[0m\u001b[0;34m)\u001b[0m \u001b[0;32mfor\u001b[0m \u001b[0mx\u001b[0m \u001b[0;32min\u001b[0m \u001b[0mxs_flat\u001b[0m\u001b[0;34m]\u001b[0m\u001b[0;34m\u001b[0m\u001b[0;34m\u001b[0m\u001b[0m\n\u001b[0;32m--> 231\u001b[0;31m       \u001b[0mcarry\u001b[0m\u001b[0;34m,\u001b[0m \u001b[0my\u001b[0m \u001b[0;34m=\u001b[0m \u001b[0mf\u001b[0m\u001b[0;34m(\u001b[0m\u001b[0mcarry\u001b[0m\u001b[0;34m,\u001b[0m \u001b[0mtree_unflatten\u001b[0m\u001b[0;34m(\u001b[0m\u001b[0mxs_tree\u001b[0m\u001b[0;34m,\u001b[0m \u001b[0mxs_slice\u001b[0m\u001b[0;34m)\u001b[0m\u001b[0;34m)\u001b[0m\u001b[0;34m\u001b[0m\u001b[0;34m\u001b[0m\u001b[0m\n\u001b[0m\u001b[1;32m    232\u001b[0m       \u001b[0mys\u001b[0m\u001b[0;34m.\u001b[0m\u001b[0mappend\u001b[0m\u001b[0;34m(\u001b[0m\u001b[0my\u001b[0m\u001b[0;34m)\u001b[0m\u001b[0;34m\u001b[0m\u001b[0;34m\u001b[0m\u001b[0m\n",
            "\u001b[0;32m<ipython-input-231-f5534bbb3d5a>\u001b[0m in \u001b[0;36m_step\u001b[0;34m(carry, t)\u001b[0m\n\u001b[1;32m    237\u001b[0m         log_likelihood, filtered_mean, filtered_cov = _decoupled_condition_on(pred_mean, pred_cov, decouple_fn, decouple_cov_fn,\n\u001b[0;32m--> 238\u001b[0;31m                                                                               recouple_fn, m_Y, Cov_Y, u, y, g_ev, g_cov, num_iter)\n\u001b[0m\u001b[1;32m    239\u001b[0m         \u001b[0mll\u001b[0m \u001b[0;34m+=\u001b[0m \u001b[0mlog_likelihood\u001b[0m\u001b[0;34m\u001b[0m\u001b[0;34m\u001b[0m\u001b[0m\n",
            "\u001b[0;32m<ipython-input-231-f5534bbb3d5a>\u001b[0m in \u001b[0;36m_decoupled_condition_on\u001b[0;34m(m, P, decouple_fn, decouple_cov_fn, recouple_fn, y_cond_mean, y_cond_cov, u, y, g_ev, g_cov, num_iter)\u001b[0m\n\u001b[1;32m    132\u001b[0m     \u001b[0mcarry\u001b[0m \u001b[0;34m=\u001b[0m \u001b[0;34m(\u001b[0m\u001b[0mm\u001b[0m\u001b[0;34m,\u001b[0m \u001b[0mP\u001b[0m\u001b[0;34m)\u001b[0m\u001b[0;34m\u001b[0m\u001b[0;34m\u001b[0m\u001b[0m\n\u001b[0;32m--> 133\u001b[0;31m     \u001b[0;34m(\u001b[0m\u001b[0mmu_cond\u001b[0m\u001b[0;34m,\u001b[0m \u001b[0mSigma_cond\u001b[0m\u001b[0;34m)\u001b[0m\u001b[0;34m,\u001b[0m \u001b[0mlls\u001b[0m \u001b[0;34m=\u001b[0m \u001b[0mlax\u001b[0m\u001b[0;34m.\u001b[0m\u001b[0mscan\u001b[0m\u001b[0;34m(\u001b[0m\u001b[0m_step\u001b[0m\u001b[0;34m,\u001b[0m \u001b[0mcarry\u001b[0m\u001b[0;34m,\u001b[0m \u001b[0mjnp\u001b[0m\u001b[0;34m.\u001b[0m\u001b[0marange\u001b[0m\u001b[0;34m(\u001b[0m\u001b[0mnum_iter\u001b[0m\u001b[0;34m)\u001b[0m\u001b[0;34m)\u001b[0m\u001b[0;34m\u001b[0m\u001b[0;34m\u001b[0m\u001b[0m\n\u001b[0m\u001b[1;32m    134\u001b[0m     \u001b[0;32mreturn\u001b[0m \u001b[0mlls\u001b[0m\u001b[0;34m[\u001b[0m\u001b[0;36m0\u001b[0m\u001b[0;34m]\u001b[0m\u001b[0;34m,\u001b[0m \u001b[0mmu_cond\u001b[0m\u001b[0;34m,\u001b[0m \u001b[0mSigma_cond\u001b[0m\u001b[0;34m\u001b[0m\u001b[0;34m\u001b[0m\u001b[0m\n",
            "\u001b[0;32m/usr/local/lib/python3.7/dist-packages/jax/_src/traceback_util.py\u001b[0m in \u001b[0;36mreraise_with_filtered_traceback\u001b[0;34m(*args, **kwargs)\u001b[0m\n\u001b[1;32m    161\u001b[0m     \u001b[0;32mtry\u001b[0m\u001b[0;34m:\u001b[0m\u001b[0;34m\u001b[0m\u001b[0;34m\u001b[0m\u001b[0m\n\u001b[0;32m--> 162\u001b[0;31m       \u001b[0;32mreturn\u001b[0m \u001b[0mfun\u001b[0m\u001b[0;34m(\u001b[0m\u001b[0;34m*\u001b[0m\u001b[0margs\u001b[0m\u001b[0;34m,\u001b[0m \u001b[0;34m**\u001b[0m\u001b[0mkwargs\u001b[0m\u001b[0;34m)\u001b[0m\u001b[0;34m\u001b[0m\u001b[0;34m\u001b[0m\u001b[0m\n\u001b[0m\u001b[1;32m    163\u001b[0m     \u001b[0;32mexcept\u001b[0m \u001b[0mException\u001b[0m \u001b[0;32mas\u001b[0m \u001b[0me\u001b[0m\u001b[0;34m:\u001b[0m\u001b[0;34m\u001b[0m\u001b[0;34m\u001b[0m\u001b[0m\n",
            "\u001b[0;32m/usr/local/lib/python3.7/dist-packages/jax/_src/lax/control_flow/loops.py\u001b[0m in \u001b[0;36mscan\u001b[0;34m(f, init, xs, length, reverse, unroll)\u001b[0m\n\u001b[1;32m    230\u001b[0m       \u001b[0mxs_slice\u001b[0m \u001b[0;34m=\u001b[0m \u001b[0;34m[\u001b[0m\u001b[0m_index_array\u001b[0m\u001b[0;34m(\u001b[0m\u001b[0mi\u001b[0m\u001b[0;34m,\u001b[0m \u001b[0mcore\u001b[0m\u001b[0;34m.\u001b[0m\u001b[0mget_aval\u001b[0m\u001b[0;34m(\u001b[0m\u001b[0mx\u001b[0m\u001b[0;34m)\u001b[0m\u001b[0;34m,\u001b[0m \u001b[0mx\u001b[0m\u001b[0;34m)\u001b[0m \u001b[0;32mfor\u001b[0m \u001b[0mx\u001b[0m \u001b[0;32min\u001b[0m \u001b[0mxs_flat\u001b[0m\u001b[0;34m]\u001b[0m\u001b[0;34m\u001b[0m\u001b[0;34m\u001b[0m\u001b[0m\n\u001b[0;32m--> 231\u001b[0;31m       \u001b[0mcarry\u001b[0m\u001b[0;34m,\u001b[0m \u001b[0my\u001b[0m \u001b[0;34m=\u001b[0m \u001b[0mf\u001b[0m\u001b[0;34m(\u001b[0m\u001b[0mcarry\u001b[0m\u001b[0;34m,\u001b[0m \u001b[0mtree_unflatten\u001b[0m\u001b[0;34m(\u001b[0m\u001b[0mxs_tree\u001b[0m\u001b[0;34m,\u001b[0m \u001b[0mxs_slice\u001b[0m\u001b[0;34m)\u001b[0m\u001b[0;34m)\u001b[0m\u001b[0;34m\u001b[0m\u001b[0;34m\u001b[0m\u001b[0m\n\u001b[0m\u001b[1;32m    232\u001b[0m       \u001b[0mys\u001b[0m\u001b[0;34m.\u001b[0m\u001b[0mappend\u001b[0m\u001b[0;34m(\u001b[0m\u001b[0my\u001b[0m\u001b[0;34m)\u001b[0m\u001b[0;34m\u001b[0m\u001b[0;34m\u001b[0m\u001b[0m\n",
            "\u001b[0;32m<ipython-input-231-f5534bbb3d5a>\u001b[0m in \u001b[0;36m_step\u001b[0;34m(carry, _)\u001b[0m\n\u001b[1;32m    119\u001b[0m         \u001b[0myhat\u001b[0m \u001b[0;34m=\u001b[0m \u001b[0mg_ev\u001b[0m\u001b[0;34m(\u001b[0m\u001b[0mm_Y\u001b[0m\u001b[0;34m,\u001b[0m \u001b[0mprior_mean\u001b[0m\u001b[0;34m,\u001b[0m \u001b[0mprior_cov\u001b[0m\u001b[0;34m)\u001b[0m\u001b[0;34m\u001b[0m\u001b[0;34m\u001b[0m\u001b[0m\n\u001b[0;32m--> 120\u001b[0;31m         \u001b[0mprint\u001b[0m\u001b[0;34m(\u001b[0m\u001b[0;34m[\u001b[0m\u001b[0mg_cov\u001b[0m\u001b[0;34m(\u001b[0m\u001b[0mm_Y\u001b[0m\u001b[0;34m,\u001b[0m \u001b[0mm_Y\u001b[0m\u001b[0;34m,\u001b[0m \u001b[0mprior_means\u001b[0m\u001b[0;34m[\u001b[0m\u001b[0mi\u001b[0m\u001b[0;34m]\u001b[0m\u001b[0;34m,\u001b[0m \u001b[0mprior_covs\u001b[0m\u001b[0;34m[\u001b[0m\u001b[0mi\u001b[0m\u001b[0;34m]\u001b[0m\u001b[0;34m)\u001b[0m \u001b[0;32mfor\u001b[0m \u001b[0mi\u001b[0m\u001b[0;34m,\u001b[0m \u001b[0m_\u001b[0m \u001b[0;32min\u001b[0m \u001b[0menumerate\u001b[0m\u001b[0;34m(\u001b[0m\u001b[0mprior_means\u001b[0m\u001b[0;34m)\u001b[0m\u001b[0;34m]\u001b[0m\u001b[0;34m)\u001b[0m\u001b[0;34m\u001b[0m\u001b[0;34m\u001b[0m\u001b[0m\n\u001b[0m\u001b[1;32m    121\u001b[0m         \u001b[0mS\u001b[0m \u001b[0;34m=\u001b[0m \u001b[0mg_ev\u001b[0m\u001b[0;34m(\u001b[0m\u001b[0mCov_Y\u001b[0m\u001b[0;34m,\u001b[0m \u001b[0mprior_mean\u001b[0m\u001b[0;34m,\u001b[0m \u001b[0mprior_cov\u001b[0m\u001b[0;34m)\u001b[0m \u001b[0;34m+\u001b[0m \u001b[0mvmap\u001b[0m\u001b[0;34m(\u001b[0m\u001b[0mg_cov\u001b[0m\u001b[0;34m,\u001b[0m \u001b[0;34m(\u001b[0m\u001b[0;32mNone\u001b[0m\u001b[0;34m,\u001b[0m \u001b[0;32mNone\u001b[0m\u001b[0;34m,\u001b[0m \u001b[0;36m0\u001b[0m\u001b[0;34m,\u001b[0m \u001b[0;36m0\u001b[0m\u001b[0;34m)\u001b[0m\u001b[0;34m)\u001b[0m\u001b[0;34m(\u001b[0m\u001b[0mm_Y\u001b[0m\u001b[0;34m,\u001b[0m \u001b[0mm_Y\u001b[0m\u001b[0;34m,\u001b[0m \u001b[0mprior_means\u001b[0m\u001b[0;34m,\u001b[0m \u001b[0mprior_covs\u001b[0m\u001b[0;34m)\u001b[0m\u001b[0;34m.\u001b[0m\u001b[0msum\u001b[0m\u001b[0;34m(\u001b[0m\u001b[0;34m)\u001b[0m\u001b[0;34m\u001b[0m\u001b[0;34m\u001b[0m\u001b[0m\n",
            "\u001b[0;32m<ipython-input-231-f5534bbb3d5a>\u001b[0m in \u001b[0;36m<listcomp>\u001b[0;34m(.0)\u001b[0m\n\u001b[1;32m    119\u001b[0m         \u001b[0myhat\u001b[0m \u001b[0;34m=\u001b[0m \u001b[0mg_ev\u001b[0m\u001b[0;34m(\u001b[0m\u001b[0mm_Y\u001b[0m\u001b[0;34m,\u001b[0m \u001b[0mprior_mean\u001b[0m\u001b[0;34m,\u001b[0m \u001b[0mprior_cov\u001b[0m\u001b[0;34m)\u001b[0m\u001b[0;34m\u001b[0m\u001b[0;34m\u001b[0m\u001b[0m\n\u001b[0;32m--> 120\u001b[0;31m         \u001b[0mprint\u001b[0m\u001b[0;34m(\u001b[0m\u001b[0;34m[\u001b[0m\u001b[0mg_cov\u001b[0m\u001b[0;34m(\u001b[0m\u001b[0mm_Y\u001b[0m\u001b[0;34m,\u001b[0m \u001b[0mm_Y\u001b[0m\u001b[0;34m,\u001b[0m \u001b[0mprior_means\u001b[0m\u001b[0;34m[\u001b[0m\u001b[0mi\u001b[0m\u001b[0;34m]\u001b[0m\u001b[0;34m,\u001b[0m \u001b[0mprior_covs\u001b[0m\u001b[0;34m[\u001b[0m\u001b[0mi\u001b[0m\u001b[0;34m]\u001b[0m\u001b[0;34m)\u001b[0m \u001b[0;32mfor\u001b[0m \u001b[0mi\u001b[0m\u001b[0;34m,\u001b[0m \u001b[0m_\u001b[0m \u001b[0;32min\u001b[0m \u001b[0menumerate\u001b[0m\u001b[0;34m(\u001b[0m\u001b[0mprior_means\u001b[0m\u001b[0;34m)\u001b[0m\u001b[0;34m]\u001b[0m\u001b[0;34m)\u001b[0m\u001b[0;34m\u001b[0m\u001b[0;34m\u001b[0m\u001b[0m\n\u001b[0m\u001b[1;32m    121\u001b[0m         \u001b[0mS\u001b[0m \u001b[0;34m=\u001b[0m \u001b[0mg_ev\u001b[0m\u001b[0;34m(\u001b[0m\u001b[0mCov_Y\u001b[0m\u001b[0;34m,\u001b[0m \u001b[0mprior_mean\u001b[0m\u001b[0;34m,\u001b[0m \u001b[0mprior_cov\u001b[0m\u001b[0;34m)\u001b[0m \u001b[0;34m+\u001b[0m \u001b[0mvmap\u001b[0m\u001b[0;34m(\u001b[0m\u001b[0mg_cov\u001b[0m\u001b[0;34m,\u001b[0m \u001b[0;34m(\u001b[0m\u001b[0;32mNone\u001b[0m\u001b[0;34m,\u001b[0m \u001b[0;32mNone\u001b[0m\u001b[0;34m,\u001b[0m \u001b[0;36m0\u001b[0m\u001b[0;34m,\u001b[0m \u001b[0;36m0\u001b[0m\u001b[0;34m)\u001b[0m\u001b[0;34m)\u001b[0m\u001b[0;34m(\u001b[0m\u001b[0mm_Y\u001b[0m\u001b[0;34m,\u001b[0m \u001b[0mm_Y\u001b[0m\u001b[0;34m,\u001b[0m \u001b[0mprior_means\u001b[0m\u001b[0;34m,\u001b[0m \u001b[0mprior_covs\u001b[0m\u001b[0;34m)\u001b[0m\u001b[0;34m.\u001b[0m\u001b[0msum\u001b[0m\u001b[0;34m(\u001b[0m\u001b[0;34m)\u001b[0m\u001b[0;34m\u001b[0m\u001b[0;34m\u001b[0m\u001b[0m\n",
            "\u001b[0;32m/usr/local/lib/python3.7/dist-packages/ssm_jax/cond_moments_gaussian_filter/containers.py\u001b[0m in \u001b[0;36m<lambda>\u001b[0;34m(f, g, m, P)\u001b[0m\n\u001b[1;32m     33\u001b[0m     \u001b[0mgaussian_expectation\u001b[0m\u001b[0;34m:\u001b[0m \u001b[0mCallable\u001b[0m \u001b[0;34m=\u001b[0m \u001b[0;32mlambda\u001b[0m \u001b[0mf\u001b[0m\u001b[0;34m,\u001b[0m \u001b[0mm\u001b[0m\u001b[0;34m,\u001b[0m \u001b[0mP\u001b[0m\u001b[0;34m:\u001b[0m \u001b[0mjnp\u001b[0m\u001b[0;34m.\u001b[0m\u001b[0matleast_1d\u001b[0m\u001b[0;34m(\u001b[0m\u001b[0mf\u001b[0m\u001b[0;34m(\u001b[0m\u001b[0mm\u001b[0m\u001b[0;34m)\u001b[0m\u001b[0;34m)\u001b[0m\u001b[0;34m\u001b[0m\u001b[0;34m\u001b[0m\u001b[0m\n\u001b[0;32m---> 34\u001b[0;31m     \u001b[0mgaussian_cross_covariance\u001b[0m\u001b[0;34m:\u001b[0m \u001b[0mCallable\u001b[0m \u001b[0;34m=\u001b[0m \u001b[0;32mlambda\u001b[0m \u001b[0mf\u001b[0m\u001b[0;34m,\u001b[0m \u001b[0mg\u001b[0m\u001b[0;34m,\u001b[0m \u001b[0mm\u001b[0m\u001b[0;34m,\u001b[0m \u001b[0mP\u001b[0m\u001b[0;34m:\u001b[0m \u001b[0m_jacfwd_2d\u001b[0m\u001b[0;34m(\u001b[0m\u001b[0mf\u001b[0m\u001b[0;34m,\u001b[0m \u001b[0mm\u001b[0m\u001b[0;34m)\u001b[0m \u001b[0;34m@\u001b[0m \u001b[0mP\u001b[0m \u001b[0;34m@\u001b[0m \u001b[0m_jacfwd_2d\u001b[0m\u001b[0;34m(\u001b[0m\u001b[0mg\u001b[0m\u001b[0;34m,\u001b[0m \u001b[0mm\u001b[0m\u001b[0;34m)\u001b[0m\u001b[0;34m.\u001b[0m\u001b[0mT\u001b[0m\u001b[0;34m\u001b[0m\u001b[0;34m\u001b[0m\u001b[0m\n\u001b[0m\u001b[1;32m     35\u001b[0m \u001b[0;34m\u001b[0m\u001b[0m\n",
            "\u001b[0;32m/usr/local/lib/python3.7/dist-packages/ssm_jax/cond_moments_gaussian_filter/containers.py\u001b[0m in \u001b[0;36m<lambda>\u001b[0;34m(f, x)\u001b[0m\n\u001b[1;32m     11\u001b[0m \u001b[0;34m\u001b[0m\u001b[0m\n\u001b[0;32m---> 12\u001b[0;31m \u001b[0m_jacfwd_2d\u001b[0m \u001b[0;34m=\u001b[0m \u001b[0;32mlambda\u001b[0m \u001b[0mf\u001b[0m\u001b[0;34m,\u001b[0m \u001b[0mx\u001b[0m\u001b[0;34m:\u001b[0m \u001b[0mjnp\u001b[0m\u001b[0;34m.\u001b[0m\u001b[0matleast_2d\u001b[0m\u001b[0;34m(\u001b[0m\u001b[0mjacfwd\u001b[0m\u001b[0;34m(\u001b[0m\u001b[0mf\u001b[0m\u001b[0;34m)\u001b[0m\u001b[0;34m(\u001b[0m\u001b[0mx\u001b[0m\u001b[0;34m)\u001b[0m\u001b[0;34m)\u001b[0m\u001b[0;34m\u001b[0m\u001b[0;34m\u001b[0m\u001b[0m\n\u001b[0m\u001b[1;32m     13\u001b[0m \u001b[0;34m\u001b[0m\u001b[0m\n",
            "\u001b[0;32m/usr/local/lib/python3.7/dist-packages/jax/_src/api.py\u001b[0m in \u001b[0;36mjacfun\u001b[0;34m(*args, **kwargs)\u001b[0m\n\u001b[1;32m   1193\u001b[0m       \u001b[0mpushfwd\u001b[0m \u001b[0;34m=\u001b[0m \u001b[0mpartial\u001b[0m\u001b[0;34m(\u001b[0m\u001b[0m_jvp\u001b[0m\u001b[0;34m,\u001b[0m \u001b[0mf_partial\u001b[0m\u001b[0;34m,\u001b[0m \u001b[0mdyn_args\u001b[0m\u001b[0;34m)\u001b[0m\u001b[0;34m\u001b[0m\u001b[0;34m\u001b[0m\u001b[0m\n\u001b[0;32m-> 1194\u001b[0;31m       \u001b[0my\u001b[0m\u001b[0;34m,\u001b[0m \u001b[0mjac\u001b[0m \u001b[0;34m=\u001b[0m \u001b[0mvmap\u001b[0m\u001b[0;34m(\u001b[0m\u001b[0mpushfwd\u001b[0m\u001b[0;34m,\u001b[0m \u001b[0mout_axes\u001b[0m\u001b[0;34m=\u001b[0m\u001b[0;34m(\u001b[0m\u001b[0;32mNone\u001b[0m\u001b[0;34m,\u001b[0m \u001b[0;34m-\u001b[0m\u001b[0;36m1\u001b[0m\u001b[0;34m)\u001b[0m\u001b[0;34m)\u001b[0m\u001b[0;34m(\u001b[0m\u001b[0m_std_basis\u001b[0m\u001b[0;34m(\u001b[0m\u001b[0mdyn_args\u001b[0m\u001b[0;34m)\u001b[0m\u001b[0;34m)\u001b[0m\u001b[0;34m\u001b[0m\u001b[0;34m\u001b[0m\u001b[0m\n\u001b[0m\u001b[1;32m   1195\u001b[0m     \u001b[0;32melse\u001b[0m\u001b[0;34m:\u001b[0m\u001b[0;34m\u001b[0m\u001b[0;34m\u001b[0m\u001b[0m\n",
            "\u001b[0;32m/usr/local/lib/python3.7/dist-packages/jax/_src/traceback_util.py\u001b[0m in \u001b[0;36mreraise_with_filtered_traceback\u001b[0;34m(*args, **kwargs)\u001b[0m\n\u001b[1;32m    161\u001b[0m     \u001b[0;32mtry\u001b[0m\u001b[0;34m:\u001b[0m\u001b[0;34m\u001b[0m\u001b[0;34m\u001b[0m\u001b[0m\n\u001b[0;32m--> 162\u001b[0;31m       \u001b[0;32mreturn\u001b[0m \u001b[0mfun\u001b[0m\u001b[0;34m(\u001b[0m\u001b[0;34m*\u001b[0m\u001b[0margs\u001b[0m\u001b[0;34m,\u001b[0m \u001b[0;34m**\u001b[0m\u001b[0mkwargs\u001b[0m\u001b[0;34m)\u001b[0m\u001b[0;34m\u001b[0m\u001b[0;34m\u001b[0m\u001b[0m\n\u001b[0m\u001b[1;32m    163\u001b[0m     \u001b[0;32mexcept\u001b[0m \u001b[0mException\u001b[0m \u001b[0;32mas\u001b[0m \u001b[0me\u001b[0m\u001b[0;34m:\u001b[0m\u001b[0;34m\u001b[0m\u001b[0;34m\u001b[0m\u001b[0m\n",
            "\u001b[0;32m/usr/local/lib/python3.7/dist-packages/jax/_src/api.py\u001b[0m in \u001b[0;36mvmap_f\u001b[0;34m(*args, **kwargs)\u001b[0m\n\u001b[1;32m   1586\u001b[0m         \u001b[0mspmd_axis_name\u001b[0m\u001b[0;34m=\u001b[0m\u001b[0mspmd_axis_name\u001b[0m\u001b[0;34m\u001b[0m\u001b[0;34m\u001b[0m\u001b[0m\n\u001b[0;32m-> 1587\u001b[0;31m     ).call_wrapped(*args_flat)\n\u001b[0m\u001b[1;32m   1588\u001b[0m     \u001b[0;32mreturn\u001b[0m \u001b[0mtree_unflatten\u001b[0m\u001b[0;34m(\u001b[0m\u001b[0mout_tree\u001b[0m\u001b[0;34m(\u001b[0m\u001b[0;34m)\u001b[0m\u001b[0;34m,\u001b[0m \u001b[0mout_flat\u001b[0m\u001b[0;34m)\u001b[0m\u001b[0;34m\u001b[0m\u001b[0;34m\u001b[0m\u001b[0m\n",
            "\u001b[0;32m/usr/local/lib/python3.7/dist-packages/jax/linear_util.py\u001b[0m in \u001b[0;36mcall_wrapped\u001b[0;34m(self, *args, **kwargs)\u001b[0m\n\u001b[1;32m    167\u001b[0m     \u001b[0;32mtry\u001b[0m\u001b[0;34m:\u001b[0m\u001b[0;34m\u001b[0m\u001b[0;34m\u001b[0m\u001b[0m\n\u001b[0;32m--> 168\u001b[0;31m       \u001b[0mans\u001b[0m \u001b[0;34m=\u001b[0m \u001b[0mself\u001b[0m\u001b[0;34m.\u001b[0m\u001b[0mf\u001b[0m\u001b[0;34m(\u001b[0m\u001b[0;34m*\u001b[0m\u001b[0margs\u001b[0m\u001b[0;34m,\u001b[0m \u001b[0;34m**\u001b[0m\u001b[0mdict\u001b[0m\u001b[0;34m(\u001b[0m\u001b[0mself\u001b[0m\u001b[0;34m.\u001b[0m\u001b[0mparams\u001b[0m\u001b[0;34m,\u001b[0m \u001b[0;34m**\u001b[0m\u001b[0mkwargs\u001b[0m\u001b[0;34m)\u001b[0m\u001b[0;34m)\u001b[0m\u001b[0;34m\u001b[0m\u001b[0;34m\u001b[0m\u001b[0m\n\u001b[0m\u001b[1;32m    169\u001b[0m     \u001b[0;32mexcept\u001b[0m\u001b[0;34m:\u001b[0m\u001b[0;34m\u001b[0m\u001b[0;34m\u001b[0m\u001b[0m\n",
            "\u001b[0;32m/usr/local/lib/python3.7/dist-packages/jax/_src/api.py\u001b[0m in \u001b[0;36m_jvp\u001b[0;34m(fun, primals, tangents, has_aux)\u001b[0m\n\u001b[1;32m   2299\u001b[0m     \u001b[0mflat_fun\u001b[0m\u001b[0;34m,\u001b[0m \u001b[0mout_tree\u001b[0m \u001b[0;34m=\u001b[0m \u001b[0mflatten_fun_nokwargs\u001b[0m\u001b[0;34m(\u001b[0m\u001b[0mfun\u001b[0m\u001b[0;34m,\u001b[0m \u001b[0mtree_def\u001b[0m\u001b[0;34m)\u001b[0m\u001b[0;34m\u001b[0m\u001b[0;34m\u001b[0m\u001b[0m\n\u001b[0;32m-> 2300\u001b[0;31m     \u001b[0mout_primals\u001b[0m\u001b[0;34m,\u001b[0m \u001b[0mout_tangents\u001b[0m \u001b[0;34m=\u001b[0m \u001b[0mad\u001b[0m\u001b[0;34m.\u001b[0m\u001b[0mjvp\u001b[0m\u001b[0;34m(\u001b[0m\u001b[0mflat_fun\u001b[0m\u001b[0;34m)\u001b[0m\u001b[0;34m.\u001b[0m\u001b[0mcall_wrapped\u001b[0m\u001b[0;34m(\u001b[0m\u001b[0mps_flat\u001b[0m\u001b[0;34m,\u001b[0m \u001b[0mts_flat\u001b[0m\u001b[0;34m)\u001b[0m\u001b[0;34m\u001b[0m\u001b[0;34m\u001b[0m\u001b[0m\n\u001b[0m\u001b[1;32m   2301\u001b[0m     \u001b[0mout_tree\u001b[0m \u001b[0;34m=\u001b[0m \u001b[0mout_tree\u001b[0m\u001b[0;34m(\u001b[0m\u001b[0;34m)\u001b[0m\u001b[0;34m\u001b[0m\u001b[0;34m\u001b[0m\u001b[0m\n",
            "\u001b[0;32m/usr/local/lib/python3.7/dist-packages/jax/linear_util.py\u001b[0m in \u001b[0;36mcall_wrapped\u001b[0;34m(self, *args, **kwargs)\u001b[0m\n\u001b[1;32m    167\u001b[0m     \u001b[0;32mtry\u001b[0m\u001b[0;34m:\u001b[0m\u001b[0;34m\u001b[0m\u001b[0;34m\u001b[0m\u001b[0m\n\u001b[0;32m--> 168\u001b[0;31m       \u001b[0mans\u001b[0m \u001b[0;34m=\u001b[0m \u001b[0mself\u001b[0m\u001b[0;34m.\u001b[0m\u001b[0mf\u001b[0m\u001b[0;34m(\u001b[0m\u001b[0;34m*\u001b[0m\u001b[0margs\u001b[0m\u001b[0;34m,\u001b[0m \u001b[0;34m**\u001b[0m\u001b[0mdict\u001b[0m\u001b[0;34m(\u001b[0m\u001b[0mself\u001b[0m\u001b[0;34m.\u001b[0m\u001b[0mparams\u001b[0m\u001b[0;34m,\u001b[0m \u001b[0;34m**\u001b[0m\u001b[0mkwargs\u001b[0m\u001b[0;34m)\u001b[0m\u001b[0;34m)\u001b[0m\u001b[0;34m\u001b[0m\u001b[0;34m\u001b[0m\u001b[0m\n\u001b[0m\u001b[1;32m    169\u001b[0m     \u001b[0;32mexcept\u001b[0m\u001b[0;34m:\u001b[0m\u001b[0;34m\u001b[0m\u001b[0;34m\u001b[0m\u001b[0m\n",
            "\u001b[0;32m<ipython-input-231-f5534bbb3d5a>\u001b[0m in \u001b[0;36m<lambda>\u001b[0;34m(x)\u001b[0m\n\u001b[1;32m    109\u001b[0m \u001b[0;32mdef\u001b[0m \u001b[0m_decoupled_condition_on\u001b[0m\u001b[0;34m(\u001b[0m\u001b[0mm\u001b[0m\u001b[0;34m,\u001b[0m \u001b[0mP\u001b[0m\u001b[0;34m,\u001b[0m \u001b[0mdecouple_fn\u001b[0m\u001b[0;34m,\u001b[0m \u001b[0mdecouple_cov_fn\u001b[0m\u001b[0;34m,\u001b[0m \u001b[0mrecouple_fn\u001b[0m\u001b[0;34m,\u001b[0m \u001b[0my_cond_mean\u001b[0m\u001b[0;34m,\u001b[0m \u001b[0my_cond_cov\u001b[0m\u001b[0;34m,\u001b[0m \u001b[0mu\u001b[0m\u001b[0;34m,\u001b[0m \u001b[0my\u001b[0m\u001b[0;34m,\u001b[0m \u001b[0mg_ev\u001b[0m\u001b[0;34m,\u001b[0m \u001b[0mg_cov\u001b[0m\u001b[0;34m,\u001b[0m \u001b[0mnum_iter\u001b[0m\u001b[0;34m)\u001b[0m\u001b[0;34m:\u001b[0m\u001b[0;34m\u001b[0m\u001b[0;34m\u001b[0m\u001b[0m\n\u001b[0;32m--> 110\u001b[0;31m     \u001b[0mm_Y\u001b[0m \u001b[0;34m=\u001b[0m \u001b[0;32mlambda\u001b[0m \u001b[0mx\u001b[0m\u001b[0;34m:\u001b[0m \u001b[0my_cond_mean\u001b[0m\u001b[0;34m(\u001b[0m\u001b[0mx\u001b[0m\u001b[0;34m,\u001b[0m \u001b[0mu\u001b[0m\u001b[0;34m)\u001b[0m\u001b[0;34m\u001b[0m\u001b[0;34m\u001b[0m\u001b[0m\n\u001b[0m\u001b[1;32m    111\u001b[0m     \u001b[0mCov_Y\u001b[0m \u001b[0;34m=\u001b[0m \u001b[0;32mlambda\u001b[0m \u001b[0mx\u001b[0m\u001b[0;34m:\u001b[0m \u001b[0my_cond_cov\u001b[0m\u001b[0;34m(\u001b[0m\u001b[0mx\u001b[0m\u001b[0;34m,\u001b[0m \u001b[0mu\u001b[0m\u001b[0;34m)\u001b[0m\u001b[0;34m\u001b[0m\u001b[0;34m\u001b[0m\u001b[0m\n",
            "\u001b[0;32m<ipython-input-236-7c9515335e69>\u001b[0m in \u001b[0;36m<lambda>\u001b[0;34m(w, x)\u001b[0m\n\u001b[1;32m     10\u001b[0m     \u001b[0mdynamics_covariance\u001b[0m\u001b[0;34m=\u001b[0m\u001b[0mjnp\u001b[0m\u001b[0;34m.\u001b[0m\u001b[0meye\u001b[0m\u001b[0;34m(\u001b[0m\u001b[0mstate_dim\u001b[0m\u001b[0;34m)\u001b[0m \u001b[0;34m*\u001b[0m \u001b[0;36m1e-4\u001b[0m\u001b[0;34m,\u001b[0m\u001b[0;34m\u001b[0m\u001b[0;34m\u001b[0m\u001b[0m\n\u001b[0;32m---> 11\u001b[0;31m     \u001b[0memission_mean_function\u001b[0m \u001b[0;34m=\u001b[0m \u001b[0;32mlambda\u001b[0m \u001b[0mw\u001b[0m\u001b[0;34m,\u001b[0m \u001b[0mx\u001b[0m\u001b[0;34m:\u001b[0m \u001b[0msigmoid_fn\u001b[0m\u001b[0;34m(\u001b[0m\u001b[0mw\u001b[0m\u001b[0;34m,\u001b[0m \u001b[0mx\u001b[0m\u001b[0;34m)\u001b[0m\u001b[0;34m,\u001b[0m\u001b[0;34m\u001b[0m\u001b[0;34m\u001b[0m\u001b[0m\n\u001b[0m\u001b[1;32m     12\u001b[0m     \u001b[0memission_cov_function\u001b[0m \u001b[0;34m=\u001b[0m \u001b[0;32mlambda\u001b[0m \u001b[0mw\u001b[0m\u001b[0;34m,\u001b[0m \u001b[0mx\u001b[0m\u001b[0;34m:\u001b[0m \u001b[0msigmoid_fn\u001b[0m\u001b[0;34m(\u001b[0m\u001b[0mw\u001b[0m\u001b[0;34m,\u001b[0m \u001b[0mx\u001b[0m\u001b[0;34m)\u001b[0m \u001b[0;34m*\u001b[0m \u001b[0;34m(\u001b[0m\u001b[0;36m1\u001b[0m \u001b[0;34m-\u001b[0m \u001b[0msigmoid_fn\u001b[0m\u001b[0;34m(\u001b[0m\u001b[0mw\u001b[0m\u001b[0;34m,\u001b[0m \u001b[0mx\u001b[0m\u001b[0;34m)\u001b[0m\u001b[0;34m)\u001b[0m\u001b[0;34m\u001b[0m\u001b[0;34m\u001b[0m\u001b[0m\n",
            "\u001b[0;32m<ipython-input-236-7c9515335e69>\u001b[0m in \u001b[0;36m<lambda>\u001b[0;34m(w, x)\u001b[0m\n\u001b[1;32m      2\u001b[0m \u001b[0mstate_dim\u001b[0m\u001b[0;34m,\u001b[0m \u001b[0memission_dim\u001b[0m \u001b[0;34m=\u001b[0m \u001b[0mflat_params\u001b[0m\u001b[0;34m.\u001b[0m\u001b[0msize\u001b[0m\u001b[0;34m,\u001b[0m \u001b[0moutput_dim\u001b[0m\u001b[0;34m\u001b[0m\u001b[0;34m\u001b[0m\u001b[0m\n\u001b[0;32m----> 3\u001b[0;31m \u001b[0msigmoid_fn\u001b[0m \u001b[0;34m=\u001b[0m \u001b[0;32mlambda\u001b[0m \u001b[0mw\u001b[0m\u001b[0;34m,\u001b[0m \u001b[0mx\u001b[0m\u001b[0;34m:\u001b[0m \u001b[0mjax\u001b[0m\u001b[0;34m.\u001b[0m\u001b[0mnn\u001b[0m\u001b[0;34m.\u001b[0m\u001b[0msigmoid\u001b[0m\u001b[0;34m(\u001b[0m\u001b[0mapply_fn\u001b[0m\u001b[0;34m(\u001b[0m\u001b[0mw\u001b[0m\u001b[0;34m,\u001b[0m \u001b[0mx\u001b[0m\u001b[0;34m)\u001b[0m\u001b[0;34m)\u001b[0m\u001b[0;34m\u001b[0m\u001b[0;34m\u001b[0m\u001b[0m\n\u001b[0m\u001b[1;32m      4\u001b[0m \u001b[0;34m\u001b[0m\u001b[0m\n",
            "\u001b[0;32m<ipython-input-211-fe7a51bcf093>\u001b[0m in \u001b[0;36mapply\u001b[0;34m(flat_params, x, model, unflatten_fn)\u001b[0m\n\u001b[1;32m     15\u001b[0m     \u001b[0;32mdef\u001b[0m \u001b[0mapply\u001b[0m\u001b[0;34m(\u001b[0m\u001b[0mflat_params\u001b[0m\u001b[0;34m,\u001b[0m \u001b[0mx\u001b[0m\u001b[0;34m,\u001b[0m \u001b[0mmodel\u001b[0m\u001b[0;34m,\u001b[0m \u001b[0munflatten_fn\u001b[0m\u001b[0;34m)\u001b[0m\u001b[0;34m:\u001b[0m\u001b[0;34m\u001b[0m\u001b[0;34m\u001b[0m\u001b[0m\n\u001b[0;32m---> 16\u001b[0;31m         \u001b[0;32mreturn\u001b[0m \u001b[0mmodel\u001b[0m\u001b[0;34m.\u001b[0m\u001b[0mapply\u001b[0m\u001b[0;34m(\u001b[0m\u001b[0munflatten_fn\u001b[0m\u001b[0;34m(\u001b[0m\u001b[0mflat_params\u001b[0m\u001b[0;34m)\u001b[0m\u001b[0;34m,\u001b[0m \u001b[0mjnp\u001b[0m\u001b[0;34m.\u001b[0m\u001b[0matleast_1d\u001b[0m\u001b[0;34m(\u001b[0m\u001b[0mx\u001b[0m\u001b[0;34m)\u001b[0m\u001b[0;34m)\u001b[0m\u001b[0;34m\u001b[0m\u001b[0;34m\u001b[0m\u001b[0m\n\u001b[0m\u001b[1;32m     17\u001b[0m \u001b[0;34m\u001b[0m\u001b[0m\n",
            "\u001b[0;32m/usr/local/lib/python3.7/dist-packages/jax/_src/flatten_util.py\u001b[0m in \u001b[0;36m<lambda>\u001b[0;34m(flat)\u001b[0m\n\u001b[1;32m     49\u001b[0m   \u001b[0mflat\u001b[0m\u001b[0;34m,\u001b[0m \u001b[0munravel_list\u001b[0m \u001b[0;34m=\u001b[0m \u001b[0m_ravel_list\u001b[0m\u001b[0;34m(\u001b[0m\u001b[0mleaves\u001b[0m\u001b[0;34m)\u001b[0m\u001b[0;34m\u001b[0m\u001b[0;34m\u001b[0m\u001b[0m\n\u001b[0;32m---> 50\u001b[0;31m   \u001b[0munravel_pytree\u001b[0m \u001b[0;34m=\u001b[0m \u001b[0;32mlambda\u001b[0m \u001b[0mflat\u001b[0m\u001b[0;34m:\u001b[0m \u001b[0mtree_unflatten\u001b[0m\u001b[0;34m(\u001b[0m\u001b[0mtreedef\u001b[0m\u001b[0;34m,\u001b[0m \u001b[0munravel_list\u001b[0m\u001b[0;34m(\u001b[0m\u001b[0mflat\u001b[0m\u001b[0;34m)\u001b[0m\u001b[0;34m)\u001b[0m\u001b[0;34m\u001b[0m\u001b[0;34m\u001b[0m\u001b[0m\n\u001b[0m\u001b[1;32m     51\u001b[0m   \u001b[0;32mreturn\u001b[0m \u001b[0mflat\u001b[0m\u001b[0;34m,\u001b[0m \u001b[0munravel_pytree\u001b[0m\u001b[0;34m\u001b[0m\u001b[0;34m\u001b[0m\u001b[0m\n",
            "\u001b[0;32m/usr/local/lib/python3.7/dist-packages/jax/_src/flatten_util.py\u001b[0m in \u001b[0;36munravel\u001b[0;34m(arr)\u001b[0m\n\u001b[1;32m     64\u001b[0m     \u001b[0;32mdef\u001b[0m \u001b[0munravel\u001b[0m\u001b[0;34m(\u001b[0m\u001b[0marr\u001b[0m\u001b[0;34m)\u001b[0m\u001b[0;34m:\u001b[0m\u001b[0;34m\u001b[0m\u001b[0;34m\u001b[0m\u001b[0m\n\u001b[0;32m---> 65\u001b[0;31m       \u001b[0mchunks\u001b[0m \u001b[0;34m=\u001b[0m \u001b[0mjnp\u001b[0m\u001b[0;34m.\u001b[0m\u001b[0msplit\u001b[0m\u001b[0;34m(\u001b[0m\u001b[0marr\u001b[0m\u001b[0;34m,\u001b[0m \u001b[0mindices\u001b[0m\u001b[0;34m[\u001b[0m\u001b[0;34m:\u001b[0m\u001b[0;34m-\u001b[0m\u001b[0;36m1\u001b[0m\u001b[0;34m]\u001b[0m\u001b[0;34m)\u001b[0m\u001b[0;34m\u001b[0m\u001b[0;34m\u001b[0m\u001b[0m\n\u001b[0m\u001b[1;32m     66\u001b[0m       \u001b[0;32mreturn\u001b[0m \u001b[0;34m[\u001b[0m\u001b[0mchunk\u001b[0m\u001b[0;34m.\u001b[0m\u001b[0mreshape\u001b[0m\u001b[0;34m(\u001b[0m\u001b[0mshape\u001b[0m\u001b[0;34m)\u001b[0m \u001b[0;32mfor\u001b[0m \u001b[0mchunk\u001b[0m\u001b[0;34m,\u001b[0m \u001b[0mshape\u001b[0m \u001b[0;32min\u001b[0m \u001b[0mzip\u001b[0m\u001b[0;34m(\u001b[0m\u001b[0mchunks\u001b[0m\u001b[0;34m,\u001b[0m \u001b[0mshapes\u001b[0m\u001b[0;34m)\u001b[0m\u001b[0;34m]\u001b[0m\u001b[0;34m\u001b[0m\u001b[0;34m\u001b[0m\u001b[0m\n",
            "\u001b[0;32m/usr/local/lib/python3.7/dist-packages/jax/_src/numpy/lax_numpy.py\u001b[0m in \u001b[0;36msplit\u001b[0;34m(ary, indices_or_sections, axis)\u001b[0m\n\u001b[1;32m   1128\u001b[0m \u001b[0;32mdef\u001b[0m \u001b[0msplit\u001b[0m\u001b[0;34m(\u001b[0m\u001b[0mary\u001b[0m\u001b[0;34m,\u001b[0m \u001b[0mindices_or_sections\u001b[0m\u001b[0;34m,\u001b[0m \u001b[0maxis\u001b[0m\u001b[0;34m:\u001b[0m \u001b[0mint\u001b[0m \u001b[0;34m=\u001b[0m \u001b[0;36m0\u001b[0m\u001b[0;34m)\u001b[0m\u001b[0;34m:\u001b[0m\u001b[0;34m\u001b[0m\u001b[0;34m\u001b[0m\u001b[0m\n\u001b[0;32m-> 1129\u001b[0;31m   \u001b[0;32mreturn\u001b[0m \u001b[0m_split\u001b[0m\u001b[0;34m(\u001b[0m\u001b[0;34m\"split\"\u001b[0m\u001b[0;34m,\u001b[0m \u001b[0mary\u001b[0m\u001b[0;34m,\u001b[0m \u001b[0mindices_or_sections\u001b[0m\u001b[0;34m,\u001b[0m \u001b[0maxis\u001b[0m\u001b[0;34m=\u001b[0m\u001b[0maxis\u001b[0m\u001b[0;34m)\u001b[0m\u001b[0;34m\u001b[0m\u001b[0;34m\u001b[0m\u001b[0m\n\u001b[0m\u001b[1;32m   1130\u001b[0m \u001b[0;34m\u001b[0m\u001b[0m\n",
            "\u001b[0;32m/usr/local/lib/python3.7/dist-packages/jax/_src/numpy/lax_numpy.py\u001b[0m in \u001b[0;36m_split\u001b[0;34m(op, ary, indices_or_sections, axis)\u001b[0m\n\u001b[1;32m   1124\u001b[0m   return [lax.slice(ary, _subval(starts, axis, start), _subval(ends, axis, end))\n\u001b[0;32m-> 1125\u001b[0;31m           for start, end in zip(split_indices[:-1], split_indices[1:])]\n\u001b[0m\u001b[1;32m   1126\u001b[0m \u001b[0;34m\u001b[0m\u001b[0m\n",
            "\u001b[0;32m/usr/local/lib/python3.7/dist-packages/jax/_src/numpy/lax_numpy.py\u001b[0m in \u001b[0;36m<listcomp>\u001b[0;34m(.0)\u001b[0m\n\u001b[1;32m   1124\u001b[0m   return [lax.slice(ary, _subval(starts, axis, start), _subval(ends, axis, end))\n\u001b[0;32m-> 1125\u001b[0;31m           for start, end in zip(split_indices[:-1], split_indices[1:])]\n\u001b[0m\u001b[1;32m   1126\u001b[0m \u001b[0;34m\u001b[0m\u001b[0m\n",
            "\u001b[0;32m/usr/local/lib/python3.7/dist-packages/jax/_src/lax/slicing.py\u001b[0m in \u001b[0;36mslice\u001b[0;34m(operand, start_indices, limit_indices, strides)\u001b[0m\n\u001b[1;32m     64\u001b[0m                       \u001b[0mlimit_indices\u001b[0m\u001b[0;34m=\u001b[0m\u001b[0mtuple\u001b[0m\u001b[0;34m(\u001b[0m\u001b[0mlimit_indices\u001b[0m\u001b[0;34m)\u001b[0m\u001b[0;34m,\u001b[0m\u001b[0;34m\u001b[0m\u001b[0;34m\u001b[0m\u001b[0m\n\u001b[0;32m---> 65\u001b[0;31m                       strides=None if strides is None else tuple(strides))\n\u001b[0m\u001b[1;32m     66\u001b[0m \u001b[0;34m\u001b[0m\u001b[0m\n",
            "\u001b[0;32m/usr/local/lib/python3.7/dist-packages/jax/core.py\u001b[0m in \u001b[0;36mbind\u001b[0;34m(self, *args, **params)\u001b[0m\n\u001b[1;32m    324\u001b[0m             all(isinstance(arg, Tracer) or valid_jaxtype(arg) for arg in args)), args\n\u001b[0;32m--> 325\u001b[0;31m     \u001b[0;32mreturn\u001b[0m \u001b[0mself\u001b[0m\u001b[0;34m.\u001b[0m\u001b[0mbind_with_trace\u001b[0m\u001b[0;34m(\u001b[0m\u001b[0mfind_top_trace\u001b[0m\u001b[0;34m(\u001b[0m\u001b[0margs\u001b[0m\u001b[0;34m)\u001b[0m\u001b[0;34m,\u001b[0m \u001b[0margs\u001b[0m\u001b[0;34m,\u001b[0m \u001b[0mparams\u001b[0m\u001b[0;34m)\u001b[0m\u001b[0;34m\u001b[0m\u001b[0;34m\u001b[0m\u001b[0m\n\u001b[0m\u001b[1;32m    326\u001b[0m \u001b[0;34m\u001b[0m\u001b[0m\n",
            "\u001b[0;32m/usr/local/lib/python3.7/dist-packages/jax/core.py\u001b[0m in \u001b[0;36mbind_with_trace\u001b[0;34m(self, trace, args, params)\u001b[0m\n\u001b[1;32m    327\u001b[0m   \u001b[0;32mdef\u001b[0m \u001b[0mbind_with_trace\u001b[0m\u001b[0;34m(\u001b[0m\u001b[0mself\u001b[0m\u001b[0;34m,\u001b[0m \u001b[0mtrace\u001b[0m\u001b[0;34m,\u001b[0m \u001b[0margs\u001b[0m\u001b[0;34m,\u001b[0m \u001b[0mparams\u001b[0m\u001b[0;34m)\u001b[0m\u001b[0;34m:\u001b[0m\u001b[0;34m\u001b[0m\u001b[0;34m\u001b[0m\u001b[0m\n\u001b[0;32m--> 328\u001b[0;31m     \u001b[0mout\u001b[0m \u001b[0;34m=\u001b[0m \u001b[0mtrace\u001b[0m\u001b[0;34m.\u001b[0m\u001b[0mprocess_primitive\u001b[0m\u001b[0;34m(\u001b[0m\u001b[0mself\u001b[0m\u001b[0;34m,\u001b[0m \u001b[0mmap\u001b[0m\u001b[0;34m(\u001b[0m\u001b[0mtrace\u001b[0m\u001b[0;34m.\u001b[0m\u001b[0mfull_raise\u001b[0m\u001b[0;34m,\u001b[0m \u001b[0margs\u001b[0m\u001b[0;34m)\u001b[0m\u001b[0;34m,\u001b[0m \u001b[0mparams\u001b[0m\u001b[0;34m)\u001b[0m\u001b[0;34m\u001b[0m\u001b[0;34m\u001b[0m\u001b[0m\n\u001b[0m\u001b[1;32m    329\u001b[0m     \u001b[0;32mreturn\u001b[0m \u001b[0mmap\u001b[0m\u001b[0;34m(\u001b[0m\u001b[0mfull_lower\u001b[0m\u001b[0;34m,\u001b[0m \u001b[0mout\u001b[0m\u001b[0;34m)\u001b[0m \u001b[0;32mif\u001b[0m \u001b[0mself\u001b[0m\u001b[0;34m.\u001b[0m\u001b[0mmultiple_results\u001b[0m \u001b[0;32melse\u001b[0m \u001b[0mfull_lower\u001b[0m\u001b[0;34m(\u001b[0m\u001b[0mout\u001b[0m\u001b[0;34m)\u001b[0m\u001b[0;34m\u001b[0m\u001b[0;34m\u001b[0m\u001b[0m\n",
            "\u001b[0;32m/usr/local/lib/python3.7/dist-packages/jax/interpreters/ad.py\u001b[0m in \u001b[0;36mprocess_primitive\u001b[0;34m(self, primitive, tracers, params)\u001b[0m\n\u001b[1;32m    307\u001b[0m       \u001b[0;32mraise\u001b[0m \u001b[0mNotImplementedError\u001b[0m\u001b[0;34m(\u001b[0m\u001b[0mmsg\u001b[0m\u001b[0;34m)\u001b[0m\u001b[0;34m\u001b[0m\u001b[0;34m\u001b[0m\u001b[0m\n\u001b[0;32m--> 308\u001b[0;31m     \u001b[0mprimal_out\u001b[0m\u001b[0;34m,\u001b[0m \u001b[0mtangent_out\u001b[0m \u001b[0;34m=\u001b[0m \u001b[0mjvp\u001b[0m\u001b[0;34m(\u001b[0m\u001b[0mprimals_in\u001b[0m\u001b[0;34m,\u001b[0m \u001b[0mtangents_in\u001b[0m\u001b[0;34m,\u001b[0m \u001b[0;34m**\u001b[0m\u001b[0mparams\u001b[0m\u001b[0;34m)\u001b[0m\u001b[0;34m\u001b[0m\u001b[0;34m\u001b[0m\u001b[0m\n\u001b[0m\u001b[1;32m    309\u001b[0m     \u001b[0;32mif\u001b[0m \u001b[0mprimitive\u001b[0m\u001b[0;34m.\u001b[0m\u001b[0mmultiple_results\u001b[0m\u001b[0;34m:\u001b[0m\u001b[0;34m\u001b[0m\u001b[0;34m\u001b[0m\u001b[0m\n",
            "\u001b[0;32m/usr/local/lib/python3.7/dist-packages/jax/interpreters/ad.py\u001b[0m in \u001b[0;36mlinear_jvp\u001b[0;34m(primitive, primals, tangents, **params)\u001b[0m\n\u001b[1;32m    489\u001b[0m \u001b[0;32mdef\u001b[0m \u001b[0mlinear_jvp\u001b[0m\u001b[0;34m(\u001b[0m\u001b[0mprimitive\u001b[0m\u001b[0;34m,\u001b[0m \u001b[0mprimals\u001b[0m\u001b[0;34m,\u001b[0m \u001b[0mtangents\u001b[0m\u001b[0;34m,\u001b[0m \u001b[0;34m**\u001b[0m\u001b[0mparams\u001b[0m\u001b[0;34m)\u001b[0m\u001b[0;34m:\u001b[0m\u001b[0;34m\u001b[0m\u001b[0;34m\u001b[0m\u001b[0m\n\u001b[0;32m--> 490\u001b[0;31m   \u001b[0mval_out\u001b[0m \u001b[0;34m=\u001b[0m \u001b[0mprimitive\u001b[0m\u001b[0;34m.\u001b[0m\u001b[0mbind\u001b[0m\u001b[0;34m(\u001b[0m\u001b[0;34m*\u001b[0m\u001b[0mprimals\u001b[0m\u001b[0;34m,\u001b[0m \u001b[0;34m**\u001b[0m\u001b[0mparams\u001b[0m\u001b[0;34m)\u001b[0m\u001b[0;34m\u001b[0m\u001b[0;34m\u001b[0m\u001b[0m\n\u001b[0m\u001b[1;32m    491\u001b[0m   \u001b[0;32mif\u001b[0m \u001b[0mall\u001b[0m\u001b[0;34m(\u001b[0m\u001b[0mtype\u001b[0m\u001b[0;34m(\u001b[0m\u001b[0mtangent\u001b[0m\u001b[0;34m)\u001b[0m \u001b[0;32mis\u001b[0m \u001b[0mZero\u001b[0m \u001b[0;32mfor\u001b[0m \u001b[0mtangent\u001b[0m \u001b[0;32min\u001b[0m \u001b[0mtangents\u001b[0m\u001b[0;34m)\u001b[0m\u001b[0;34m:\u001b[0m\u001b[0;34m\u001b[0m\u001b[0;34m\u001b[0m\u001b[0m\n",
            "\u001b[0;32m/usr/local/lib/python3.7/dist-packages/jax/core.py\u001b[0m in \u001b[0;36mbind\u001b[0;34m(self, *args, **params)\u001b[0m\n\u001b[1;32m    324\u001b[0m             all(isinstance(arg, Tracer) or valid_jaxtype(arg) for arg in args)), args\n\u001b[0;32m--> 325\u001b[0;31m     \u001b[0;32mreturn\u001b[0m \u001b[0mself\u001b[0m\u001b[0;34m.\u001b[0m\u001b[0mbind_with_trace\u001b[0m\u001b[0;34m(\u001b[0m\u001b[0mfind_top_trace\u001b[0m\u001b[0;34m(\u001b[0m\u001b[0margs\u001b[0m\u001b[0;34m)\u001b[0m\u001b[0;34m,\u001b[0m \u001b[0margs\u001b[0m\u001b[0;34m,\u001b[0m \u001b[0mparams\u001b[0m\u001b[0;34m)\u001b[0m\u001b[0;34m\u001b[0m\u001b[0;34m\u001b[0m\u001b[0m\n\u001b[0m\u001b[1;32m    326\u001b[0m \u001b[0;34m\u001b[0m\u001b[0m\n",
            "\u001b[0;32m/usr/local/lib/python3.7/dist-packages/jax/core.py\u001b[0m in \u001b[0;36mbind_with_trace\u001b[0;34m(self, trace, args, params)\u001b[0m\n\u001b[1;32m    327\u001b[0m   \u001b[0;32mdef\u001b[0m \u001b[0mbind_with_trace\u001b[0m\u001b[0;34m(\u001b[0m\u001b[0mself\u001b[0m\u001b[0;34m,\u001b[0m \u001b[0mtrace\u001b[0m\u001b[0;34m,\u001b[0m \u001b[0margs\u001b[0m\u001b[0;34m,\u001b[0m \u001b[0mparams\u001b[0m\u001b[0;34m)\u001b[0m\u001b[0;34m:\u001b[0m\u001b[0;34m\u001b[0m\u001b[0;34m\u001b[0m\u001b[0m\n\u001b[0;32m--> 328\u001b[0;31m     \u001b[0mout\u001b[0m \u001b[0;34m=\u001b[0m \u001b[0mtrace\u001b[0m\u001b[0;34m.\u001b[0m\u001b[0mprocess_primitive\u001b[0m\u001b[0;34m(\u001b[0m\u001b[0mself\u001b[0m\u001b[0;34m,\u001b[0m \u001b[0mmap\u001b[0m\u001b[0;34m(\u001b[0m\u001b[0mtrace\u001b[0m\u001b[0;34m.\u001b[0m\u001b[0mfull_raise\u001b[0m\u001b[0;34m,\u001b[0m \u001b[0margs\u001b[0m\u001b[0;34m)\u001b[0m\u001b[0;34m,\u001b[0m \u001b[0mparams\u001b[0m\u001b[0;34m)\u001b[0m\u001b[0;34m\u001b[0m\u001b[0;34m\u001b[0m\u001b[0m\n\u001b[0m\u001b[1;32m    329\u001b[0m     \u001b[0;32mreturn\u001b[0m \u001b[0mmap\u001b[0m\u001b[0;34m(\u001b[0m\u001b[0mfull_lower\u001b[0m\u001b[0;34m,\u001b[0m \u001b[0mout\u001b[0m\u001b[0;34m)\u001b[0m \u001b[0;32mif\u001b[0m \u001b[0mself\u001b[0m\u001b[0;34m.\u001b[0m\u001b[0mmultiple_results\u001b[0m \u001b[0;32melse\u001b[0m \u001b[0mfull_lower\u001b[0m\u001b[0;34m(\u001b[0m\u001b[0mout\u001b[0m\u001b[0;34m)\u001b[0m\u001b[0;34m\u001b[0m\u001b[0;34m\u001b[0m\u001b[0m\n",
            "\u001b[0;32m/usr/local/lib/python3.7/dist-packages/jax/core.py\u001b[0m in \u001b[0;36mprocess_primitive\u001b[0;34m(self, primitive, tracers, params)\u001b[0m\n\u001b[1;32m    685\u001b[0m   \u001b[0;32mdef\u001b[0m \u001b[0mprocess_primitive\u001b[0m\u001b[0;34m(\u001b[0m\u001b[0mself\u001b[0m\u001b[0;34m,\u001b[0m \u001b[0mprimitive\u001b[0m\u001b[0;34m,\u001b[0m \u001b[0mtracers\u001b[0m\u001b[0;34m,\u001b[0m \u001b[0mparams\u001b[0m\u001b[0;34m)\u001b[0m\u001b[0;34m:\u001b[0m\u001b[0;34m\u001b[0m\u001b[0;34m\u001b[0m\u001b[0m\n\u001b[0;32m--> 686\u001b[0;31m     \u001b[0;32mreturn\u001b[0m \u001b[0mprimitive\u001b[0m\u001b[0;34m.\u001b[0m\u001b[0mimpl\u001b[0m\u001b[0;34m(\u001b[0m\u001b[0;34m*\u001b[0m\u001b[0mtracers\u001b[0m\u001b[0;34m,\u001b[0m \u001b[0;34m**\u001b[0m\u001b[0mparams\u001b[0m\u001b[0;34m)\u001b[0m\u001b[0;34m\u001b[0m\u001b[0;34m\u001b[0m\u001b[0m\n\u001b[0m\u001b[1;32m    687\u001b[0m \u001b[0;34m\u001b[0m\u001b[0m\n",
            "\u001b[0;32m/usr/local/lib/python3.7/dist-packages/jax/_src/dispatch.py\u001b[0m in \u001b[0;36mapply_primitive\u001b[0;34m(prim, *args, **params)\u001b[0m\n\u001b[1;32m    111\u001b[0m   compiled_fun = xla_primitive_callable(prim, *unsafe_map(arg_spec, args),\n\u001b[0;32m--> 112\u001b[0;31m                                         **params)\n\u001b[0m\u001b[1;32m    113\u001b[0m   \u001b[0;32mreturn\u001b[0m \u001b[0mcompiled_fun\u001b[0m\u001b[0;34m(\u001b[0m\u001b[0;34m*\u001b[0m\u001b[0margs\u001b[0m\u001b[0;34m)\u001b[0m\u001b[0;34m\u001b[0m\u001b[0;34m\u001b[0m\u001b[0m\n",
            "\u001b[0;32m/usr/local/lib/python3.7/dist-packages/jax/_src/util.py\u001b[0m in \u001b[0;36mwrapper\u001b[0;34m(*args, **kwargs)\u001b[0m\n\u001b[1;32m    221\u001b[0m       \u001b[0;32melse\u001b[0m\u001b[0;34m:\u001b[0m\u001b[0;34m\u001b[0m\u001b[0;34m\u001b[0m\u001b[0m\n\u001b[0;32m--> 222\u001b[0;31m         \u001b[0;32mreturn\u001b[0m \u001b[0mcached\u001b[0m\u001b[0;34m(\u001b[0m\u001b[0mconfig\u001b[0m\u001b[0;34m.\u001b[0m\u001b[0m_trace_context\u001b[0m\u001b[0;34m(\u001b[0m\u001b[0;34m)\u001b[0m\u001b[0;34m,\u001b[0m \u001b[0;34m*\u001b[0m\u001b[0margs\u001b[0m\u001b[0;34m,\u001b[0m \u001b[0;34m**\u001b[0m\u001b[0mkwargs\u001b[0m\u001b[0;34m)\u001b[0m\u001b[0;34m\u001b[0m\u001b[0;34m\u001b[0m\u001b[0m\n\u001b[0m\u001b[1;32m    223\u001b[0m \u001b[0;34m\u001b[0m\u001b[0m\n",
            "\u001b[0;32m/usr/local/lib/python3.7/dist-packages/jax/_src/util.py\u001b[0m in \u001b[0;36mcached\u001b[0;34m(_, *args, **kwargs)\u001b[0m\n\u001b[1;32m    214\u001b[0m     \u001b[0;32mdef\u001b[0m \u001b[0mcached\u001b[0m\u001b[0;34m(\u001b[0m\u001b[0m_\u001b[0m\u001b[0;34m,\u001b[0m \u001b[0;34m*\u001b[0m\u001b[0margs\u001b[0m\u001b[0;34m,\u001b[0m \u001b[0;34m**\u001b[0m\u001b[0mkwargs\u001b[0m\u001b[0;34m)\u001b[0m\u001b[0;34m:\u001b[0m\u001b[0;34m\u001b[0m\u001b[0;34m\u001b[0m\u001b[0m\n\u001b[0;32m--> 215\u001b[0;31m       \u001b[0;32mreturn\u001b[0m \u001b[0mf\u001b[0m\u001b[0;34m(\u001b[0m\u001b[0;34m*\u001b[0m\u001b[0margs\u001b[0m\u001b[0;34m,\u001b[0m \u001b[0;34m**\u001b[0m\u001b[0mkwargs\u001b[0m\u001b[0;34m)\u001b[0m\u001b[0;34m\u001b[0m\u001b[0;34m\u001b[0m\u001b[0m\n\u001b[0m\u001b[1;32m    216\u001b[0m \u001b[0;34m\u001b[0m\u001b[0m\n",
            "\u001b[0;32m/usr/local/lib/python3.7/dist-packages/jax/_src/dispatch.py\u001b[0m in \u001b[0;36mxla_primitive_callable\u001b[0;34m(prim, *arg_specs, **params)\u001b[0m\n\u001b[1;32m    195\u001b[0m   compiled = _xla_callable_uncached(lu.wrap_init(prim_fun), device, None,\n\u001b[0;32m--> 196\u001b[0;31m                                     prim.name, donated_invars, False, *arg_specs)\n\u001b[0m\u001b[1;32m    197\u001b[0m   \u001b[0;32mif\u001b[0m \u001b[0;32mnot\u001b[0m \u001b[0mprim\u001b[0m\u001b[0;34m.\u001b[0m\u001b[0mmultiple_results\u001b[0m\u001b[0;34m:\u001b[0m\u001b[0;34m\u001b[0m\u001b[0;34m\u001b[0m\u001b[0m\n",
            "\u001b[0;32m/usr/local/lib/python3.7/dist-packages/jax/_src/dispatch.py\u001b[0m in \u001b[0;36m_xla_callable_uncached\u001b[0;34m(fun, device, backend, name, donated_invars, keep_unused, *arg_specs)\u001b[0m\n\u001b[1;32m    324\u001b[0m     return lower_xla_callable(fun, device, backend, name, donated_invars, False,\n\u001b[0;32m--> 325\u001b[0;31m                               keep_unused, *arg_specs).compile().unsafe_call\n\u001b[0m\u001b[1;32m    326\u001b[0m \u001b[0;34m\u001b[0m\u001b[0m\n",
            "\u001b[0;32m/usr/local/lib/python3.7/dist-packages/jax/_src/profiler.py\u001b[0m in \u001b[0;36mwrapper\u001b[0;34m(*args, **kwargs)\u001b[0m\n\u001b[1;32m    312\u001b[0m     \u001b[0;32mwith\u001b[0m \u001b[0mTraceAnnotation\u001b[0m\u001b[0;34m(\u001b[0m\u001b[0mname\u001b[0m\u001b[0;34m,\u001b[0m \u001b[0;34m**\u001b[0m\u001b[0mdecorator_kwargs\u001b[0m\u001b[0;34m)\u001b[0m\u001b[0;34m:\u001b[0m\u001b[0;34m\u001b[0m\u001b[0;34m\u001b[0m\u001b[0m\n\u001b[0;32m--> 313\u001b[0;31m       \u001b[0;32mreturn\u001b[0m \u001b[0mfunc\u001b[0m\u001b[0;34m(\u001b[0m\u001b[0;34m*\u001b[0m\u001b[0margs\u001b[0m\u001b[0;34m,\u001b[0m \u001b[0;34m**\u001b[0m\u001b[0mkwargs\u001b[0m\u001b[0;34m)\u001b[0m\u001b[0;34m\u001b[0m\u001b[0;34m\u001b[0m\u001b[0m\n\u001b[0m\u001b[1;32m    314\u001b[0m     \u001b[0;32mreturn\u001b[0m \u001b[0mwrapper\u001b[0m\u001b[0;34m\u001b[0m\u001b[0;34m\u001b[0m\u001b[0m\n",
            "\u001b[0;32m/usr/local/lib/python3.7/dist-packages/jax/_src/dispatch.py\u001b[0m in \u001b[0;36mlower_xla_callable\u001b[0;34m(fun, device, backend, name, donated_invars, always_lower, keep_unused, *arg_specs)\u001b[0m\n\u001b[1;32m    400\u001b[0m     jaxpr, out_type, consts = pe.trace_to_jaxpr_final2(\n\u001b[0;32m--> 401\u001b[0;31m         fun, pe.debug_info_final(fun, \"jit\"))\n\u001b[0m\u001b[1;32m    402\u001b[0m   \u001b[0mout_avals\u001b[0m\u001b[0;34m,\u001b[0m \u001b[0mkept_outputs\u001b[0m \u001b[0;34m=\u001b[0m \u001b[0mutil\u001b[0m\u001b[0;34m.\u001b[0m\u001b[0munzip2\u001b[0m\u001b[0;34m(\u001b[0m\u001b[0mout_type\u001b[0m\u001b[0;34m)\u001b[0m\u001b[0;34m\u001b[0m\u001b[0;34m\u001b[0m\u001b[0m\n",
            "\u001b[0;32m/usr/local/lib/python3.7/dist-packages/jax/_src/profiler.py\u001b[0m in \u001b[0;36mwrapper\u001b[0;34m(*args, **kwargs)\u001b[0m\n\u001b[1;32m    312\u001b[0m     \u001b[0;32mwith\u001b[0m \u001b[0mTraceAnnotation\u001b[0m\u001b[0;34m(\u001b[0m\u001b[0mname\u001b[0m\u001b[0;34m,\u001b[0m \u001b[0;34m**\u001b[0m\u001b[0mdecorator_kwargs\u001b[0m\u001b[0;34m)\u001b[0m\u001b[0;34m:\u001b[0m\u001b[0;34m\u001b[0m\u001b[0;34m\u001b[0m\u001b[0m\n\u001b[0;32m--> 313\u001b[0;31m       \u001b[0;32mreturn\u001b[0m \u001b[0mfunc\u001b[0m\u001b[0;34m(\u001b[0m\u001b[0;34m*\u001b[0m\u001b[0margs\u001b[0m\u001b[0;34m,\u001b[0m \u001b[0;34m**\u001b[0m\u001b[0mkwargs\u001b[0m\u001b[0;34m)\u001b[0m\u001b[0;34m\u001b[0m\u001b[0;34m\u001b[0m\u001b[0m\n\u001b[0m\u001b[1;32m    314\u001b[0m     \u001b[0;32mreturn\u001b[0m \u001b[0mwrapper\u001b[0m\u001b[0;34m\u001b[0m\u001b[0;34m\u001b[0m\u001b[0m\n",
            "\u001b[0;32m/usr/local/lib/python3.7/dist-packages/jax/interpreters/partial_eval.py\u001b[0m in \u001b[0;36mtrace_to_jaxpr_final2\u001b[0;34m(fun, debug_info)\u001b[0m\n\u001b[1;32m   2024\u001b[0m     \u001b[0;32mwith\u001b[0m \u001b[0mcore\u001b[0m\u001b[0;34m.\u001b[0m\u001b[0mnew_sublevel\u001b[0m\u001b[0;34m(\u001b[0m\u001b[0;34m)\u001b[0m\u001b[0;34m:\u001b[0m\u001b[0;34m\u001b[0m\u001b[0;34m\u001b[0m\u001b[0m\n\u001b[0;32m-> 2025\u001b[0;31m       \u001b[0mjaxpr\u001b[0m\u001b[0;34m,\u001b[0m \u001b[0mout_type\u001b[0m\u001b[0;34m,\u001b[0m \u001b[0mconsts\u001b[0m \u001b[0;34m=\u001b[0m \u001b[0mtrace_to_subjaxpr_dynamic2\u001b[0m\u001b[0;34m(\u001b[0m\u001b[0mfun\u001b[0m\u001b[0;34m,\u001b[0m \u001b[0mmain\u001b[0m\u001b[0;34m,\u001b[0m \u001b[0mdebug_info\u001b[0m\u001b[0;34m)\u001b[0m\u001b[0;34m\u001b[0m\u001b[0;34m\u001b[0m\u001b[0m\n\u001b[0m\u001b[1;32m   2026\u001b[0m     \u001b[0;32mdel\u001b[0m \u001b[0mfun\u001b[0m\u001b[0;34m,\u001b[0m \u001b[0mmain\u001b[0m\u001b[0;34m\u001b[0m\u001b[0;34m\u001b[0m\u001b[0m\n",
            "\u001b[0;32m/usr/local/lib/python3.7/dist-packages/jax/interpreters/partial_eval.py\u001b[0m in \u001b[0;36mtrace_to_subjaxpr_dynamic2\u001b[0;34m(fun, main, debug_info)\u001b[0m\n\u001b[1;32m   1974\u001b[0m     \u001b[0min_tracers_\u001b[0m \u001b[0;34m=\u001b[0m \u001b[0;34m[\u001b[0m\u001b[0mt\u001b[0m \u001b[0;32mfor\u001b[0m \u001b[0mt\u001b[0m\u001b[0;34m,\u001b[0m \u001b[0mkeep\u001b[0m \u001b[0;32min\u001b[0m \u001b[0mzip\u001b[0m\u001b[0;34m(\u001b[0m\u001b[0min_tracers\u001b[0m\u001b[0;34m,\u001b[0m \u001b[0mkeep_inputs\u001b[0m\u001b[0;34m)\u001b[0m \u001b[0;32mif\u001b[0m \u001b[0mkeep\u001b[0m\u001b[0;34m]\u001b[0m\u001b[0;34m\u001b[0m\u001b[0;34m\u001b[0m\u001b[0m\n\u001b[0;32m-> 1975\u001b[0;31m     \u001b[0mans\u001b[0m \u001b[0;34m=\u001b[0m \u001b[0mfun\u001b[0m\u001b[0;34m.\u001b[0m\u001b[0mcall_wrapped\u001b[0m\u001b[0;34m(\u001b[0m\u001b[0;34m*\u001b[0m\u001b[0min_tracers_\u001b[0m\u001b[0;34m)\u001b[0m\u001b[0;34m\u001b[0m\u001b[0;34m\u001b[0m\u001b[0m\n\u001b[0m\u001b[1;32m   1976\u001b[0m     \u001b[0mout_tracers\u001b[0m \u001b[0;34m=\u001b[0m \u001b[0mmap\u001b[0m\u001b[0;34m(\u001b[0m\u001b[0mtrace\u001b[0m\u001b[0;34m.\u001b[0m\u001b[0mfull_raise\u001b[0m\u001b[0;34m,\u001b[0m \u001b[0mans\u001b[0m\u001b[0;34m)\u001b[0m\u001b[0;34m\u001b[0m\u001b[0;34m\u001b[0m\u001b[0m\n",
            "\u001b[0;32m/usr/local/lib/python3.7/dist-packages/jax/linear_util.py\u001b[0m in \u001b[0;36mcall_wrapped\u001b[0;34m(self, *args, **kwargs)\u001b[0m\n\u001b[1;32m    167\u001b[0m     \u001b[0;32mtry\u001b[0m\u001b[0;34m:\u001b[0m\u001b[0;34m\u001b[0m\u001b[0;34m\u001b[0m\u001b[0m\n\u001b[0;32m--> 168\u001b[0;31m       \u001b[0mans\u001b[0m \u001b[0;34m=\u001b[0m \u001b[0mself\u001b[0m\u001b[0;34m.\u001b[0m\u001b[0mf\u001b[0m\u001b[0;34m(\u001b[0m\u001b[0;34m*\u001b[0m\u001b[0margs\u001b[0m\u001b[0;34m,\u001b[0m \u001b[0;34m**\u001b[0m\u001b[0mdict\u001b[0m\u001b[0;34m(\u001b[0m\u001b[0mself\u001b[0m\u001b[0;34m.\u001b[0m\u001b[0mparams\u001b[0m\u001b[0;34m,\u001b[0m \u001b[0;34m**\u001b[0m\u001b[0mkwargs\u001b[0m\u001b[0;34m)\u001b[0m\u001b[0;34m)\u001b[0m\u001b[0;34m\u001b[0m\u001b[0;34m\u001b[0m\u001b[0m\n\u001b[0m\u001b[1;32m    169\u001b[0m     \u001b[0;32mexcept\u001b[0m\u001b[0;34m:\u001b[0m\u001b[0;34m\u001b[0m\u001b[0;34m\u001b[0m\u001b[0m\n",
            "\u001b[0;32m/usr/local/lib/python3.7/dist-packages/jax/_src/dispatch.py\u001b[0m in \u001b[0;36mprim_fun\u001b[0;34m(*args)\u001b[0m\n\u001b[1;32m    189\u001b[0m   \u001b[0;32mdef\u001b[0m \u001b[0mprim_fun\u001b[0m\u001b[0;34m(\u001b[0m\u001b[0;34m*\u001b[0m\u001b[0margs\u001b[0m\u001b[0;34m)\u001b[0m\u001b[0;34m:\u001b[0m\u001b[0;34m\u001b[0m\u001b[0;34m\u001b[0m\u001b[0m\n\u001b[0;32m--> 190\u001b[0;31m     \u001b[0mout\u001b[0m \u001b[0;34m=\u001b[0m \u001b[0mprim\u001b[0m\u001b[0;34m.\u001b[0m\u001b[0mbind\u001b[0m\u001b[0;34m(\u001b[0m\u001b[0;34m*\u001b[0m\u001b[0margs\u001b[0m\u001b[0;34m,\u001b[0m \u001b[0;34m**\u001b[0m\u001b[0mparams\u001b[0m\u001b[0;34m)\u001b[0m\u001b[0;34m\u001b[0m\u001b[0;34m\u001b[0m\u001b[0m\n\u001b[0m\u001b[1;32m    191\u001b[0m     \u001b[0;32mif\u001b[0m \u001b[0mprim\u001b[0m\u001b[0;34m.\u001b[0m\u001b[0mmultiple_results\u001b[0m\u001b[0;34m:\u001b[0m\u001b[0;34m\u001b[0m\u001b[0;34m\u001b[0m\u001b[0m\n",
            "\u001b[0;32m/usr/local/lib/python3.7/dist-packages/jax/core.py\u001b[0m in \u001b[0;36mbind\u001b[0;34m(self, *args, **params)\u001b[0m\n\u001b[1;32m    324\u001b[0m             all(isinstance(arg, Tracer) or valid_jaxtype(arg) for arg in args)), args\n\u001b[0;32m--> 325\u001b[0;31m     \u001b[0;32mreturn\u001b[0m \u001b[0mself\u001b[0m\u001b[0;34m.\u001b[0m\u001b[0mbind_with_trace\u001b[0m\u001b[0;34m(\u001b[0m\u001b[0mfind_top_trace\u001b[0m\u001b[0;34m(\u001b[0m\u001b[0margs\u001b[0m\u001b[0;34m)\u001b[0m\u001b[0;34m,\u001b[0m \u001b[0margs\u001b[0m\u001b[0;34m,\u001b[0m \u001b[0mparams\u001b[0m\u001b[0;34m)\u001b[0m\u001b[0;34m\u001b[0m\u001b[0;34m\u001b[0m\u001b[0m\n\u001b[0m\u001b[1;32m    326\u001b[0m \u001b[0;34m\u001b[0m\u001b[0m\n",
            "\u001b[0;32m/usr/local/lib/python3.7/dist-packages/jax/core.py\u001b[0m in \u001b[0;36mbind_with_trace\u001b[0;34m(self, trace, args, params)\u001b[0m\n\u001b[1;32m    327\u001b[0m   \u001b[0;32mdef\u001b[0m \u001b[0mbind_with_trace\u001b[0m\u001b[0;34m(\u001b[0m\u001b[0mself\u001b[0m\u001b[0;34m,\u001b[0m \u001b[0mtrace\u001b[0m\u001b[0;34m,\u001b[0m \u001b[0margs\u001b[0m\u001b[0;34m,\u001b[0m \u001b[0mparams\u001b[0m\u001b[0;34m)\u001b[0m\u001b[0;34m:\u001b[0m\u001b[0;34m\u001b[0m\u001b[0;34m\u001b[0m\u001b[0m\n\u001b[0;32m--> 328\u001b[0;31m     \u001b[0mout\u001b[0m \u001b[0;34m=\u001b[0m \u001b[0mtrace\u001b[0m\u001b[0;34m.\u001b[0m\u001b[0mprocess_primitive\u001b[0m\u001b[0;34m(\u001b[0m\u001b[0mself\u001b[0m\u001b[0;34m,\u001b[0m \u001b[0mmap\u001b[0m\u001b[0;34m(\u001b[0m\u001b[0mtrace\u001b[0m\u001b[0;34m.\u001b[0m\u001b[0mfull_raise\u001b[0m\u001b[0;34m,\u001b[0m \u001b[0margs\u001b[0m\u001b[0;34m)\u001b[0m\u001b[0;34m,\u001b[0m \u001b[0mparams\u001b[0m\u001b[0;34m)\u001b[0m\u001b[0;34m\u001b[0m\u001b[0;34m\u001b[0m\u001b[0m\n\u001b[0m\u001b[1;32m    329\u001b[0m     \u001b[0;32mreturn\u001b[0m \u001b[0mmap\u001b[0m\u001b[0;34m(\u001b[0m\u001b[0mfull_lower\u001b[0m\u001b[0;34m,\u001b[0m \u001b[0mout\u001b[0m\u001b[0;34m)\u001b[0m \u001b[0;32mif\u001b[0m \u001b[0mself\u001b[0m\u001b[0;34m.\u001b[0m\u001b[0mmultiple_results\u001b[0m \u001b[0;32melse\u001b[0m \u001b[0mfull_lower\u001b[0m\u001b[0;34m(\u001b[0m\u001b[0mout\u001b[0m\u001b[0;34m)\u001b[0m\u001b[0;34m\u001b[0m\u001b[0;34m\u001b[0m\u001b[0m\n",
            "\u001b[0;32m/usr/local/lib/python3.7/dist-packages/jax/interpreters/partial_eval.py\u001b[0m in \u001b[0;36mprocess_primitive\u001b[0;34m(self, primitive, tracers, params)\u001b[0m\n\u001b[1;32m   1657\u001b[0m       \u001b[0;32mreturn\u001b[0m \u001b[0mcustom_staging_rules\u001b[0m\u001b[0;34m[\u001b[0m\u001b[0mprimitive\u001b[0m\u001b[0;34m]\u001b[0m\u001b[0;34m(\u001b[0m\u001b[0mself\u001b[0m\u001b[0;34m,\u001b[0m \u001b[0;34m*\u001b[0m\u001b[0mtracers\u001b[0m\u001b[0;34m,\u001b[0m \u001b[0;34m**\u001b[0m\u001b[0mparams\u001b[0m\u001b[0;34m)\u001b[0m\u001b[0;34m\u001b[0m\u001b[0;34m\u001b[0m\u001b[0m\n\u001b[0;32m-> 1658\u001b[0;31m     \u001b[0;32mreturn\u001b[0m \u001b[0mself\u001b[0m\u001b[0;34m.\u001b[0m\u001b[0mdefault_process_primitive\u001b[0m\u001b[0;34m(\u001b[0m\u001b[0mprimitive\u001b[0m\u001b[0;34m,\u001b[0m \u001b[0mtracers\u001b[0m\u001b[0;34m,\u001b[0m \u001b[0mparams\u001b[0m\u001b[0;34m)\u001b[0m\u001b[0;34m\u001b[0m\u001b[0;34m\u001b[0m\u001b[0m\n\u001b[0m\u001b[1;32m   1659\u001b[0m \u001b[0;34m\u001b[0m\u001b[0m\n",
            "\u001b[0;32m/usr/local/lib/python3.7/dist-packages/jax/interpreters/partial_eval.py\u001b[0m in \u001b[0;36mdefault_process_primitive\u001b[0;34m(self, primitive, tracers, params)\u001b[0m\n\u001b[1;32m   1661\u001b[0m     \u001b[0mavals\u001b[0m \u001b[0;34m=\u001b[0m \u001b[0;34m[\u001b[0m\u001b[0mt\u001b[0m\u001b[0;34m.\u001b[0m\u001b[0maval\u001b[0m \u001b[0;32mfor\u001b[0m \u001b[0mt\u001b[0m \u001b[0;32min\u001b[0m \u001b[0mtracers\u001b[0m\u001b[0;34m]\u001b[0m\u001b[0;34m\u001b[0m\u001b[0;34m\u001b[0m\u001b[0m\n\u001b[0;32m-> 1662\u001b[0;31m     \u001b[0mout_avals\u001b[0m\u001b[0;34m,\u001b[0m \u001b[0meffects\u001b[0m \u001b[0;34m=\u001b[0m \u001b[0mprimitive\u001b[0m\u001b[0;34m.\u001b[0m\u001b[0mabstract_eval\u001b[0m\u001b[0;34m(\u001b[0m\u001b[0;34m*\u001b[0m\u001b[0mavals\u001b[0m\u001b[0;34m,\u001b[0m \u001b[0;34m**\u001b[0m\u001b[0mparams\u001b[0m\u001b[0;34m)\u001b[0m\u001b[0;34m\u001b[0m\u001b[0;34m\u001b[0m\u001b[0m\n\u001b[0m\u001b[1;32m   1663\u001b[0m     \u001b[0mout_avals\u001b[0m \u001b[0;34m=\u001b[0m \u001b[0;34m[\u001b[0m\u001b[0mout_avals\u001b[0m\u001b[0;34m]\u001b[0m \u001b[0;32mif\u001b[0m \u001b[0;32mnot\u001b[0m \u001b[0mprimitive\u001b[0m\u001b[0;34m.\u001b[0m\u001b[0mmultiple_results\u001b[0m \u001b[0;32melse\u001b[0m \u001b[0mout_avals\u001b[0m\u001b[0;34m\u001b[0m\u001b[0;34m\u001b[0m\u001b[0m\n",
            "\u001b[0;32m/usr/local/lib/python3.7/dist-packages/jax/core.py\u001b[0m in \u001b[0;36mabstract_eval_\u001b[0;34m(*args, **kwargs)\u001b[0m\n\u001b[1;32m    360\u001b[0m   \u001b[0;32mdef\u001b[0m \u001b[0mabstract_eval_\u001b[0m\u001b[0;34m(\u001b[0m\u001b[0;34m*\u001b[0m\u001b[0margs\u001b[0m\u001b[0;34m,\u001b[0m \u001b[0;34m**\u001b[0m\u001b[0mkwargs\u001b[0m\u001b[0;34m)\u001b[0m\u001b[0;34m:\u001b[0m\u001b[0;34m\u001b[0m\u001b[0;34m\u001b[0m\u001b[0m\n\u001b[0;32m--> 361\u001b[0;31m     \u001b[0;32mreturn\u001b[0m \u001b[0mabstract_eval\u001b[0m\u001b[0;34m(\u001b[0m\u001b[0;34m*\u001b[0m\u001b[0margs\u001b[0m\u001b[0;34m,\u001b[0m \u001b[0;34m**\u001b[0m\u001b[0mkwargs\u001b[0m\u001b[0;34m)\u001b[0m\u001b[0;34m,\u001b[0m \u001b[0mno_effects\u001b[0m\u001b[0;34m\u001b[0m\u001b[0;34m\u001b[0m\u001b[0m\n\u001b[0m\u001b[1;32m    362\u001b[0m   \u001b[0;32mreturn\u001b[0m \u001b[0mabstract_eval_\u001b[0m\u001b[0;34m\u001b[0m\u001b[0;34m\u001b[0m\u001b[0m\n",
            "\u001b[0;32m/usr/local/lib/python3.7/dist-packages/jax/_src/lax/utils.py\u001b[0m in \u001b[0;36mstandard_abstract_eval\u001b[0;34m(prim, shape_rule, dtype_rule, weak_type_rule, named_shape_rule, *avals, **kwargs)\u001b[0m\n\u001b[1;32m     65\u001b[0m   \u001b[0;32melif\u001b[0m \u001b[0mleast_specialized\u001b[0m \u001b[0;32mis\u001b[0m \u001b[0mcore\u001b[0m\u001b[0;34m.\u001b[0m\u001b[0mShapedArray\u001b[0m\u001b[0;34m:\u001b[0m\u001b[0;34m\u001b[0m\u001b[0;34m\u001b[0m\u001b[0m\n\u001b[0;32m---> 66\u001b[0;31m     return core.ShapedArray(shape_rule(*avals, **kwargs),\n\u001b[0m\u001b[1;32m     67\u001b[0m                             \u001b[0mdtype_rule\u001b[0m\u001b[0;34m(\u001b[0m\u001b[0;34m*\u001b[0m\u001b[0mavals\u001b[0m\u001b[0;34m,\u001b[0m \u001b[0;34m**\u001b[0m\u001b[0mkwargs\u001b[0m\u001b[0;34m)\u001b[0m\u001b[0;34m,\u001b[0m \u001b[0mweak_type\u001b[0m\u001b[0;34m=\u001b[0m\u001b[0mweak_type\u001b[0m\u001b[0;34m,\u001b[0m\u001b[0;34m\u001b[0m\u001b[0;34m\u001b[0m\u001b[0m\n",
            "\u001b[0;32m/usr/local/lib/python3.7/dist-packages/jax/_src/lax/slicing.py\u001b[0m in \u001b[0;36m_slice_shape_rule\u001b[0;34m(operand, start_indices, limit_indices, strides)\u001b[0m\n\u001b[1;32m    735\u001b[0m            \"got limit_indices {} for operand shape {}.\")\n\u001b[0;32m--> 736\u001b[0;31m     \u001b[0;32mraise\u001b[0m \u001b[0mTypeError\u001b[0m\u001b[0;34m(\u001b[0m\u001b[0mmsg\u001b[0m\u001b[0;34m.\u001b[0m\u001b[0mformat\u001b[0m\u001b[0;34m(\u001b[0m\u001b[0mlimit_indices\u001b[0m\u001b[0;34m,\u001b[0m \u001b[0moperand\u001b[0m\u001b[0;34m.\u001b[0m\u001b[0mshape\u001b[0m\u001b[0;34m)\u001b[0m\u001b[0;34m)\u001b[0m\u001b[0;34m\u001b[0m\u001b[0;34m\u001b[0m\u001b[0m\n\u001b[0m\u001b[1;32m    737\u001b[0m   \u001b[0;32mif\u001b[0m \u001b[0;32mnot\u001b[0m \u001b[0mall\u001b[0m\u001b[0;34m(\u001b[0m\u001b[0mcore\u001b[0m\u001b[0;34m.\u001b[0m\u001b[0mgreater_equal_dim\u001b[0m\u001b[0;34m(\u001b[0m\u001b[0msi\u001b[0m\u001b[0;34m,\u001b[0m \u001b[0;36m0\u001b[0m\u001b[0;34m)\u001b[0m \u001b[0;32mfor\u001b[0m \u001b[0msi\u001b[0m \u001b[0;32min\u001b[0m \u001b[0mstart_indices\u001b[0m\u001b[0;34m)\u001b[0m\u001b[0;34m:\u001b[0m\u001b[0;34m\u001b[0m\u001b[0;34m\u001b[0m\u001b[0m\n",
            "\u001b[0;31mUnfilteredStackTrace\u001b[0m: TypeError: slice limit_indices must be less than or equal to operand shape, got limit_indices (6,) for operand shape (3,).\n\nThe stack trace below excludes JAX-internal frames.\nThe preceding is the original exception that occurred, unmodified.\n\n--------------------",
            "\nThe above exception was the direct cause of the following exception:\n",
            "\u001b[0;31mTypeError\u001b[0m                                 Traceback (most recent call last)",
            "\u001b[0;32m<ipython-input-236-7c9515335e69>\u001b[0m in \u001b[0;36m<module>\u001b[0;34m\u001b[0m\n\u001b[1;32m     12\u001b[0m     \u001b[0memission_cov_function\u001b[0m \u001b[0;34m=\u001b[0m \u001b[0;32mlambda\u001b[0m \u001b[0mw\u001b[0m\u001b[0;34m,\u001b[0m \u001b[0mx\u001b[0m\u001b[0;34m:\u001b[0m \u001b[0msigmoid_fn\u001b[0m\u001b[0;34m(\u001b[0m\u001b[0mw\u001b[0m\u001b[0;34m,\u001b[0m \u001b[0mx\u001b[0m\u001b[0;34m)\u001b[0m \u001b[0;34m*\u001b[0m \u001b[0;34m(\u001b[0m\u001b[0;36m1\u001b[0m \u001b[0;34m-\u001b[0m \u001b[0msigmoid_fn\u001b[0m\u001b[0;34m(\u001b[0m\u001b[0mw\u001b[0m\u001b[0;34m,\u001b[0m \u001b[0mx\u001b[0m\u001b[0;34m)\u001b[0m\u001b[0;34m)\u001b[0m\u001b[0;34m\u001b[0m\u001b[0;34m\u001b[0m\u001b[0m\n\u001b[1;32m     13\u001b[0m )\n\u001b[0;32m---> 14\u001b[0;31m \u001b[0mcmgf_ekf_post\u001b[0m \u001b[0;34m=\u001b[0m \u001b[0mdecoupled_conditional_moments_gaussian_filter\u001b[0m\u001b[0;34m(\u001b[0m\u001b[0mcmgf_ekf_params\u001b[0m\u001b[0;34m,\u001b[0m \u001b[0mdecouple_fn\u001b[0m\u001b[0;34m,\u001b[0m \u001b[0mdecouple_cov_fn\u001b[0m\u001b[0;34m,\u001b[0m \u001b[0mrecouple_fn\u001b[0m\u001b[0;34m,\u001b[0m \u001b[0moutput\u001b[0m\u001b[0;34m,\u001b[0m \u001b[0minputs\u001b[0m\u001b[0;34m=\u001b[0m\u001b[0minput\u001b[0m\u001b[0;34m)\u001b[0m\u001b[0;34m\u001b[0m\u001b[0;34m\u001b[0m\u001b[0m\n\u001b[0m\u001b[1;32m     15\u001b[0m \u001b[0;34m\u001b[0m\u001b[0m\n\u001b[1;32m     16\u001b[0m \u001b[0;31m# Extract history of filtered weight values\u001b[0m\u001b[0;34m\u001b[0m\u001b[0;34m\u001b[0m\u001b[0;34m\u001b[0m\u001b[0m\n",
            "\u001b[0;32m<ipython-input-231-f5534bbb3d5a>\u001b[0m in \u001b[0;36mdecoupled_conditional_moments_gaussian_filter\u001b[0;34m(params, decouple_fn, decouple_cov_fn, recouple_fn, emissions, num_iter, inputs)\u001b[0m\n\u001b[1;32m    246\u001b[0m     \u001b[0;31m# Run the general linearization filter\u001b[0m\u001b[0;34m\u001b[0m\u001b[0;34m\u001b[0m\u001b[0;34m\u001b[0m\u001b[0m\n\u001b[1;32m    247\u001b[0m     \u001b[0mcarry\u001b[0m \u001b[0;34m=\u001b[0m \u001b[0;34m(\u001b[0m\u001b[0;36m0.0\u001b[0m\u001b[0;34m,\u001b[0m \u001b[0mparams\u001b[0m\u001b[0;34m.\u001b[0m\u001b[0minitial_mean\u001b[0m\u001b[0;34m,\u001b[0m \u001b[0mparams\u001b[0m\u001b[0;34m.\u001b[0m\u001b[0minitial_covariance\u001b[0m\u001b[0;34m)\u001b[0m\u001b[0;34m\u001b[0m\u001b[0;34m\u001b[0m\u001b[0m\n\u001b[0;32m--> 248\u001b[0;31m     \u001b[0;34m(\u001b[0m\u001b[0mll\u001b[0m\u001b[0;34m,\u001b[0m \u001b[0m_\u001b[0m\u001b[0;34m,\u001b[0m \u001b[0m_\u001b[0m\u001b[0;34m)\u001b[0m\u001b[0;34m,\u001b[0m \u001b[0;34m(\u001b[0m\u001b[0mfiltered_means\u001b[0m\u001b[0;34m,\u001b[0m \u001b[0mfiltered_covs\u001b[0m\u001b[0;34m)\u001b[0m \u001b[0;34m=\u001b[0m \u001b[0mlax\u001b[0m\u001b[0;34m.\u001b[0m\u001b[0mscan\u001b[0m\u001b[0;34m(\u001b[0m\u001b[0m_step\u001b[0m\u001b[0;34m,\u001b[0m \u001b[0mcarry\u001b[0m\u001b[0;34m,\u001b[0m \u001b[0mjnp\u001b[0m\u001b[0;34m.\u001b[0m\u001b[0marange\u001b[0m\u001b[0;34m(\u001b[0m\u001b[0mnum_timesteps\u001b[0m\u001b[0;34m)\u001b[0m\u001b[0;34m)\u001b[0m\u001b[0;34m\u001b[0m\u001b[0;34m\u001b[0m\u001b[0m\n\u001b[0m\u001b[1;32m    249\u001b[0m     \u001b[0;32mreturn\u001b[0m \u001b[0mGSSMPosterior\u001b[0m\u001b[0;34m(\u001b[0m\u001b[0mmarginal_loglik\u001b[0m\u001b[0;34m=\u001b[0m\u001b[0mll\u001b[0m\u001b[0;34m,\u001b[0m \u001b[0mfiltered_means\u001b[0m\u001b[0;34m=\u001b[0m\u001b[0mfiltered_means\u001b[0m\u001b[0;34m,\u001b[0m \u001b[0mfiltered_covariances\u001b[0m\u001b[0;34m=\u001b[0m\u001b[0mfiltered_covs\u001b[0m\u001b[0;34m)\u001b[0m\u001b[0;34m\u001b[0m\u001b[0;34m\u001b[0m\u001b[0m\n\u001b[1;32m    250\u001b[0m \u001b[0;34m\u001b[0m\u001b[0m\n",
            "\u001b[0;32m<ipython-input-231-f5534bbb3d5a>\u001b[0m in \u001b[0;36m_step\u001b[0;34m(carry, t)\u001b[0m\n\u001b[1;32m    236\u001b[0m         \u001b[0;31m# Condition on the emission\u001b[0m\u001b[0;34m\u001b[0m\u001b[0;34m\u001b[0m\u001b[0;34m\u001b[0m\u001b[0m\n\u001b[1;32m    237\u001b[0m         log_likelihood, filtered_mean, filtered_cov = _decoupled_condition_on(pred_mean, pred_cov, decouple_fn, decouple_cov_fn,\n\u001b[0;32m--> 238\u001b[0;31m                                                                               recouple_fn, m_Y, Cov_Y, u, y, g_ev, g_cov, num_iter)\n\u001b[0m\u001b[1;32m    239\u001b[0m         \u001b[0mll\u001b[0m \u001b[0;34m+=\u001b[0m \u001b[0mlog_likelihood\u001b[0m\u001b[0;34m\u001b[0m\u001b[0;34m\u001b[0m\u001b[0m\n\u001b[1;32m    240\u001b[0m \u001b[0;34m\u001b[0m\u001b[0m\n",
            "\u001b[0;32m<ipython-input-231-f5534bbb3d5a>\u001b[0m in \u001b[0;36m_decoupled_condition_on\u001b[0;34m(m, P, decouple_fn, decouple_cov_fn, recouple_fn, y_cond_mean, y_cond_cov, u, y, g_ev, g_cov, num_iter)\u001b[0m\n\u001b[1;32m    131\u001b[0m     \u001b[0;31m# Iterate re-linearization over posterior mean and covariance\u001b[0m\u001b[0;34m\u001b[0m\u001b[0;34m\u001b[0m\u001b[0;34m\u001b[0m\u001b[0m\n\u001b[1;32m    132\u001b[0m     \u001b[0mcarry\u001b[0m \u001b[0;34m=\u001b[0m \u001b[0;34m(\u001b[0m\u001b[0mm\u001b[0m\u001b[0;34m,\u001b[0m \u001b[0mP\u001b[0m\u001b[0;34m)\u001b[0m\u001b[0;34m\u001b[0m\u001b[0;34m\u001b[0m\u001b[0m\n\u001b[0;32m--> 133\u001b[0;31m     \u001b[0;34m(\u001b[0m\u001b[0mmu_cond\u001b[0m\u001b[0;34m,\u001b[0m \u001b[0mSigma_cond\u001b[0m\u001b[0;34m)\u001b[0m\u001b[0;34m,\u001b[0m \u001b[0mlls\u001b[0m \u001b[0;34m=\u001b[0m \u001b[0mlax\u001b[0m\u001b[0;34m.\u001b[0m\u001b[0mscan\u001b[0m\u001b[0;34m(\u001b[0m\u001b[0m_step\u001b[0m\u001b[0;34m,\u001b[0m \u001b[0mcarry\u001b[0m\u001b[0;34m,\u001b[0m \u001b[0mjnp\u001b[0m\u001b[0;34m.\u001b[0m\u001b[0marange\u001b[0m\u001b[0;34m(\u001b[0m\u001b[0mnum_iter\u001b[0m\u001b[0;34m)\u001b[0m\u001b[0;34m)\u001b[0m\u001b[0;34m\u001b[0m\u001b[0;34m\u001b[0m\u001b[0m\n\u001b[0m\u001b[1;32m    134\u001b[0m     \u001b[0;32mreturn\u001b[0m \u001b[0mlls\u001b[0m\u001b[0;34m[\u001b[0m\u001b[0;36m0\u001b[0m\u001b[0;34m]\u001b[0m\u001b[0;34m,\u001b[0m \u001b[0mmu_cond\u001b[0m\u001b[0;34m,\u001b[0m \u001b[0mSigma_cond\u001b[0m\u001b[0;34m\u001b[0m\u001b[0;34m\u001b[0m\u001b[0m\n\u001b[1;32m    135\u001b[0m \u001b[0;34m\u001b[0m\u001b[0m\n",
            "\u001b[0;32m<ipython-input-231-f5534bbb3d5a>\u001b[0m in \u001b[0;36m_step\u001b[0;34m(carry, _)\u001b[0m\n\u001b[1;32m    118\u001b[0m \u001b[0;34m\u001b[0m\u001b[0m\n\u001b[1;32m    119\u001b[0m         \u001b[0myhat\u001b[0m \u001b[0;34m=\u001b[0m \u001b[0mg_ev\u001b[0m\u001b[0;34m(\u001b[0m\u001b[0mm_Y\u001b[0m\u001b[0;34m,\u001b[0m \u001b[0mprior_mean\u001b[0m\u001b[0;34m,\u001b[0m \u001b[0mprior_cov\u001b[0m\u001b[0;34m)\u001b[0m\u001b[0;34m\u001b[0m\u001b[0;34m\u001b[0m\u001b[0m\n\u001b[0;32m--> 120\u001b[0;31m         \u001b[0mprint\u001b[0m\u001b[0;34m(\u001b[0m\u001b[0;34m[\u001b[0m\u001b[0mg_cov\u001b[0m\u001b[0;34m(\u001b[0m\u001b[0mm_Y\u001b[0m\u001b[0;34m,\u001b[0m \u001b[0mm_Y\u001b[0m\u001b[0;34m,\u001b[0m \u001b[0mprior_means\u001b[0m\u001b[0;34m[\u001b[0m\u001b[0mi\u001b[0m\u001b[0;34m]\u001b[0m\u001b[0;34m,\u001b[0m \u001b[0mprior_covs\u001b[0m\u001b[0;34m[\u001b[0m\u001b[0mi\u001b[0m\u001b[0;34m]\u001b[0m\u001b[0;34m)\u001b[0m \u001b[0;32mfor\u001b[0m \u001b[0mi\u001b[0m\u001b[0;34m,\u001b[0m \u001b[0m_\u001b[0m \u001b[0;32min\u001b[0m \u001b[0menumerate\u001b[0m\u001b[0;34m(\u001b[0m\u001b[0mprior_means\u001b[0m\u001b[0;34m)\u001b[0m\u001b[0;34m]\u001b[0m\u001b[0;34m)\u001b[0m\u001b[0;34m\u001b[0m\u001b[0;34m\u001b[0m\u001b[0m\n\u001b[0m\u001b[1;32m    121\u001b[0m         \u001b[0mS\u001b[0m \u001b[0;34m=\u001b[0m \u001b[0mg_ev\u001b[0m\u001b[0;34m(\u001b[0m\u001b[0mCov_Y\u001b[0m\u001b[0;34m,\u001b[0m \u001b[0mprior_mean\u001b[0m\u001b[0;34m,\u001b[0m \u001b[0mprior_cov\u001b[0m\u001b[0;34m)\u001b[0m \u001b[0;34m+\u001b[0m \u001b[0mvmap\u001b[0m\u001b[0;34m(\u001b[0m\u001b[0mg_cov\u001b[0m\u001b[0;34m,\u001b[0m \u001b[0;34m(\u001b[0m\u001b[0;32mNone\u001b[0m\u001b[0;34m,\u001b[0m \u001b[0;32mNone\u001b[0m\u001b[0;34m,\u001b[0m \u001b[0;36m0\u001b[0m\u001b[0;34m,\u001b[0m \u001b[0;36m0\u001b[0m\u001b[0;34m)\u001b[0m\u001b[0;34m)\u001b[0m\u001b[0;34m(\u001b[0m\u001b[0mm_Y\u001b[0m\u001b[0;34m,\u001b[0m \u001b[0mm_Y\u001b[0m\u001b[0;34m,\u001b[0m \u001b[0mprior_means\u001b[0m\u001b[0;34m,\u001b[0m \u001b[0mprior_covs\u001b[0m\u001b[0;34m)\u001b[0m\u001b[0;34m.\u001b[0m\u001b[0msum\u001b[0m\u001b[0;34m(\u001b[0m\u001b[0;34m)\u001b[0m\u001b[0;34m\u001b[0m\u001b[0;34m\u001b[0m\u001b[0m\n\u001b[1;32m    122\u001b[0m         \u001b[0mlog_likelihood\u001b[0m \u001b[0;34m=\u001b[0m \u001b[0mMVN\u001b[0m\u001b[0;34m(\u001b[0m\u001b[0myhat\u001b[0m\u001b[0;34m,\u001b[0m \u001b[0mS\u001b[0m\u001b[0;34m)\u001b[0m\u001b[0;34m.\u001b[0m\u001b[0mlog_prob\u001b[0m\u001b[0;34m(\u001b[0m\u001b[0mjnp\u001b[0m\u001b[0;34m.\u001b[0m\u001b[0matleast_1d\u001b[0m\u001b[0;34m(\u001b[0m\u001b[0my\u001b[0m\u001b[0;34m)\u001b[0m\u001b[0;34m)\u001b[0m\u001b[0;34m\u001b[0m\u001b[0;34m\u001b[0m\u001b[0m\n",
            "\u001b[0;32m<ipython-input-231-f5534bbb3d5a>\u001b[0m in \u001b[0;36m<listcomp>\u001b[0;34m(.0)\u001b[0m\n\u001b[1;32m    118\u001b[0m \u001b[0;34m\u001b[0m\u001b[0m\n\u001b[1;32m    119\u001b[0m         \u001b[0myhat\u001b[0m \u001b[0;34m=\u001b[0m \u001b[0mg_ev\u001b[0m\u001b[0;34m(\u001b[0m\u001b[0mm_Y\u001b[0m\u001b[0;34m,\u001b[0m \u001b[0mprior_mean\u001b[0m\u001b[0;34m,\u001b[0m \u001b[0mprior_cov\u001b[0m\u001b[0;34m)\u001b[0m\u001b[0;34m\u001b[0m\u001b[0;34m\u001b[0m\u001b[0m\n\u001b[0;32m--> 120\u001b[0;31m         \u001b[0mprint\u001b[0m\u001b[0;34m(\u001b[0m\u001b[0;34m[\u001b[0m\u001b[0mg_cov\u001b[0m\u001b[0;34m(\u001b[0m\u001b[0mm_Y\u001b[0m\u001b[0;34m,\u001b[0m \u001b[0mm_Y\u001b[0m\u001b[0;34m,\u001b[0m \u001b[0mprior_means\u001b[0m\u001b[0;34m[\u001b[0m\u001b[0mi\u001b[0m\u001b[0;34m]\u001b[0m\u001b[0;34m,\u001b[0m \u001b[0mprior_covs\u001b[0m\u001b[0;34m[\u001b[0m\u001b[0mi\u001b[0m\u001b[0;34m]\u001b[0m\u001b[0;34m)\u001b[0m \u001b[0;32mfor\u001b[0m \u001b[0mi\u001b[0m\u001b[0;34m,\u001b[0m \u001b[0m_\u001b[0m \u001b[0;32min\u001b[0m \u001b[0menumerate\u001b[0m\u001b[0;34m(\u001b[0m\u001b[0mprior_means\u001b[0m\u001b[0;34m)\u001b[0m\u001b[0;34m]\u001b[0m\u001b[0;34m)\u001b[0m\u001b[0;34m\u001b[0m\u001b[0;34m\u001b[0m\u001b[0m\n\u001b[0m\u001b[1;32m    121\u001b[0m         \u001b[0mS\u001b[0m \u001b[0;34m=\u001b[0m \u001b[0mg_ev\u001b[0m\u001b[0;34m(\u001b[0m\u001b[0mCov_Y\u001b[0m\u001b[0;34m,\u001b[0m \u001b[0mprior_mean\u001b[0m\u001b[0;34m,\u001b[0m \u001b[0mprior_cov\u001b[0m\u001b[0;34m)\u001b[0m \u001b[0;34m+\u001b[0m \u001b[0mvmap\u001b[0m\u001b[0;34m(\u001b[0m\u001b[0mg_cov\u001b[0m\u001b[0;34m,\u001b[0m \u001b[0;34m(\u001b[0m\u001b[0;32mNone\u001b[0m\u001b[0;34m,\u001b[0m \u001b[0;32mNone\u001b[0m\u001b[0;34m,\u001b[0m \u001b[0;36m0\u001b[0m\u001b[0;34m,\u001b[0m \u001b[0;36m0\u001b[0m\u001b[0;34m)\u001b[0m\u001b[0;34m)\u001b[0m\u001b[0;34m(\u001b[0m\u001b[0mm_Y\u001b[0m\u001b[0;34m,\u001b[0m \u001b[0mm_Y\u001b[0m\u001b[0;34m,\u001b[0m \u001b[0mprior_means\u001b[0m\u001b[0;34m,\u001b[0m \u001b[0mprior_covs\u001b[0m\u001b[0;34m)\u001b[0m\u001b[0;34m.\u001b[0m\u001b[0msum\u001b[0m\u001b[0;34m(\u001b[0m\u001b[0;34m)\u001b[0m\u001b[0;34m\u001b[0m\u001b[0;34m\u001b[0m\u001b[0m\n\u001b[1;32m    122\u001b[0m         \u001b[0mlog_likelihood\u001b[0m \u001b[0;34m=\u001b[0m \u001b[0mMVN\u001b[0m\u001b[0;34m(\u001b[0m\u001b[0myhat\u001b[0m\u001b[0;34m,\u001b[0m \u001b[0mS\u001b[0m\u001b[0;34m)\u001b[0m\u001b[0;34m.\u001b[0m\u001b[0mlog_prob\u001b[0m\u001b[0;34m(\u001b[0m\u001b[0mjnp\u001b[0m\u001b[0;34m.\u001b[0m\u001b[0matleast_1d\u001b[0m\u001b[0;34m(\u001b[0m\u001b[0my\u001b[0m\u001b[0;34m)\u001b[0m\u001b[0;34m)\u001b[0m\u001b[0;34m\u001b[0m\u001b[0;34m\u001b[0m\u001b[0m\n",
            "\u001b[0;32m/usr/local/lib/python3.7/dist-packages/ssm_jax/cond_moments_gaussian_filter/containers.py\u001b[0m in \u001b[0;36m<lambda>\u001b[0;34m(f, g, m, P)\u001b[0m\n\u001b[1;32m     32\u001b[0m     \"\"\"\n\u001b[1;32m     33\u001b[0m     \u001b[0mgaussian_expectation\u001b[0m\u001b[0;34m:\u001b[0m \u001b[0mCallable\u001b[0m \u001b[0;34m=\u001b[0m \u001b[0;32mlambda\u001b[0m \u001b[0mf\u001b[0m\u001b[0;34m,\u001b[0m \u001b[0mm\u001b[0m\u001b[0;34m,\u001b[0m \u001b[0mP\u001b[0m\u001b[0;34m:\u001b[0m \u001b[0mjnp\u001b[0m\u001b[0;34m.\u001b[0m\u001b[0matleast_1d\u001b[0m\u001b[0;34m(\u001b[0m\u001b[0mf\u001b[0m\u001b[0;34m(\u001b[0m\u001b[0mm\u001b[0m\u001b[0;34m)\u001b[0m\u001b[0;34m)\u001b[0m\u001b[0;34m\u001b[0m\u001b[0;34m\u001b[0m\u001b[0m\n\u001b[0;32m---> 34\u001b[0;31m     \u001b[0mgaussian_cross_covariance\u001b[0m\u001b[0;34m:\u001b[0m \u001b[0mCallable\u001b[0m \u001b[0;34m=\u001b[0m \u001b[0;32mlambda\u001b[0m \u001b[0mf\u001b[0m\u001b[0;34m,\u001b[0m \u001b[0mg\u001b[0m\u001b[0;34m,\u001b[0m \u001b[0mm\u001b[0m\u001b[0;34m,\u001b[0m \u001b[0mP\u001b[0m\u001b[0;34m:\u001b[0m \u001b[0m_jacfwd_2d\u001b[0m\u001b[0;34m(\u001b[0m\u001b[0mf\u001b[0m\u001b[0;34m,\u001b[0m \u001b[0mm\u001b[0m\u001b[0;34m)\u001b[0m \u001b[0;34m@\u001b[0m \u001b[0mP\u001b[0m \u001b[0;34m@\u001b[0m \u001b[0m_jacfwd_2d\u001b[0m\u001b[0;34m(\u001b[0m\u001b[0mg\u001b[0m\u001b[0;34m,\u001b[0m \u001b[0mm\u001b[0m\u001b[0;34m)\u001b[0m\u001b[0;34m.\u001b[0m\u001b[0mT\u001b[0m\u001b[0;34m\u001b[0m\u001b[0;34m\u001b[0m\u001b[0m\n\u001b[0m\u001b[1;32m     35\u001b[0m \u001b[0;34m\u001b[0m\u001b[0m\n\u001b[1;32m     36\u001b[0m \u001b[0;34m\u001b[0m\u001b[0m\n",
            "\u001b[0;32m/usr/local/lib/python3.7/dist-packages/ssm_jax/cond_moments_gaussian_filter/containers.py\u001b[0m in \u001b[0;36m<lambda>\u001b[0;34m(f, x)\u001b[0m\n\u001b[1;32m     10\u001b[0m \u001b[0;34m\u001b[0m\u001b[0m\n\u001b[1;32m     11\u001b[0m \u001b[0;34m\u001b[0m\u001b[0m\n\u001b[0;32m---> 12\u001b[0;31m \u001b[0m_jacfwd_2d\u001b[0m \u001b[0;34m=\u001b[0m \u001b[0;32mlambda\u001b[0m \u001b[0mf\u001b[0m\u001b[0;34m,\u001b[0m \u001b[0mx\u001b[0m\u001b[0;34m:\u001b[0m \u001b[0mjnp\u001b[0m\u001b[0;34m.\u001b[0m\u001b[0matleast_2d\u001b[0m\u001b[0;34m(\u001b[0m\u001b[0mjacfwd\u001b[0m\u001b[0;34m(\u001b[0m\u001b[0mf\u001b[0m\u001b[0;34m)\u001b[0m\u001b[0;34m(\u001b[0m\u001b[0mx\u001b[0m\u001b[0;34m)\u001b[0m\u001b[0;34m)\u001b[0m\u001b[0;34m\u001b[0m\u001b[0;34m\u001b[0m\u001b[0m\n\u001b[0m\u001b[1;32m     13\u001b[0m \u001b[0;34m\u001b[0m\u001b[0m\n\u001b[1;32m     14\u001b[0m \u001b[0;34m@\u001b[0m\u001b[0mchex\u001b[0m\u001b[0;34m.\u001b[0m\u001b[0mdataclass\u001b[0m\u001b[0;34m\u001b[0m\u001b[0;34m\u001b[0m\u001b[0m\n",
            "\u001b[0;32m<ipython-input-231-f5534bbb3d5a>\u001b[0m in \u001b[0;36m<lambda>\u001b[0;34m(x)\u001b[0m\n\u001b[1;32m    108\u001b[0m \u001b[0;34m\u001b[0m\u001b[0m\n\u001b[1;32m    109\u001b[0m \u001b[0;32mdef\u001b[0m \u001b[0m_decoupled_condition_on\u001b[0m\u001b[0;34m(\u001b[0m\u001b[0mm\u001b[0m\u001b[0;34m,\u001b[0m \u001b[0mP\u001b[0m\u001b[0;34m,\u001b[0m \u001b[0mdecouple_fn\u001b[0m\u001b[0;34m,\u001b[0m \u001b[0mdecouple_cov_fn\u001b[0m\u001b[0;34m,\u001b[0m \u001b[0mrecouple_fn\u001b[0m\u001b[0;34m,\u001b[0m \u001b[0my_cond_mean\u001b[0m\u001b[0;34m,\u001b[0m \u001b[0my_cond_cov\u001b[0m\u001b[0;34m,\u001b[0m \u001b[0mu\u001b[0m\u001b[0;34m,\u001b[0m \u001b[0my\u001b[0m\u001b[0;34m,\u001b[0m \u001b[0mg_ev\u001b[0m\u001b[0;34m,\u001b[0m \u001b[0mg_cov\u001b[0m\u001b[0;34m,\u001b[0m \u001b[0mnum_iter\u001b[0m\u001b[0;34m)\u001b[0m\u001b[0;34m:\u001b[0m\u001b[0;34m\u001b[0m\u001b[0;34m\u001b[0m\u001b[0m\n\u001b[0;32m--> 110\u001b[0;31m     \u001b[0mm_Y\u001b[0m \u001b[0;34m=\u001b[0m \u001b[0;32mlambda\u001b[0m \u001b[0mx\u001b[0m\u001b[0;34m:\u001b[0m \u001b[0my_cond_mean\u001b[0m\u001b[0;34m(\u001b[0m\u001b[0mx\u001b[0m\u001b[0;34m,\u001b[0m \u001b[0mu\u001b[0m\u001b[0;34m)\u001b[0m\u001b[0;34m\u001b[0m\u001b[0;34m\u001b[0m\u001b[0m\n\u001b[0m\u001b[1;32m    111\u001b[0m     \u001b[0mCov_Y\u001b[0m \u001b[0;34m=\u001b[0m \u001b[0;32mlambda\u001b[0m \u001b[0mx\u001b[0m\u001b[0;34m:\u001b[0m \u001b[0my_cond_cov\u001b[0m\u001b[0;34m(\u001b[0m\u001b[0mx\u001b[0m\u001b[0;34m,\u001b[0m \u001b[0mu\u001b[0m\u001b[0;34m)\u001b[0m\u001b[0;34m\u001b[0m\u001b[0;34m\u001b[0m\u001b[0m\n\u001b[1;32m    112\u001b[0m     \u001b[0midentity_fn\u001b[0m \u001b[0;34m=\u001b[0m \u001b[0;32mlambda\u001b[0m \u001b[0mx\u001b[0m\u001b[0;34m:\u001b[0m \u001b[0mx\u001b[0m\u001b[0;34m\u001b[0m\u001b[0;34m\u001b[0m\u001b[0m\n",
            "\u001b[0;32m<ipython-input-236-7c9515335e69>\u001b[0m in \u001b[0;36m<lambda>\u001b[0;34m(w, x)\u001b[0m\n\u001b[1;32m      9\u001b[0m     \u001b[0mdynamics_function\u001b[0m\u001b[0;34m=\u001b[0m\u001b[0;32mlambda\u001b[0m \u001b[0mw\u001b[0m\u001b[0;34m,\u001b[0m \u001b[0mx\u001b[0m\u001b[0;34m:\u001b[0m \u001b[0mw\u001b[0m\u001b[0;34m,\u001b[0m\u001b[0;34m\u001b[0m\u001b[0;34m\u001b[0m\u001b[0m\n\u001b[1;32m     10\u001b[0m     \u001b[0mdynamics_covariance\u001b[0m\u001b[0;34m=\u001b[0m\u001b[0mjnp\u001b[0m\u001b[0;34m.\u001b[0m\u001b[0meye\u001b[0m\u001b[0;34m(\u001b[0m\u001b[0mstate_dim\u001b[0m\u001b[0;34m)\u001b[0m \u001b[0;34m*\u001b[0m \u001b[0;36m1e-4\u001b[0m\u001b[0;34m,\u001b[0m\u001b[0;34m\u001b[0m\u001b[0;34m\u001b[0m\u001b[0m\n\u001b[0;32m---> 11\u001b[0;31m     \u001b[0memission_mean_function\u001b[0m \u001b[0;34m=\u001b[0m \u001b[0;32mlambda\u001b[0m \u001b[0mw\u001b[0m\u001b[0;34m,\u001b[0m \u001b[0mx\u001b[0m\u001b[0;34m:\u001b[0m \u001b[0msigmoid_fn\u001b[0m\u001b[0;34m(\u001b[0m\u001b[0mw\u001b[0m\u001b[0;34m,\u001b[0m \u001b[0mx\u001b[0m\u001b[0;34m)\u001b[0m\u001b[0;34m,\u001b[0m\u001b[0;34m\u001b[0m\u001b[0;34m\u001b[0m\u001b[0m\n\u001b[0m\u001b[1;32m     12\u001b[0m     \u001b[0memission_cov_function\u001b[0m \u001b[0;34m=\u001b[0m \u001b[0;32mlambda\u001b[0m \u001b[0mw\u001b[0m\u001b[0;34m,\u001b[0m \u001b[0mx\u001b[0m\u001b[0;34m:\u001b[0m \u001b[0msigmoid_fn\u001b[0m\u001b[0;34m(\u001b[0m\u001b[0mw\u001b[0m\u001b[0;34m,\u001b[0m \u001b[0mx\u001b[0m\u001b[0;34m)\u001b[0m \u001b[0;34m*\u001b[0m \u001b[0;34m(\u001b[0m\u001b[0;36m1\u001b[0m \u001b[0;34m-\u001b[0m \u001b[0msigmoid_fn\u001b[0m\u001b[0;34m(\u001b[0m\u001b[0mw\u001b[0m\u001b[0;34m,\u001b[0m \u001b[0mx\u001b[0m\u001b[0;34m)\u001b[0m\u001b[0;34m)\u001b[0m\u001b[0;34m\u001b[0m\u001b[0;34m\u001b[0m\u001b[0m\n\u001b[1;32m     13\u001b[0m )\n",
            "\u001b[0;32m<ipython-input-236-7c9515335e69>\u001b[0m in \u001b[0;36m<lambda>\u001b[0;34m(w, x)\u001b[0m\n\u001b[1;32m      1\u001b[0m \u001b[0;31m# Some model parameters and helper funciton\u001b[0m\u001b[0;34m\u001b[0m\u001b[0;34m\u001b[0m\u001b[0;34m\u001b[0m\u001b[0m\n\u001b[1;32m      2\u001b[0m \u001b[0mstate_dim\u001b[0m\u001b[0;34m,\u001b[0m \u001b[0memission_dim\u001b[0m \u001b[0;34m=\u001b[0m \u001b[0mflat_params\u001b[0m\u001b[0;34m.\u001b[0m\u001b[0msize\u001b[0m\u001b[0;34m,\u001b[0m \u001b[0moutput_dim\u001b[0m\u001b[0;34m\u001b[0m\u001b[0;34m\u001b[0m\u001b[0m\n\u001b[0;32m----> 3\u001b[0;31m \u001b[0msigmoid_fn\u001b[0m \u001b[0;34m=\u001b[0m \u001b[0;32mlambda\u001b[0m \u001b[0mw\u001b[0m\u001b[0;34m,\u001b[0m \u001b[0mx\u001b[0m\u001b[0;34m:\u001b[0m \u001b[0mjax\u001b[0m\u001b[0;34m.\u001b[0m\u001b[0mnn\u001b[0m\u001b[0;34m.\u001b[0m\u001b[0msigmoid\u001b[0m\u001b[0;34m(\u001b[0m\u001b[0mapply_fn\u001b[0m\u001b[0;34m(\u001b[0m\u001b[0mw\u001b[0m\u001b[0;34m,\u001b[0m \u001b[0mx\u001b[0m\u001b[0;34m)\u001b[0m\u001b[0;34m)\u001b[0m\u001b[0;34m\u001b[0m\u001b[0;34m\u001b[0m\u001b[0m\n\u001b[0m\u001b[1;32m      4\u001b[0m \u001b[0;34m\u001b[0m\u001b[0m\n\u001b[1;32m      5\u001b[0m \u001b[0;31m# Run CMGF-EKF to train the MLP Classifier\u001b[0m\u001b[0;34m\u001b[0m\u001b[0;34m\u001b[0m\u001b[0;34m\u001b[0m\u001b[0m\n",
            "\u001b[0;32m<ipython-input-211-fe7a51bcf093>\u001b[0m in \u001b[0;36mapply\u001b[0;34m(flat_params, x, model, unflatten_fn)\u001b[0m\n\u001b[1;32m     14\u001b[0m     \u001b[0;31m# Define apply function\u001b[0m\u001b[0;34m\u001b[0m\u001b[0;34m\u001b[0m\u001b[0;34m\u001b[0m\u001b[0m\n\u001b[1;32m     15\u001b[0m     \u001b[0;32mdef\u001b[0m \u001b[0mapply\u001b[0m\u001b[0;34m(\u001b[0m\u001b[0mflat_params\u001b[0m\u001b[0;34m,\u001b[0m \u001b[0mx\u001b[0m\u001b[0;34m,\u001b[0m \u001b[0mmodel\u001b[0m\u001b[0;34m,\u001b[0m \u001b[0munflatten_fn\u001b[0m\u001b[0;34m)\u001b[0m\u001b[0;34m:\u001b[0m\u001b[0;34m\u001b[0m\u001b[0;34m\u001b[0m\u001b[0m\n\u001b[0;32m---> 16\u001b[0;31m         \u001b[0;32mreturn\u001b[0m \u001b[0mmodel\u001b[0m\u001b[0;34m.\u001b[0m\u001b[0mapply\u001b[0m\u001b[0;34m(\u001b[0m\u001b[0munflatten_fn\u001b[0m\u001b[0;34m(\u001b[0m\u001b[0mflat_params\u001b[0m\u001b[0;34m)\u001b[0m\u001b[0;34m,\u001b[0m \u001b[0mjnp\u001b[0m\u001b[0;34m.\u001b[0m\u001b[0matleast_1d\u001b[0m\u001b[0;34m(\u001b[0m\u001b[0mx\u001b[0m\u001b[0;34m)\u001b[0m\u001b[0;34m)\u001b[0m\u001b[0;34m\u001b[0m\u001b[0;34m\u001b[0m\u001b[0m\n\u001b[0m\u001b[1;32m     17\u001b[0m \u001b[0;34m\u001b[0m\u001b[0m\n\u001b[1;32m     18\u001b[0m     \u001b[0mapply_fn\u001b[0m \u001b[0;34m=\u001b[0m \u001b[0mpartial\u001b[0m\u001b[0;34m(\u001b[0m\u001b[0mapply\u001b[0m\u001b[0;34m,\u001b[0m \u001b[0mmodel\u001b[0m\u001b[0;34m=\u001b[0m\u001b[0mmodel\u001b[0m\u001b[0;34m,\u001b[0m \u001b[0munflatten_fn\u001b[0m\u001b[0;34m=\u001b[0m\u001b[0munflatten_fn\u001b[0m\u001b[0;34m)\u001b[0m\u001b[0;34m\u001b[0m\u001b[0;34m\u001b[0m\u001b[0m\n",
            "\u001b[0;32m/usr/local/lib/python3.7/dist-packages/jax/_src/flatten_util.py\u001b[0m in \u001b[0;36m<lambda>\u001b[0;34m(flat)\u001b[0m\n\u001b[1;32m     48\u001b[0m   \u001b[0mleaves\u001b[0m\u001b[0;34m,\u001b[0m \u001b[0mtreedef\u001b[0m \u001b[0;34m=\u001b[0m \u001b[0mtree_flatten\u001b[0m\u001b[0;34m(\u001b[0m\u001b[0mpytree\u001b[0m\u001b[0;34m)\u001b[0m\u001b[0;34m\u001b[0m\u001b[0;34m\u001b[0m\u001b[0m\n\u001b[1;32m     49\u001b[0m   \u001b[0mflat\u001b[0m\u001b[0;34m,\u001b[0m \u001b[0munravel_list\u001b[0m \u001b[0;34m=\u001b[0m \u001b[0m_ravel_list\u001b[0m\u001b[0;34m(\u001b[0m\u001b[0mleaves\u001b[0m\u001b[0;34m)\u001b[0m\u001b[0;34m\u001b[0m\u001b[0;34m\u001b[0m\u001b[0m\n\u001b[0;32m---> 50\u001b[0;31m   \u001b[0munravel_pytree\u001b[0m \u001b[0;34m=\u001b[0m \u001b[0;32mlambda\u001b[0m \u001b[0mflat\u001b[0m\u001b[0;34m:\u001b[0m \u001b[0mtree_unflatten\u001b[0m\u001b[0;34m(\u001b[0m\u001b[0mtreedef\u001b[0m\u001b[0;34m,\u001b[0m \u001b[0munravel_list\u001b[0m\u001b[0;34m(\u001b[0m\u001b[0mflat\u001b[0m\u001b[0;34m)\u001b[0m\u001b[0;34m)\u001b[0m\u001b[0;34m\u001b[0m\u001b[0;34m\u001b[0m\u001b[0m\n\u001b[0m\u001b[1;32m     51\u001b[0m   \u001b[0;32mreturn\u001b[0m \u001b[0mflat\u001b[0m\u001b[0;34m,\u001b[0m \u001b[0munravel_pytree\u001b[0m\u001b[0;34m\u001b[0m\u001b[0;34m\u001b[0m\u001b[0m\n\u001b[1;32m     52\u001b[0m \u001b[0;34m\u001b[0m\u001b[0m\n",
            "\u001b[0;32m/usr/local/lib/python3.7/dist-packages/jax/_src/flatten_util.py\u001b[0m in \u001b[0;36munravel\u001b[0;34m(arr)\u001b[0m\n\u001b[1;32m     63\u001b[0m     \u001b[0;32mdel\u001b[0m \u001b[0mfrom_dtypes\u001b[0m\u001b[0;34m,\u001b[0m \u001b[0mto_dtype\u001b[0m\u001b[0;34m\u001b[0m\u001b[0;34m\u001b[0m\u001b[0m\n\u001b[1;32m     64\u001b[0m     \u001b[0;32mdef\u001b[0m \u001b[0munravel\u001b[0m\u001b[0;34m(\u001b[0m\u001b[0marr\u001b[0m\u001b[0;34m)\u001b[0m\u001b[0;34m:\u001b[0m\u001b[0;34m\u001b[0m\u001b[0;34m\u001b[0m\u001b[0m\n\u001b[0;32m---> 65\u001b[0;31m       \u001b[0mchunks\u001b[0m \u001b[0;34m=\u001b[0m \u001b[0mjnp\u001b[0m\u001b[0;34m.\u001b[0m\u001b[0msplit\u001b[0m\u001b[0;34m(\u001b[0m\u001b[0marr\u001b[0m\u001b[0;34m,\u001b[0m \u001b[0mindices\u001b[0m\u001b[0;34m[\u001b[0m\u001b[0;34m:\u001b[0m\u001b[0;34m-\u001b[0m\u001b[0;36m1\u001b[0m\u001b[0;34m]\u001b[0m\u001b[0;34m)\u001b[0m\u001b[0;34m\u001b[0m\u001b[0;34m\u001b[0m\u001b[0m\n\u001b[0m\u001b[1;32m     66\u001b[0m       \u001b[0;32mreturn\u001b[0m \u001b[0;34m[\u001b[0m\u001b[0mchunk\u001b[0m\u001b[0;34m.\u001b[0m\u001b[0mreshape\u001b[0m\u001b[0;34m(\u001b[0m\u001b[0mshape\u001b[0m\u001b[0;34m)\u001b[0m \u001b[0;32mfor\u001b[0m \u001b[0mchunk\u001b[0m\u001b[0;34m,\u001b[0m \u001b[0mshape\u001b[0m \u001b[0;32min\u001b[0m \u001b[0mzip\u001b[0m\u001b[0;34m(\u001b[0m\u001b[0mchunks\u001b[0m\u001b[0;34m,\u001b[0m \u001b[0mshapes\u001b[0m\u001b[0;34m)\u001b[0m\u001b[0;34m]\u001b[0m\u001b[0;34m\u001b[0m\u001b[0;34m\u001b[0m\u001b[0m\n\u001b[1;32m     67\u001b[0m     \u001b[0mraveled\u001b[0m \u001b[0;34m=\u001b[0m \u001b[0mjnp\u001b[0m\u001b[0;34m.\u001b[0m\u001b[0mconcatenate\u001b[0m\u001b[0;34m(\u001b[0m\u001b[0;34m[\u001b[0m\u001b[0mjnp\u001b[0m\u001b[0;34m.\u001b[0m\u001b[0mravel\u001b[0m\u001b[0;34m(\u001b[0m\u001b[0me\u001b[0m\u001b[0;34m)\u001b[0m \u001b[0;32mfor\u001b[0m \u001b[0me\u001b[0m \u001b[0;32min\u001b[0m \u001b[0mlst\u001b[0m\u001b[0;34m]\u001b[0m\u001b[0;34m)\u001b[0m\u001b[0;34m\u001b[0m\u001b[0;34m\u001b[0m\u001b[0m\n",
            "\u001b[0;32m/usr/local/lib/python3.7/dist-packages/jax/_src/numpy/lax_numpy.py\u001b[0m in \u001b[0;36msplit\u001b[0;34m(ary, indices_or_sections, axis)\u001b[0m\n\u001b[1;32m   1127\u001b[0m \u001b[0;34m@\u001b[0m\u001b[0m_wraps\u001b[0m\u001b[0;34m(\u001b[0m\u001b[0mnp\u001b[0m\u001b[0;34m.\u001b[0m\u001b[0msplit\u001b[0m\u001b[0;34m,\u001b[0m \u001b[0mlax_description\u001b[0m\u001b[0;34m=\u001b[0m\u001b[0m_ARRAY_VIEW_DOC\u001b[0m\u001b[0;34m)\u001b[0m\u001b[0;34m\u001b[0m\u001b[0;34m\u001b[0m\u001b[0m\n\u001b[1;32m   1128\u001b[0m \u001b[0;32mdef\u001b[0m \u001b[0msplit\u001b[0m\u001b[0;34m(\u001b[0m\u001b[0mary\u001b[0m\u001b[0;34m,\u001b[0m \u001b[0mindices_or_sections\u001b[0m\u001b[0;34m,\u001b[0m \u001b[0maxis\u001b[0m\u001b[0;34m:\u001b[0m \u001b[0mint\u001b[0m \u001b[0;34m=\u001b[0m \u001b[0;36m0\u001b[0m\u001b[0;34m)\u001b[0m\u001b[0;34m:\u001b[0m\u001b[0;34m\u001b[0m\u001b[0;34m\u001b[0m\u001b[0m\n\u001b[0;32m-> 1129\u001b[0;31m   \u001b[0;32mreturn\u001b[0m \u001b[0m_split\u001b[0m\u001b[0;34m(\u001b[0m\u001b[0;34m\"split\"\u001b[0m\u001b[0;34m,\u001b[0m \u001b[0mary\u001b[0m\u001b[0;34m,\u001b[0m \u001b[0mindices_or_sections\u001b[0m\u001b[0;34m,\u001b[0m \u001b[0maxis\u001b[0m\u001b[0;34m=\u001b[0m\u001b[0maxis\u001b[0m\u001b[0;34m)\u001b[0m\u001b[0;34m\u001b[0m\u001b[0;34m\u001b[0m\u001b[0m\n\u001b[0m\u001b[1;32m   1130\u001b[0m \u001b[0;34m\u001b[0m\u001b[0m\n\u001b[1;32m   1131\u001b[0m \u001b[0;32mdef\u001b[0m \u001b[0m_split_on_axis\u001b[0m\u001b[0;34m(\u001b[0m\u001b[0mop\u001b[0m\u001b[0;34m,\u001b[0m \u001b[0maxis\u001b[0m\u001b[0;34m)\u001b[0m\u001b[0;34m:\u001b[0m\u001b[0;34m\u001b[0m\u001b[0;34m\u001b[0m\u001b[0m\n",
            "\u001b[0;32m/usr/local/lib/python3.7/dist-packages/jax/_src/numpy/lax_numpy.py\u001b[0m in \u001b[0;36m_split\u001b[0;34m(op, ary, indices_or_sections, axis)\u001b[0m\n\u001b[1;32m   1123\u001b[0m   \u001b[0m_subval\u001b[0m \u001b[0;34m=\u001b[0m \u001b[0;32mlambda\u001b[0m \u001b[0mx\u001b[0m\u001b[0;34m,\u001b[0m \u001b[0mi\u001b[0m\u001b[0;34m,\u001b[0m \u001b[0mv\u001b[0m\u001b[0;34m:\u001b[0m \u001b[0msubvals\u001b[0m\u001b[0;34m(\u001b[0m\u001b[0mx\u001b[0m\u001b[0;34m,\u001b[0m \u001b[0;34m[\u001b[0m\u001b[0;34m(\u001b[0m\u001b[0mi\u001b[0m\u001b[0;34m,\u001b[0m \u001b[0mv\u001b[0m\u001b[0;34m)\u001b[0m\u001b[0;34m]\u001b[0m\u001b[0;34m)\u001b[0m\u001b[0;34m\u001b[0m\u001b[0;34m\u001b[0m\u001b[0m\n\u001b[1;32m   1124\u001b[0m   return [lax.slice(ary, _subval(starts, axis, start), _subval(ends, axis, end))\n\u001b[0;32m-> 1125\u001b[0;31m           for start, end in zip(split_indices[:-1], split_indices[1:])]\n\u001b[0m\u001b[1;32m   1126\u001b[0m \u001b[0;34m\u001b[0m\u001b[0m\n\u001b[1;32m   1127\u001b[0m \u001b[0;34m@\u001b[0m\u001b[0m_wraps\u001b[0m\u001b[0;34m(\u001b[0m\u001b[0mnp\u001b[0m\u001b[0;34m.\u001b[0m\u001b[0msplit\u001b[0m\u001b[0;34m,\u001b[0m \u001b[0mlax_description\u001b[0m\u001b[0;34m=\u001b[0m\u001b[0m_ARRAY_VIEW_DOC\u001b[0m\u001b[0;34m)\u001b[0m\u001b[0;34m\u001b[0m\u001b[0;34m\u001b[0m\u001b[0m\n",
            "\u001b[0;32m/usr/local/lib/python3.7/dist-packages/jax/_src/numpy/lax_numpy.py\u001b[0m in \u001b[0;36m<listcomp>\u001b[0;34m(.0)\u001b[0m\n\u001b[1;32m   1123\u001b[0m   \u001b[0m_subval\u001b[0m \u001b[0;34m=\u001b[0m \u001b[0;32mlambda\u001b[0m \u001b[0mx\u001b[0m\u001b[0;34m,\u001b[0m \u001b[0mi\u001b[0m\u001b[0;34m,\u001b[0m \u001b[0mv\u001b[0m\u001b[0;34m:\u001b[0m \u001b[0msubvals\u001b[0m\u001b[0;34m(\u001b[0m\u001b[0mx\u001b[0m\u001b[0;34m,\u001b[0m \u001b[0;34m[\u001b[0m\u001b[0;34m(\u001b[0m\u001b[0mi\u001b[0m\u001b[0;34m,\u001b[0m \u001b[0mv\u001b[0m\u001b[0;34m)\u001b[0m\u001b[0;34m]\u001b[0m\u001b[0;34m)\u001b[0m\u001b[0;34m\u001b[0m\u001b[0;34m\u001b[0m\u001b[0m\n\u001b[1;32m   1124\u001b[0m   return [lax.slice(ary, _subval(starts, axis, start), _subval(ends, axis, end))\n\u001b[0;32m-> 1125\u001b[0;31m           for start, end in zip(split_indices[:-1], split_indices[1:])]\n\u001b[0m\u001b[1;32m   1126\u001b[0m \u001b[0;34m\u001b[0m\u001b[0m\n\u001b[1;32m   1127\u001b[0m \u001b[0;34m@\u001b[0m\u001b[0m_wraps\u001b[0m\u001b[0;34m(\u001b[0m\u001b[0mnp\u001b[0m\u001b[0;34m.\u001b[0m\u001b[0msplit\u001b[0m\u001b[0;34m,\u001b[0m \u001b[0mlax_description\u001b[0m\u001b[0;34m=\u001b[0m\u001b[0m_ARRAY_VIEW_DOC\u001b[0m\u001b[0;34m)\u001b[0m\u001b[0;34m\u001b[0m\u001b[0;34m\u001b[0m\u001b[0m\n",
            "\u001b[0;31mTypeError\u001b[0m: slice limit_indices must be less than or equal to operand shape, got limit_indices (6,) for operand shape (3,)."
          ]
        }
      ]
    },
    {
      "cell_type": "code",
      "source": [],
      "metadata": {
        "id": "y8p5KDA_cCz8"
      },
      "execution_count": null,
      "outputs": []
    }
  ],
  "metadata": {
    "colab": {
      "provenance": []
    },
    "kernelspec": {
      "display_name": "Python 3.10.4 ('.venv': venv)",
      "language": "python",
      "name": "python3"
    },
    "language_info": {
      "codemirror_mode": {
        "name": "ipython",
        "version": 3
      },
      "file_extension": ".py",
      "mimetype": "text/x-python",
      "name": "python",
      "nbconvert_exporter": "python",
      "pygments_lexer": "ipython3",
      "version": "3.10.4"
    },
    "vscode": {
      "interpreter": {
        "hash": "318f4a281a9045fa754c1e6daf91d23ec39e886b252f1bbccc2b4e9f6d70b1b8"
      }
    }
  },
  "nbformat": 4,
  "nbformat_minor": 0
}
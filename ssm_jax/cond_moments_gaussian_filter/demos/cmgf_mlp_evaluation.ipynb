{
  "nbformat": 4,
  "nbformat_minor": 0,
  "metadata": {
    "colab": {
      "provenance": []
    },
    "kernelspec": {
      "name": "python3",
      "display_name": "Python 3"
    },
    "language_info": {
      "name": "python"
    }
  },
  "cells": [
    {
      "cell_type": "markdown",
      "source": [
        "#CMGF-EKF Evaluation for MLP Training"
      ],
      "metadata": {
        "id": "kzeh8LgE0KQ3"
      }
    },
    {
      "cell_type": "markdown",
      "source": [
        "Author: Peter Chang([@petergchang](https://github.com/petergchang))"
      ],
      "metadata": {
        "id": "Xo0q-V7r1Rlk"
      }
    },
    {
      "cell_type": "markdown",
      "source": [
        "##0. Imports"
      ],
      "metadata": {
        "id": "MpeCZrrr1VT8"
      }
    },
    {
      "cell_type": "code",
      "execution_count": 1,
      "metadata": {
        "id": "Jt8tn_d8zxq1"
      },
      "outputs": [],
      "source": [
        "# Silence WARNING:root:The use of `check_types` is deprecated and does not have any effect.\n",
        "# https://github.com/tensorflow/probability/issues/1523\n",
        "import logging\n",
        "\n",
        "logger = logging.getLogger()\n",
        "\n",
        "\n",
        "class CheckTypesFilter(logging.Filter):\n",
        "    def filter(self, record):\n",
        "        return \"check_types\" not in record.getMessage()\n",
        "\n",
        "\n",
        "logger.addFilter(CheckTypesFilter())\n",
        "\n",
        "import warnings\n",
        "warnings.filterwarnings('ignore')"
      ]
    },
    {
      "cell_type": "code",
      "source": [
        "try:\n",
        "    from ssm_jax.cond_moments_gaussian_filter.inference import *\n",
        "    from ssm_jax.cond_moments_gaussian_filter.containers import *\n",
        "    import flax.linen as nn\n",
        "except ModuleNotFoundError:\n",
        "    print('installing ssm_jax')\n",
        "    %pip install -qq git+https://github.com/probml/ssm-jax.git\n",
        "    %pip install -qq flax\n",
        "    from ssm_jax.cond_moments_gaussian_filter.inference import *\n",
        "    from ssm_jax.cond_moments_gaussian_filter.containers import *\n",
        "    import flax.linen as nn"
      ],
      "metadata": {
        "id": "oKLE1L7F0I-4"
      },
      "execution_count": 4,
      "outputs": []
    },
    {
      "cell_type": "code",
      "source": [
        "from typing import Sequence\n",
        "from functools import partial\n",
        "\n",
        "import matplotlib.pyplot as plt\n",
        "import matplotlib.colors\n",
        "import matplotlib.cm as cm\n",
        "import jax\n",
        "import jax.numpy as jnp\n",
        "import jax.random as jr\n",
        "from jax.flatten_util import ravel_pytree"
      ],
      "metadata": {
        "id": "EDo2iwuE1Tct"
      },
      "execution_count": 5,
      "outputs": []
    },
    {
      "cell_type": "markdown",
      "source": [
        "#1. MLP Definition"
      ],
      "metadata": {
        "id": "bDyP-txo1epD"
      }
    },
    {
      "cell_type": "code",
      "source": [
        "class MLP(nn.Module):\n",
        "    features: Sequence[int]\n",
        "\n",
        "    @nn.compact\n",
        "    def __call__(self, x):\n",
        "        for feat in self.features[:-1]:\n",
        "            x = nn.relu(nn.Dense(feat)(x))\n",
        "        x = nn.Dense(self.features[-1])(x)\n",
        "        return x"
      ],
      "metadata": {
        "id": "Y-eMPyrA26RL"
      },
      "execution_count": 6,
      "outputs": []
    },
    {
      "cell_type": "code",
      "source": [
        "def get_mlp_flattened_params(model_dims, key=0):\n",
        "    if isinstance(key, int):\n",
        "        key = jr.PRNGKey(key)\n",
        "\n",
        "    # Define MLP model\n",
        "    input_dim, features = model_dims[0], model_dims[1:]\n",
        "    model = MLP(features)\n",
        "    dummy_input = jnp.ones((input_dim,))\n",
        "\n",
        "    # Initialize parameters using dummy input\n",
        "    params = model.init(key, dummy_input)\n",
        "    flat_params, unflatten_fn = ravel_pytree(params)\n",
        "\n",
        "    # Define apply function\n",
        "    def apply(flat_params, x, model, unflatten_fn):\n",
        "        return model.apply(unflatten_fn(flat_params), jnp.atleast_1d(x))\n",
        "\n",
        "    apply_fn = partial(apply, model=model, unflatten_fn=unflatten_fn)\n",
        "\n",
        "    return model, flat_params, unflatten_fn, apply_fn"
      ],
      "metadata": {
        "id": "unFLKgX929K2"
      },
      "execution_count": 7,
      "outputs": []
    },
    {
      "cell_type": "code",
      "source": [],
      "metadata": {
        "id": "n4c6sV4U290N"
      },
      "execution_count": null,
      "outputs": []
    }
  ]
}
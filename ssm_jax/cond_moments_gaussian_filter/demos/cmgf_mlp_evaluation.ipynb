{
  "cells": [
    {
      "cell_type": "markdown",
      "metadata": {
        "id": "kzeh8LgE0KQ3"
      },
      "source": [
        "#CMGF-EKF Evaluation for MLP Training"
      ]
    },
    {
      "cell_type": "markdown",
      "metadata": {
        "id": "Xo0q-V7r1Rlk"
      },
      "source": [
        "Author: Peter Chang([@petergchang](https://github.com/petergchang))"
      ]
    },
    {
      "cell_type": "markdown",
      "metadata": {
        "id": "MpeCZrrr1VT8"
      },
      "source": [
        "##0. Imports"
      ]
    },
    {
      "cell_type": "code",
      "execution_count": 1,
      "metadata": {
        "id": "Jt8tn_d8zxq1"
      },
      "outputs": [],
      "source": [
        "# Silence WARNING:root:The use of `check_types` is deprecated and does not have any effect.\n",
        "# https://github.com/tensorflow/probability/issues/1523\n",
        "import logging\n",
        "\n",
        "logger = logging.getLogger()\n",
        "\n",
        "\n",
        "class CheckTypesFilter(logging.Filter):\n",
        "    def filter(self, record):\n",
        "        return \"check_types\" not in record.getMessage()\n",
        "\n",
        "\n",
        "logger.addFilter(CheckTypesFilter())\n",
        "\n",
        "import warnings\n",
        "warnings.filterwarnings('ignore')"
      ]
    },
    {
      "cell_type": "code",
      "execution_count": 2,
      "metadata": {
        "id": "oKLE1L7F0I-4",
        "colab": {
          "base_uri": "https://localhost:8080/"
        },
        "outputId": "9472c9bb-a14b-428a-d621-2d156e966219"
      },
      "outputs": [
        {
          "output_type": "stream",
          "name": "stdout",
          "text": [
            "installing ssm_jax\n",
            "  Installing build dependencies ... \u001b[?25l\u001b[?25hdone\n",
            "  Getting requirements to build wheel ... \u001b[?25l\u001b[?25hdone\n",
            "    Preparing wheel metadata ... \u001b[?25l\u001b[?25hdone\n",
            "\u001b[K     |████████████████████████████████| 145 kB 2.1 MB/s \n",
            "\u001b[K     |████████████████████████████████| 180 kB 18.0 MB/s \n",
            "\u001b[K     |████████████████████████████████| 85 kB 4.1 MB/s \n",
            "\u001b[K     |████████████████████████████████| 106 kB 38.3 MB/s \n",
            "\u001b[K     |████████████████████████████████| 128 kB 42.8 MB/s \n",
            "\u001b[K     |████████████████████████████████| 217 kB 43.9 MB/s \n",
            "\u001b[K     |████████████████████████████████| 51 kB 6.7 MB/s \n",
            "\u001b[?25h  Building wheel for ssm-jax (PEP 517) ... \u001b[?25l\u001b[?25hdone\n"
          ]
        },
        {
          "output_type": "stream",
          "name": "stderr",
          "text": [
            "WARNING:absl:No GPU/TPU found, falling back to CPU. (Set TF_CPP_MIN_LOG_LEVEL=0 and rerun for more info.)\n"
          ]
        }
      ],
      "source": [
        "try:\n",
        "    from ssm_jax.cond_moments_gaussian_filter.inference import *\n",
        "    from ssm_jax.cond_moments_gaussian_filter.containers import *\n",
        "    import flax.linen as nn\n",
        "except ModuleNotFoundError:\n",
        "    print('installing ssm_jax')\n",
        "    %pip install -qq git+https://github.com/probml/ssm-jax.git\n",
        "    %pip install -qq flax\n",
        "    from ssm_jax.cond_moments_gaussian_filter.inference import *\n",
        "    from ssm_jax.cond_moments_gaussian_filter.containers import *\n",
        "    import flax.linen as nn"
      ]
    },
    {
      "cell_type": "code",
      "execution_count": 3,
      "metadata": {
        "id": "EDo2iwuE1Tct"
      },
      "outputs": [],
      "source": [
        "from typing import Sequence\n",
        "from functools import partial\n",
        "\n",
        "import matplotlib.pyplot as plt\n",
        "import matplotlib.colors\n",
        "import matplotlib.cm as cm\n",
        "import jax\n",
        "import jax.numpy as jnp\n",
        "import jax.random as jr\n",
        "from jax.flatten_util import ravel_pytree"
      ]
    },
    {
      "cell_type": "markdown",
      "metadata": {
        "id": "bDyP-txo1epD"
      },
      "source": [
        "#1. MLP Definition"
      ]
    },
    {
      "cell_type": "code",
      "execution_count": 4,
      "metadata": {
        "id": "Y-eMPyrA26RL"
      },
      "outputs": [],
      "source": [
        "class MLP(nn.Module):\n",
        "    features: Sequence[int]\n",
        "\n",
        "    @nn.compact\n",
        "    def __call__(self, x):\n",
        "        for feat in self.features[:-1]:\n",
        "            x = nn.relu(nn.Dense(feat)(x))\n",
        "        x = nn.Dense(self.features[-1])(x)\n",
        "        return x"
      ]
    },
    {
      "cell_type": "code",
      "execution_count": 5,
      "metadata": {
        "id": "unFLKgX929K2"
      },
      "outputs": [],
      "source": [
        "def get_mlp_flattened_params(model_dims, key=0):\n",
        "    if isinstance(key, int):\n",
        "        key = jr.PRNGKey(key)\n",
        "\n",
        "    # Define MLP model\n",
        "    input_dim, features = model_dims[0], model_dims[1:]\n",
        "    model = MLP(features)\n",
        "    dummy_input = jnp.ones((input_dim,))\n",
        "\n",
        "    # Initialize parameters using dummy input\n",
        "    params = model.init(key, dummy_input)\n",
        "    flat_params, unflatten_fn = ravel_pytree(params)\n",
        "\n",
        "    # Define apply function\n",
        "    def apply(flat_params, x, model, unflatten_fn):\n",
        "        return model.apply(unflatten_fn(flat_params), jnp.atleast_1d(x))\n",
        "\n",
        "    apply_fn = partial(apply, model=model, unflatten_fn=unflatten_fn)\n",
        "\n",
        "    return model, flat_params, unflatten_fn, apply_fn"
      ]
    },
    {
      "cell_type": "markdown",
      "source": [
        "#2. Decoupled CMGF-EKF-MLP"
      ],
      "metadata": {
        "id": "D6SdzpDYCmL4"
      }
    },
    {
      "cell_type": "code",
      "execution_count": 83,
      "metadata": {
        "id": "n4c6sV4U290N"
      },
      "outputs": [],
      "source": [
        "def decouple_flat_params(model_dims):\n",
        "    assert len(model_dims) > 1\n",
        "    decoupled_params_idx = []\n",
        "    curr_idx = 0\n",
        "    for layer in range(1, len(model_dims)):\n",
        "        # Number of parameter elements corresponding to current layer\n",
        "        num_prev, num_curr = model_dims[layer-1], model_dims[layer] # Number of nodes in prev, curr layer\n",
        "        num_bias_params = num_curr\n",
        "        num_weight_params = num_prev * num_curr\n",
        "        num_params_curr_layer = num_bias_params + num_weight_params\n",
        "        \n",
        "        # Range of indices in flattened params array corresponding to current layer\n",
        "        idx_range = jnp.arange(curr_idx, curr_idx + num_params_curr_layer)\n",
        "        \n",
        "        # Append list of indices for each node in current layer\n",
        "        decoupled_params_idx += [jnp.array([idx_range[i + num_curr * j] for j in range(num_prev + 1)]) for i in range(num_curr)]\n",
        "        \n",
        "        curr_idx += num_params_curr_layer\n",
        "\n",
        "    # Function to decouple parameters by node\n",
        "    decoupled_params_fn = lambda params: [params[idx] for idx in decoupled_params_idx]\n",
        "\n",
        "    diag_idx = jnp.cumsum(jnp.array([0] + [len(node_params) for node_params in decoupled_params_idx]))\n",
        "    print(diag_idx)\n",
        "    # Function to separate parameter covariance matrix by node\n",
        "    separate_cov_fn = lambda cov: [cov[diag_idx[i-1]:diag_idx[i], diag_idx[i-1]:diag_idx[i]]\n",
        "                                   for i in range(1, len(diag_idx))]\n",
        "    \n",
        "    # Function to recouple decoupled params list \n",
        "    def recouple_params_fn(decoupled_params, model_dims):\n",
        "        assert len(model_dims) > 1\n",
        "        recoupled_params_list = []\n",
        "        curr_idx = 0\n",
        "        for layer in range(1, len(model_dims)):\n",
        "            # Flatten params sublist corresponding to each layer\n",
        "            recoupled_params_list.append(jnp.ravel(jnp.array(decoupled_params[curr_idx:curr_idx + model_dims[layer]]), order='F'))\n",
        "            curr_idx += model_dims[layer]\n",
        "            \n",
        "        return jnp.concatenate(recoupled_params_list)\n",
        "    \n",
        "    return decoupled_params_fn, partial(aggregate_fn, model_dims = model_dims), separate_cov_fn"
      ]
    },
    {
      "cell_type": "code",
      "source": [],
      "metadata": {
        "id": "6oZiV7nckpRs"
      },
      "execution_count": 83,
      "outputs": []
    },
    {
      "cell_type": "code",
      "source": [
        "# Generate spiral dataset\n",
        "# Adapted from https://gist.github.com/45deg/e731d9e7f478de134def5668324c44c5\n",
        "def generate_spiral_dataset(key=0, num_per_class=250, zero_var=1., one_var=1., shuffle=True):\n",
        "    if isinstance(key, int):\n",
        "        key = jr.PRNGKey(key)\n",
        "    key1, key2, key3, key4 = jr.split(key, 4)\n",
        "\n",
        "    theta = jnp.sqrt(jr.uniform(key1, shape=(num_per_class,))) * 2*jnp.pi\n",
        "    r = 2*theta + jnp.pi\n",
        "    generate_data = lambda theta, r: jnp.array([jnp.cos(theta)*r, jnp.sin(theta)*r]).T\n",
        "\n",
        "    # Data for output zero\n",
        "    zero_input = generate_data(theta, r) + zero_var * jr.normal(key2, shape=(num_per_class, 2))\n",
        "    zero_output = jnp.zeros((num_per_class, 1,))\n",
        "\n",
        "    # Data for output one\n",
        "    one_input = generate_data(theta, -r) + one_var * jr.normal(key3, shape=(num_per_class, 2))\n",
        "    one_output = jnp.ones((num_per_class, 1,))\n",
        "\n",
        "    # Stack the inputs and standardize\n",
        "    input = jnp.concatenate([zero_input, one_input])\n",
        "    input = (input - input.mean(axis=0)) / input.std(axis=0)\n",
        "\n",
        "    # Generate binary output\n",
        "    output = jnp.concatenate([jnp.zeros(num_per_class), jnp.ones(num_per_class)])\n",
        "\n",
        "    if shuffle:\n",
        "        idx = jr.permutation(key4, jnp.arange(num_per_class * 2))\n",
        "        input, output = input[idx], output[idx]\n",
        "\n",
        "    return input, output"
      ],
      "metadata": {
        "id": "OQN7eBBdktr7"
      },
      "execution_count": 84,
      "outputs": []
    },
    {
      "cell_type": "code",
      "source": [
        "# Generate data\n",
        "input, output = generate_spiral_dataset()\n",
        "\n",
        "# Define MLP architecture\n",
        "input_dim, hidden_dims, output_dim = 2, [3, 3], 1\n",
        "model_dims = [input_dim, *hidden_dims, output_dim]\n",
        "_, flat_params, _, apply_fn = get_mlp_flattened_params(model_dims)\n",
        "decouple_fn, recouple_fn, decouple_cov_fn = decouple_flat_params(model_dims)"
      ],
      "metadata": {
        "id": "uLaJKp6zkpPt",
        "outputId": "0aaa37ae-5230-4812-b610-cee5fc945f8d",
        "colab": {
          "base_uri": "https://localhost:8080/"
        }
      },
      "execution_count": 97,
      "outputs": [
        {
          "output_type": "stream",
          "name": "stdout",
          "text": [
            "[ 0  3  6  9 13 17 21 25]\n"
          ]
        }
      ]
    },
    {
      "cell_type": "code",
      "source": [
        "for A in decouple_cov_fn(jnp.eye(25)):\n",
        "    print(A, '\\n')"
      ],
      "metadata": {
        "id": "jNH3oLyUxGEa",
        "outputId": "562cd2c1-b390-4b59-c7ea-3185a7bc1734",
        "colab": {
          "base_uri": "https://localhost:8080/"
        }
      },
      "execution_count": 98,
      "outputs": [
        {
          "output_type": "stream",
          "name": "stdout",
          "text": [
            "[[1. 0. 0.]\n",
            " [0. 1. 0.]\n",
            " [0. 0. 1.]] \n",
            "\n",
            "[[1. 0. 0.]\n",
            " [0. 1. 0.]\n",
            " [0. 0. 1.]] \n",
            "\n",
            "[[1. 0. 0.]\n",
            " [0. 1. 0.]\n",
            " [0. 0. 1.]] \n",
            "\n",
            "[[1. 0. 0. 0.]\n",
            " [0. 1. 0. 0.]\n",
            " [0. 0. 1. 0.]\n",
            " [0. 0. 0. 1.]] \n",
            "\n",
            "[[1. 0. 0. 0.]\n",
            " [0. 1. 0. 0.]\n",
            " [0. 0. 1. 0.]\n",
            " [0. 0. 0. 1.]] \n",
            "\n",
            "[[1. 0. 0. 0.]\n",
            " [0. 1. 0. 0.]\n",
            " [0. 0. 1. 0.]\n",
            " [0. 0. 0. 1.]] \n",
            "\n",
            "[[1. 0. 0. 0.]\n",
            " [0. 1. 0. 0.]\n",
            " [0. 0. 1. 0.]\n",
            " [0. 0. 0. 1.]] \n",
            "\n"
          ]
        }
      ]
    },
    {
      "cell_type": "code",
      "source": [
        "flat_params"
      ],
      "metadata": {
        "id": "Nn45NrSMkw_p",
        "outputId": "afdd76d7-e3c6-4ab8-f648-46a391716e5c",
        "colab": {
          "base_uri": "https://localhost:8080/"
        }
      },
      "execution_count": 71,
      "outputs": [
        {
          "output_type": "execute_result",
          "data": {
            "text/plain": [
              "DeviceArray([ 0.        ,  0.        ,  0.        , -0.3912936 ,\n",
              "              1.1880122 , -1.4573193 , -0.03481372,  0.07264791,\n",
              "              0.46972632,  0.        ,  0.95554703, -0.23248778,\n",
              "             -0.18383437], dtype=float32)"
            ]
          },
          "metadata": {},
          "execution_count": 71
        }
      ]
    },
    {
      "cell_type": "code",
      "source": [
        "decoupled_params"
      ],
      "metadata": {
        "id": "zHwkmcjPuxCj",
        "outputId": "aab8c1dc-d7bd-4225-9ff5-339d2c3e322e",
        "colab": {
          "base_uri": "https://localhost:8080/"
        }
      },
      "execution_count": 72,
      "outputs": [
        {
          "output_type": "execute_result",
          "data": {
            "text/plain": [
              "[DeviceArray([0, 3, 6], dtype=int32),\n",
              " DeviceArray([1, 4, 7], dtype=int32),\n",
              " DeviceArray([2, 5, 8], dtype=int32),\n",
              " DeviceArray([ 9, 10, 11, 12], dtype=int32)]"
            ]
          },
          "metadata": {},
          "execution_count": 72
        }
      ]
    },
    {
      "cell_type": "code",
      "source": [],
      "metadata": {
        "id": "Y1v0dzNmkpLD"
      },
      "execution_count": null,
      "outputs": []
    },
    {
      "cell_type": "code",
      "execution_count": 48,
      "metadata": {
        "id": "_gCxBHQPBRZB"
      },
      "outputs": [],
      "source": [
        "from jax import numpy as jnp\n",
        "from jax import lax\n",
        "from tensorflow_probability.substrates.jax.distributions import MultivariateNormalFullCovariance as MVN\n",
        "from ssm_jax.containers import GSSMPosterior\n",
        "\n",
        "from jax.scipy.linalg import block_diag\n",
        "\n",
        "\n",
        "# Helper functions\n",
        "_get_params = lambda x, dim, t: x[t] if x.ndim == dim + 1 else x\n",
        "_process_fn = lambda f, u: (lambda x, y: f(x)) if u is None else f\n",
        "_process_input = lambda x, y: jnp.zeros((y,)) if x is None else x\n",
        "\n",
        "\n",
        "def _predict(m, P, f, Q, u, g_ev, g_cov):\n",
        "    \"\"\"Predict next mean and covariance under an additive-noise Gaussian filter\n",
        "\n",
        "        p(x_{t+1}) = N(x_{t+1} | mu_pred, Sigma_pred)\n",
        "        where\n",
        "            mu_pred = gev(f, m, P)\n",
        "                    = \\int f(x_t, u) N(x_t | m, P) dx_t\n",
        "            Sigma_pred = gev((f - mu_pred)(f - mu_pred)^T, m, P) + Q\n",
        "                       = \\int (f(x_t, u) - mu_pred)(f(x_t, u) - mu_pred)^T\n",
        "                           N(x_t | m, P)dx_t + Q\n",
        "\n",
        "    Args:\n",
        "        m (D_hid,): prior mean.\n",
        "        P (D_hid,D_hid): prior covariance.\n",
        "        f (Callable): dynamics function.\n",
        "        Q (D_hid,D_hid): dynamics covariance matrix.\n",
        "        u (D_in,): inputs.\n",
        "        g_ev (Callable): Gaussian expectation value function.\n",
        "        g_cov (Callable): Gaussian cross covariance function.\n",
        "\n",
        "    Returns:\n",
        "        mu_pred (D_hid,): predicted mean.\n",
        "        Sigma_pred (D_hid,D_hid): predicted covariance.\n",
        "        cross_pred (D_hid,D_hid): cross covariance term.\n",
        "    \"\"\"\n",
        "    dynamics_fn = lambda x: f(x, u)\n",
        "    identity_fn = lambda x: x\n",
        "    mu_pred = g_ev(dynamics_fn, m, P)\n",
        "    Sigma_pred = g_cov(dynamics_fn, dynamics_fn, m, P) + Q\n",
        "    cross_pred = g_cov(identity_fn, dynamics_fn, m, P)\n",
        "    return mu_pred, Sigma_pred, cross_pred\n",
        "\n",
        "\n",
        "def _decoupled_predict(ms, Ps, f, Q, u, g_ev, g_cov):\n",
        "    return vmap(_predict, (0, 0, None, None, None, None, None))(ms, Ps, f, Q, u, g_ev, g_cov)\n",
        "\n",
        "\n",
        "def _condition_on(m, P, y_cond_mean, y_cond_cov, u, y, g_ev, g_cov, num_iter):\n",
        "    \"\"\"Condition a Gaussian potential on a new observation with arbitrary\n",
        "       likelihood with given functions for conditional moments and make a\n",
        "       Gaussian approximation.\n",
        "       p(x_t | y_t, u_t, y_{1:t-1}, u_{1:t-1})\n",
        "         propto p(x_t | y_{1:t-1}, u_{1:t-1}) p(y_t | x_t, u_t)\n",
        "         = N(x_t | m, P) ArbitraryDist(y_t |y_cond_mean(x_t), y_cond_cov(x_t))\n",
        "         \\approx N(x_t | mu_cond, Sigma_cond)\n",
        "     where\n",
        "        mu_cond = m + K*(y - yhat)\n",
        "        yhat = gev(h, m, P)\n",
        "        S = gev((h - yhat)(h - yhat)^T, m, P) + R\n",
        "        C = gev((Identity - m)(h - yhat)^T, m, P)\n",
        "        K = C * S^{-1}\n",
        "        Sigma_cond = P - K S K'\n",
        "\n",
        "    Args:\n",
        "        m (D_hid,): prior mean.\n",
        "        P (D_hid,D_hid): prior covariance.\n",
        "        y_cond_mean (Callable): conditional emission mean function.\n",
        "        y_cond_cov (Callable): conditional emission covariance function.\n",
        "        u (D_in,): inputs.\n",
        "        y (D_obs,): observation.\n",
        "        g_ev (Callable): Gaussian expectation value function.\n",
        "        g_cov (Callable): Gaussian cross covariance function.\n",
        "        num_iter (int): number of re-linearizations around posterior for update step.\n",
        "\n",
        "     Returns:\n",
        "        log_likelihood (Scalar): prediction log likelihood for observation y\n",
        "        mu_cond (D_hid,): conditioned mean.\n",
        "        Sigma_cond (D_hid,D_hid): conditioned covariance.\n",
        "    \"\"\"\n",
        "    m_Y = lambda x: y_cond_mean(x, u)\n",
        "    Cov_Y = lambda x: y_cond_cov(x, u)\n",
        "    identity_fn = lambda x: x\n",
        "\n",
        "    def _step(carry, _):\n",
        "        prior_mean, prior_cov = carry\n",
        "        yhat = g_ev(m_Y, prior_mean, prior_cov)\n",
        "        S = g_ev(Cov_Y, prior_mean, prior_cov) + g_cov(m_Y, m_Y, prior_mean, prior_cov)\n",
        "        log_likelihood = MVN(yhat, S).log_prob(jnp.atleast_1d(y))\n",
        "        C = g_cov(identity_fn, m_Y, prior_mean, prior_cov)\n",
        "        K = jnp.linalg.solve(S, C.T).T\n",
        "        posterior_mean = prior_mean + K @ (y - yhat)\n",
        "        posterior_cov = prior_cov - K @ S @ K.T\n",
        "        return (posterior_mean, posterior_cov), log_likelihood\n",
        "\n",
        "    # Iterate re-linearization over posterior mean and covariance\n",
        "    carry = (m, P)\n",
        "    (mu_cond, Sigma_cond), lls = lax.scan(_step, carry, jnp.arange(num_iter))\n",
        "    return lls[0], mu_cond, Sigma_cond\n",
        "\n",
        "\n",
        "def _decoupled_condition_on(ms, Ps, aggregate_fn, y_cond_mean, y_cond_cov, u, y, g_ev, g_cov, num_iter):\n",
        "    m_Y = lambda x: y_cond_mean(x, u)\n",
        "    Cov_Y = lambda x: y_cond_cov(x, u)\n",
        "    identity_fn = lambda x: x\n",
        "    \n",
        "    def _step(carry, _):\n",
        "        prior_means, prior_covs = carry\n",
        "\n",
        "        # Aggregate separate parameters for update\n",
        "        prior_mean = aggregate_fn(prior_means)\n",
        "        prior_cov = block_diag(prior_covs)\n",
        "\n",
        "        yhat = g_ev(m_Y, prior_mean, prior_cov)\n",
        "        S = g_ev(Cov_Y, prior_mean, prior_cov) + vmap(g_cov, (None, None, 0, 0))(m_Y, m_Y, prior_means, prior_covs).sum()\n",
        "        log_likelihood = MVN(yhat, S).log_prob(jnp.atleast_1d(y))\n",
        "        Cs = vmap(g_cov, (None, None, 0, 0))(identity_fn, m_Y, prior_means, prior_covs)\n",
        "        compute_K = lambda S, C: jnp.linalg.solve(S, C.T).T\n",
        "        Ks = vmap(compute_K, (None, 0))(S, Cs)\n",
        "        posterior_means = prior_means + Ks @ (y - yhat)\n",
        "        compute_cov_diff = lambda S, K: K @ S @ K.T\n",
        "        posterior_covs = prior_covs - vmap(compute_cov_diff, (None, 0))(S, Ks)\n",
        "        return (posterior_means, posterior_covs), log_likelihood\n",
        "\n",
        "    # Iterate re-linearization over posterior mean and covariance\n",
        "    carry = (ms, Ps)\n",
        "    (mu_cond, Sigma_cond), lls = lax.scan(_step, carry, jnp.arange(num_iter))\n",
        "    return lls[0], mu_cond, Sigma_cond\n",
        "\n",
        "\n",
        "def statistical_linear_regression(mu, Sigma, m, S, C):\n",
        "    \"\"\"Return moment-matching affine coefficients and approximation noise variance\n",
        "    given joint moments.\n",
        "        g(x) \\approx Ax + b + e where e ~ N(0, Omega)\n",
        "        p(x) = N(x | mu, Sigma)\n",
        "        m = E[g(x)]\n",
        "        S = Var[g(x)]\n",
        "        C = Cov[x, g(x)]\n",
        "\n",
        "    Args:\n",
        "        mu (D_hid): prior mean.\n",
        "        Sigma (D_hid, D_hid): prior covariance.\n",
        "        m (D_obs): E[g(x)].\n",
        "        S (D_obs, D_obs): Var[g(x)]\n",
        "        C (D_hid, D_obs): Cov[x, g(x)]\n",
        "\n",
        "    Returns:\n",
        "        A (D_obs, D_hid): _description_\n",
        "        b (D_obs):\n",
        "        Omega (D_obs, D_obs):\n",
        "    \"\"\"\n",
        "    A = jnp.linalg.solve(Sigma.T, C).T\n",
        "    b = m - A @ mu\n",
        "    Omega = S - A @ Sigma @ A.T\n",
        "    return A, b, Omega\n",
        "\n",
        "\n",
        "def conditional_moments_gaussian_filter(params, emissions, num_iter=1, inputs=None):\n",
        "    \"\"\"Run an (iterated) conditional moments Gaussian filter to produce the\n",
        "    marginal likelihood and filtered state estimates.\n",
        "\n",
        "    Args:\n",
        "        params: a CMGFParams instance (or object with the same fields)\n",
        "        emissions (T,D_hid): array of observations.\n",
        "        num_iter (int): number of linearizations around prior/posterior for update step.\n",
        "        inputs (T,D_in): array of inputs.\n",
        "\n",
        "    Returns:\n",
        "        filtered_posterior: GSSMPosterior instance containing,\n",
        "            marginal_log_lik\n",
        "            filtered_means (T, D_hid)\n",
        "            filtered_covariances (T, D_hid, D_hid)\n",
        "    \"\"\"\n",
        "    num_timesteps = len(emissions)\n",
        "\n",
        "    # Process dynamics function and conditional emission moments to take in control inputs\n",
        "    f = params.dynamics_function\n",
        "    m_Y, Cov_Y = params.emission_mean_function, params.emission_cov_function\n",
        "    f, m_Y, Cov_Y  = (_process_fn(fn, inputs) for fn in (f, m_Y, Cov_Y))\n",
        "    inputs = _process_input(inputs, num_timesteps)\n",
        "\n",
        "    # Gaussian expectation value function\n",
        "    g_ev = params.gaussian_expectation\n",
        "    g_cov = params.gaussian_cross_covariance\n",
        "\n",
        "    def _step(carry, t):\n",
        "        ll, pred_mean, pred_cov = carry\n",
        "\n",
        "        # Get parameters and inputs for time index t\n",
        "        Q = _get_params(params.dynamics_covariance, 2, t)\n",
        "        u = inputs[t]\n",
        "        y = emissions[t]\n",
        "\n",
        "        # Condition on the emission\n",
        "        log_likelihood, filtered_mean, filtered_cov = _condition_on(pred_mean, pred_cov, m_Y, Cov_Y, u, y, g_ev, g_cov, num_iter)\n",
        "        ll += log_likelihood\n",
        "\n",
        "        # Predict the next state\n",
        "        pred_mean, pred_cov, _ = _predict(filtered_mean, filtered_cov, f, Q, u, g_ev, g_cov)\n",
        "\n",
        "        return (ll, pred_mean, pred_cov), (filtered_mean, filtered_cov)\n",
        "\n",
        "    # Run the general linearization filter\n",
        "    carry = (0.0, params.initial_mean, params.initial_covariance)\n",
        "    (ll, _, _), (filtered_means, filtered_covs) = lax.scan(_step, carry, jnp.arange(num_timesteps))\n",
        "    return GSSMPosterior(marginal_loglik=ll, filtered_means=filtered_means, filtered_covariances=filtered_covs)\n",
        "\n",
        "\n",
        "def decoupled_conditional_moments_gaussian_filter(params, decouple_fn, emissions, num_iter=1, inputs=None):\n",
        "    num_timesteps = len(emissions)\n",
        "\n",
        "    # Process dynamics function and conditional emission moments to take in control inputs\n",
        "    f = params.dynamics_function\n",
        "    m_Y, Cov_Y = params.emission_mean_function, params.emission_cov_function\n",
        "    f, m_Y, Cov_Y  = (_process_fn(fn, inputs) for fn in (f, m_Y, Cov_Y))\n",
        "    inputs = _process_input(inputs, num_timesteps)\n",
        "\n",
        "    # Gaussian expectation value function\n",
        "    g_ev = params.gaussian_expectation\n",
        "    g_cov = params.gaussian_cross_covariance\n",
        "\n",
        "    def _step(carry, t):\n",
        "        jax.debug.breakpoint()\n",
        "        ll, pred_mean, pred_cov = carry\n",
        "\n",
        "        # Get parameters and inputs for time index t\n",
        "        Q = _get_params(params.dynamics_covariance, 2, t)\n",
        "        u = inputs[t]\n",
        "        y = emissions[t]\n",
        "\n",
        "        # Condition on the emission\n",
        "        log_likelihood, filtered_mean, filtered_cov = _decoupled_condition_on(pred_mean, pred_cov, decouple_fn, \n",
        "                                                                                m_Y, Cov_Y, u, y, g_ev, g_cov, num_iter)\n",
        "        ll += log_likelihood\n",
        "\n",
        "        # Predict the next state\n",
        "        pred_mean, pred_cov, _ = _predict(filtered_mean, filtered_cov, f, Q, u, g_ev, g_cov)\n",
        "\n",
        "        return (ll, pred_mean, pred_cov), (filtered_mean, filtered_cov)\n",
        "\n",
        "    # Run the general linearization filter\n",
        "    carry = (0.0, params.initial_mean, params.initial_covariance)\n",
        "    jax.debug.breakpoint()\n",
        "    (ll, _, _), (filtered_means, filtered_covs) = lax.scan(_step, carry, jnp.arange(num_timesteps))\n",
        "    return GSSMPosterior(marginal_loglik=ll, filtered_means=filtered_means, filtered_covariances=filtered_covs)\n",
        "\n",
        "\n",
        "def iterated_conditional_moments_gaussian_filter(params, emissions, num_iter=2, inputs=None):\n",
        "    \"\"\"Run an iterated conditional moments Gaussian filter.\n",
        "\n",
        "    Args:\n",
        "        params: a CMGFParams instance (or object with the same fields)\n",
        "        emissions (T,D_hid): array of observations.\n",
        "        num_iter (int): number of linearizations around smoothed posterior.\n",
        "        inputs (T,D_in): array of inputs.\n",
        "\n",
        "    Returns:\n",
        "        filtered_posterior: GSSMPosterior instance containing,\n",
        "            marginal_log_lik\n",
        "            filtered_means (T, D_hid)\n",
        "            filtered_covariances (T, D_hid, D_hid)\n",
        "    \"\"\"\n",
        "    filtered_posterior = conditional_moments_gaussian_filter(params, emissions, num_iter, inputs)\n",
        "    return filtered_posterior\n",
        "\n",
        "\n",
        "def conditional_moments_gaussian_smoother(params, emissions, filtered_posterior=None, inputs=None):\n",
        "    \"\"\"Run a conditional moments Gaussian smoother.\n",
        "\n",
        "    Args:\n",
        "        params: a CMGFParams instance (or object with the same fields)\n",
        "        emissions (T,D_hid): array of observations.\n",
        "        filtered_posterior (GSLRPosterior): filtered posterior to use for smoothing.\n",
        "            If None, the smoother computes the filtered posterior directly.\n",
        "        inputs (T,D_in): array of inputs.\n",
        "\n",
        "    Returns:\n",
        "        nlgssm_posterior: GSSMPosterior instance containing properties of\n",
        "            filtered and smoothed posterior distributions.\n",
        "    \"\"\"\n",
        "    num_timesteps = len(emissions)\n",
        "\n",
        "    # Get filtered posterior\n",
        "    if filtered_posterior is None:\n",
        "        filtered_posterior = conditional_moments_gaussian_filter(params, emissions, inputs=inputs)\n",
        "    ll, filtered_means, filtered_covs, *_ = filtered_posterior.to_tuple()\n",
        "\n",
        "    # Process dynamics function to take in control inputs\n",
        "    f  = _process_fn(params.dynamics_function, inputs)\n",
        "    inputs = _process_input(inputs, num_timesteps)\n",
        "\n",
        "    # Gaussian expectation value function\n",
        "    g_ev = params.gaussian_expectation\n",
        "    g_cov = params.gaussian_cross_covariance\n",
        "\n",
        "    def _step(carry, args):\n",
        "        # Unpack the inputs\n",
        "        smoothed_mean_next, smoothed_cov_next = carry\n",
        "        t, filtered_mean, filtered_cov = args\n",
        "\n",
        "        # Get parameters and inputs for time index t\n",
        "        Q = _get_params(params.dynamics_covariance, 2, t)\n",
        "        u = inputs[t]\n",
        "\n",
        "        # Prediction step\n",
        "        pred_mean, pred_cov, pred_cross = _predict(filtered_mean, filtered_cov, f, Q, u, g_ev, g_cov)\n",
        "        G = jnp.linalg.solve(pred_cov, pred_cross.T).T\n",
        "\n",
        "        # Compute smoothed mean and covariance\n",
        "        smoothed_mean = filtered_mean + G @ (smoothed_mean_next - pred_mean)\n",
        "        smoothed_cov = filtered_cov + G @ (smoothed_cov_next - pred_cov) @ G.T\n",
        "\n",
        "        return (smoothed_mean, smoothed_cov), (smoothed_mean, smoothed_cov)\n",
        "\n",
        "    # Run the smoother\n",
        "    init_carry = (filtered_means[-1], filtered_covs[-1])\n",
        "    args = (jnp.arange(num_timesteps - 2, -1, -1), filtered_means[:-1][::-1], filtered_covs[:-1][::-1])\n",
        "    _, (smoothed_means, smoothed_covs) = lax.scan(_step, init_carry, args)\n",
        "\n",
        "    # Reverse the arrays and return\n",
        "    smoothed_means = jnp.row_stack((smoothed_means[::-1], filtered_means[-1][None, ...]))\n",
        "    smoothed_covs = jnp.row_stack((smoothed_covs[::-1], filtered_covs[-1][None, ...]))\n",
        "    return GSSMPosterior(\n",
        "        marginal_loglik=ll,\n",
        "        filtered_means=filtered_means,\n",
        "        filtered_covariances=filtered_covs,\n",
        "        smoothed_means=smoothed_means,\n",
        "        smoothed_covariances=smoothed_covs,\n",
        "    )\n",
        "\n",
        "\n",
        "def iterated_conditional_moments_gaussian_smoother(params, emissions, num_iter=1, inputs=None):\n",
        "    \"\"\"Run an iterated conditional moments Gaussian smoother.\n",
        "\n",
        "    Args:\n",
        "        params: an CMGFParams instance (or object with the same fields)\n",
        "        emissions (T,D_hid): array of observations.\n",
        "        num_iter (int): number of re-linearizations around smoothed posterior.\n",
        "        inputs (T,D_in): array of inputs.\n",
        "\n",
        "    Returns:\n",
        "        nlgssm_posterior: GSSMPosterior instance containing properties of\n",
        "            filtered and smoothed posterior distributions.\n",
        "    \"\"\"\n",
        "    def _step(carry, _):\n",
        "        # Relinearize around smoothed posterior from previous iteration\n",
        "        smoothed_prior = carry\n",
        "        smoothed_posterior = conditional_moments_gaussian_smoother(params, emissions, smoothed_prior, inputs)\n",
        "        return smoothed_posterior, None\n",
        "\n",
        "    smoothed_posterior, _ = lax.scan(_step, None, jnp.arange(num_iter))\n",
        "    return smoothed_posterior\n"
      ]
    },
    {
      "cell_type": "code",
      "source": [
        "# Generate data\n",
        "input, output = generate_spiral_dataset()"
      ],
      "metadata": {
        "id": "F34QW0BMI86f"
      },
      "execution_count": 49,
      "outputs": []
    },
    {
      "cell_type": "code",
      "source": [
        "# Define MLP architecture\n",
        "input_dim, hidden_dims, output_dim = 2, [15, 15], 1\n",
        "model_dims = [input_dim, *hidden_dims, output_dim]\n",
        "_, flat_params, _, apply_fn = get_mlp_flattened_params(model_dims)\n",
        "separate_params, separate_fn, aggregate_fn = separate_flat_params(model_dims)"
      ],
      "metadata": {
        "id": "iZVtX7e_JE2x"
      },
      "execution_count": 50,
      "outputs": []
    },
    {
      "cell_type": "code",
      "source": [
        "flat_params"
      ],
      "metadata": {
        "id": "gh1cIK4Frerb",
        "outputId": "098d6f16-4a0e-40c0-af32-9e5ca7246680",
        "colab": {
          "base_uri": "https://localhost:8080/"
        }
      },
      "execution_count": 59,
      "outputs": [
        {
          "output_type": "execute_result",
          "data": {
            "text/plain": [
              "DeviceArray([ 0.00000000e+00,  0.00000000e+00,  0.00000000e+00,\n",
              "              0.00000000e+00,  0.00000000e+00,  0.00000000e+00,\n",
              "              0.00000000e+00,  0.00000000e+00,  0.00000000e+00,\n",
              "              0.00000000e+00,  0.00000000e+00,  0.00000000e+00,\n",
              "              0.00000000e+00,  0.00000000e+00,  0.00000000e+00,\n",
              "              6.23636937e-04,  4.47348356e-01, -1.85422271e-01,\n",
              "              8.11419725e-01, -7.48926818e-01,  9.97562289e-01,\n",
              "             -1.00373542e+00, -5.47798693e-01,  3.81370336e-01,\n",
              "             -3.71630102e-01,  1.52731371e+00,  6.16657376e-01,\n",
              "              6.97790623e-01,  1.80017203e-01,  2.56057650e-01,\n",
              "              9.50135291e-01, -2.81636328e-01, -5.70540786e-01,\n",
              "              4.15840000e-01, -1.77929208e-01,  1.35220242e+00,\n",
              "             -1.35669485e-01, -3.09845835e-01,  1.47168845e-01,\n",
              "              1.60625327e+00,  8.23870897e-01, -7.19979644e-01,\n",
              "             -1.17572613e-01, -7.76904374e-02,  9.50893164e-01,\n",
              "              0.00000000e+00,  0.00000000e+00,  0.00000000e+00,\n",
              "              0.00000000e+00,  0.00000000e+00,  0.00000000e+00,\n",
              "              0.00000000e+00,  0.00000000e+00,  0.00000000e+00,\n",
              "              0.00000000e+00,  0.00000000e+00,  0.00000000e+00,\n",
              "              0.00000000e+00,  0.00000000e+00,  0.00000000e+00,\n",
              "             -2.56221980e-01,  1.71274185e-01,  4.12215918e-01,\n",
              "             -5.54696023e-01,  1.94446653e-01, -1.63478553e-01,\n",
              "              3.84064227e-01, -1.55598029e-01, -2.25743130e-01,\n",
              "             -2.46568420e-03,  1.78806677e-01, -1.62082925e-01,\n",
              "              2.42990345e-01,  2.10135564e-01, -8.24170858e-02,\n",
              "             -6.62456006e-02,  2.64273793e-01,  1.01214774e-01,\n",
              "             -5.48592627e-01,  1.01676635e-01,  3.93039972e-01,\n",
              "             -1.97391510e-01,  2.28557482e-01, -5.53569078e-01,\n",
              "              2.08273456e-01, -2.01522246e-01,  3.71714309e-02,\n",
              "              5.63867331e-01,  1.02262855e-01, -1.99156657e-01,\n",
              "             -1.48316145e-01, -1.11332886e-01, -1.93722844e-01,\n",
              "             -9.19088349e-02,  6.59040958e-02,  3.84414703e-01,\n",
              "             -1.18547559e-01,  1.49465397e-01,  2.32810333e-01,\n",
              "             -1.64992765e-01, -1.27513871e-01, -3.41838181e-01,\n",
              "             -3.43690187e-01, -4.84438427e-02,  7.65909329e-02,\n",
              "             -4.62361634e-01, -9.49951932e-02,  5.03987968e-01,\n",
              "             -8.83368552e-02,  3.61149043e-01, -7.89365545e-02,\n",
              "             -4.78929542e-02,  9.83532742e-02, -2.92790651e-01,\n",
              "              2.06967384e-01, -3.83878760e-02, -1.60600424e-01,\n",
              "             -1.83656871e-01, -3.06294173e-01, -5.19497633e-01,\n",
              "             -8.77010971e-02,  2.98300296e-01,  2.15515509e-01,\n",
              "              2.24336572e-02,  6.08305894e-02, -1.18920431e-01,\n",
              "             -2.51425505e-01, -5.99128082e-02,  1.67396292e-01,\n",
              "              2.09614500e-01, -9.06620622e-02,  1.27552614e-01,\n",
              "              1.47556365e-01,  4.71228063e-01,  2.18379065e-01,\n",
              "              7.79800490e-02, -1.66560858e-01, -2.26752147e-01,\n",
              "              1.30710199e-01, -1.76760077e-01,  3.41368020e-01,\n",
              "             -3.13455844e-03,  2.29399741e-01, -3.16977561e-01,\n",
              "             -1.62026182e-01,  8.48643184e-02,  7.40896016e-02,\n",
              "              1.17463805e-01, -3.97038311e-02,  2.52806157e-01,\n",
              "             -1.37474015e-01,  2.04864621e-01,  2.54392236e-01,\n",
              "              3.49221766e-01, -1.83470458e-01, -2.12787658e-01,\n",
              "             -1.31584585e-01, -3.97227593e-02,  4.08535413e-02,\n",
              "             -3.89290005e-01, -5.27773440e-01, -8.53265598e-02,\n",
              "             -2.20194012e-01, -1.90252200e-01,  3.74418616e-01,\n",
              "              1.22867346e-01,  1.49025887e-01,  4.35745060e-01,\n",
              "             -2.23678490e-03,  1.12222336e-01, -9.38674510e-02,\n",
              "             -2.15756074e-01,  1.24294423e-01, -2.60784805e-01,\n",
              "             -2.74445742e-01, -1.86035454e-01,  3.03227037e-01,\n",
              "              5.00537097e-01,  2.00986058e-01,  1.08442202e-01,\n",
              "              1.31916255e-01, -2.83719897e-01,  4.23080236e-01,\n",
              "             -3.31309080e-01,  2.76084989e-01, -8.88935253e-02,\n",
              "             -1.50848851e-02,  2.69832879e-01, -1.03087641e-01,\n",
              "              1.77704617e-01, -5.46828918e-02, -2.43719667e-01,\n",
              "              4.09770280e-01, -2.71549702e-01, -1.61452204e-01,\n",
              "              1.66527808e-01, -4.55009401e-01,  7.04721436e-02,\n",
              "              1.71921059e-01,  3.00798476e-01, -1.27879694e-01,\n",
              "             -2.31228366e-01,  5.11161834e-02, -4.60751951e-01,\n",
              "             -6.07331619e-02, -8.04091319e-02, -1.11140035e-01,\n",
              "             -2.22175702e-01, -8.57379884e-02,  1.89823434e-01,\n",
              "              1.38444975e-01,  1.48128510e-01, -5.05048156e-01,\n",
              "             -1.56153858e-01,  2.69792616e-01,  2.69074351e-01,\n",
              "             -1.61810070e-01, -2.11674925e-02, -4.57958430e-02,\n",
              "             -2.33202688e-02,  3.30739051e-01,  5.05761020e-02,\n",
              "             -2.81992555e-01,  4.34530914e-01,  6.11885227e-02,\n",
              "             -1.92928389e-01, -5.62966585e-01, -1.72913820e-01,\n",
              "             -4.69595082e-02, -1.08202927e-01,  2.71238208e-01,\n",
              "             -4.36403543e-01, -2.06225842e-01,  2.36905277e-01,\n",
              "             -6.18242919e-02, -1.05720468e-01, -5.86615622e-01,\n",
              "             -1.25602782e-01, -2.12308347e-01, -3.80201280e-01,\n",
              "             -4.97506857e-01, -3.18430930e-01, -6.72126189e-02,\n",
              "             -2.00823307e-01,  5.52448779e-02,  5.24232805e-01,\n",
              "             -2.19622061e-01,  1.54323429e-01,  3.13797109e-02,\n",
              "             -6.19445667e-02, -1.04429930e-01, -2.12741613e-01,\n",
              "              1.10825486e-01, -3.51620317e-01, -5.57848513e-01,\n",
              "             -2.59957582e-01,  4.10688639e-01, -1.19582534e-01,\n",
              "              2.05690742e-01,  3.88876677e-01, -2.80395120e-01,\n",
              "              1.81495786e-01,  9.75687727e-02, -5.17321229e-02,\n",
              "              4.41217214e-01, -4.73083742e-03, -1.01365909e-01,\n",
              "             -6.01684265e-02, -3.02733868e-01, -2.46043697e-01,\n",
              "              3.25325876e-01,  3.35761309e-02, -2.39146695e-01,\n",
              "             -1.41251892e-01, -1.98080689e-01, -7.48673007e-02,\n",
              "             -4.13233250e-01, -3.52255076e-01,  8.23639631e-02,\n",
              "              9.89070162e-02, -1.65058658e-01, -4.35805097e-02,\n",
              "             -1.70301199e-01, -3.47570926e-01,  2.92095155e-01,\n",
              "              0.00000000e+00, -2.39258021e-01,  2.42866203e-01,\n",
              "              2.44462982e-01, -6.05556108e-02, -4.14038807e-01,\n",
              "             -1.75838307e-01, -1.53799787e-01,  2.89560139e-01,\n",
              "              2.02493072e-02,  1.47991097e-02,  2.00858638e-01,\n",
              "             -6.48887902e-02, -1.57317564e-01,  4.55611087e-02,\n",
              "             -4.11254644e-01], dtype=float32)"
            ]
          },
          "metadata": {},
          "execution_count": 59
        }
      ]
    },
    {
      "cell_type": "code",
      "source": [
        "separate_params"
      ],
      "metadata": {
        "id": "2SOzQQqirZmr",
        "outputId": "217d927b-0bde-425b-eaa9-40a222e5df7f",
        "colab": {
          "base_uri": "https://localhost:8080/"
        }
      },
      "execution_count": 58,
      "outputs": [
        {
          "output_type": "execute_result",
          "data": {
            "text/plain": [
              "[DeviceArray([ 0, 15, 30], dtype=int32),\n",
              " DeviceArray([ 1, 16, 31], dtype=int32),\n",
              " DeviceArray([ 2, 17, 32], dtype=int32),\n",
              " DeviceArray([ 3, 18, 33], dtype=int32),\n",
              " DeviceArray([ 4, 19, 34], dtype=int32),\n",
              " DeviceArray([ 5, 20, 35], dtype=int32),\n",
              " DeviceArray([ 6, 21, 36], dtype=int32),\n",
              " DeviceArray([ 7, 22, 37], dtype=int32),\n",
              " DeviceArray([ 8, 23, 38], dtype=int32),\n",
              " DeviceArray([ 9, 24, 39], dtype=int32),\n",
              " DeviceArray([10, 25, 40], dtype=int32),\n",
              " DeviceArray([11, 26, 41], dtype=int32),\n",
              " DeviceArray([12, 27, 42], dtype=int32),\n",
              " DeviceArray([13, 28, 43], dtype=int32),\n",
              " DeviceArray([14, 29, 44], dtype=int32),\n",
              " DeviceArray([ 45,  60,  75,  90, 105, 120, 135, 150, 165, 180, 195, 210,\n",
              "              225, 240, 255, 270], dtype=int32),\n",
              " DeviceArray([ 46,  61,  76,  91, 106, 121, 136, 151, 166, 181, 196, 211,\n",
              "              226, 241, 256, 271], dtype=int32),\n",
              " DeviceArray([ 47,  62,  77,  92, 107, 122, 137, 152, 167, 182, 197, 212,\n",
              "              227, 242, 257, 272], dtype=int32),\n",
              " DeviceArray([ 48,  63,  78,  93, 108, 123, 138, 153, 168, 183, 198, 213,\n",
              "              228, 243, 258, 273], dtype=int32),\n",
              " DeviceArray([ 49,  64,  79,  94, 109, 124, 139, 154, 169, 184, 199, 214,\n",
              "              229, 244, 259, 274], dtype=int32),\n",
              " DeviceArray([ 50,  65,  80,  95, 110, 125, 140, 155, 170, 185, 200, 215,\n",
              "              230, 245, 260, 275], dtype=int32),\n",
              " DeviceArray([ 51,  66,  81,  96, 111, 126, 141, 156, 171, 186, 201, 216,\n",
              "              231, 246, 261, 276], dtype=int32),\n",
              " DeviceArray([ 52,  67,  82,  97, 112, 127, 142, 157, 172, 187, 202, 217,\n",
              "              232, 247, 262, 277], dtype=int32),\n",
              " DeviceArray([ 53,  68,  83,  98, 113, 128, 143, 158, 173, 188, 203, 218,\n",
              "              233, 248, 263, 278], dtype=int32),\n",
              " DeviceArray([ 54,  69,  84,  99, 114, 129, 144, 159, 174, 189, 204, 219,\n",
              "              234, 249, 264, 279], dtype=int32),\n",
              " DeviceArray([ 55,  70,  85, 100, 115, 130, 145, 160, 175, 190, 205, 220,\n",
              "              235, 250, 265, 280], dtype=int32),\n",
              " DeviceArray([ 56,  71,  86, 101, 116, 131, 146, 161, 176, 191, 206, 221,\n",
              "              236, 251, 266, 281], dtype=int32),\n",
              " DeviceArray([ 57,  72,  87, 102, 117, 132, 147, 162, 177, 192, 207, 222,\n",
              "              237, 252, 267, 282], dtype=int32),\n",
              " DeviceArray([ 58,  73,  88, 103, 118, 133, 148, 163, 178, 193, 208, 223,\n",
              "              238, 253, 268, 283], dtype=int32),\n",
              " DeviceArray([ 59,  74,  89, 104, 119, 134, 149, 164, 179, 194, 209, 224,\n",
              "              239, 254, 269, 284], dtype=int32),\n",
              " DeviceArray([285, 286, 287, 288, 289, 290, 291, 292, 293, 294, 295, 296,\n",
              "              297, 298, 299, 300], dtype=int32)]"
            ]
          },
          "metadata": {},
          "execution_count": 58
        }
      ]
    },
    {
      "cell_type": "code",
      "source": [
        "separate_fn(flat_params)"
      ],
      "metadata": {
        "id": "b7XcG46krOVX",
        "outputId": "ec5885b2-da58-41b3-eac9-3d13c7e5a9b5",
        "colab": {
          "base_uri": "https://localhost:8080/"
        }
      },
      "execution_count": 57,
      "outputs": [
        {
          "output_type": "execute_result",
          "data": {
            "text/plain": [
              "[DeviceArray([0.0000000e+00, 6.2363694e-04, 9.5013529e-01], dtype=float32),\n",
              " DeviceArray([ 0.        ,  0.44734836, -0.28163633], dtype=float32),\n",
              " DeviceArray([ 0.        , -0.18542227, -0.5705408 ], dtype=float32),\n",
              " DeviceArray([0.       , 0.8114197, 0.41584  ], dtype=float32),\n",
              " DeviceArray([ 0.        , -0.7489268 , -0.17792921], dtype=float32),\n",
              " DeviceArray([0.       , 0.9975623, 1.3522024], dtype=float32),\n",
              " DeviceArray([ 0.        , -1.0037354 , -0.13566948], dtype=float32),\n",
              " DeviceArray([ 0.        , -0.5477987 , -0.30984583], dtype=float32),\n",
              " DeviceArray([0.        , 0.38137034, 0.14716884], dtype=float32),\n",
              " DeviceArray([ 0.       , -0.3716301,  1.6062533], dtype=float32),\n",
              " DeviceArray([0.       , 1.5273137, 0.8238709], dtype=float32),\n",
              " DeviceArray([ 0.        ,  0.6166574 , -0.71997964], dtype=float32),\n",
              " DeviceArray([ 0.        ,  0.6977906 , -0.11757261], dtype=float32),\n",
              " DeviceArray([ 0.        ,  0.1800172 , -0.07769044], dtype=float32),\n",
              " DeviceArray([0.        , 0.25605765, 0.95089316], dtype=float32),\n",
              " DeviceArray([ 0.        , -0.25622198, -0.0662456 , -0.14831614,\n",
              "              -0.46236163, -0.0877011 ,  0.07798005, -0.13747402,\n",
              "               0.12286735,  0.13191625,  0.16652781,  0.13844498,\n",
              "              -0.19292839, -0.49750686, -0.25995758,  0.32532588],            dtype=float32),\n",
              " DeviceArray([ 0.        ,  0.17127419,  0.2642738 , -0.11133289,\n",
              "              -0.09499519,  0.2983003 , -0.16656086,  0.20486462,\n",
              "               0.14902589, -0.2837199 , -0.4550094 ,  0.14812851,\n",
              "              -0.5629666 , -0.31843093,  0.41068864,  0.03357613],            dtype=float32),\n",
              " DeviceArray([ 0.        ,  0.41221592,  0.10121477, -0.19372284,\n",
              "               0.50398797,  0.21551551, -0.22675215,  0.25439224,\n",
              "               0.43574506,  0.42308024,  0.07047214, -0.50504816,\n",
              "              -0.17291382, -0.06721262, -0.11958253, -0.2391467 ],            dtype=float32),\n",
              " DeviceArray([ 0.        , -0.554696  , -0.5485926 , -0.09190883,\n",
              "              -0.08833686,  0.02243366,  0.1307102 ,  0.34922177,\n",
              "              -0.00223678, -0.33130908,  0.17192106, -0.15615386,\n",
              "              -0.04695951, -0.2008233 ,  0.20569074, -0.14125189],            dtype=float32),\n",
              " DeviceArray([ 0.        ,  0.19444665,  0.10167664,  0.0659041 ,\n",
              "               0.36114904,  0.06083059, -0.17676008, -0.18347046,\n",
              "               0.11222234,  0.276085  ,  0.30079848,  0.26979262,\n",
              "              -0.10820293,  0.05524488,  0.38887668, -0.19808069],            dtype=float32),\n",
              " DeviceArray([ 0.        , -0.16347855,  0.39303997,  0.3844147 ,\n",
              "              -0.07893655, -0.11892043,  0.34136802, -0.21278766,\n",
              "              -0.09386745, -0.08889353, -0.1278797 ,  0.26907435,\n",
              "               0.2712382 ,  0.5242328 , -0.28039512, -0.0748673 ],            dtype=float32),\n",
              " DeviceArray([ 0.        ,  0.38406423, -0.19739151, -0.11854756,\n",
              "              -0.04789295, -0.2514255 , -0.00313456, -0.13158458,\n",
              "              -0.21575607, -0.01508489, -0.23122837, -0.16181007,\n",
              "              -0.43640354, -0.21962206,  0.18149579, -0.41323325],            dtype=float32),\n",
              " DeviceArray([ 0.        , -0.15559803,  0.22855748,  0.1494654 ,\n",
              "               0.09835327, -0.05991281,  0.22939974, -0.03972276,\n",
              "               0.12429442,  0.26983288,  0.05111618, -0.02116749,\n",
              "              -0.20622584,  0.15432343,  0.09756877, -0.35225508],            dtype=float32),\n",
              " DeviceArray([ 0.        , -0.22574313, -0.5535691 ,  0.23281033,\n",
              "              -0.29279065,  0.16739629, -0.31697756,  0.04085354,\n",
              "              -0.2607848 , -0.10308764, -0.46075195, -0.04579584,\n",
              "               0.23690528,  0.03137971, -0.05173212,  0.08236396],            dtype=float32),\n",
              " DeviceArray([ 0.        , -0.00246568,  0.20827346, -0.16499276,\n",
              "               0.20696738,  0.2096145 , -0.16202618, -0.38929   ,\n",
              "              -0.27444574,  0.17770462, -0.06073316, -0.02332027,\n",
              "              -0.06182429, -0.06194457,  0.4412172 ,  0.09890702],            dtype=float32),\n",
              " DeviceArray([ 0.        ,  0.17880668, -0.20152225, -0.12751387,\n",
              "              -0.03838788, -0.09066206,  0.08486432, -0.52777344,\n",
              "              -0.18603545, -0.05468289, -0.08040913,  0.33073905,\n",
              "              -0.10572047, -0.10442993, -0.00473084, -0.16505866],            dtype=float32),\n",
              " DeviceArray([ 0.        , -0.16208293,  0.03717143, -0.34183818,\n",
              "              -0.16060042,  0.12755261,  0.0740896 , -0.08532656,\n",
              "               0.30322704, -0.24371967, -0.11114004,  0.0505761 ,\n",
              "              -0.5866156 , -0.21274161, -0.10136591, -0.04358051],            dtype=float32),\n",
              " DeviceArray([ 0.        ,  0.24299034,  0.56386733, -0.3436902 ,\n",
              "              -0.18365687,  0.14755636,  0.1174638 , -0.22019401,\n",
              "               0.5005371 ,  0.40977028, -0.2221757 , -0.28199255,\n",
              "              -0.12560278,  0.11082549, -0.06016843, -0.1703012 ],            dtype=float32),\n",
              " DeviceArray([ 0.        ,  0.21013556,  0.10226285, -0.04844384,\n",
              "              -0.30629417,  0.47122806, -0.03970383, -0.1902522 ,\n",
              "               0.20098606, -0.2715497 , -0.08573799,  0.4345309 ,\n",
              "              -0.21230835, -0.35162032, -0.30273387, -0.34757093],            dtype=float32),\n",
              " DeviceArray([ 0.        , -0.08241709, -0.19915666,  0.07659093,\n",
              "              -0.51949763,  0.21837907,  0.25280616,  0.37441862,\n",
              "               0.1084422 , -0.1614522 ,  0.18982343,  0.06118852,\n",
              "              -0.38020128, -0.5578485 , -0.2460437 ,  0.29209515],            dtype=float32),\n",
              " DeviceArray([ 0.        , -0.23925802,  0.2428662 ,  0.24446298,\n",
              "              -0.06055561, -0.4140388 , -0.1758383 , -0.15379979,\n",
              "               0.28956014,  0.02024931,  0.01479911,  0.20085864,\n",
              "              -0.06488879, -0.15731756,  0.04556111, -0.41125464],            dtype=float32)]"
            ]
          },
          "metadata": {},
          "execution_count": 57
        }
      ]
    },
    {
      "cell_type": "code",
      "source": [
        "initial_means = separate_fn(flat_params)\n",
        "input_dims = [len(x) for x in initial_means]\n",
        "initial_covariances = [jnp.eye(dim) for dim in input_dims]"
      ],
      "metadata": {
        "id": "FdsyUt7OJlMY"
      },
      "execution_count": 51,
      "outputs": []
    },
    {
      "cell_type": "code",
      "source": [
        "# Some model parameters and helper funciton\n",
        "state_dim, emission_dim = flat_params.size, output_dim\n",
        "sigmoid_fn = lambda w, x: jax.nn.sigmoid(apply_fn(w, x))\n",
        "\n",
        "# Run CMGF-EKF to train the MLP Classifier\n",
        "cmgf_ekf_params = EKFParams(\n",
        "    initial_mean=initial_means,\n",
        "    initial_covariance=initial_covariances,\n",
        "    dynamics_function=lambda w, x: w,\n",
        "    dynamics_covariance=jnp.eye(state_dim) * 1e-4,\n",
        "    emission_mean_function = lambda w, x: sigmoid_fn(w, x),\n",
        "    emission_cov_function = lambda w, x: sigmoid_fn(w, x) * (1 - sigmoid_fn(w, x))\n",
        ")\n",
        "cmgf_ekf_post = decoupled_conditional_moments_gaussian_filter(cmgf_ekf_params, aggregate_fn, output, inputs=input)\n",
        "\n",
        "# Extract history of filtered weight values\n",
        "w_means, w_covs = cmgf_ekf_post.filtered_means, cmgf_ekf_post.filtered_covariances"
      ],
      "metadata": {
        "colab": {
          "base_uri": "https://localhost:8080/",
          "height": 1000
        },
        "id": "_Gwj9ZueI-Bp",
        "outputId": "ec0042dc-6498-4a99-c129-b0e1cf142cc8"
      },
      "execution_count": 52,
      "outputs": [
        {
          "output_type": "display_data",
          "data": {
            "text/plain": [
              "<IPython.core.display.HTML object>"
            ],
            "text/html": [
              "<div id=\"tag-a503475e-64ce-45c2-a6ed-f9c22ee1575f\"></div>"
            ]
          },
          "metadata": {}
        },
        {
          "output_type": "display_data",
          "data": {
            "text/plain": [
              "<IPython.core.display.Javascript object>"
            ],
            "application/javascript": [
              "window[\"6924cc6e-3888-11ed-8c08-0242ac1c0002\"] = google.colab.output.getActiveOutputArea();\n",
              "//# sourceURL=js_3a4566a216"
            ]
          },
          "metadata": {}
        },
        {
          "output_type": "display_data",
          "data": {
            "text/plain": [
              "<IPython.core.display.Javascript object>"
            ],
            "application/javascript": [
              "window[\"69262032-3888-11ed-8c08-0242ac1c0002\"] = document.querySelector(\"#tag-a503475e-64ce-45c2-a6ed-f9c22ee1575f\");\n",
              "//# sourceURL=js_90fd36c04c"
            ]
          },
          "metadata": {}
        },
        {
          "output_type": "display_data",
          "data": {
            "text/plain": [
              "<IPython.core.display.Javascript object>"
            ],
            "application/javascript": [
              "window[\"6927bfc8-3888-11ed-8c08-0242ac1c0002\"] = google.colab.output.setActiveOutputArea(window[\"69262032-3888-11ed-8c08-0242ac1c0002\"]);\n",
              "//# sourceURL=js_42b7b7fe6d"
            ]
          },
          "metadata": {}
        },
        {
          "output_type": "display_data",
          "data": {
            "text/plain": [
              "<IPython.core.display.HTML object>"
            ],
            "text/html": [
              "<div style=\"background-color: var(--colab-secondary-surface-color); color: var(--colab-primary-text-color); padding: 5px 5px 5px 5px; font-weight: bold;\"><span>Breakpoint</span></div>"
            ]
          },
          "metadata": {}
        },
        {
          "output_type": "display_data",
          "data": {
            "text/plain": [
              "<IPython.core.display.Javascript object>"
            ],
            "application/javascript": [
              "window[\"692a5710-3888-11ed-8c08-0242ac1c0002\"] = google.colab.output.setActiveOutputArea(window[\"6924cc6e-3888-11ed-8c08-0242ac1c0002\"]);\n",
              "//# sourceURL=js_019889bdcc"
            ]
          },
          "metadata": {}
        },
        {
          "output_type": "display_data",
          "data": {
            "text/plain": [
              "<IPython.core.display.HTML object>"
            ],
            "text/html": [
              "<div id=\"tag-edf11864-4e10-4461-8430-7f30697f9dc0\"></div>"
            ]
          },
          "metadata": {}
        },
        {
          "output_type": "display_data",
          "data": {
            "text/plain": [
              "<IPython.core.display.Javascript object>"
            ],
            "application/javascript": [
              "window[\"6931598e-3888-11ed-8c08-0242ac1c0002\"] = google.colab.output.getActiveOutputArea();\n",
              "//# sourceURL=js_535c4239aa"
            ]
          },
          "metadata": {}
        },
        {
          "output_type": "display_data",
          "data": {
            "text/plain": [
              "<IPython.core.display.Javascript object>"
            ],
            "application/javascript": [
              "window[\"69324e84-3888-11ed-8c08-0242ac1c0002\"] = document.querySelector(\"#tag-edf11864-4e10-4461-8430-7f30697f9dc0\");\n",
              "//# sourceURL=js_0205721c3d"
            ]
          },
          "metadata": {}
        },
        {
          "output_type": "display_data",
          "data": {
            "text/plain": [
              "<IPython.core.display.Javascript object>"
            ],
            "application/javascript": [
              "window[\"6932c756-3888-11ed-8c08-0242ac1c0002\"] = google.colab.output.setActiveOutputArea(window[\"69324e84-3888-11ed-8c08-0242ac1c0002\"]);\n",
              "//# sourceURL=js_b0304e4eef"
            ]
          },
          "metadata": {}
        },
        {
          "output_type": "display_data",
          "data": {
            "text/plain": [
              "<IPython.core.display.HTML object>"
            ],
            "text/html": [
              "<div style=\"padding: 5px 5px 5px 5px; background-color: var(--colab-highlighted-surface-color);\"><pre><code>&lt;ipython-input-48-c261398d8347&gt;(246)</code></pre></div>"
            ]
          },
          "metadata": {}
        },
        {
          "output_type": "display_data",
          "data": {
            "text/plain": [
              "<IPython.core.display.Javascript object>"
            ],
            "application/javascript": [
              "window[\"69345954-3888-11ed-8c08-0242ac1c0002\"] = google.colab.output.setActiveOutputArea(window[\"6931598e-3888-11ed-8c08-0242ac1c0002\"]);\n",
              "//# sourceURL=js_ab52965151"
            ]
          },
          "metadata": {}
        },
        {
          "output_type": "display_data",
          "data": {
            "text/plain": [
              "<IPython.core.display.HTML object>"
            ],
            "text/html": [
              "<div id=\"tag-135569cf-3e46-4441-95fb-1b4876a875b7\"></div>"
            ]
          },
          "metadata": {}
        },
        {
          "output_type": "display_data",
          "data": {
            "text/plain": [
              "<IPython.core.display.Javascript object>"
            ],
            "application/javascript": [
              "window[\"69b0ed0c-3888-11ed-8c08-0242ac1c0002\"] = google.colab.output.getActiveOutputArea();\n",
              "//# sourceURL=js_8dabb428cc"
            ]
          },
          "metadata": {}
        },
        {
          "output_type": "display_data",
          "data": {
            "text/plain": [
              "<IPython.core.display.Javascript object>"
            ],
            "application/javascript": [
              "window[\"69b1f7b0-3888-11ed-8c08-0242ac1c0002\"] = document.querySelector(\"#tag-135569cf-3e46-4441-95fb-1b4876a875b7\");\n",
              "//# sourceURL=js_4a51aa8a95"
            ]
          },
          "metadata": {}
        },
        {
          "output_type": "display_data",
          "data": {
            "text/plain": [
              "<IPython.core.display.Javascript object>"
            ],
            "application/javascript": [
              "window[\"69b3150a-3888-11ed-8c08-0242ac1c0002\"] = google.colab.output.setActiveOutputArea(window[\"69b1f7b0-3888-11ed-8c08-0242ac1c0002\"]);\n",
              "//# sourceURL=js_3731622cb9"
            ]
          },
          "metadata": {}
        },
        {
          "output_type": "display_data",
          "data": {
            "text/plain": [
              "<IPython.core.display.HTML object>"
            ],
            "text/html": [
              "<div id=\"code-e62e7e7b-fa8a-4278-b2e0-c6e6c03ee9a7\" style=\"max-height: 500px; overflow-y: scroll; background-color: var(--colab-border-color); padding: 5px 5px 5px 5px;\"><style>.hll { background-color: #4e56b7 }\n",
              ".c { color: #75715e } /* Comment */\n",
              ".err { color: #960050; background-color: #1e0010 } /* Error */\n",
              ".k { color: #66d9ef } /* Keyword */\n",
              ".l { color: #ae81ff } /* Literal */\n",
              ".n { color: #f8f8f2 } /* Name */\n",
              ".o { color: #f92672 } /* Operator */\n",
              ".p { color: #f8f8f2 } /* Punctuation */\n",
              ".ch { color: #75715e } /* Comment.Hashbang */\n",
              ".cm { color: #75715e } /* Comment.Multiline */\n",
              ".cp { color: #75715e } /* Comment.Preproc */\n",
              ".cpf { color: #75715e } /* Comment.PreprocFile */\n",
              ".c1 { color: #75715e } /* Comment.Single */\n",
              ".cs { color: #75715e } /* Comment.Special */\n",
              ".gd { color: #f92672 } /* Generic.Deleted */\n",
              ".ge { font-style: italic } /* Generic.Emph */\n",
              ".gi { color: #a6e22e } /* Generic.Inserted */\n",
              ".go { color: #66d9ef } /* Generic.Output */\n",
              ".gp { color: #f92672; font-weight: bold } /* Generic.Prompt */\n",
              ".gs { font-weight: bold } /* Generic.Strong */\n",
              ".gu { color: #75715e } /* Generic.Subheading */\n",
              ".kc { color: #66d9ef } /* Keyword.Constant */\n",
              ".kd { color: #66d9ef } /* Keyword.Declaration */\n",
              ".kn { color: #f92672 } /* Keyword.Namespace */\n",
              ".kp { color: #66d9ef } /* Keyword.Pseudo */\n",
              ".kr { color: #66d9ef } /* Keyword.Reserved */\n",
              ".kt { color: #66d9ef } /* Keyword.Type */\n",
              ".ld { color: #e6db74 } /* Literal.Date */\n",
              ".m { color: #ae81ff } /* Literal.Number */\n",
              ".s { color: #e6db74 } /* Literal.String */\n",
              ".na { color: #a6e22e } /* Name.Attribute */\n",
              ".nb { color: #f8f8f2 } /* Name.Builtin */\n",
              ".nc { color: #a6e22e } /* Name.Class */\n",
              ".no { color: #66d9ef } /* Name.Constant */\n",
              ".nd { color: #a6e22e } /* Name.Decorator */\n",
              ".ni { color: #f8f8f2 } /* Name.Entity */\n",
              ".ne { color: #a6e22e } /* Name.Exception */\n",
              ".nf { color: #a6e22e } /* Name.Function */\n",
              ".nl { color: #f8f8f2 } /* Name.Label */\n",
              ".nn { color: #f8f8f2 } /* Name.Namespace */\n",
              ".nx { color: #a6e22e } /* Name.Other */\n",
              ".py { color: #f8f8f2 } /* Name.Property */\n",
              ".nt { color: #f92672 } /* Name.Tag */\n",
              ".nv { color: #f8f8f2 } /* Name.Variable */\n",
              ".ow { color: #f92672 } /* Operator.Word */\n",
              ".w { color: #f8f8f2 } /* Text.Whitespace */\n",
              ".mb { color: #ae81ff } /* Literal.Number.Bin */\n",
              ".mf { color: #ae81ff } /* Literal.Number.Float */\n",
              ".mh { color: #ae81ff } /* Literal.Number.Hex */\n",
              ".mi { color: #ae81ff } /* Literal.Number.Integer */\n",
              ".mo { color: #ae81ff } /* Literal.Number.Oct */\n",
              ".sa { color: #e6db74 } /* Literal.String.Affix */\n",
              ".sb { color: #e6db74 } /* Literal.String.Backtick */\n",
              ".sc { color: #e6db74 } /* Literal.String.Char */\n",
              ".dl { color: #e6db74 } /* Literal.String.Delimiter */\n",
              ".sd { color: #e6db74 } /* Literal.String.Doc */\n",
              ".s2 { color: #e6db74 } /* Literal.String.Double */\n",
              ".se { color: #ae81ff } /* Literal.String.Escape */\n",
              ".sh { color: #e6db74 } /* Literal.String.Heredoc */\n",
              ".si { color: #e6db74 } /* Literal.String.Interpol */\n",
              ".sx { color: #e6db74 } /* Literal.String.Other */\n",
              ".sr { color: #e6db74 } /* Literal.String.Regex */\n",
              ".s1 { color: #e6db74 } /* Literal.String.Single */\n",
              ".ss { color: #e6db74 } /* Literal.String.Symbol */\n",
              ".bp { color: #f8f8f2 } /* Name.Builtin.Pseudo */\n",
              ".fm { color: #a6e22e } /* Name.Function.Magic */\n",
              ".vc { color: #f8f8f2 } /* Name.Variable.Class */\n",
              ".vg { color: #f8f8f2 } /* Name.Variable.Global */\n",
              ".vi { color: #f8f8f2 } /* Name.Variable.Instance */\n",
              ".vm { color: #f8f8f2 } /* Name.Variable.Magic */\n",
              ".il { color: #ae81ff } /* Literal.Number.Integer.Long */</style>\n",
              "<table class=\"highlighttable\"><tr><td class=\"linenos\"><div class=\"linenodiv\"><pre>212\n",
              "213\n",
              "214\n",
              "215\n",
              "216\n",
              "217\n",
              "218\n",
              "219\n",
              "220\n",
              "221\n",
              "222\n",
              "223\n",
              "224\n",
              "225\n",
              "226\n",
              "227\n",
              "228\n",
              "229\n",
              "230\n",
              "231\n",
              "232\n",
              "233\n",
              "234\n",
              "235\n",
              "236\n",
              "237\n",
              "238\n",
              "239\n",
              "240\n",
              "241\n",
              "242\n",
              "243\n",
              "244\n",
              "245\n",
              "246\n",
              "247\n",
              "248</pre></div></td><td class=\"code\"><div class=\"highlight\"><pre><span></span><span class=\"k\">def</span> <span class=\"nf\">decoupled_conditional_moments_gaussian_filter</span><span class=\"p\">(</span><span class=\"n\">params</span><span class=\"p\">,</span> <span class=\"n\">aggregate_fn</span><span class=\"p\">,</span> <span class=\"n\">emissions</span><span class=\"p\">,</span> <span class=\"n\">num_iter</span><span class=\"o\">=</span><span class=\"mi\">1</span><span class=\"p\">,</span> <span class=\"n\">inputs</span><span class=\"o\">=</span><span class=\"kc\">None</span><span class=\"p\">):</span>\n",
              "    <span class=\"n\">num_timesteps</span> <span class=\"o\">=</span> <span class=\"nb\">len</span><span class=\"p\">(</span><span class=\"n\">emissions</span><span class=\"p\">)</span>\n",
              "\n",
              "    <span class=\"c1\"># Process dynamics function and conditional emission moments to take in control inputs</span>\n",
              "    <span class=\"n\">f</span> <span class=\"o\">=</span> <span class=\"n\">params</span><span class=\"o\">.</span><span class=\"n\">dynamics_function</span>\n",
              "    <span class=\"n\">m_Y</span><span class=\"p\">,</span> <span class=\"n\">Cov_Y</span> <span class=\"o\">=</span> <span class=\"n\">params</span><span class=\"o\">.</span><span class=\"n\">emission_mean_function</span><span class=\"p\">,</span> <span class=\"n\">params</span><span class=\"o\">.</span><span class=\"n\">emission_cov_function</span>\n",
              "    <span class=\"n\">f</span><span class=\"p\">,</span> <span class=\"n\">m_Y</span><span class=\"p\">,</span> <span class=\"n\">Cov_Y</span>  <span class=\"o\">=</span> <span class=\"p\">(</span><span class=\"n\">_process_fn</span><span class=\"p\">(</span><span class=\"n\">fn</span><span class=\"p\">,</span> <span class=\"n\">inputs</span><span class=\"p\">)</span> <span class=\"k\">for</span> <span class=\"n\">fn</span> <span class=\"ow\">in</span> <span class=\"p\">(</span><span class=\"n\">f</span><span class=\"p\">,</span> <span class=\"n\">m_Y</span><span class=\"p\">,</span> <span class=\"n\">Cov_Y</span><span class=\"p\">))</span>\n",
              "    <span class=\"n\">inputs</span> <span class=\"o\">=</span> <span class=\"n\">_process_input</span><span class=\"p\">(</span><span class=\"n\">inputs</span><span class=\"p\">,</span> <span class=\"n\">num_timesteps</span><span class=\"p\">)</span>\n",
              "\n",
              "    <span class=\"c1\"># Gaussian expectation value function</span>\n",
              "    <span class=\"n\">g_ev</span> <span class=\"o\">=</span> <span class=\"n\">params</span><span class=\"o\">.</span><span class=\"n\">gaussian_expectation</span>\n",
              "    <span class=\"n\">g_cov</span> <span class=\"o\">=</span> <span class=\"n\">params</span><span class=\"o\">.</span><span class=\"n\">gaussian_cross_covariance</span>\n",
              "\n",
              "    <span class=\"k\">def</span> <span class=\"nf\">_step</span><span class=\"p\">(</span><span class=\"n\">carry</span><span class=\"p\">,</span> <span class=\"n\">t</span><span class=\"p\">):</span>\n",
              "        <span class=\"n\">jax</span><span class=\"o\">.</span><span class=\"n\">debug</span><span class=\"o\">.</span><span class=\"n\">breakpoint</span><span class=\"p\">()</span>\n",
              "        <span class=\"n\">ll</span><span class=\"p\">,</span> <span class=\"n\">pred_means</span><span class=\"p\">,</span> <span class=\"n\">pred_covs</span> <span class=\"o\">=</span> <span class=\"n\">carry</span>\n",
              "\n",
              "        <span class=\"c1\"># Get parameters and inputs for time index t</span>\n",
              "        <span class=\"n\">Q</span> <span class=\"o\">=</span> <span class=\"n\">_get_params</span><span class=\"p\">(</span><span class=\"n\">params</span><span class=\"o\">.</span><span class=\"n\">dynamics_covariance</span><span class=\"p\">,</span> <span class=\"mi\">2</span><span class=\"p\">,</span> <span class=\"n\">t</span><span class=\"p\">)</span>\n",
              "        <span class=\"n\">u</span> <span class=\"o\">=</span> <span class=\"n\">inputs</span><span class=\"p\">[</span><span class=\"n\">t</span><span class=\"p\">]</span>\n",
              "        <span class=\"n\">y</span> <span class=\"o\">=</span> <span class=\"n\">emissions</span><span class=\"p\">[</span><span class=\"n\">t</span><span class=\"p\">]</span>\n",
              "\n",
              "        <span class=\"c1\"># Condition on the emission</span>\n",
              "        <span class=\"n\">log_likelihood</span><span class=\"p\">,</span> <span class=\"n\">filtered_means</span><span class=\"p\">,</span> <span class=\"n\">filtered_covs</span> <span class=\"o\">=</span> <span class=\"n\">_decoupled_condition_on</span><span class=\"p\">(</span><span class=\"n\">pred_means</span><span class=\"p\">,</span> <span class=\"n\">pred_covs</span><span class=\"p\">,</span> <span class=\"n\">aggregate_fn</span><span class=\"p\">,</span> \n",
              "                                                                                <span class=\"n\">m_Y</span><span class=\"p\">,</span> <span class=\"n\">Cov_Y</span><span class=\"p\">,</span> <span class=\"n\">u</span><span class=\"p\">,</span> <span class=\"n\">y</span><span class=\"p\">,</span> <span class=\"n\">g_ev</span><span class=\"p\">,</span> <span class=\"n\">g_cov</span><span class=\"p\">,</span> <span class=\"n\">num_iter</span><span class=\"p\">)</span>\n",
              "        <span class=\"n\">ll</span> <span class=\"o\">+=</span> <span class=\"n\">log_likelihood</span>\n",
              "\n",
              "        <span class=\"c1\"># Predict the next state</span>\n",
              "        <span class=\"n\">pred_means</span><span class=\"p\">,</span> <span class=\"n\">pred_covs</span><span class=\"p\">,</span> <span class=\"n\">_</span> <span class=\"o\">=</span> <span class=\"n\">_predict</span><span class=\"p\">(</span><span class=\"n\">filtered_means</span><span class=\"p\">,</span> <span class=\"n\">filtered_covs</span><span class=\"p\">,</span> <span class=\"n\">f</span><span class=\"p\">,</span> <span class=\"n\">Q</span><span class=\"p\">,</span> <span class=\"n\">u</span><span class=\"p\">,</span> <span class=\"n\">g_ev</span><span class=\"p\">,</span> <span class=\"n\">g_cov</span><span class=\"p\">)</span>\n",
              "\n",
              "        <span class=\"k\">return</span> <span class=\"p\">(</span><span class=\"n\">ll</span><span class=\"p\">,</span> <span class=\"n\">pred_means</span><span class=\"p\">,</span> <span class=\"n\">pred_covs</span><span class=\"p\">),</span> <span class=\"p\">(</span><span class=\"n\">filtered_means</span><span class=\"p\">,</span> <span class=\"n\">filtered_covs</span><span class=\"p\">)</span>\n",
              "\n",
              "    <span class=\"c1\"># Run the general linearization filter</span>\n",
              "    <span class=\"n\">carry</span> <span class=\"o\">=</span> <span class=\"p\">(</span><span class=\"mf\">0.0</span><span class=\"p\">,</span> <span class=\"n\">params</span><span class=\"o\">.</span><span class=\"n\">initial_mean</span><span class=\"p\">,</span> <span class=\"n\">params</span><span class=\"o\">.</span><span class=\"n\">initial_covariance</span><span class=\"p\">)</span>\n",
              "<span class=\"hll\">    <span class=\"n\">jax</span><span class=\"o\">.</span><span class=\"n\">debug</span><span class=\"o\">.</span><span class=\"n\">breakpoint</span><span class=\"p\">()</span>\n",
              "</span>    <span class=\"p\">(</span><span class=\"n\">ll</span><span class=\"p\">,</span> <span class=\"n\">_</span><span class=\"p\">,</span> <span class=\"n\">_</span><span class=\"p\">),</span> <span class=\"p\">(</span><span class=\"n\">filtered_means</span><span class=\"p\">,</span> <span class=\"n\">filtered_covs</span><span class=\"p\">)</span> <span class=\"o\">=</span> <span class=\"n\">lax</span><span class=\"o\">.</span><span class=\"n\">scan</span><span class=\"p\">(</span><span class=\"n\">_step</span><span class=\"p\">,</span> <span class=\"n\">carry</span><span class=\"p\">,</span> <span class=\"n\">jnp</span><span class=\"o\">.</span><span class=\"n\">arange</span><span class=\"p\">(</span><span class=\"n\">num_timesteps</span><span class=\"p\">))</span>\n",
              "    <span class=\"k\">return</span> <span class=\"n\">GSSMPosterior</span><span class=\"p\">(</span><span class=\"n\">marginal_loglik</span><span class=\"o\">=</span><span class=\"n\">ll</span><span class=\"p\">,</span> <span class=\"n\">filtered_means</span><span class=\"o\">=</span><span class=\"n\">filtered_means</span><span class=\"p\">,</span> <span class=\"n\">filtered_covariances</span><span class=\"o\">=</span><span class=\"n\">filtered_covs</span><span class=\"p\">)</span>\n",
              "</pre></div>\n",
              "</td></tr></table></div>"
            ]
          },
          "metadata": {}
        },
        {
          "output_type": "display_data",
          "data": {
            "text/plain": [
              "<IPython.core.display.Javascript object>"
            ],
            "application/javascript": [
              "window[\"69b55f04-3888-11ed-8c08-0242ac1c0002\"] = google.colab.output.setActiveOutputArea(window[\"69b0ed0c-3888-11ed-8c08-0242ac1c0002\"]);\n",
              "//# sourceURL=js_93e7ba9d1c"
            ]
          },
          "metadata": {}
        },
        {
          "output_type": "display_data",
          "data": {
            "text/plain": [
              "<IPython.core.display.HTML object>"
            ],
            "text/html": [
              "<div id=\"tag-069e97f5-c190-4aab-8e74-c9700079111c\"></div>"
            ]
          },
          "metadata": {}
        },
        {
          "output_type": "display_data",
          "data": {
            "text/plain": [
              "<IPython.core.display.Javascript object>"
            ],
            "application/javascript": [
              "window[\"6a061be2-3888-11ed-8c08-0242ac1c0002\"] = google.colab.output.getActiveOutputArea();\n",
              "//# sourceURL=js_925b2597e0"
            ]
          },
          "metadata": {}
        },
        {
          "output_type": "display_data",
          "data": {
            "text/plain": [
              "<IPython.core.display.Javascript object>"
            ],
            "application/javascript": [
              "window[\"6a06de92-3888-11ed-8c08-0242ac1c0002\"] = document.querySelector(\"#tag-069e97f5-c190-4aab-8e74-c9700079111c\");\n",
              "//# sourceURL=js_2a52a084a0"
            ]
          },
          "metadata": {}
        },
        {
          "output_type": "display_data",
          "data": {
            "text/plain": [
              "<IPython.core.display.Javascript object>"
            ],
            "application/javascript": [
              "window[\"6a079f6c-3888-11ed-8c08-0242ac1c0002\"] = google.colab.output.setActiveOutputArea(window[\"6a06de92-3888-11ed-8c08-0242ac1c0002\"]);\n",
              "//# sourceURL=js_a5783b59f0"
            ]
          },
          "metadata": {}
        },
        {
          "output_type": "display_data",
          "data": {
            "text/plain": [
              "<IPython.core.display.HTML object>"
            ],
            "text/html": [
              "<div></div>"
            ]
          },
          "metadata": {}
        },
        {
          "output_type": "display_data",
          "data": {
            "text/plain": [
              "<IPython.core.display.Javascript object>"
            ],
            "application/javascript": [
              "window[\"6a08ea70-3888-11ed-8c08-0242ac1c0002\"] = google.colab.output.setActiveOutputArea(window[\"6a061be2-3888-11ed-8c08-0242ac1c0002\"]);\n",
              "//# sourceURL=js_d9fc22d14c"
            ]
          },
          "metadata": {}
        },
        {
          "output_type": "display_data",
          "data": {
            "text/plain": [
              "<IPython.core.display.Javascript object>"
            ],
            "application/javascript": [
              "window[\"6a0a7d7c-3888-11ed-8c08-0242ac1c0002\"] = google.colab.output.getActiveOutputArea();\n",
              "//# sourceURL=js_eb16d44a74"
            ]
          },
          "metadata": {}
        },
        {
          "output_type": "display_data",
          "data": {
            "text/plain": [
              "<IPython.core.display.Javascript object>"
            ],
            "application/javascript": [
              "window[\"6a0af162-3888-11ed-8c08-0242ac1c0002\"] = document.querySelector(\"#tag-069e97f5-c190-4aab-8e74-c9700079111c\");\n",
              "//# sourceURL=js_f9e5719acf"
            ]
          },
          "metadata": {}
        },
        {
          "output_type": "display_data",
          "data": {
            "text/plain": [
              "<IPython.core.display.Javascript object>"
            ],
            "application/javascript": [
              "window[\"6a0b65ca-3888-11ed-8c08-0242ac1c0002\"] = google.colab.output.setActiveOutputArea(window[\"6a0af162-3888-11ed-8c08-0242ac1c0002\"]);\n",
              "//# sourceURL=js_b4f6158471"
            ]
          },
          "metadata": {}
        },
        {
          "output_type": "display_data",
          "data": {
            "text/plain": [
              "<IPython.core.display.HTML object>"
            ],
            "text/html": [
              "<pre>Entering jdb:\n",
              "</pre>"
            ]
          },
          "metadata": {}
        },
        {
          "output_type": "display_data",
          "data": {
            "text/plain": [
              "<IPython.core.display.Javascript object>"
            ],
            "application/javascript": [
              "window[\"6a0c3d42-3888-11ed-8c08-0242ac1c0002\"] = google.colab.output.setActiveOutputArea(window[\"6a0a7d7c-3888-11ed-8c08-0242ac1c0002\"]);\n",
              "//# sourceURL=js_22bd187bd0"
            ]
          },
          "metadata": {}
        },
        {
          "output_type": "display_data",
          "data": {
            "text/plain": [
              "<IPython.core.display.Javascript object>"
            ],
            "application/javascript": [
              "window[\"6a0dbb9a-3888-11ed-8c08-0242ac1c0002\"] = google.colab.output.getActiveOutputArea();\n",
              "//# sourceURL=js_82654f35f3"
            ]
          },
          "metadata": {}
        },
        {
          "output_type": "display_data",
          "data": {
            "text/plain": [
              "<IPython.core.display.Javascript object>"
            ],
            "application/javascript": [
              "window[\"6a0e33f4-3888-11ed-8c08-0242ac1c0002\"] = document.querySelector(\"#tag-069e97f5-c190-4aab-8e74-c9700079111c\");\n",
              "//# sourceURL=js_46f28ee49c"
            ]
          },
          "metadata": {}
        },
        {
          "output_type": "display_data",
          "data": {
            "text/plain": [
              "<IPython.core.display.Javascript object>"
            ],
            "application/javascript": [
              "window[\"6a0eaf1e-3888-11ed-8c08-0242ac1c0002\"] = google.colab.output.setActiveOutputArea(window[\"6a0e33f4-3888-11ed-8c08-0242ac1c0002\"]);\n",
              "//# sourceURL=js_2c65c7eecc"
            ]
          },
          "metadata": {}
        },
        {
          "output_type": "display_data",
          "data": {
            "text/plain": [
              "<IPython.core.display.HTML object>"
            ],
            "text/html": [
              "<pre>(jdb) </pre>"
            ]
          },
          "metadata": {}
        },
        {
          "output_type": "display_data",
          "data": {
            "text/plain": [
              "<IPython.core.display.Javascript object>"
            ],
            "application/javascript": [
              "window[\"6a0f9852-3888-11ed-8c08-0242ac1c0002\"] = google.colab.output.setActiveOutputArea(window[\"6a0dbb9a-3888-11ed-8c08-0242ac1c0002\"]);\n",
              "//# sourceURL=js_0e89f9c461"
            ]
          },
          "metadata": {}
        },
        {
          "output_type": "display_data",
          "data": {
            "text/plain": [
              "<IPython.core.display.Javascript object>"
            ],
            "application/javascript": [
              "window[\"73a7f9f4-3888-11ed-8c08-0242ac1c0002\"] = google.colab.output.getActiveOutputArea();\n",
              "//# sourceURL=js_a8aa383a33"
            ]
          },
          "metadata": {}
        },
        {
          "output_type": "display_data",
          "data": {
            "text/plain": [
              "<IPython.core.display.Javascript object>"
            ],
            "application/javascript": [
              "window[\"73a87960-3888-11ed-8c08-0242ac1c0002\"] = document.querySelector(\"#tag-069e97f5-c190-4aab-8e74-c9700079111c\");\n",
              "//# sourceURL=js_951d8bf64a"
            ]
          },
          "metadata": {}
        },
        {
          "output_type": "display_data",
          "data": {
            "text/plain": [
              "<IPython.core.display.Javascript object>"
            ],
            "application/javascript": [
              "window[\"73a926bc-3888-11ed-8c08-0242ac1c0002\"] = google.colab.output.setActiveOutputArea(window[\"73a87960-3888-11ed-8c08-0242ac1c0002\"]);\n",
              "//# sourceURL=js_9d004425ef"
            ]
          },
          "metadata": {}
        },
        {
          "output_type": "display_data",
          "data": {
            "text/plain": [
              "<IPython.core.display.HTML object>"
            ],
            "text/html": [
              "<pre>At bottommost frame.</pre>"
            ]
          },
          "metadata": {}
        },
        {
          "output_type": "display_data",
          "data": {
            "text/plain": [
              "<IPython.core.display.Javascript object>"
            ],
            "application/javascript": [
              "window[\"73aa198c-3888-11ed-8c08-0242ac1c0002\"] = google.colab.output.setActiveOutputArea(window[\"73a7f9f4-3888-11ed-8c08-0242ac1c0002\"]);\n",
              "//# sourceURL=js_55cdc26f06"
            ]
          },
          "metadata": {}
        },
        {
          "output_type": "display_data",
          "data": {
            "text/plain": [
              "<IPython.core.display.Javascript object>"
            ],
            "application/javascript": [
              "window[\"73abbaf8-3888-11ed-8c08-0242ac1c0002\"] = google.colab.output.getActiveOutputArea();\n",
              "//# sourceURL=js_28972e4ff9"
            ]
          },
          "metadata": {}
        },
        {
          "output_type": "display_data",
          "data": {
            "text/plain": [
              "<IPython.core.display.Javascript object>"
            ],
            "application/javascript": [
              "window[\"73ac59ae-3888-11ed-8c08-0242ac1c0002\"] = document.querySelector(\"#tag-069e97f5-c190-4aab-8e74-c9700079111c\");\n",
              "//# sourceURL=js_0a4d135578"
            ]
          },
          "metadata": {}
        },
        {
          "output_type": "display_data",
          "data": {
            "text/plain": [
              "<IPython.core.display.Javascript object>"
            ],
            "application/javascript": [
              "window[\"73ad0674-3888-11ed-8c08-0242ac1c0002\"] = google.colab.output.setActiveOutputArea(window[\"73ac59ae-3888-11ed-8c08-0242ac1c0002\"]);\n",
              "//# sourceURL=js_c86b5b842f"
            ]
          },
          "metadata": {}
        },
        {
          "output_type": "display_data",
          "data": {
            "text/plain": [
              "<IPython.core.display.HTML object>"
            ],
            "text/html": [
              "<pre>\n",
              "</pre>"
            ]
          },
          "metadata": {}
        },
        {
          "output_type": "display_data",
          "data": {
            "text/plain": [
              "<IPython.core.display.Javascript object>"
            ],
            "application/javascript": [
              "window[\"73ae18e8-3888-11ed-8c08-0242ac1c0002\"] = google.colab.output.setActiveOutputArea(window[\"73abbaf8-3888-11ed-8c08-0242ac1c0002\"]);\n",
              "//# sourceURL=js_152e03ccc6"
            ]
          },
          "metadata": {}
        },
        {
          "output_type": "display_data",
          "data": {
            "text/plain": [
              "<IPython.core.display.Javascript object>"
            ],
            "application/javascript": [
              "window[\"73b003c4-3888-11ed-8c08-0242ac1c0002\"] = google.colab.output.getActiveOutputArea();\n",
              "//# sourceURL=js_69ed3bee45"
            ]
          },
          "metadata": {}
        },
        {
          "output_type": "display_data",
          "data": {
            "text/plain": [
              "<IPython.core.display.Javascript object>"
            ],
            "application/javascript": [
              "window[\"73b084a2-3888-11ed-8c08-0242ac1c0002\"] = document.querySelector(\"#tag-069e97f5-c190-4aab-8e74-c9700079111c\");\n",
              "//# sourceURL=js_3679b2c516"
            ]
          },
          "metadata": {}
        },
        {
          "output_type": "display_data",
          "data": {
            "text/plain": [
              "<IPython.core.display.Javascript object>"
            ],
            "application/javascript": [
              "window[\"73b10224-3888-11ed-8c08-0242ac1c0002\"] = google.colab.output.setActiveOutputArea(window[\"73b084a2-3888-11ed-8c08-0242ac1c0002\"]);\n",
              "//# sourceURL=js_fc5c1553d9"
            ]
          },
          "metadata": {}
        },
        {
          "output_type": "display_data",
          "data": {
            "text/plain": [
              "<IPython.core.display.HTML object>"
            ],
            "text/html": [
              "<pre>> <ipython-input-48-c261398d8347>(246)\n",
              "    \n",
              "        # Run the general linearization filter\n",
              "        carry = (0.0, params.initial_mean, params.initial_covariance)\n",
              "->      jax.debug.breakpoint()\n",
              "        (ll, _, _), (filtered_means, filtered_covs) = lax.scan(_step, carry, jnp.arange(num_timesteps))\n",
              "        return GSSMPosterior(marginal_loglik=ll, filtered_means=filtered_means, filtered_covariances=filtered_covs)</pre>"
            ]
          },
          "metadata": {}
        },
        {
          "output_type": "display_data",
          "data": {
            "text/plain": [
              "<IPython.core.display.Javascript object>"
            ],
            "application/javascript": [
              "window[\"73b1f49a-3888-11ed-8c08-0242ac1c0002\"] = google.colab.output.setActiveOutputArea(window[\"73b003c4-3888-11ed-8c08-0242ac1c0002\"]);\n",
              "//# sourceURL=js_0ccda8bd47"
            ]
          },
          "metadata": {}
        },
        {
          "output_type": "display_data",
          "data": {
            "text/plain": [
              "<IPython.core.display.Javascript object>"
            ],
            "application/javascript": [
              "window[\"73b3bcc6-3888-11ed-8c08-0242ac1c0002\"] = google.colab.output.getActiveOutputArea();\n",
              "//# sourceURL=js_b19b16f7ae"
            ]
          },
          "metadata": {}
        },
        {
          "output_type": "display_data",
          "data": {
            "text/plain": [
              "<IPython.core.display.Javascript object>"
            ],
            "application/javascript": [
              "window[\"73b441aa-3888-11ed-8c08-0242ac1c0002\"] = document.querySelector(\"#tag-069e97f5-c190-4aab-8e74-c9700079111c\");\n",
              "//# sourceURL=js_90e5b867f0"
            ]
          },
          "metadata": {}
        },
        {
          "output_type": "display_data",
          "data": {
            "text/plain": [
              "<IPython.core.display.Javascript object>"
            ],
            "application/javascript": [
              "window[\"73b4dd04-3888-11ed-8c08-0242ac1c0002\"] = google.colab.output.setActiveOutputArea(window[\"73b441aa-3888-11ed-8c08-0242ac1c0002\"]);\n",
              "//# sourceURL=js_4e2afbc76c"
            ]
          },
          "metadata": {}
        },
        {
          "output_type": "display_data",
          "data": {
            "text/plain": [
              "<IPython.core.display.HTML object>"
            ],
            "text/html": [
              "<pre>\n",
              "</pre>"
            ]
          },
          "metadata": {}
        },
        {
          "output_type": "display_data",
          "data": {
            "text/plain": [
              "<IPython.core.display.Javascript object>"
            ],
            "application/javascript": [
              "window[\"73b5c4d0-3888-11ed-8c08-0242ac1c0002\"] = google.colab.output.setActiveOutputArea(window[\"73b3bcc6-3888-11ed-8c08-0242ac1c0002\"]);\n",
              "//# sourceURL=js_221c8893d1"
            ]
          },
          "metadata": {}
        },
        {
          "output_type": "display_data",
          "data": {
            "text/plain": [
              "<IPython.core.display.Javascript object>"
            ],
            "application/javascript": [
              "window[\"73b77302-3888-11ed-8c08-0242ac1c0002\"] = google.colab.output.getActiveOutputArea();\n",
              "//# sourceURL=js_a51e99d184"
            ]
          },
          "metadata": {}
        },
        {
          "output_type": "display_data",
          "data": {
            "text/plain": [
              "<IPython.core.display.Javascript object>"
            ],
            "application/javascript": [
              "window[\"73b7fe8a-3888-11ed-8c08-0242ac1c0002\"] = document.querySelector(\"#tag-069e97f5-c190-4aab-8e74-c9700079111c\");\n",
              "//# sourceURL=js_9475c83035"
            ]
          },
          "metadata": {}
        },
        {
          "output_type": "display_data",
          "data": {
            "text/plain": [
              "<IPython.core.display.Javascript object>"
            ],
            "application/javascript": [
              "window[\"73b89566-3888-11ed-8c08-0242ac1c0002\"] = google.colab.output.setActiveOutputArea(window[\"73b7fe8a-3888-11ed-8c08-0242ac1c0002\"]);\n",
              "//# sourceURL=js_26379f7141"
            ]
          },
          "metadata": {}
        },
        {
          "output_type": "display_data",
          "data": {
            "text/plain": [
              "<IPython.core.display.HTML object>"
            ],
            "text/html": [
              "<pre>(jdb) </pre>"
            ]
          },
          "metadata": {}
        },
        {
          "output_type": "display_data",
          "data": {
            "text/plain": [
              "<IPython.core.display.Javascript object>"
            ],
            "application/javascript": [
              "window[\"73b994ac-3888-11ed-8c08-0242ac1c0002\"] = google.colab.output.setActiveOutputArea(window[\"73b77302-3888-11ed-8c08-0242ac1c0002\"]);\n",
              "//# sourceURL=js_77bc911553"
            ]
          },
          "metadata": {}
        },
        {
          "output_type": "display_data",
          "data": {
            "text/plain": [
              "<IPython.core.display.Javascript object>"
            ],
            "application/javascript": [
              "window[\"768e2684-3888-11ed-8c08-0242ac1c0002\"] = google.colab.output.getActiveOutputArea();\n",
              "//# sourceURL=js_5e082edc2b"
            ]
          },
          "metadata": {}
        },
        {
          "output_type": "display_data",
          "data": {
            "text/plain": [
              "<IPython.core.display.Javascript object>"
            ],
            "application/javascript": [
              "window[\"768ea3f2-3888-11ed-8c08-0242ac1c0002\"] = document.querySelector(\"#tag-069e97f5-c190-4aab-8e74-c9700079111c\");\n",
              "//# sourceURL=js_1a5e983e42"
            ]
          },
          "metadata": {}
        },
        {
          "output_type": "display_data",
          "data": {
            "text/plain": [
              "<IPython.core.display.Javascript object>"
            ],
            "application/javascript": [
              "window[\"768f8920-3888-11ed-8c08-0242ac1c0002\"] = google.colab.output.setActiveOutputArea(window[\"768ea3f2-3888-11ed-8c08-0242ac1c0002\"]);\n",
              "//# sourceURL=js_2a0cbf0bbc"
            ]
          },
          "metadata": {}
        },
        {
          "output_type": "display_data",
          "data": {
            "text/plain": [
              "<IPython.core.display.HTML object>"
            ],
            "text/html": [
              "<pre>At bottommost frame.</pre>"
            ]
          },
          "metadata": {}
        },
        {
          "output_type": "display_data",
          "data": {
            "text/plain": [
              "<IPython.core.display.Javascript object>"
            ],
            "application/javascript": [
              "window[\"7690ebc6-3888-11ed-8c08-0242ac1c0002\"] = google.colab.output.setActiveOutputArea(window[\"768e2684-3888-11ed-8c08-0242ac1c0002\"]);\n",
              "//# sourceURL=js_f82df7ce4e"
            ]
          },
          "metadata": {}
        },
        {
          "output_type": "display_data",
          "data": {
            "text/plain": [
              "<IPython.core.display.Javascript object>"
            ],
            "application/javascript": [
              "window[\"76931d2e-3888-11ed-8c08-0242ac1c0002\"] = google.colab.output.getActiveOutputArea();\n",
              "//# sourceURL=js_a456e69a81"
            ]
          },
          "metadata": {}
        },
        {
          "output_type": "display_data",
          "data": {
            "text/plain": [
              "<IPython.core.display.Javascript object>"
            ],
            "application/javascript": [
              "window[\"769415a8-3888-11ed-8c08-0242ac1c0002\"] = document.querySelector(\"#tag-069e97f5-c190-4aab-8e74-c9700079111c\");\n",
              "//# sourceURL=js_7bc092bf58"
            ]
          },
          "metadata": {}
        },
        {
          "output_type": "display_data",
          "data": {
            "text/plain": [
              "<IPython.core.display.Javascript object>"
            ],
            "application/javascript": [
              "window[\"76947c78-3888-11ed-8c08-0242ac1c0002\"] = google.colab.output.setActiveOutputArea(window[\"769415a8-3888-11ed-8c08-0242ac1c0002\"]);\n",
              "//# sourceURL=js_1a3b23c375"
            ]
          },
          "metadata": {}
        },
        {
          "output_type": "display_data",
          "data": {
            "text/plain": [
              "<IPython.core.display.HTML object>"
            ],
            "text/html": [
              "<pre>\n",
              "</pre>"
            ]
          },
          "metadata": {}
        },
        {
          "output_type": "display_data",
          "data": {
            "text/plain": [
              "<IPython.core.display.Javascript object>"
            ],
            "application/javascript": [
              "window[\"7695aca6-3888-11ed-8c08-0242ac1c0002\"] = google.colab.output.setActiveOutputArea(window[\"76931d2e-3888-11ed-8c08-0242ac1c0002\"]);\n",
              "//# sourceURL=js_de229e1e55"
            ]
          },
          "metadata": {}
        },
        {
          "output_type": "display_data",
          "data": {
            "text/plain": [
              "<IPython.core.display.Javascript object>"
            ],
            "application/javascript": [
              "window[\"76978706-3888-11ed-8c08-0242ac1c0002\"] = google.colab.output.getActiveOutputArea();\n",
              "//# sourceURL=js_343a0275a3"
            ]
          },
          "metadata": {}
        },
        {
          "output_type": "display_data",
          "data": {
            "text/plain": [
              "<IPython.core.display.Javascript object>"
            ],
            "application/javascript": [
              "window[\"7697eb06-3888-11ed-8c08-0242ac1c0002\"] = document.querySelector(\"#tag-069e97f5-c190-4aab-8e74-c9700079111c\");\n",
              "//# sourceURL=js_6bbd32546f"
            ]
          },
          "metadata": {}
        },
        {
          "output_type": "display_data",
          "data": {
            "text/plain": [
              "<IPython.core.display.Javascript object>"
            ],
            "application/javascript": [
              "window[\"7698eed4-3888-11ed-8c08-0242ac1c0002\"] = google.colab.output.setActiveOutputArea(window[\"7697eb06-3888-11ed-8c08-0242ac1c0002\"]);\n",
              "//# sourceURL=js_bd6a2fbcd6"
            ]
          },
          "metadata": {}
        },
        {
          "output_type": "display_data",
          "data": {
            "text/plain": [
              "<IPython.core.display.HTML object>"
            ],
            "text/html": [
              "<pre>> <ipython-input-48-c261398d8347>(246)\n",
              "    \n",
              "        # Run the general linearization filter\n",
              "        carry = (0.0, params.initial_mean, params.initial_covariance)\n",
              "->      jax.debug.breakpoint()\n",
              "        (ll, _, _), (filtered_means, filtered_covs) = lax.scan(_step, carry, jnp.arange(num_timesteps))\n",
              "        return GSSMPosterior(marginal_loglik=ll, filtered_means=filtered_means, filtered_covariances=filtered_covs)</pre>"
            ]
          },
          "metadata": {}
        },
        {
          "output_type": "display_data",
          "data": {
            "text/plain": [
              "<IPython.core.display.Javascript object>"
            ],
            "application/javascript": [
              "window[\"769a0ba2-3888-11ed-8c08-0242ac1c0002\"] = google.colab.output.setActiveOutputArea(window[\"76978706-3888-11ed-8c08-0242ac1c0002\"]);\n",
              "//# sourceURL=js_1780731002"
            ]
          },
          "metadata": {}
        },
        {
          "output_type": "display_data",
          "data": {
            "text/plain": [
              "<IPython.core.display.Javascript object>"
            ],
            "application/javascript": [
              "window[\"769c349a-3888-11ed-8c08-0242ac1c0002\"] = google.colab.output.getActiveOutputArea();\n",
              "//# sourceURL=js_6aafea7d2f"
            ]
          },
          "metadata": {}
        },
        {
          "output_type": "display_data",
          "data": {
            "text/plain": [
              "<IPython.core.display.Javascript object>"
            ],
            "application/javascript": [
              "window[\"769c9b2e-3888-11ed-8c08-0242ac1c0002\"] = document.querySelector(\"#tag-069e97f5-c190-4aab-8e74-c9700079111c\");\n",
              "//# sourceURL=js_890b1e9ec9"
            ]
          },
          "metadata": {}
        },
        {
          "output_type": "display_data",
          "data": {
            "text/plain": [
              "<IPython.core.display.Javascript object>"
            ],
            "application/javascript": [
              "window[\"769dfdca-3888-11ed-8c08-0242ac1c0002\"] = google.colab.output.setActiveOutputArea(window[\"769c9b2e-3888-11ed-8c08-0242ac1c0002\"]);\n",
              "//# sourceURL=js_135cedfe6e"
            ]
          },
          "metadata": {}
        },
        {
          "output_type": "display_data",
          "data": {
            "text/plain": [
              "<IPython.core.display.HTML object>"
            ],
            "text/html": [
              "<pre>\n",
              "</pre>"
            ]
          },
          "metadata": {}
        },
        {
          "output_type": "display_data",
          "data": {
            "text/plain": [
              "<IPython.core.display.Javascript object>"
            ],
            "application/javascript": [
              "window[\"769f1598-3888-11ed-8c08-0242ac1c0002\"] = google.colab.output.setActiveOutputArea(window[\"769c349a-3888-11ed-8c08-0242ac1c0002\"]);\n",
              "//# sourceURL=js_7d9354fc1c"
            ]
          },
          "metadata": {}
        },
        {
          "output_type": "display_data",
          "data": {
            "text/plain": [
              "<IPython.core.display.Javascript object>"
            ],
            "application/javascript": [
              "window[\"76a0f52a-3888-11ed-8c08-0242ac1c0002\"] = google.colab.output.getActiveOutputArea();\n",
              "//# sourceURL=js_9b5e44896b"
            ]
          },
          "metadata": {}
        },
        {
          "output_type": "display_data",
          "data": {
            "text/plain": [
              "<IPython.core.display.Javascript object>"
            ],
            "application/javascript": [
              "window[\"76a17202-3888-11ed-8c08-0242ac1c0002\"] = document.querySelector(\"#tag-069e97f5-c190-4aab-8e74-c9700079111c\");\n",
              "//# sourceURL=js_968c5156cd"
            ]
          },
          "metadata": {}
        },
        {
          "output_type": "display_data",
          "data": {
            "text/plain": [
              "<IPython.core.display.Javascript object>"
            ],
            "application/javascript": [
              "window[\"76a1d648-3888-11ed-8c08-0242ac1c0002\"] = google.colab.output.setActiveOutputArea(window[\"76a17202-3888-11ed-8c08-0242ac1c0002\"]);\n",
              "//# sourceURL=js_aa7e0a79c4"
            ]
          },
          "metadata": {}
        },
        {
          "output_type": "display_data",
          "data": {
            "text/plain": [
              "<IPython.core.display.HTML object>"
            ],
            "text/html": [
              "<pre>(jdb) </pre>"
            ]
          },
          "metadata": {}
        },
        {
          "output_type": "display_data",
          "data": {
            "text/plain": [
              "<IPython.core.display.Javascript object>"
            ],
            "application/javascript": [
              "window[\"76a2aac8-3888-11ed-8c08-0242ac1c0002\"] = google.colab.output.setActiveOutputArea(window[\"76a0f52a-3888-11ed-8c08-0242ac1c0002\"]);\n",
              "//# sourceURL=js_b00c3e8799"
            ]
          },
          "metadata": {}
        },
        {
          "output_type": "display_data",
          "data": {
            "text/plain": [
              "<IPython.core.display.Javascript object>"
            ],
            "application/javascript": [
              "window[\"7958bfaa-3888-11ed-8c08-0242ac1c0002\"] = google.colab.output.getActiveOutputArea();\n",
              "//# sourceURL=js_5ca723b3df"
            ]
          },
          "metadata": {}
        },
        {
          "output_type": "display_data",
          "data": {
            "text/plain": [
              "<IPython.core.display.Javascript object>"
            ],
            "application/javascript": [
              "window[\"79594132-3888-11ed-8c08-0242ac1c0002\"] = document.querySelector(\"#tag-069e97f5-c190-4aab-8e74-c9700079111c\");\n",
              "//# sourceURL=js_dbb73648ff"
            ]
          },
          "metadata": {}
        },
        {
          "output_type": "display_data",
          "data": {
            "text/plain": [
              "<IPython.core.display.Javascript object>"
            ],
            "application/javascript": [
              "window[\"7959aee2-3888-11ed-8c08-0242ac1c0002\"] = google.colab.output.setActiveOutputArea(window[\"79594132-3888-11ed-8c08-0242ac1c0002\"]);\n",
              "//# sourceURL=js_0ea7150a07"
            ]
          },
          "metadata": {}
        },
        {
          "output_type": "display_data",
          "data": {
            "text/plain": [
              "<IPython.core.display.HTML object>"
            ],
            "text/html": [
              "<pre>> <ipython-input-52-ed0018f60662>(14)\n",
              "        emission_mean_function = lambda w, x: sigmoid_fn(w, x),\n",
              "        emission_cov_function = lambda w, x: sigmoid_fn(w, x) * (1 - sigmoid_fn(w, x))\n",
              "    )\n",
              "->  cmgf_ekf_post = decoupled_conditional_moments_gaussian_filter(cmgf_ekf_params, aggregate_fn, output, inputs=input)\n",
              "    \n",
              "    # Extract history of filtered weight values</pre>"
            ]
          },
          "metadata": {}
        },
        {
          "output_type": "display_data",
          "data": {
            "text/plain": [
              "<IPython.core.display.Javascript object>"
            ],
            "application/javascript": [
              "window[\"795a8146-3888-11ed-8c08-0242ac1c0002\"] = google.colab.output.setActiveOutputArea(window[\"7958bfaa-3888-11ed-8c08-0242ac1c0002\"]);\n",
              "//# sourceURL=js_a746c650f2"
            ]
          },
          "metadata": {}
        },
        {
          "output_type": "display_data",
          "data": {
            "text/plain": [
              "<IPython.core.display.Javascript object>"
            ],
            "application/javascript": [
              "window[\"795bf5da-3888-11ed-8c08-0242ac1c0002\"] = google.colab.output.getActiveOutputArea();\n",
              "//# sourceURL=js_e30ce0ae5b"
            ]
          },
          "metadata": {}
        },
        {
          "output_type": "display_data",
          "data": {
            "text/plain": [
              "<IPython.core.display.Javascript object>"
            ],
            "application/javascript": [
              "window[\"795c6b5a-3888-11ed-8c08-0242ac1c0002\"] = document.querySelector(\"#tag-069e97f5-c190-4aab-8e74-c9700079111c\");\n",
              "//# sourceURL=js_e111280881"
            ]
          },
          "metadata": {}
        },
        {
          "output_type": "display_data",
          "data": {
            "text/plain": [
              "<IPython.core.display.Javascript object>"
            ],
            "application/javascript": [
              "window[\"795cdaae-3888-11ed-8c08-0242ac1c0002\"] = google.colab.output.setActiveOutputArea(window[\"795c6b5a-3888-11ed-8c08-0242ac1c0002\"]);\n",
              "//# sourceURL=js_bc256e06f6"
            ]
          },
          "metadata": {}
        },
        {
          "output_type": "display_data",
          "data": {
            "text/plain": [
              "<IPython.core.display.HTML object>"
            ],
            "text/html": [
              "<pre>\n",
              "</pre>"
            ]
          },
          "metadata": {}
        },
        {
          "output_type": "display_data",
          "data": {
            "text/plain": [
              "<IPython.core.display.Javascript object>"
            ],
            "application/javascript": [
              "window[\"795db17c-3888-11ed-8c08-0242ac1c0002\"] = google.colab.output.setActiveOutputArea(window[\"795bf5da-3888-11ed-8c08-0242ac1c0002\"]);\n",
              "//# sourceURL=js_0a65863261"
            ]
          },
          "metadata": {}
        },
        {
          "output_type": "display_data",
          "data": {
            "text/plain": [
              "<IPython.core.display.Javascript object>"
            ],
            "application/javascript": [
              "window[\"795fa162-3888-11ed-8c08-0242ac1c0002\"] = google.colab.output.getActiveOutputArea();\n",
              "//# sourceURL=js_c9693f9f97"
            ]
          },
          "metadata": {}
        },
        {
          "output_type": "display_data",
          "data": {
            "text/plain": [
              "<IPython.core.display.Javascript object>"
            ],
            "application/javascript": [
              "window[\"796007c4-3888-11ed-8c08-0242ac1c0002\"] = document.querySelector(\"#tag-069e97f5-c190-4aab-8e74-c9700079111c\");\n",
              "//# sourceURL=js_6f97f407ac"
            ]
          },
          "metadata": {}
        },
        {
          "output_type": "display_data",
          "data": {
            "text/plain": [
              "<IPython.core.display.Javascript object>"
            ],
            "application/javascript": [
              "window[\"7960b41c-3888-11ed-8c08-0242ac1c0002\"] = google.colab.output.setActiveOutputArea(window[\"796007c4-3888-11ed-8c08-0242ac1c0002\"]);\n",
              "//# sourceURL=js_585b982118"
            ]
          },
          "metadata": {}
        },
        {
          "output_type": "display_data",
          "data": {
            "text/plain": [
              "<IPython.core.display.HTML object>"
            ],
            "text/html": [
              "<pre>(jdb) </pre>"
            ]
          },
          "metadata": {}
        },
        {
          "output_type": "display_data",
          "data": {
            "text/plain": [
              "<IPython.core.display.Javascript object>"
            ],
            "application/javascript": [
              "window[\"7961bd26-3888-11ed-8c08-0242ac1c0002\"] = google.colab.output.setActiveOutputArea(window[\"795fa162-3888-11ed-8c08-0242ac1c0002\"]);\n",
              "//# sourceURL=js_40f82f7883"
            ]
          },
          "metadata": {}
        },
        {
          "output_type": "display_data",
          "data": {
            "text/plain": [
              "<IPython.core.display.Javascript object>"
            ],
            "application/javascript": [
              "window[\"7b216cb0-3888-11ed-8c08-0242ac1c0002\"] = google.colab.output.getActiveOutputArea();\n",
              "//# sourceURL=js_ac55dbd759"
            ]
          },
          "metadata": {}
        },
        {
          "output_type": "display_data",
          "data": {
            "text/plain": [
              "<IPython.core.display.Javascript object>"
            ],
            "application/javascript": [
              "window[\"7b221c1e-3888-11ed-8c08-0242ac1c0002\"] = document.querySelector(\"#tag-069e97f5-c190-4aab-8e74-c9700079111c\");\n",
              "//# sourceURL=js_66863d835a"
            ]
          },
          "metadata": {}
        },
        {
          "output_type": "display_data",
          "data": {
            "text/plain": [
              "<IPython.core.display.Javascript object>"
            ],
            "application/javascript": [
              "window[\"7b2339dc-3888-11ed-8c08-0242ac1c0002\"] = google.colab.output.setActiveOutputArea(window[\"7b221c1e-3888-11ed-8c08-0242ac1c0002\"]);\n",
              "//# sourceURL=js_c890acc134"
            ]
          },
          "metadata": {}
        },
        {
          "output_type": "display_data",
          "data": {
            "text/plain": [
              "<IPython.core.display.HTML object>"
            ],
            "text/html": [
              "<pre>> <ipython-input-48-c261398d8347>(246)\n",
              "    \n",
              "        # Run the general linearization filter\n",
              "        carry = (0.0, params.initial_mean, params.initial_covariance)\n",
              "->      jax.debug.breakpoint()\n",
              "        (ll, _, _), (filtered_means, filtered_covs) = lax.scan(_step, carry, jnp.arange(num_timesteps))\n",
              "        return GSSMPosterior(marginal_loglik=ll, filtered_means=filtered_means, filtered_covariances=filtered_covs)</pre>"
            ]
          },
          "metadata": {}
        },
        {
          "output_type": "display_data",
          "data": {
            "text/plain": [
              "<IPython.core.display.Javascript object>"
            ],
            "application/javascript": [
              "window[\"7b2417e4-3888-11ed-8c08-0242ac1c0002\"] = google.colab.output.setActiveOutputArea(window[\"7b216cb0-3888-11ed-8c08-0242ac1c0002\"]);\n",
              "//# sourceURL=js_6a9439f909"
            ]
          },
          "metadata": {}
        },
        {
          "output_type": "display_data",
          "data": {
            "text/plain": [
              "<IPython.core.display.Javascript object>"
            ],
            "application/javascript": [
              "window[\"7b258f66-3888-11ed-8c08-0242ac1c0002\"] = google.colab.output.getActiveOutputArea();\n",
              "//# sourceURL=js_581074e5b6"
            ]
          },
          "metadata": {}
        },
        {
          "output_type": "display_data",
          "data": {
            "text/plain": [
              "<IPython.core.display.Javascript object>"
            ],
            "application/javascript": [
              "window[\"7b25f780-3888-11ed-8c08-0242ac1c0002\"] = document.querySelector(\"#tag-069e97f5-c190-4aab-8e74-c9700079111c\");\n",
              "//# sourceURL=js_24c939fbc1"
            ]
          },
          "metadata": {}
        },
        {
          "output_type": "display_data",
          "data": {
            "text/plain": [
              "<IPython.core.display.Javascript object>"
            ],
            "application/javascript": [
              "window[\"7b26612a-3888-11ed-8c08-0242ac1c0002\"] = google.colab.output.setActiveOutputArea(window[\"7b25f780-3888-11ed-8c08-0242ac1c0002\"]);\n",
              "//# sourceURL=js_58222e0a2f"
            ]
          },
          "metadata": {}
        },
        {
          "output_type": "display_data",
          "data": {
            "text/plain": [
              "<IPython.core.display.HTML object>"
            ],
            "text/html": [
              "<pre>\n",
              "</pre>"
            ]
          },
          "metadata": {}
        },
        {
          "output_type": "display_data",
          "data": {
            "text/plain": [
              "<IPython.core.display.Javascript object>"
            ],
            "application/javascript": [
              "window[\"7b272e3e-3888-11ed-8c08-0242ac1c0002\"] = google.colab.output.setActiveOutputArea(window[\"7b258f66-3888-11ed-8c08-0242ac1c0002\"]);\n",
              "//# sourceURL=js_f73b3525dd"
            ]
          },
          "metadata": {}
        },
        {
          "output_type": "display_data",
          "data": {
            "text/plain": [
              "<IPython.core.display.Javascript object>"
            ],
            "application/javascript": [
              "window[\"7b289ff8-3888-11ed-8c08-0242ac1c0002\"] = google.colab.output.getActiveOutputArea();\n",
              "//# sourceURL=js_2ee3091763"
            ]
          },
          "metadata": {}
        },
        {
          "output_type": "display_data",
          "data": {
            "text/plain": [
              "<IPython.core.display.Javascript object>"
            ],
            "application/javascript": [
              "window[\"7b2905ec-3888-11ed-8c08-0242ac1c0002\"] = document.querySelector(\"#tag-069e97f5-c190-4aab-8e74-c9700079111c\");\n",
              "//# sourceURL=js_fd434ac01f"
            ]
          },
          "metadata": {}
        },
        {
          "output_type": "display_data",
          "data": {
            "text/plain": [
              "<IPython.core.display.Javascript object>"
            ],
            "application/javascript": [
              "window[\"7b296e92-3888-11ed-8c08-0242ac1c0002\"] = google.colab.output.setActiveOutputArea(window[\"7b2905ec-3888-11ed-8c08-0242ac1c0002\"]);\n",
              "//# sourceURL=js_e36d3cd349"
            ]
          },
          "metadata": {}
        },
        {
          "output_type": "display_data",
          "data": {
            "text/plain": [
              "<IPython.core.display.HTML object>"
            ],
            "text/html": [
              "<pre>(jdb) </pre>"
            ]
          },
          "metadata": {}
        },
        {
          "output_type": "display_data",
          "data": {
            "text/plain": [
              "<IPython.core.display.Javascript object>"
            ],
            "application/javascript": [
              "window[\"7b2a3f16-3888-11ed-8c08-0242ac1c0002\"] = google.colab.output.setActiveOutputArea(window[\"7b289ff8-3888-11ed-8c08-0242ac1c0002\"]);\n",
              "//# sourceURL=js_87bfd77240"
            ]
          },
          "metadata": {}
        },
        {
          "output_type": "display_data",
          "data": {
            "text/plain": [
              "<IPython.core.display.Javascript object>"
            ],
            "application/javascript": [
              "window[\"82091a96-3888-11ed-8c08-0242ac1c0002\"] = google.colab.output.getActiveOutputArea();\n",
              "//# sourceURL=js_ae250948f8"
            ]
          },
          "metadata": {}
        },
        {
          "output_type": "display_data",
          "data": {
            "text/plain": [
              "<IPython.core.display.Javascript object>"
            ],
            "application/javascript": [
              "window[\"8209ee26-3888-11ed-8c08-0242ac1c0002\"] = document.querySelector(\"#tag-069e97f5-c190-4aab-8e74-c9700079111c\");\n",
              "//# sourceURL=js_cd788a6ed2"
            ]
          },
          "metadata": {}
        },
        {
          "output_type": "display_data",
          "data": {
            "text/plain": [
              "<IPython.core.display.Javascript object>"
            ],
            "application/javascript": [
              "window[\"820b0900-3888-11ed-8c08-0242ac1c0002\"] = google.colab.output.setActiveOutputArea(window[\"8209ee26-3888-11ed-8c08-0242ac1c0002\"]);\n",
              "//# sourceURL=js_fd8d45a7a2"
            ]
          },
          "metadata": {}
        },
        {
          "output_type": "display_data",
          "data": {
            "text/plain": [
              "<IPython.core.display.HTML object>"
            ],
            "text/html": [
              "<pre>(0.0,\n",
              " [DeviceArray([0.0000000e+00, 6.2363694e-04, 9.5013529e-01], dtype=float32),\n",
              "  DeviceArray([ 0.        ,  0.44734836, -0.28163633], dtype=float32),\n",
              "  DeviceArray([ 0.        , -0.18542227, -0.5705408 ], dtype=float32),\n",
              "  DeviceArray([0.       , 0.8114197, 0.41584  ], dtype=float32),\n",
              "  DeviceArray([ 0.        , -0.7489268 , -0.17792921], dtype=float32),\n",
              "  DeviceArray([0.       , 0.9975623, 1.3522024], dtype=float32),\n",
              "  DeviceArray([ 0.        , -1.0037354 , -0.13566948], dtype=float32),\n",
              "  DeviceArray([ 0.        , -0.5477987 , -0.30984583], dtype=float32),\n",
              "  DeviceArray([0.        , 0.38137034, 0.14716884], dtype=float32),\n",
              "  DeviceArray([ 0.       , -0.3716301,  1.6062533], dtype=float32),\n",
              "  DeviceArray([0.       , 1.5273137, 0.8238709], dtype=float32),\n",
              "  DeviceArray([ 0.        ,  0.6166574 , -0.71997964], dtype=float32),\n",
              "  DeviceArray([ 0.        ,  0.6977906 , -0.11757261], dtype=float32),\n",
              "  DeviceArray([ 0.        ,  0.1800172 , -0.07769044], dtype=float32),\n",
              "  DeviceArray([0.        , 0.25605765, 0.95089316], dtype=float32),\n",
              "  DeviceArray([ 0.        , -0.25622198, -0.0662456 , -0.14831614,\n",
              "             -0.46236163, -0.0877011 ,  0.07798005, -0.13747402,\n",
              "              0.12286735,  0.13191625,  0.16652781,  0.13844498,\n",
              "             -0.19292839, -0.49750686, -0.25995758,  0.32532588],            dtype=float32),\n",
              "  DeviceArray([ 0.        ,  0.17127419,  0.2642738 , -0.11133289,\n",
              "             -0.09499519,  0.2983003 , -0.16656086,  0.20486462,\n",
              "              0.14902589, -0.2837199 , -0.4550094 ,  0.14812851,\n",
              "             -0.5629666 , -0.31843093,  0.41068864,  0.03357613],            dtype=float32),\n",
              "  DeviceArray([ 0.        ,  0.41221592,  0.10121477, -0.19372284,\n",
              "              0.50398797,  0.21551551, -0.22675215,  0.25439224,\n",
              "              0.43574506,  0.42308024,  0.07047214, -0.50504816,\n",
              "             -0.17291382, -0.06721262, -0.11958253, -0.2391467 ],            dtype=float32),\n",
              "  DeviceArray([ 0.        , -0.554696  , -0.5485926 , -0.09190883,\n",
              "             -0.08833686,  0.02243366,  0.1307102 ,  0.34922177,\n",
              "             -0.00223678, -0.33130908,  0.17192106, -0.15615386,\n",
              "             -0.04695951, -0.2008233 ,  0.20569074, -0.14125189],            dtype=float32),\n",
              "  DeviceArray([ 0.        ,  0.19444665,  0.10167664,  0.0659041 ,\n",
              "              0.36114904,  0.06083059, -0.17676008, -0.18347046,\n",
              "              0.11222234,  0.276085  ,  0.30079848,  0.26979262,\n",
              "             -0.10820293,  0.05524488,  0.38887668, -0.19808069],            dtype=float32),\n",
              "  DeviceArray([ 0.        , -0.16347855,  0.39303997,  0.3844147 ,\n",
              "             -0.07893655, -0.11892043,  0.34136802, -0.21278766,\n",
              "             -0.09386745, -0.08889353, -0.1278797 ,  0.26907435,\n",
              "              0.2712382 ,  0.5242328 , -0.28039512, -0.0748673 ],            dtype=float32),\n",
              "  DeviceArray([ 0.        ,  0.38406423, -0.19739151, -0.11854756,\n",
              "             -0.04789295, -0.2514255 , -0.00313456, -0.13158458,\n",
              "             -0.21575607, -0.01508489, -0.23122837, -0.16181007,\n",
              "             -0.43640354, -0.21962206,  0.18149579, -0.41323325],            dtype=float32),\n",
              "  DeviceArray([ 0.        , -0.15559803,  0.22855748,  0.1494654 ,\n",
              "              0.09835327, -0.05991281,  0.22939974, -0.03972276,\n",
              "              0.12429442,  0.26983288,  0.05111618, -0.02116749,\n",
              "             -0.20622584,  0.15432343,  0.09756877, -0.35225508],            dtype=float32),\n",
              "  DeviceArray([ 0.        , -0.22574313, -0.5535691 ,  0.23281033,\n",
              "             -0.29279065,  0.16739629, -0.31697756,  0.04085354,\n",
              "             -0.2607848 , -0.10308764, -0.46075195, -0.04579584,\n",
              "              0.23690528,  0.03137971, -0.05173212,  0.08236396],            dtype=float32),\n",
              "  DeviceArray([ 0.        , -0.00246568,  0.20827346, -0.16499276,\n",
              "              0.20696738,  0.2096145 , -0.16202618, -0.38929   ,\n",
              "             -0.27444574,  0.17770462, -0.06073316, -0.02332027,\n",
              "             -0.06182429, -0.06194457,  0.4412172 ,  0.09890702],            dtype=float32),\n",
              "  DeviceArray([ 0.        ,  0.17880668, -0.20152225, -0.12751387,\n",
              "             -0.03838788, -0.09066206,  0.08486432, -0.52777344,\n",
              "             -0.18603545, -0.05468289, -0.08040913,  0.33073905,\n",
              "             -0.10572047, -0.10442993, -0.00473084, -0.16505866],            dtype=float32),\n",
              "  DeviceArray([ 0.        , -0.16208293,  0.03717143, -0.34183818,\n",
              "             -0.16060042,  0.12755261,  0.0740896 , -0.08532656,\n",
              "              0.30322704, -0.24371967, -0.11114004,  0.0505761 ,\n",
              "             -0.5866156 , -0.21274161, -0.10136591, -0.04358051],            dtype=float32),\n",
              "  DeviceArray([ 0.        ,  0.24299034,  0.56386733, -0.3436902 ,\n",
              "             -0.18365687,  0.14755636,  0.1174638 , -0.22019401,\n",
              "              0.5005371 ,  0.40977028, -0.2221757 , -0.28199255,\n",
              "             -0.12560278,  0.11082549, -0.06016843, -0.1703012 ],            dtype=float32),\n",
              "  DeviceArray([ 0.        ,  0.21013556,  0.10226285, -0.04844384,\n",
              "             -0.30629417,  0.47122806, -0.03970383, -0.1902522 ,\n",
              "              0.20098606, -0.2715497 , -0.08573799,  0.4345309 ,\n",
              "             -0.21230835, -0.35162032, -0.30273387, -0.34757093],            dtype=float32),\n",
              "  DeviceArray([ 0.        , -0.08241709, -0.19915666,  0.07659093,\n",
              "             -0.51949763,  0.21837907,  0.25280616,  0.37441862,\n",
              "              0.1084422 , -0.1614522 ,  0.18982343,  0.06118852,\n",
              "             -0.38020128, -0.5578485 , -0.2460437 ,  0.29209515],            dtype=float32),\n",
              "  DeviceArray([ 0.        , -0.23925802,  0.2428662 ,  0.24446298,\n",
              "             -0.06055561, -0.4140388 , -0.1758383 , -0.15379979,\n",
              "              0.28956014,  0.02024931,  0.01479911,  0.20085864,\n",
              "             -0.06488879, -0.15731756,  0.04556111, -0.41125464],            dtype=float32)],\n",
              " [DeviceArray([[1., 0., 0.],\n",
              "             [0., 1., 0.],\n",
              "             [0., 0., 1.]], dtype=float32),\n",
              "  DeviceArray([[1., 0., 0.],\n",
              "             [0., 1., 0.],\n",
              "             [0., 0., 1.]], dtype=float32),\n",
              "  DeviceArray([[1., 0., 0.],\n",
              "             [0., 1., 0.],\n",
              "             [0., 0., 1.]], dtype=float32),\n",
              "  DeviceArray([[1., 0., 0.],\n",
              "             [0., 1., 0.],\n",
              "             [0., 0., 1.]], dtype=float32),\n",
              "  DeviceArray([[1., 0., 0.],\n",
              "             [0., 1., 0.],\n",
              "             [0., 0., 1.]], dtype=float32),\n",
              "  DeviceArray([[1., 0., 0.],\n",
              "             [0., 1., 0.],\n",
              "             [0., 0., 1.]], dtype=float32),\n",
              "  DeviceArray([[1., 0., 0.],\n",
              "             [0., 1., 0.],\n",
              "             [0., 0., 1.]], dtype=float32),\n",
              "  DeviceArray([[1., 0., 0.],\n",
              "             [0., 1., 0.],\n",
              "             [0., 0., 1.]], dtype=float32),\n",
              "  DeviceArray([[1., 0., 0.],\n",
              "             [0., 1., 0.],\n",
              "             [0., 0., 1.]], dtype=float32),\n",
              "  DeviceArray([[1., 0., 0.],\n",
              "             [0., 1., 0.],\n",
              "             [0., 0., 1.]], dtype=float32),\n",
              "  DeviceArray([[1., 0., 0.],\n",
              "             [0., 1., 0.],\n",
              "             [0., 0., 1.]], dtype=float32),\n",
              "  DeviceArray([[1., 0., 0.],\n",
              "             [0., 1., 0.],\n",
              "             [0., 0., 1.]], dtype=float32),\n",
              "  DeviceArray([[1., 0., 0.],\n",
              "             [0., 1., 0.],\n",
              "             [0., 0., 1.]], dtype=float32),\n",
              "  DeviceArray([[1., 0., 0.],\n",
              "             [0., 1., 0.],\n",
              "             [0., 0., 1.]], dtype=float32),\n",
              "  DeviceArray([[1., 0., 0.],\n",
              "             [0., 1., 0.],\n",
              "             [0., 0., 1.]], dtype=float32),\n",
              "  DeviceArray([[1., 0., 0., 0., 0., 0., 0., 0., 0., 0., 0., 0., 0., 0., 0.,\n",
              "              0.],\n",
              "             [0., 1., 0., 0., 0., 0., 0., 0., 0., 0., 0., 0., 0., 0., 0.,\n",
              "              0.],\n",
              "             [0., 0., 1., 0., 0., 0., 0., 0., 0., 0., 0., 0., 0., 0., 0.,\n",
              "              0.],\n",
              "             [0., 0., 0., 1., 0., 0., 0., 0., 0., 0., 0., 0., 0., 0., 0.,\n",
              "              0.],\n",
              "             [0., 0., 0., 0., 1., 0., 0., 0., 0., 0., 0., 0., 0., 0., 0.,\n",
              "              0.],\n",
              "             [0., 0., 0., 0., 0., 1., 0., 0., 0., 0., 0., 0., 0., 0., 0.,\n",
              "              0.],\n",
              "             [0., 0., 0., 0., 0., 0., 1., 0., 0., 0., 0., 0., 0., 0., 0.,\n",
              "              0.],\n",
              "             [0., 0., 0., 0., 0., 0., 0., 1., 0., 0., 0., 0., 0., 0., 0.,\n",
              "              0.],\n",
              "             [0., 0., 0., 0., 0., 0., 0., 0., 1., 0., 0., 0., 0., 0., 0.,\n",
              "              0.],\n",
              "             [0., 0., 0., 0., 0., 0., 0., 0., 0., 1., 0., 0., 0., 0., 0.,\n",
              "              0.],\n",
              "             [0., 0., 0., 0., 0., 0., 0., 0., 0., 0., 1., 0., 0., 0., 0.,\n",
              "              0.],\n",
              "             [0., 0., 0., 0., 0., 0., 0., 0., 0., 0., 0., 1., 0., 0., 0.,\n",
              "              0.],\n",
              "             [0., 0., 0., 0., 0., 0., 0., 0., 0., 0., 0., 0., 1., 0., 0.,\n",
              "              0.],\n",
              "             [0., 0., 0., 0., 0., 0., 0., 0., 0., 0., 0., 0., 0., 1., 0.,\n",
              "              0.],\n",
              "             [0., 0., 0., 0., 0., 0., 0., 0., 0., 0., 0., 0., 0., 0., 1.,\n",
              "              0.],\n",
              "             [0., 0., 0., 0., 0., 0., 0., 0., 0., 0., 0., 0., 0., 0., 0.,\n",
              "              1.]], dtype=float32),\n",
              "  DeviceArray([[1., 0., 0., 0., 0., 0., 0., 0., 0., 0., 0., 0., 0., 0., 0.,\n",
              "              0.],\n",
              "             [0., 1., 0., 0., 0., 0., 0., 0., 0., 0., 0., 0., 0., 0., 0.,\n",
              "              0.],\n",
              "             [0., 0., 1., 0., 0., 0., 0., 0., 0., 0., 0., 0., 0., 0., 0.,\n",
              "              0.],\n",
              "             [0., 0., 0., 1., 0., 0., 0., 0., 0., 0., 0., 0., 0., 0., 0.,\n",
              "              0.],\n",
              "             [0., 0., 0., 0., 1., 0., 0., 0., 0., 0., 0., 0., 0., 0., 0.,\n",
              "              0.],\n",
              "             [0., 0., 0., 0., 0., 1., 0., 0., 0., 0., 0., 0., 0., 0., 0.,\n",
              "              0.],\n",
              "             [0., 0., 0., 0., 0., 0., 1., 0., 0., 0., 0., 0., 0., 0., 0.,\n",
              "              0.],\n",
              "             [0., 0., 0., 0., 0., 0., 0., 1., 0., 0., 0., 0., 0., 0., 0.,\n",
              "              0.],\n",
              "             [0., 0., 0., 0., 0., 0., 0., 0., 1., 0., 0., 0., 0., 0., 0.,\n",
              "              0.],\n",
              "             [0., 0., 0., 0., 0., 0., 0., 0., 0., 1., 0., 0., 0., 0., 0.,\n",
              "              0.],\n",
              "             [0., 0., 0., 0., 0., 0., 0., 0., 0., 0., 1., 0., 0., 0., 0.,\n",
              "              0.],\n",
              "             [0., 0., 0., 0., 0., 0., 0., 0., 0., 0., 0., 1., 0., 0., 0.,\n",
              "              0.],\n",
              "             [0., 0., 0., 0., 0., 0., 0., 0., 0., 0., 0., 0., 1., 0., 0.,\n",
              "              0.],\n",
              "             [0., 0., 0., 0., 0., 0., 0., 0., 0., 0., 0., 0., 0., 1., 0.,\n",
              "              0.],\n",
              "             [0., 0., 0., 0., 0., 0., 0., 0., 0., 0., 0., 0., 0., 0., 1.,\n",
              "              0.],\n",
              "             [0., 0., 0., 0., 0., 0., 0., 0., 0., 0., 0., 0., 0., 0., 0.,\n",
              "              1.]], dtype=float32),\n",
              "  DeviceArray([[1., 0., 0., 0., 0., 0., 0., 0., 0., 0., 0., 0., 0., 0., 0.,\n",
              "              0.],\n",
              "             [0., 1., 0., 0., 0., 0., 0., 0., 0., 0., 0., 0., 0., 0., 0.,\n",
              "              0.],\n",
              "             [0., 0., 1., 0., 0., 0., 0., 0., 0., 0., 0., 0., 0., 0., 0.,\n",
              "              0.],\n",
              "             [0., 0., 0., 1., 0., 0., 0., 0., 0., 0., 0., 0., 0., 0., 0.,\n",
              "              0.],\n",
              "             [0., 0., 0., 0., 1., 0., 0., 0., 0., 0., 0., 0., 0., 0., 0.,\n",
              "              0.],\n",
              "             [0., 0., 0., 0., 0., 1., 0., 0., 0., 0., 0., 0., 0., 0., 0.,\n",
              "              0.],\n",
              "             [0., 0., 0., 0., 0., 0., 1., 0., 0., 0., 0., 0., 0., 0., 0.,\n",
              "              0.],\n",
              "             [0., 0., 0., 0., 0., 0., 0., 1., 0., 0., 0., 0., 0., 0., 0.,\n",
              "              0.],\n",
              "             [0., 0., 0., 0., 0., 0., 0., 0., 1., 0., 0., 0., 0., 0., 0.,\n",
              "              0.],\n",
              "             [0., 0., 0., 0., 0., 0., 0., 0., 0., 1., 0., 0., 0., 0., 0.,\n",
              "              0.],\n",
              "             [0., 0., 0., 0., 0., 0., 0., 0., 0., 0., 1., 0., 0., 0., 0.,\n",
              "              0.],\n",
              "             [0., 0., 0., 0., 0., 0., 0., 0., 0., 0., 0., 1., 0., 0., 0.,\n",
              "              0.],\n",
              "             [0., 0., 0., 0., 0., 0., 0., 0., 0., 0., 0., 0., 1., 0., 0.,\n",
              "              0.],\n",
              "             [0., 0., 0., 0., 0., 0., 0., 0., 0., 0., 0., 0., 0., 1., 0.,\n",
              "              0.],\n",
              "             [0., 0., 0., 0., 0., 0., 0., 0., 0., 0., 0., 0., 0., 0., 1.,\n",
              "              0.],\n",
              "             [0., 0., 0., 0., 0., 0., 0., 0., 0., 0., 0., 0., 0., 0., 0.,\n",
              "              1.]], dtype=float32),\n",
              "  DeviceArray([[1., 0., 0., 0., 0., 0., 0., 0., 0., 0., 0., 0., 0., 0., 0.,\n",
              "              0.],\n",
              "             [0., 1., 0., 0., 0., 0., 0., 0., 0., 0., 0., 0., 0., 0., 0.,\n",
              "              0.],\n",
              "             [0., 0., 1., 0., 0., 0., 0., 0., 0., 0., 0., 0., 0., 0., 0.,\n",
              "              0.],\n",
              "             [0., 0., 0., 1., 0., 0., 0., 0., 0., 0., 0., 0., 0., 0., 0.,\n",
              "              0.],\n",
              "             [0., 0., 0., 0., 1., 0., 0., 0., 0., 0., 0., 0., 0., 0., 0.,\n",
              "              0.],\n",
              "             [0., 0., 0., 0., 0., 1., 0., 0., 0., 0., 0., 0., 0., 0., 0.,\n",
              "              0.],\n",
              "             [0., 0., 0., 0., 0., 0., 1., 0., 0., 0., 0., 0., 0., 0., 0.,\n",
              "              0.],\n",
              "             [0., 0., 0., 0., 0., 0., 0., 1., 0., 0., 0., 0., 0., 0., 0.,\n",
              "              0.],\n",
              "             [0., 0., 0., 0., 0., 0., 0., 0., 1., 0., 0., 0., 0., 0., 0.,\n",
              "              0.],\n",
              "             [0., 0., 0., 0., 0., 0., 0., 0., 0., 1., 0., 0., 0., 0., 0.,\n",
              "              0.],\n",
              "             [0., 0., 0., 0., 0., 0., 0., 0., 0., 0., 1., 0., 0., 0., 0.,\n",
              "              0.],\n",
              "             [0., 0., 0., 0., 0., 0., 0., 0., 0., 0., 0., 1., 0., 0., 0.,\n",
              "              0.],\n",
              "             [0., 0., 0., 0., 0., 0., 0., 0., 0., 0., 0., 0., 1., 0., 0.,\n",
              "              0.],\n",
              "             [0., 0., 0., 0., 0., 0., 0., 0., 0., 0., 0., 0., 0., 1., 0.,\n",
              "              0.],\n",
              "             [0., 0., 0., 0., 0., 0., 0., 0., 0., 0., 0., 0., 0., 0., 1.,\n",
              "              0.],\n",
              "             [0., 0., 0., 0., 0., 0., 0., 0., 0., 0., 0., 0., 0., 0., 0.,\n",
              "              1.]], dtype=float32),\n",
              "  DeviceArray([[1., 0., 0., 0., 0., 0., 0., 0., 0., 0., 0., 0., 0., 0., 0.,\n",
              "              0.],\n",
              "             [0., 1., 0., 0., 0., 0., 0., 0., 0., 0., 0., 0., 0., 0., 0.,\n",
              "              0.],\n",
              "             [0., 0., 1., 0., 0., 0., 0., 0., 0., 0., 0., 0., 0., 0., 0.,\n",
              "              0.],\n",
              "             [0., 0., 0., 1., 0., 0., 0., 0., 0., 0., 0., 0., 0., 0., 0.,\n",
              "              0.],\n",
              "             [0., 0., 0., 0., 1., 0., 0., 0., 0., 0., 0., 0., 0., 0., 0.,\n",
              "              0.],\n",
              "             [0., 0., 0., 0., 0., 1., 0., 0., 0., 0., 0., 0., 0., 0., 0.,\n",
              "              0.],\n",
              "             [0., 0., 0., 0., 0., 0., 1., 0., 0., 0., 0., 0., 0., 0., 0.,\n",
              "              0.],\n",
              "             [0., 0., 0., 0., 0., 0., 0., 1., 0., 0., 0., 0., 0., 0., 0.,\n",
              "              0.],\n",
              "             [0., 0., 0., 0., 0., 0., 0., 0., 1., 0., 0., 0., 0., 0., 0.,\n",
              "              0.],\n",
              "             [0., 0., 0., 0., 0., 0., 0., 0., 0., 1., 0., 0., 0., 0., 0.,\n",
              "              0.],\n",
              "             [0., 0., 0., 0., 0., 0., 0., 0., 0., 0., 1., 0., 0., 0., 0.,\n",
              "              0.],\n",
              "             [0., 0., 0., 0., 0., 0., 0., 0., 0., 0., 0., 1., 0., 0., 0.,\n",
              "              0.],\n",
              "             [0., 0., 0., 0., 0., 0., 0., 0., 0., 0., 0., 0., 1., 0., 0.,\n",
              "              0.],\n",
              "             [0., 0., 0., 0., 0., 0., 0., 0., 0., 0., 0., 0., 0., 1., 0.,\n",
              "              0.],\n",
              "             [0., 0., 0., 0., 0., 0., 0., 0., 0., 0., 0., 0., 0., 0., 1.,\n",
              "              0.],\n",
              "             [0., 0., 0., 0., 0., 0., 0., 0., 0., 0., 0., 0., 0., 0., 0.,\n",
              "              1.]], dtype=float32),\n",
              "  DeviceArray([[1., 0., 0., 0., 0., 0., 0., 0., 0., 0., 0., 0., 0., 0., 0.,\n",
              "              0.],\n",
              "             [0., 1., 0., 0., 0., 0., 0., 0., 0., 0., 0., 0., 0., 0., 0.,\n",
              "              0.],\n",
              "             [0., 0., 1., 0., 0., 0., 0., 0., 0., 0., 0., 0., 0., 0., 0.,\n",
              "              0.],\n",
              "             [0., 0., 0., 1., 0., 0., 0., 0., 0., 0., 0., 0., 0., 0., 0.,\n",
              "              0.],\n",
              "             [0., 0., 0., 0., 1., 0., 0., 0., 0., 0., 0., 0., 0., 0., 0.,\n",
              "              0.],\n",
              "             [0., 0., 0., 0., 0., 1., 0., 0., 0., 0., 0., 0., 0., 0., 0.,\n",
              "              0.],\n",
              "             [0., 0., 0., 0., 0., 0., 1., 0., 0., 0., 0., 0., 0., 0., 0.,\n",
              "              0.],\n",
              "             [0., 0., 0., 0., 0., 0., 0., 1., 0., 0., 0., 0., 0., 0., 0.,\n",
              "              0.],\n",
              "             [0., 0., 0., 0., 0., 0., 0., 0., 1., 0., 0., 0., 0., 0., 0.,\n",
              "              0.],\n",
              "             [0., 0., 0., 0., 0., 0., 0., 0., 0., 1., 0., 0., 0., 0., 0.,\n",
              "              0.],\n",
              "             [0., 0., 0., 0., 0., 0., 0., 0., 0., 0., 1., 0., 0., 0., 0.,\n",
              "              0.],\n",
              "             [0., 0., 0., 0., 0., 0., 0., 0., 0., 0., 0., 1., 0., 0., 0.,\n",
              "              0.],\n",
              "             [0., 0., 0., 0., 0., 0., 0., 0., 0., 0., 0., 0., 1., 0., 0.,\n",
              "              0.],\n",
              "             [0., 0., 0., 0., 0., 0., 0., 0., 0., 0., 0., 0., 0., 1., 0.,\n",
              "              0.],\n",
              "             [0., 0., 0., 0., 0., 0., 0., 0., 0., 0., 0., 0., 0., 0., 1.,\n",
              "              0.],\n",
              "             [0., 0., 0., 0., 0., 0., 0., 0., 0., 0., 0., 0., 0., 0., 0.,\n",
              "              1.]], dtype=float32),\n",
              "  DeviceArray([[1., 0., 0., 0., 0., 0., 0., 0., 0., 0., 0., 0., 0., 0., 0.,\n",
              "              0.],\n",
              "             [0., 1., 0., 0., 0., 0., 0., 0., 0., 0., 0., 0., 0., 0., 0.,\n",
              "              0.],\n",
              "             [0., 0., 1., 0., 0., 0., 0., 0., 0., 0., 0., 0., 0., 0., 0.,\n",
              "              0.],\n",
              "             [0., 0., 0., 1., 0., 0., 0., 0., 0., 0., 0., 0., 0., 0., 0.,\n",
              "              0.],\n",
              "             [0., 0., 0., 0., 1., 0., 0., 0., 0., 0., 0., 0., 0., 0., 0.,\n",
              "              0.],\n",
              "             [0., 0., 0., 0., 0., 1., 0., 0., 0., 0., 0., 0., 0., 0., 0.,\n",
              "              0.],\n",
              "             [0., 0., 0., 0., 0., 0., 1., 0., 0., 0., 0., 0., 0., 0., 0.,\n",
              "              0.],\n",
              "             [0., 0., 0., 0., 0., 0., 0., 1., 0., 0., 0., 0., 0., 0., 0.,\n",
              "              0.],\n",
              "             [0., 0., 0., 0., 0., 0., 0., 0., 1., 0., 0., 0., 0., 0., 0.,\n",
              "              0.],\n",
              "             [0., 0., 0., 0., 0., 0., 0., 0., 0., 1., 0., 0., 0., 0., 0.,\n",
              "              0.],\n",
              "             [0., 0., 0., 0., 0., 0., 0., 0., 0., 0., 1., 0., 0., 0., 0.,\n",
              "              0.],\n",
              "             [0., 0., 0., 0., 0., 0., 0., 0., 0., 0., 0., 1., 0., 0., 0.,\n",
              "              0.],\n",
              "             [0., 0., 0., 0., 0., 0., 0., 0., 0., 0., 0., 0., 1., 0., 0.,\n",
              "              0.],\n",
              "             [0., 0., 0., 0., 0., 0., 0., 0., 0., 0., 0., 0., 0., 1., 0.,\n",
              "              0.],\n",
              "             [0., 0., 0., 0., 0., 0., 0., 0., 0., 0., 0., 0., 0., 0., 1.,\n",
              "              0.],\n",
              "             [0., 0., 0., 0., 0., 0., 0., 0., 0., 0., 0., 0., 0., 0., 0.,\n",
              "              1.]], dtype=float32),\n",
              "  DeviceArray([[1., 0., 0., 0., 0., 0., 0., 0., 0., 0., 0., 0., 0., 0., 0.,\n",
              "              0.],\n",
              "             [0., 1., 0., 0., 0., 0., 0., 0., 0., 0., 0., 0., 0., 0., 0.,\n",
              "              0.],\n",
              "             [0., 0., 1., 0., 0., 0., 0., 0., 0., 0., 0., 0., 0., 0., 0.,\n",
              "              0.],\n",
              "             [0., 0., 0., 1., 0., 0., 0., 0., 0., 0., 0., 0., 0., 0., 0.,\n",
              "              0.],\n",
              "             [0., 0., 0., 0., 1., 0., 0., 0., 0., 0., 0., 0., 0., 0., 0.,\n",
              "              0.],\n",
              "             [0., 0., 0., 0., 0., 1., 0., 0., 0., 0., 0., 0., 0., 0., 0.,\n",
              "              0.],\n",
              "             [0., 0., 0., 0., 0., 0., 1., 0., 0., 0., 0., 0., 0., 0., 0.,\n",
              "              0.],\n",
              "             [0., 0., 0., 0., 0., 0., 0., 1., 0., 0., 0., 0., 0., 0., 0.,\n",
              "              0.],\n",
              "             [0., 0., 0., 0., 0., 0., 0., 0., 1., 0., 0., 0., 0., 0., 0.,\n",
              "              0.],\n",
              "             [0., 0., 0., 0., 0., 0., 0., 0., 0., 1., 0., 0., 0., 0., 0.,\n",
              "              0.],\n",
              "             [0., 0., 0., 0., 0., 0., 0., 0., 0., 0., 1., 0., 0., 0., 0.,\n",
              "              0.],\n",
              "             [0., 0., 0., 0., 0., 0., 0., 0., 0., 0., 0., 1., 0., 0., 0.,\n",
              "              0.],\n",
              "             [0., 0., 0., 0., 0., 0., 0., 0., 0., 0., 0., 0., 1., 0., 0.,\n",
              "              0.],\n",
              "             [0., 0., 0., 0., 0., 0., 0., 0., 0., 0., 0., 0., 0., 1., 0.,\n",
              "              0.],\n",
              "             [0., 0., 0., 0., 0., 0., 0., 0., 0., 0., 0., 0., 0., 0., 1.,\n",
              "              0.],\n",
              "             [0., 0., 0., 0., 0., 0., 0., 0., 0., 0., 0., 0., 0., 0., 0.,\n",
              "              1.]], dtype=float32),\n",
              "  DeviceArray([[1., 0., 0., 0., 0., 0., 0., 0., 0., 0., 0., 0., 0., 0., 0.,\n",
              "              0.],\n",
              "             [0., 1., 0., 0., 0., 0., 0., 0., 0., 0., 0., 0., 0., 0., 0.,\n",
              "              0.],\n",
              "             [0., 0., 1., 0., 0., 0., 0., 0., 0., 0., 0., 0., 0., 0., 0.,\n",
              "              0.],\n",
              "             [0., 0., 0., 1., 0., 0., 0., 0., 0., 0., 0., 0., 0., 0., 0.,\n",
              "              0.],\n",
              "             [0., 0., 0., 0., 1., 0., 0., 0., 0., 0., 0., 0., 0., 0., 0.,\n",
              "              0.],\n",
              "             [0., 0., 0., 0., 0., 1., 0., 0., 0., 0., 0., 0., 0., 0., 0.,\n",
              "              0.],\n",
              "             [0., 0., 0., 0., 0., 0., 1., 0., 0., 0., 0., 0., 0., 0., 0.,\n",
              "              0.],\n",
              "             [0., 0., 0., 0., 0., 0., 0., 1., 0., 0., 0., 0., 0., 0., 0.,\n",
              "              0.],\n",
              "             [0., 0., 0., 0., 0., 0., 0., 0., 1., 0., 0., 0., 0., 0., 0.,\n",
              "              0.],\n",
              "             [0., 0., 0., 0., 0., 0., 0., 0., 0., 1., 0., 0., 0., 0., 0.,\n",
              "              0.],\n",
              "             [0., 0., 0., 0., 0., 0., 0., 0., 0., 0., 1., 0., 0., 0., 0.,\n",
              "              0.],\n",
              "             [0., 0., 0., 0., 0., 0., 0., 0., 0., 0., 0., 1., 0., 0., 0.,\n",
              "              0.],\n",
              "             [0., 0., 0., 0., 0., 0., 0., 0., 0., 0., 0., 0., 1., 0., 0.,\n",
              "              0.],\n",
              "             [0., 0., 0., 0., 0., 0., 0., 0., 0., 0., 0., 0., 0., 1., 0.,\n",
              "              0.],\n",
              "             [0., 0., 0., 0., 0., 0., 0., 0., 0., 0., 0., 0., 0., 0., 1.,\n",
              "              0.],\n",
              "             [0., 0., 0., 0., 0., 0., 0., 0., 0., 0., 0., 0., 0., 0., 0.,\n",
              "              1.]], dtype=float32),\n",
              "  DeviceArray([[1., 0., 0., 0., 0., 0., 0., 0., 0., 0., 0., 0., 0., 0., 0.,\n",
              "              0.],\n",
              "             [0., 1., 0., 0., 0., 0., 0., 0., 0., 0., 0., 0., 0., 0., 0.,\n",
              "              0.],\n",
              "             [0., 0., 1., 0., 0., 0., 0., 0., 0., 0., 0., 0., 0., 0., 0.,\n",
              "              0.],\n",
              "             [0., 0., 0., 1., 0., 0., 0., 0., 0., 0., 0., 0., 0., 0., 0.,\n",
              "              0.],\n",
              "             [0., 0., 0., 0., 1., 0., 0., 0., 0., 0., 0., 0., 0., 0., 0.,\n",
              "              0.],\n",
              "             [0., 0., 0., 0., 0., 1., 0., 0., 0., 0., 0., 0., 0., 0., 0.,\n",
              "              0.],\n",
              "             [0., 0., 0., 0., 0., 0., 1., 0., 0., 0., 0., 0., 0., 0., 0.,\n",
              "              0.],\n",
              "             [0., 0., 0., 0., 0., 0., 0., 1., 0., 0., 0., 0., 0., 0., 0.,\n",
              "              0.],\n",
              "             [0., 0., 0., 0., 0., 0., 0., 0., 1., 0., 0., 0., 0., 0., 0.,\n",
              "              0.],\n",
              "             [0., 0., 0., 0., 0., 0., 0., 0., 0., 1., 0., 0., 0., 0., 0.,\n",
              "              0.],\n",
              "             [0., 0., 0., 0., 0., 0., 0., 0., 0., 0., 1., 0., 0., 0., 0.,\n",
              "              0.],\n",
              "             [0., 0., 0., 0., 0., 0., 0., 0., 0., 0., 0., 1., 0., 0., 0.,\n",
              "              0.],\n",
              "             [0., 0., 0., 0., 0., 0., 0., 0., 0., 0., 0., 0., 1., 0., 0.,\n",
              "              0.],\n",
              "             [0., 0., 0., 0., 0., 0., 0., 0., 0., 0., 0., 0., 0., 1., 0.,\n",
              "              0.],\n",
              "             [0., 0., 0., 0., 0., 0., 0., 0., 0., 0., 0., 0., 0., 0., 1.,\n",
              "              0.],\n",
              "             [0., 0., 0., 0., 0., 0., 0., 0., 0., 0., 0., 0., 0., 0., 0.,\n",
              "              1.]], dtype=float32),\n",
              "  DeviceArray([[1., 0., 0., 0., 0., 0., 0., 0., 0., 0., 0., 0., 0., 0., 0.,\n",
              "              0.],\n",
              "             [0., 1., 0., 0., 0., 0., 0., 0., 0., 0., 0., 0., 0., 0., 0.,\n",
              "              0.],\n",
              "             [0., 0., 1., 0., 0., 0., 0., 0., 0., 0., 0., 0., 0., 0., 0.,\n",
              "              0.],\n",
              "             [0., 0., 0., 1., 0., 0., 0., 0., 0., 0., 0., 0., 0., 0., 0.,\n",
              "              0.],\n",
              "             [0., 0., 0., 0., 1., 0., 0., 0., 0., 0., 0., 0., 0., 0., 0.,\n",
              "              0.],\n",
              "             [0., 0., 0., 0., 0., 1., 0., 0., 0., 0., 0., 0., 0., 0., 0.,\n",
              "              0.],\n",
              "             [0., 0., 0., 0., 0., 0., 1., 0., 0., 0., 0., 0., 0., 0., 0.,\n",
              "              0.],\n",
              "             [0., 0., 0., 0., 0., 0., 0., 1., 0., 0., 0., 0., 0., 0., 0.,\n",
              "              0.],\n",
              "             [0., 0., 0., 0., 0., 0., 0., 0., 1., 0., 0., 0., 0., 0., 0.,\n",
              "              0.],\n",
              "             [0., 0., 0., 0., 0., 0., 0., 0., 0., 1., 0., 0., 0., 0., 0.,\n",
              "              0.],\n",
              "             [0., 0., 0., 0., 0., 0., 0., 0., 0., 0., 1., 0., 0., 0., 0.,\n",
              "              0.],\n",
              "             [0., 0., 0., 0., 0., 0., 0., 0., 0., 0., 0., 1., 0., 0., 0.,\n",
              "              0.],\n",
              "             [0., 0., 0., 0., 0., 0., 0., 0., 0., 0., 0., 0., 1., 0., 0.,\n",
              "              0.],\n",
              "             [0., 0., 0., 0., 0., 0., 0., 0., 0., 0., 0., 0., 0., 1., 0.,\n",
              "              0.],\n",
              "             [0., 0., 0., 0., 0., 0., 0., 0., 0., 0., 0., 0., 0., 0., 1.,\n",
              "              0.],\n",
              "             [0., 0., 0., 0., 0., 0., 0., 0., 0., 0., 0., 0., 0., 0., 0.,\n",
              "              1.]], dtype=float32),\n",
              "  DeviceArray([[1., 0., 0., 0., 0., 0., 0., 0., 0., 0., 0., 0., 0., 0., 0.,\n",
              "              0.],\n",
              "             [0., 1., 0., 0., 0., 0., 0., 0., 0., 0., 0., 0., 0., 0., 0.,\n",
              "              0.],\n",
              "             [0., 0., 1., 0., 0., 0., 0., 0., 0., 0., 0., 0., 0., 0., 0.,\n",
              "              0.],\n",
              "             [0., 0., 0., 1., 0., 0., 0., 0., 0., 0., 0., 0., 0., 0., 0.,\n",
              "              0.],\n",
              "             [0., 0., 0., 0., 1., 0., 0., 0., 0., 0., 0., 0., 0., 0., 0.,\n",
              "              0.],\n",
              "             [0., 0., 0., 0., 0., 1., 0., 0., 0., 0., 0., 0., 0., 0., 0.,\n",
              "              0.],\n",
              "             [0., 0., 0., 0., 0., 0., 1., 0., 0., 0., 0., 0., 0., 0., 0.,\n",
              "              0.],\n",
              "             [0., 0., 0., 0., 0., 0., 0., 1., 0., 0., 0., 0., 0., 0., 0.,\n",
              "              0.],\n",
              "             [0., 0., 0., 0., 0., 0., 0., 0., 1., 0., 0., 0., 0., 0., 0.,\n",
              "              0.],\n",
              "             [0., 0., 0., 0., 0., 0., 0., 0., 0., 1., 0., 0., 0., 0., 0.,\n",
              "              0.],\n",
              "             [0., 0., 0., 0., 0., 0., 0., 0., 0., 0., 1., 0., 0., 0., 0.,\n",
              "              0.],\n",
              "             [0., 0., 0., 0., 0., 0., 0., 0., 0., 0., 0., 1., 0., 0., 0.,\n",
              "              0.],\n",
              "             [0., 0., 0., 0., 0., 0., 0., 0., 0., 0., 0., 0., 1., 0., 0.,\n",
              "              0.],\n",
              "             [0., 0., 0., 0., 0., 0., 0., 0., 0., 0., 0., 0., 0., 1., 0.,\n",
              "              0.],\n",
              "             [0., 0., 0., 0., 0., 0., 0., 0., 0., 0., 0., 0., 0., 0., 1.,\n",
              "              0.],\n",
              "             [0., 0., 0., 0., 0., 0., 0., 0., 0., 0., 0., 0., 0., 0., 0.,\n",
              "              1.]], dtype=float32),\n",
              "  DeviceArray([[1., 0., 0., 0., 0., 0., 0., 0., 0., 0., 0., 0., 0., 0., 0.,\n",
              "              0.],\n",
              "             [0., 1., 0., 0., 0., 0., 0., 0., 0., 0., 0., 0., 0., 0., 0.,\n",
              "              0.],\n",
              "             [0., 0., 1., 0., 0., 0., 0., 0., 0., 0., 0., 0., 0., 0., 0.,\n",
              "              0.],\n",
              "             [0., 0., 0., 1., 0., 0., 0., 0., 0., 0., 0., 0., 0., 0., 0.,\n",
              "              0.],\n",
              "             [0., 0., 0., 0., 1., 0., 0., 0., 0., 0., 0., 0., 0., 0., 0.,\n",
              "              0.],\n",
              "             [0., 0., 0., 0., 0., 1., 0., 0., 0., 0., 0., 0., 0., 0., 0.,\n",
              "              0.],\n",
              "             [0., 0., 0., 0., 0., 0., 1., 0., 0., 0., 0., 0., 0., 0., 0.,\n",
              "              0.],\n",
              "             [0., 0., 0., 0., 0., 0., 0., 1., 0., 0., 0., 0., 0., 0., 0.,\n",
              "              0.],\n",
              "             [0., 0., 0., 0., 0., 0., 0., 0., 1., 0., 0., 0., 0., 0., 0.,\n",
              "              0.],\n",
              "             [0., 0., 0., 0., 0., 0., 0., 0., 0., 1., 0., 0., 0., 0., 0.,\n",
              "              0.],\n",
              "             [0., 0., 0., 0., 0., 0., 0., 0., 0., 0., 1., 0., 0., 0., 0.,\n",
              "              0.],\n",
              "             [0., 0., 0., 0., 0., 0., 0., 0., 0., 0., 0., 1., 0., 0., 0.,\n",
              "              0.],\n",
              "             [0., 0., 0., 0., 0., 0., 0., 0., 0., 0., 0., 0., 1., 0., 0.,\n",
              "              0.],\n",
              "             [0., 0., 0., 0., 0., 0., 0., 0., 0., 0., 0., 0., 0., 1., 0.,\n",
              "              0.],\n",
              "             [0., 0., 0., 0., 0., 0., 0., 0., 0., 0., 0., 0., 0., 0., 1.,\n",
              "              0.],\n",
              "             [0., 0., 0., 0., 0., 0., 0., 0., 0., 0., 0., 0., 0., 0., 0.,\n",
              "              1.]], dtype=float32),\n",
              "  DeviceArray([[1., 0., 0., 0., 0., 0., 0., 0., 0., 0., 0., 0., 0., 0., 0.,\n",
              "              0.],\n",
              "             [0., 1., 0., 0., 0., 0., 0., 0., 0., 0., 0., 0., 0., 0., 0.,\n",
              "              0.],\n",
              "             [0., 0., 1., 0., 0., 0., 0., 0., 0., 0., 0., 0., 0., 0., 0.,\n",
              "              0.],\n",
              "             [0., 0., 0., 1., 0., 0., 0., 0., 0., 0., 0., 0., 0., 0., 0.,\n",
              "              0.],\n",
              "             [0., 0., 0., 0., 1., 0., 0., 0., 0., 0., 0., 0., 0., 0., 0.,\n",
              "              0.],\n",
              "             [0., 0., 0., 0., 0., 1., 0., 0., 0., 0., 0., 0., 0., 0., 0.,\n",
              "              0.],\n",
              "             [0., 0., 0., 0., 0., 0., 1., 0., 0., 0., 0., 0., 0., 0., 0.,\n",
              "              0.],\n",
              "             [0., 0., 0., 0., 0., 0., 0., 1., 0., 0., 0., 0., 0., 0., 0.,\n",
              "              0.],\n",
              "             [0., 0., 0., 0., 0., 0., 0., 0., 1., 0., 0., 0., 0., 0., 0.,\n",
              "              0.],\n",
              "             [0., 0., 0., 0., 0., 0., 0., 0., 0., 1., 0., 0., 0., 0., 0.,\n",
              "              0.],\n",
              "             [0., 0., 0., 0., 0., 0., 0., 0., 0., 0., 1., 0., 0., 0., 0.,\n",
              "              0.],\n",
              "             [0., 0., 0., 0., 0., 0., 0., 0., 0., 0., 0., 1., 0., 0., 0.,\n",
              "              0.],\n",
              "             [0., 0., 0., 0., 0., 0., 0., 0., 0., 0., 0., 0., 1., 0., 0.,\n",
              "              0.],\n",
              "             [0., 0., 0., 0., 0., 0., 0., 0., 0., 0., 0., 0., 0., 1., 0.,\n",
              "              0.],\n",
              "             [0., 0., 0., 0., 0., 0., 0., 0., 0., 0., 0., 0., 0., 0., 1.,\n",
              "              0.],\n",
              "             [0., 0., 0., 0., 0., 0., 0., 0., 0., 0., 0., 0., 0., 0., 0.,\n",
              "              1.]], dtype=float32),\n",
              "  DeviceArray([[1., 0., 0., 0., 0., 0., 0., 0., 0., 0., 0., 0., 0., 0., 0.,\n",
              "              0.],\n",
              "             [0., 1., 0., 0., 0., 0., 0., 0., 0., 0., 0., 0., 0., 0., 0.,\n",
              "              0.],\n",
              "             [0., 0., 1., 0., 0., 0., 0., 0., 0., 0., 0., 0., 0., 0., 0.,\n",
              "              0.],\n",
              "             [0., 0., 0., 1., 0., 0., 0., 0., 0., 0., 0., 0., 0., 0., 0.,\n",
              "              0.],\n",
              "             [0., 0., 0., 0., 1., 0., 0., 0., 0., 0., 0., 0., 0., 0., 0.,\n",
              "              0.],\n",
              "             [0., 0., 0., 0., 0., 1., 0., 0., 0., 0., 0., 0., 0., 0., 0.,\n",
              "              0.],\n",
              "             [0., 0., 0., 0., 0., 0., 1., 0., 0., 0., 0., 0., 0., 0., 0.,\n",
              "              0.],\n",
              "             [0., 0., 0., 0., 0., 0., 0., 1., 0., 0., 0., 0., 0., 0., 0.,\n",
              "              0.],\n",
              "             [0., 0., 0., 0., 0., 0., 0., 0., 1., 0., 0., 0., 0., 0., 0.,\n",
              "              0.],\n",
              "             [0., 0., 0., 0., 0., 0., 0., 0., 0., 1., 0., 0., 0., 0., 0.,\n",
              "              0.],\n",
              "             [0., 0., 0., 0., 0., 0., 0., 0., 0., 0., 1., 0., 0., 0., 0.,\n",
              "              0.],\n",
              "             [0., 0., 0., 0., 0., 0., 0., 0., 0., 0., 0., 1., 0., 0., 0.,\n",
              "              0.],\n",
              "             [0., 0., 0., 0., 0., 0., 0., 0., 0., 0., 0., 0., 1., 0., 0.,\n",
              "              0.],\n",
              "             [0., 0., 0., 0., 0., 0., 0., 0., 0., 0., 0., 0., 0., 1., 0.,\n",
              "              0.],\n",
              "             [0., 0., 0., 0., 0., 0., 0., 0., 0., 0., 0., 0., 0., 0., 1.,\n",
              "              0.],\n",
              "             [0., 0., 0., 0., 0., 0., 0., 0., 0., 0., 0., 0., 0., 0., 0.,\n",
              "              1.]], dtype=float32),\n",
              "  DeviceArray([[1., 0., 0., 0., 0., 0., 0., 0., 0., 0., 0., 0., 0., 0., 0.,\n",
              "              0.],\n",
              "             [0., 1., 0., 0., 0., 0., 0., 0., 0., 0., 0., 0., 0., 0., 0.,\n",
              "              0.],\n",
              "             [0., 0., 1., 0., 0., 0., 0., 0., 0., 0., 0., 0., 0., 0., 0.,\n",
              "              0.],\n",
              "             [0., 0., 0., 1., 0., 0., 0., 0., 0., 0., 0., 0., 0., 0., 0.,\n",
              "              0.],\n",
              "             [0., 0., 0., 0., 1., 0., 0., 0., 0., 0., 0., 0., 0., 0., 0.,\n",
              "              0.],\n",
              "             [0., 0., 0., 0., 0., 1., 0., 0., 0., 0., 0., 0., 0., 0., 0.,\n",
              "              0.],\n",
              "             [0., 0., 0., 0., 0., 0., 1., 0., 0., 0., 0., 0., 0., 0., 0.,\n",
              "              0.],\n",
              "             [0., 0., 0., 0., 0., 0., 0., 1., 0., 0., 0., 0., 0., 0., 0.,\n",
              "              0.],\n",
              "             [0., 0., 0., 0., 0., 0., 0., 0., 1., 0., 0., 0., 0., 0., 0.,\n",
              "              0.],\n",
              "             [0., 0., 0., 0., 0., 0., 0., 0., 0., 1., 0., 0., 0., 0., 0.,\n",
              "              0.],\n",
              "             [0., 0., 0., 0., 0., 0., 0., 0., 0., 0., 1., 0., 0., 0., 0.,\n",
              "              0.],\n",
              "             [0., 0., 0., 0., 0., 0., 0., 0., 0., 0., 0., 1., 0., 0., 0.,\n",
              "              0.],\n",
              "             [0., 0., 0., 0., 0., 0., 0., 0., 0., 0., 0., 0., 1., 0., 0.,\n",
              "              0.],\n",
              "             [0., 0., 0., 0., 0., 0., 0., 0., 0., 0., 0., 0., 0., 1., 0.,\n",
              "              0.],\n",
              "             [0., 0., 0., 0., 0., 0., 0., 0., 0., 0., 0., 0., 0., 0., 1.,\n",
              "              0.],\n",
              "             [0., 0., 0., 0., 0., 0., 0., 0., 0., 0., 0., 0., 0., 0., 0.,\n",
              "              1.]], dtype=float32)])</pre>"
            ]
          },
          "metadata": {}
        },
        {
          "output_type": "display_data",
          "data": {
            "text/plain": [
              "<IPython.core.display.Javascript object>"
            ],
            "application/javascript": [
              "window[\"820cc934-3888-11ed-8c08-0242ac1c0002\"] = google.colab.output.setActiveOutputArea(window[\"82091a96-3888-11ed-8c08-0242ac1c0002\"]);\n",
              "//# sourceURL=js_8c0079521e"
            ]
          },
          "metadata": {}
        },
        {
          "output_type": "display_data",
          "data": {
            "text/plain": [
              "<IPython.core.display.Javascript object>"
            ],
            "application/javascript": [
              "window[\"820ebd5c-3888-11ed-8c08-0242ac1c0002\"] = google.colab.output.getActiveOutputArea();\n",
              "//# sourceURL=js_d486a6285c"
            ]
          },
          "metadata": {}
        },
        {
          "output_type": "display_data",
          "data": {
            "text/plain": [
              "<IPython.core.display.Javascript object>"
            ],
            "application/javascript": [
              "window[\"820f35fc-3888-11ed-8c08-0242ac1c0002\"] = document.querySelector(\"#tag-069e97f5-c190-4aab-8e74-c9700079111c\");\n",
              "//# sourceURL=js_950868c394"
            ]
          },
          "metadata": {}
        },
        {
          "output_type": "display_data",
          "data": {
            "text/plain": [
              "<IPython.core.display.Javascript object>"
            ],
            "application/javascript": [
              "window[\"820fcf6c-3888-11ed-8c08-0242ac1c0002\"] = google.colab.output.setActiveOutputArea(window[\"820f35fc-3888-11ed-8c08-0242ac1c0002\"]);\n",
              "//# sourceURL=js_5bac7ae06e"
            ]
          },
          "metadata": {}
        },
        {
          "output_type": "display_data",
          "data": {
            "text/plain": [
              "<IPython.core.display.HTML object>"
            ],
            "text/html": [
              "<pre>\n",
              "</pre>"
            ]
          },
          "metadata": {}
        },
        {
          "output_type": "display_data",
          "data": {
            "text/plain": [
              "<IPython.core.display.Javascript object>"
            ],
            "application/javascript": [
              "window[\"8210cc14-3888-11ed-8c08-0242ac1c0002\"] = google.colab.output.setActiveOutputArea(window[\"820ebd5c-3888-11ed-8c08-0242ac1c0002\"]);\n",
              "//# sourceURL=js_7031dfbd4e"
            ]
          },
          "metadata": {}
        },
        {
          "output_type": "display_data",
          "data": {
            "text/plain": [
              "<IPython.core.display.Javascript object>"
            ],
            "application/javascript": [
              "window[\"821287ca-3888-11ed-8c08-0242ac1c0002\"] = google.colab.output.getActiveOutputArea();\n",
              "//# sourceURL=js_fb257e0874"
            ]
          },
          "metadata": {}
        },
        {
          "output_type": "display_data",
          "data": {
            "text/plain": [
              "<IPython.core.display.Javascript object>"
            ],
            "application/javascript": [
              "window[\"82131a1e-3888-11ed-8c08-0242ac1c0002\"] = document.querySelector(\"#tag-069e97f5-c190-4aab-8e74-c9700079111c\");\n",
              "//# sourceURL=js_fe347e1945"
            ]
          },
          "metadata": {}
        },
        {
          "output_type": "display_data",
          "data": {
            "text/plain": [
              "<IPython.core.display.Javascript object>"
            ],
            "application/javascript": [
              "window[\"8213eac0-3888-11ed-8c08-0242ac1c0002\"] = google.colab.output.setActiveOutputArea(window[\"82131a1e-3888-11ed-8c08-0242ac1c0002\"]);\n",
              "//# sourceURL=js_bd3f932088"
            ]
          },
          "metadata": {}
        },
        {
          "output_type": "display_data",
          "data": {
            "text/plain": [
              "<IPython.core.display.HTML object>"
            ],
            "text/html": [
              "<pre>(jdb) </pre>"
            ]
          },
          "metadata": {}
        },
        {
          "output_type": "display_data",
          "data": {
            "text/plain": [
              "<IPython.core.display.Javascript object>"
            ],
            "application/javascript": [
              "window[\"8214cf80-3888-11ed-8c08-0242ac1c0002\"] = google.colab.output.setActiveOutputArea(window[\"821287ca-3888-11ed-8c08-0242ac1c0002\"]);\n",
              "//# sourceURL=js_8d7423c755"
            ]
          },
          "metadata": {}
        },
        {
          "output_type": "error",
          "ename": "TracerArrayConversionError",
          "evalue": "ignored",
          "traceback": [
            "\u001b[0;31m---------------------------------------------------------------------------\u001b[0m",
            "\u001b[0;31mAttributeError\u001b[0m                            Traceback (most recent call last)",
            "\u001b[0;32m/usr/local/lib/python3.7/dist-packages/numpy/core/fromnumeric.py\u001b[0m in \u001b[0;36mndim\u001b[0;34m(a)\u001b[0m\n\u001b[1;32m   3159\u001b[0m     \u001b[0;32mtry\u001b[0m\u001b[0;34m:\u001b[0m\u001b[0;34m\u001b[0m\u001b[0;34m\u001b[0m\u001b[0m\n\u001b[0;32m-> 3160\u001b[0;31m         \u001b[0;32mreturn\u001b[0m \u001b[0ma\u001b[0m\u001b[0;34m.\u001b[0m\u001b[0mndim\u001b[0m\u001b[0;34m\u001b[0m\u001b[0;34m\u001b[0m\u001b[0m\n\u001b[0m\u001b[1;32m   3161\u001b[0m     \u001b[0;32mexcept\u001b[0m \u001b[0mAttributeError\u001b[0m\u001b[0;34m:\u001b[0m\u001b[0;34m\u001b[0m\u001b[0;34m\u001b[0m\u001b[0m\n",
            "\u001b[0;31mAttributeError\u001b[0m: 'list' object has no attribute 'ndim'",
            "\nDuring handling of the above exception, another exception occurred:\n",
            "\u001b[0;31mUnfilteredStackTrace\u001b[0m                      Traceback (most recent call last)",
            "\u001b[0;32m<ipython-input-52-ed0018f60662>\u001b[0m in \u001b[0;36m<module>\u001b[0;34m\u001b[0m\n\u001b[1;32m     13\u001b[0m )\n\u001b[0;32m---> 14\u001b[0;31m \u001b[0mcmgf_ekf_post\u001b[0m \u001b[0;34m=\u001b[0m \u001b[0mdecoupled_conditional_moments_gaussian_filter\u001b[0m\u001b[0;34m(\u001b[0m\u001b[0mcmgf_ekf_params\u001b[0m\u001b[0;34m,\u001b[0m \u001b[0maggregate_fn\u001b[0m\u001b[0;34m,\u001b[0m \u001b[0moutput\u001b[0m\u001b[0;34m,\u001b[0m \u001b[0minputs\u001b[0m\u001b[0;34m=\u001b[0m\u001b[0minput\u001b[0m\u001b[0;34m)\u001b[0m\u001b[0;34m\u001b[0m\u001b[0;34m\u001b[0m\u001b[0m\n\u001b[0m\u001b[1;32m     15\u001b[0m \u001b[0;34m\u001b[0m\u001b[0m\n",
            "\u001b[0;32m<ipython-input-48-c261398d8347>\u001b[0m in \u001b[0;36mdecoupled_conditional_moments_gaussian_filter\u001b[0;34m(params, aggregate_fn, emissions, num_iter, inputs)\u001b[0m\n\u001b[1;32m    246\u001b[0m     \u001b[0mjax\u001b[0m\u001b[0;34m.\u001b[0m\u001b[0mdebug\u001b[0m\u001b[0;34m.\u001b[0m\u001b[0mbreakpoint\u001b[0m\u001b[0;34m(\u001b[0m\u001b[0;34m)\u001b[0m\u001b[0;34m\u001b[0m\u001b[0;34m\u001b[0m\u001b[0m\n\u001b[0;32m--> 247\u001b[0;31m     \u001b[0;34m(\u001b[0m\u001b[0mll\u001b[0m\u001b[0;34m,\u001b[0m \u001b[0m_\u001b[0m\u001b[0;34m,\u001b[0m \u001b[0m_\u001b[0m\u001b[0;34m)\u001b[0m\u001b[0;34m,\u001b[0m \u001b[0;34m(\u001b[0m\u001b[0mfiltered_means\u001b[0m\u001b[0;34m,\u001b[0m \u001b[0mfiltered_covs\u001b[0m\u001b[0;34m)\u001b[0m \u001b[0;34m=\u001b[0m \u001b[0mlax\u001b[0m\u001b[0;34m.\u001b[0m\u001b[0mscan\u001b[0m\u001b[0;34m(\u001b[0m\u001b[0m_step\u001b[0m\u001b[0;34m,\u001b[0m \u001b[0mcarry\u001b[0m\u001b[0;34m,\u001b[0m \u001b[0mjnp\u001b[0m\u001b[0;34m.\u001b[0m\u001b[0marange\u001b[0m\u001b[0;34m(\u001b[0m\u001b[0mnum_timesteps\u001b[0m\u001b[0;34m)\u001b[0m\u001b[0;34m)\u001b[0m\u001b[0;34m\u001b[0m\u001b[0;34m\u001b[0m\u001b[0m\n\u001b[0m\u001b[1;32m    248\u001b[0m     \u001b[0;32mreturn\u001b[0m \u001b[0mGSSMPosterior\u001b[0m\u001b[0;34m(\u001b[0m\u001b[0mmarginal_loglik\u001b[0m\u001b[0;34m=\u001b[0m\u001b[0mll\u001b[0m\u001b[0;34m,\u001b[0m \u001b[0mfiltered_means\u001b[0m\u001b[0;34m=\u001b[0m\u001b[0mfiltered_means\u001b[0m\u001b[0;34m,\u001b[0m \u001b[0mfiltered_covariances\u001b[0m\u001b[0;34m=\u001b[0m\u001b[0mfiltered_covs\u001b[0m\u001b[0;34m)\u001b[0m\u001b[0;34m\u001b[0m\u001b[0;34m\u001b[0m\u001b[0m\n",
            "\u001b[0;32m/usr/local/lib/python3.7/dist-packages/jax/_src/traceback_util.py\u001b[0m in \u001b[0;36mreraise_with_filtered_traceback\u001b[0;34m(*args, **kwargs)\u001b[0m\n\u001b[1;32m    161\u001b[0m     \u001b[0;32mtry\u001b[0m\u001b[0;34m:\u001b[0m\u001b[0;34m\u001b[0m\u001b[0;34m\u001b[0m\u001b[0m\n\u001b[0;32m--> 162\u001b[0;31m       \u001b[0;32mreturn\u001b[0m \u001b[0mfun\u001b[0m\u001b[0;34m(\u001b[0m\u001b[0;34m*\u001b[0m\u001b[0margs\u001b[0m\u001b[0;34m,\u001b[0m \u001b[0;34m**\u001b[0m\u001b[0mkwargs\u001b[0m\u001b[0;34m)\u001b[0m\u001b[0;34m\u001b[0m\u001b[0;34m\u001b[0m\u001b[0m\n\u001b[0m\u001b[1;32m    163\u001b[0m     \u001b[0;32mexcept\u001b[0m \u001b[0mException\u001b[0m \u001b[0;32mas\u001b[0m \u001b[0me\u001b[0m\u001b[0;34m:\u001b[0m\u001b[0;34m\u001b[0m\u001b[0;34m\u001b[0m\u001b[0m\n",
            "\u001b[0;32m/usr/local/lib/python3.7/dist-packages/jax/_src/lax/control_flow/loops.py\u001b[0m in \u001b[0;36mscan\u001b[0;34m(f, init, xs, length, reverse, unroll)\u001b[0m\n\u001b[1;32m    258\u001b[0m   \u001b[0;31m# necessary, a second time with modified init values.\u001b[0m\u001b[0;34m\u001b[0m\u001b[0;34m\u001b[0m\u001b[0;34m\u001b[0m\u001b[0m\n\u001b[0;32m--> 259\u001b[0;31m   \u001b[0minit_flat\u001b[0m\u001b[0;34m,\u001b[0m \u001b[0mcarry_avals\u001b[0m\u001b[0;34m,\u001b[0m \u001b[0mcarry_avals_out\u001b[0m\u001b[0;34m,\u001b[0m \u001b[0minit_tree\u001b[0m\u001b[0;34m,\u001b[0m \u001b[0;34m*\u001b[0m\u001b[0mrest\u001b[0m \u001b[0;34m=\u001b[0m \u001b[0m_create_jaxpr\u001b[0m\u001b[0;34m(\u001b[0m\u001b[0minit\u001b[0m\u001b[0;34m)\u001b[0m\u001b[0;34m\u001b[0m\u001b[0;34m\u001b[0m\u001b[0m\n\u001b[0m\u001b[1;32m    260\u001b[0m   \u001b[0mnew_init_flat\u001b[0m\u001b[0;34m,\u001b[0m \u001b[0mchanged\u001b[0m \u001b[0;34m=\u001b[0m \u001b[0m_promote_weak_typed_inputs\u001b[0m\u001b[0;34m(\u001b[0m\u001b[0minit_flat\u001b[0m\u001b[0;34m,\u001b[0m \u001b[0mcarry_avals\u001b[0m\u001b[0;34m,\u001b[0m \u001b[0mcarry_avals_out\u001b[0m\u001b[0;34m)\u001b[0m\u001b[0;34m\u001b[0m\u001b[0;34m\u001b[0m\u001b[0m\n",
            "\u001b[0;32m/usr/local/lib/python3.7/dist-packages/jax/_src/lax/control_flow/loops.py\u001b[0m in \u001b[0;36m_create_jaxpr\u001b[0;34m(init)\u001b[0m\n\u001b[1;32m    245\u001b[0m     jaxpr, consts, out_tree = _initial_style_jaxpr(\n\u001b[0;32m--> 246\u001b[0;31m         f, in_tree, (*carry_avals, *x_avals), \"scan\")\n\u001b[0m\u001b[1;32m    247\u001b[0m     \u001b[0mout_tree_children\u001b[0m \u001b[0;34m=\u001b[0m \u001b[0mout_tree\u001b[0m\u001b[0;34m.\u001b[0m\u001b[0mchildren\u001b[0m\u001b[0;34m(\u001b[0m\u001b[0;34m)\u001b[0m\u001b[0;34m\u001b[0m\u001b[0;34m\u001b[0m\u001b[0m\n",
            "\u001b[0;32m/usr/local/lib/python3.7/dist-packages/jax/_src/util.py\u001b[0m in \u001b[0;36mwrapped\u001b[0;34m(weak_arg, *args, **kwargs)\u001b[0m\n\u001b[1;32m    276\u001b[0m       \u001b[0mmisses\u001b[0m \u001b[0;34m+=\u001b[0m \u001b[0;36m1\u001b[0m\u001b[0;34m\u001b[0m\u001b[0;34m\u001b[0m\u001b[0m\n\u001b[0;32m--> 277\u001b[0;31m     \u001b[0mresult\u001b[0m \u001b[0;34m=\u001b[0m \u001b[0mcall\u001b[0m\u001b[0;34m(\u001b[0m\u001b[0mweak_arg\u001b[0m\u001b[0;34m,\u001b[0m \u001b[0;34m*\u001b[0m\u001b[0margs\u001b[0m\u001b[0;34m,\u001b[0m \u001b[0;34m**\u001b[0m\u001b[0mkwargs\u001b[0m\u001b[0;34m)\u001b[0m\u001b[0;34m\u001b[0m\u001b[0;34m\u001b[0m\u001b[0m\n\u001b[0m\u001b[1;32m    278\u001b[0m     \u001b[0;32mwith\u001b[0m \u001b[0mlock\u001b[0m\u001b[0;34m:\u001b[0m\u001b[0;34m\u001b[0m\u001b[0;34m\u001b[0m\u001b[0m\n",
            "\u001b[0;32m/usr/local/lib/python3.7/dist-packages/jax/_src/lax/control_flow/common.py\u001b[0m in \u001b[0;36m_initial_style_jaxpr\u001b[0;34m(fun, in_tree, in_avals, primitive_name)\u001b[0m\n\u001b[1;32m     57\u001b[0m   jaxpr, consts, out_tree = _initial_style_open_jaxpr(\n\u001b[0;32m---> 58\u001b[0;31m       fun, in_tree, in_avals, primitive_name)\n\u001b[0m\u001b[1;32m     59\u001b[0m   \u001b[0mclosed_jaxpr\u001b[0m \u001b[0;34m=\u001b[0m \u001b[0mcore\u001b[0m\u001b[0;34m.\u001b[0m\u001b[0mClosedJaxpr\u001b[0m\u001b[0;34m(\u001b[0m\u001b[0mpe\u001b[0m\u001b[0;34m.\u001b[0m\u001b[0mconvert_constvars_jaxpr\u001b[0m\u001b[0;34m(\u001b[0m\u001b[0mjaxpr\u001b[0m\u001b[0;34m)\u001b[0m\u001b[0;34m,\u001b[0m \u001b[0;34m(\u001b[0m\u001b[0;34m)\u001b[0m\u001b[0;34m)\u001b[0m\u001b[0;34m\u001b[0m\u001b[0;34m\u001b[0m\u001b[0m\n",
            "\u001b[0;32m/usr/local/lib/python3.7/dist-packages/jax/_src/util.py\u001b[0m in \u001b[0;36mwrapped\u001b[0;34m(weak_arg, *args, **kwargs)\u001b[0m\n\u001b[1;32m    276\u001b[0m       \u001b[0mmisses\u001b[0m \u001b[0;34m+=\u001b[0m \u001b[0;36m1\u001b[0m\u001b[0;34m\u001b[0m\u001b[0;34m\u001b[0m\u001b[0m\n\u001b[0;32m--> 277\u001b[0;31m     \u001b[0mresult\u001b[0m \u001b[0;34m=\u001b[0m \u001b[0mcall\u001b[0m\u001b[0;34m(\u001b[0m\u001b[0mweak_arg\u001b[0m\u001b[0;34m,\u001b[0m \u001b[0;34m*\u001b[0m\u001b[0margs\u001b[0m\u001b[0;34m,\u001b[0m \u001b[0;34m**\u001b[0m\u001b[0mkwargs\u001b[0m\u001b[0;34m)\u001b[0m\u001b[0;34m\u001b[0m\u001b[0;34m\u001b[0m\u001b[0m\n\u001b[0m\u001b[1;32m    278\u001b[0m     \u001b[0;32mwith\u001b[0m \u001b[0mlock\u001b[0m\u001b[0;34m:\u001b[0m\u001b[0;34m\u001b[0m\u001b[0;34m\u001b[0m\u001b[0m\n",
            "\u001b[0;32m/usr/local/lib/python3.7/dist-packages/jax/_src/lax/control_flow/common.py\u001b[0m in \u001b[0;36m_initial_style_open_jaxpr\u001b[0;34m(fun, in_tree, in_avals, primitive_name)\u001b[0m\n\u001b[1;32m     50\u001b[0m   \u001b[0mdebug\u001b[0m \u001b[0;34m=\u001b[0m \u001b[0mpe\u001b[0m\u001b[0;34m.\u001b[0m\u001b[0mdebug_info\u001b[0m\u001b[0;34m(\u001b[0m\u001b[0mfun\u001b[0m\u001b[0;34m,\u001b[0m \u001b[0min_tree\u001b[0m\u001b[0;34m,\u001b[0m \u001b[0;32mFalse\u001b[0m\u001b[0;34m,\u001b[0m \u001b[0mprimitive_name\u001b[0m \u001b[0;32mor\u001b[0m \u001b[0;34m\"<unknown>\"\u001b[0m\u001b[0;34m)\u001b[0m\u001b[0;34m\u001b[0m\u001b[0;34m\u001b[0m\u001b[0m\n\u001b[0;32m---> 51\u001b[0;31m   \u001b[0mjaxpr\u001b[0m\u001b[0;34m,\u001b[0m \u001b[0m_\u001b[0m\u001b[0;34m,\u001b[0m \u001b[0mconsts\u001b[0m \u001b[0;34m=\u001b[0m \u001b[0mpe\u001b[0m\u001b[0;34m.\u001b[0m\u001b[0mtrace_to_jaxpr_dynamic\u001b[0m\u001b[0;34m(\u001b[0m\u001b[0mwrapped_fun\u001b[0m\u001b[0;34m,\u001b[0m \u001b[0min_avals\u001b[0m\u001b[0;34m,\u001b[0m \u001b[0mdebug\u001b[0m\u001b[0;34m)\u001b[0m\u001b[0;34m\u001b[0m\u001b[0;34m\u001b[0m\u001b[0m\n\u001b[0m\u001b[1;32m     52\u001b[0m   \u001b[0;32mreturn\u001b[0m \u001b[0mjaxpr\u001b[0m\u001b[0;34m,\u001b[0m \u001b[0mconsts\u001b[0m\u001b[0;34m,\u001b[0m \u001b[0mout_tree\u001b[0m\u001b[0;34m(\u001b[0m\u001b[0;34m)\u001b[0m\u001b[0;34m\u001b[0m\u001b[0;34m\u001b[0m\u001b[0m\n",
            "\u001b[0;32m/usr/local/lib/python3.7/dist-packages/jax/_src/profiler.py\u001b[0m in \u001b[0;36mwrapper\u001b[0;34m(*args, **kwargs)\u001b[0m\n\u001b[1;32m    312\u001b[0m     \u001b[0;32mwith\u001b[0m \u001b[0mTraceAnnotation\u001b[0m\u001b[0;34m(\u001b[0m\u001b[0mname\u001b[0m\u001b[0;34m,\u001b[0m \u001b[0;34m**\u001b[0m\u001b[0mdecorator_kwargs\u001b[0m\u001b[0;34m)\u001b[0m\u001b[0;34m:\u001b[0m\u001b[0;34m\u001b[0m\u001b[0;34m\u001b[0m\u001b[0m\n\u001b[0;32m--> 313\u001b[0;31m       \u001b[0;32mreturn\u001b[0m \u001b[0mfunc\u001b[0m\u001b[0;34m(\u001b[0m\u001b[0;34m*\u001b[0m\u001b[0margs\u001b[0m\u001b[0;34m,\u001b[0m \u001b[0;34m**\u001b[0m\u001b[0mkwargs\u001b[0m\u001b[0;34m)\u001b[0m\u001b[0;34m\u001b[0m\u001b[0;34m\u001b[0m\u001b[0m\n\u001b[0m\u001b[1;32m    314\u001b[0m     \u001b[0;32mreturn\u001b[0m \u001b[0mwrapper\u001b[0m\u001b[0;34m\u001b[0m\u001b[0;34m\u001b[0m\u001b[0m\n",
            "\u001b[0;32m/usr/local/lib/python3.7/dist-packages/jax/interpreters/partial_eval.py\u001b[0m in \u001b[0;36mtrace_to_jaxpr_dynamic\u001b[0;34m(fun, in_avals, debug_info, keep_inputs)\u001b[0m\n\u001b[1;32m   1929\u001b[0m     jaxpr, out_avals, consts = trace_to_subjaxpr_dynamic(\n\u001b[0;32m-> 1930\u001b[0;31m       fun, main, in_avals, keep_inputs=keep_inputs, debug_info=debug_info)\n\u001b[0m\u001b[1;32m   1931\u001b[0m     \u001b[0;32mdel\u001b[0m \u001b[0mmain\u001b[0m\u001b[0;34m,\u001b[0m \u001b[0mfun\u001b[0m\u001b[0;34m\u001b[0m\u001b[0;34m\u001b[0m\u001b[0m\n",
            "\u001b[0;32m/usr/local/lib/python3.7/dist-packages/jax/interpreters/partial_eval.py\u001b[0m in \u001b[0;36mtrace_to_subjaxpr_dynamic\u001b[0;34m(fun, main, in_avals, keep_inputs, debug_info)\u001b[0m\n\u001b[1;32m   1945\u001b[0m     \u001b[0min_tracers_\u001b[0m \u001b[0;34m=\u001b[0m \u001b[0;34m[\u001b[0m\u001b[0mt\u001b[0m \u001b[0;32mfor\u001b[0m \u001b[0mt\u001b[0m\u001b[0;34m,\u001b[0m \u001b[0mkeep\u001b[0m \u001b[0;32min\u001b[0m \u001b[0mzip\u001b[0m\u001b[0;34m(\u001b[0m\u001b[0min_tracers\u001b[0m\u001b[0;34m,\u001b[0m \u001b[0mkeep_inputs\u001b[0m\u001b[0;34m)\u001b[0m \u001b[0;32mif\u001b[0m \u001b[0mkeep\u001b[0m\u001b[0;34m]\u001b[0m\u001b[0;34m\u001b[0m\u001b[0;34m\u001b[0m\u001b[0m\n\u001b[0;32m-> 1946\u001b[0;31m     \u001b[0mans\u001b[0m \u001b[0;34m=\u001b[0m \u001b[0mfun\u001b[0m\u001b[0;34m.\u001b[0m\u001b[0mcall_wrapped\u001b[0m\u001b[0;34m(\u001b[0m\u001b[0;34m*\u001b[0m\u001b[0min_tracers_\u001b[0m\u001b[0;34m)\u001b[0m\u001b[0;34m\u001b[0m\u001b[0;34m\u001b[0m\u001b[0m\n\u001b[0m\u001b[1;32m   1947\u001b[0m     \u001b[0mout_tracers\u001b[0m \u001b[0;34m=\u001b[0m \u001b[0mmap\u001b[0m\u001b[0;34m(\u001b[0m\u001b[0mtrace\u001b[0m\u001b[0;34m.\u001b[0m\u001b[0mfull_raise\u001b[0m\u001b[0;34m,\u001b[0m \u001b[0mans\u001b[0m\u001b[0;34m)\u001b[0m\u001b[0;34m\u001b[0m\u001b[0;34m\u001b[0m\u001b[0m\n",
            "\u001b[0;32m/usr/local/lib/python3.7/dist-packages/jax/linear_util.py\u001b[0m in \u001b[0;36mcall_wrapped\u001b[0;34m(self, *args, **kwargs)\u001b[0m\n\u001b[1;32m    167\u001b[0m     \u001b[0;32mtry\u001b[0m\u001b[0;34m:\u001b[0m\u001b[0;34m\u001b[0m\u001b[0;34m\u001b[0m\u001b[0m\n\u001b[0;32m--> 168\u001b[0;31m       \u001b[0mans\u001b[0m \u001b[0;34m=\u001b[0m \u001b[0mself\u001b[0m\u001b[0;34m.\u001b[0m\u001b[0mf\u001b[0m\u001b[0;34m(\u001b[0m\u001b[0;34m*\u001b[0m\u001b[0margs\u001b[0m\u001b[0;34m,\u001b[0m \u001b[0;34m**\u001b[0m\u001b[0mdict\u001b[0m\u001b[0;34m(\u001b[0m\u001b[0mself\u001b[0m\u001b[0;34m.\u001b[0m\u001b[0mparams\u001b[0m\u001b[0;34m,\u001b[0m \u001b[0;34m**\u001b[0m\u001b[0mkwargs\u001b[0m\u001b[0;34m)\u001b[0m\u001b[0;34m)\u001b[0m\u001b[0;34m\u001b[0m\u001b[0;34m\u001b[0m\u001b[0m\n\u001b[0m\u001b[1;32m    169\u001b[0m     \u001b[0;32mexcept\u001b[0m\u001b[0;34m:\u001b[0m\u001b[0;34m\u001b[0m\u001b[0;34m\u001b[0m\u001b[0m\n",
            "\u001b[0;32m<ipython-input-48-c261398d8347>\u001b[0m in \u001b[0;36m_step\u001b[0;34m(carry, t)\u001b[0m\n\u001b[1;32m    235\u001b[0m         log_likelihood, filtered_means, filtered_covs = _decoupled_condition_on(pred_means, pred_covs, aggregate_fn, \n\u001b[0;32m--> 236\u001b[0;31m                                                                                 m_Y, Cov_Y, u, y, g_ev, g_cov, num_iter)\n\u001b[0m\u001b[1;32m    237\u001b[0m         \u001b[0mll\u001b[0m \u001b[0;34m+=\u001b[0m \u001b[0mlog_likelihood\u001b[0m\u001b[0;34m\u001b[0m\u001b[0;34m\u001b[0m\u001b[0m\n",
            "\u001b[0;32m<ipython-input-48-c261398d8347>\u001b[0m in \u001b[0;36m_decoupled_condition_on\u001b[0;34m(ms, Ps, aggregate_fn, y_cond_mean, y_cond_cov, u, y, g_ev, g_cov, num_iter)\u001b[0m\n\u001b[1;32m    129\u001b[0m     \u001b[0mcarry\u001b[0m \u001b[0;34m=\u001b[0m \u001b[0;34m(\u001b[0m\u001b[0mms\u001b[0m\u001b[0;34m,\u001b[0m \u001b[0mPs\u001b[0m\u001b[0;34m)\u001b[0m\u001b[0;34m\u001b[0m\u001b[0;34m\u001b[0m\u001b[0m\n\u001b[0;32m--> 130\u001b[0;31m     \u001b[0;34m(\u001b[0m\u001b[0mmu_cond\u001b[0m\u001b[0;34m,\u001b[0m \u001b[0mSigma_cond\u001b[0m\u001b[0;34m)\u001b[0m\u001b[0;34m,\u001b[0m \u001b[0mlls\u001b[0m \u001b[0;34m=\u001b[0m \u001b[0mlax\u001b[0m\u001b[0;34m.\u001b[0m\u001b[0mscan\u001b[0m\u001b[0;34m(\u001b[0m\u001b[0m_step\u001b[0m\u001b[0;34m,\u001b[0m \u001b[0mcarry\u001b[0m\u001b[0;34m,\u001b[0m \u001b[0mjnp\u001b[0m\u001b[0;34m.\u001b[0m\u001b[0marange\u001b[0m\u001b[0;34m(\u001b[0m\u001b[0mnum_iter\u001b[0m\u001b[0;34m)\u001b[0m\u001b[0;34m)\u001b[0m\u001b[0;34m\u001b[0m\u001b[0;34m\u001b[0m\u001b[0m\n\u001b[0m\u001b[1;32m    131\u001b[0m     \u001b[0;32mreturn\u001b[0m \u001b[0mlls\u001b[0m\u001b[0;34m[\u001b[0m\u001b[0;36m0\u001b[0m\u001b[0;34m]\u001b[0m\u001b[0;34m,\u001b[0m \u001b[0mmu_cond\u001b[0m\u001b[0;34m,\u001b[0m \u001b[0mSigma_cond\u001b[0m\u001b[0;34m\u001b[0m\u001b[0;34m\u001b[0m\u001b[0m\n",
            "\u001b[0;32m/usr/local/lib/python3.7/dist-packages/jax/_src/traceback_util.py\u001b[0m in \u001b[0;36mreraise_with_filtered_traceback\u001b[0;34m(*args, **kwargs)\u001b[0m\n\u001b[1;32m    161\u001b[0m     \u001b[0;32mtry\u001b[0m\u001b[0;34m:\u001b[0m\u001b[0;34m\u001b[0m\u001b[0;34m\u001b[0m\u001b[0m\n\u001b[0;32m--> 162\u001b[0;31m       \u001b[0;32mreturn\u001b[0m \u001b[0mfun\u001b[0m\u001b[0;34m(\u001b[0m\u001b[0;34m*\u001b[0m\u001b[0margs\u001b[0m\u001b[0;34m,\u001b[0m \u001b[0;34m**\u001b[0m\u001b[0mkwargs\u001b[0m\u001b[0;34m)\u001b[0m\u001b[0;34m\u001b[0m\u001b[0;34m\u001b[0m\u001b[0m\n\u001b[0m\u001b[1;32m    163\u001b[0m     \u001b[0;32mexcept\u001b[0m \u001b[0mException\u001b[0m \u001b[0;32mas\u001b[0m \u001b[0me\u001b[0m\u001b[0;34m:\u001b[0m\u001b[0;34m\u001b[0m\u001b[0;34m\u001b[0m\u001b[0m\n",
            "\u001b[0;32m/usr/local/lib/python3.7/dist-packages/jax/_src/lax/control_flow/loops.py\u001b[0m in \u001b[0;36mscan\u001b[0;34m(f, init, xs, length, reverse, unroll)\u001b[0m\n\u001b[1;32m    258\u001b[0m   \u001b[0;31m# necessary, a second time with modified init values.\u001b[0m\u001b[0;34m\u001b[0m\u001b[0;34m\u001b[0m\u001b[0;34m\u001b[0m\u001b[0m\n\u001b[0;32m--> 259\u001b[0;31m   \u001b[0minit_flat\u001b[0m\u001b[0;34m,\u001b[0m \u001b[0mcarry_avals\u001b[0m\u001b[0;34m,\u001b[0m \u001b[0mcarry_avals_out\u001b[0m\u001b[0;34m,\u001b[0m \u001b[0minit_tree\u001b[0m\u001b[0;34m,\u001b[0m \u001b[0;34m*\u001b[0m\u001b[0mrest\u001b[0m \u001b[0;34m=\u001b[0m \u001b[0m_create_jaxpr\u001b[0m\u001b[0;34m(\u001b[0m\u001b[0minit\u001b[0m\u001b[0;34m)\u001b[0m\u001b[0;34m\u001b[0m\u001b[0;34m\u001b[0m\u001b[0m\n\u001b[0m\u001b[1;32m    260\u001b[0m   \u001b[0mnew_init_flat\u001b[0m\u001b[0;34m,\u001b[0m \u001b[0mchanged\u001b[0m \u001b[0;34m=\u001b[0m \u001b[0m_promote_weak_typed_inputs\u001b[0m\u001b[0;34m(\u001b[0m\u001b[0minit_flat\u001b[0m\u001b[0;34m,\u001b[0m \u001b[0mcarry_avals\u001b[0m\u001b[0;34m,\u001b[0m \u001b[0mcarry_avals_out\u001b[0m\u001b[0;34m)\u001b[0m\u001b[0;34m\u001b[0m\u001b[0;34m\u001b[0m\u001b[0m\n",
            "\u001b[0;32m/usr/local/lib/python3.7/dist-packages/jax/_src/lax/control_flow/loops.py\u001b[0m in \u001b[0;36m_create_jaxpr\u001b[0;34m(init)\u001b[0m\n\u001b[1;32m    245\u001b[0m     jaxpr, consts, out_tree = _initial_style_jaxpr(\n\u001b[0;32m--> 246\u001b[0;31m         f, in_tree, (*carry_avals, *x_avals), \"scan\")\n\u001b[0m\u001b[1;32m    247\u001b[0m     \u001b[0mout_tree_children\u001b[0m \u001b[0;34m=\u001b[0m \u001b[0mout_tree\u001b[0m\u001b[0;34m.\u001b[0m\u001b[0mchildren\u001b[0m\u001b[0;34m(\u001b[0m\u001b[0;34m)\u001b[0m\u001b[0;34m\u001b[0m\u001b[0;34m\u001b[0m\u001b[0m\n",
            "\u001b[0;32m/usr/local/lib/python3.7/dist-packages/jax/_src/util.py\u001b[0m in \u001b[0;36mwrapped\u001b[0;34m(weak_arg, *args, **kwargs)\u001b[0m\n\u001b[1;32m    276\u001b[0m       \u001b[0mmisses\u001b[0m \u001b[0;34m+=\u001b[0m \u001b[0;36m1\u001b[0m\u001b[0;34m\u001b[0m\u001b[0;34m\u001b[0m\u001b[0m\n\u001b[0;32m--> 277\u001b[0;31m     \u001b[0mresult\u001b[0m \u001b[0;34m=\u001b[0m \u001b[0mcall\u001b[0m\u001b[0;34m(\u001b[0m\u001b[0mweak_arg\u001b[0m\u001b[0;34m,\u001b[0m \u001b[0;34m*\u001b[0m\u001b[0margs\u001b[0m\u001b[0;34m,\u001b[0m \u001b[0;34m**\u001b[0m\u001b[0mkwargs\u001b[0m\u001b[0;34m)\u001b[0m\u001b[0;34m\u001b[0m\u001b[0;34m\u001b[0m\u001b[0m\n\u001b[0m\u001b[1;32m    278\u001b[0m     \u001b[0;32mwith\u001b[0m \u001b[0mlock\u001b[0m\u001b[0;34m:\u001b[0m\u001b[0;34m\u001b[0m\u001b[0;34m\u001b[0m\u001b[0m\n",
            "\u001b[0;32m/usr/local/lib/python3.7/dist-packages/jax/_src/lax/control_flow/common.py\u001b[0m in \u001b[0;36m_initial_style_jaxpr\u001b[0;34m(fun, in_tree, in_avals, primitive_name)\u001b[0m\n\u001b[1;32m     57\u001b[0m   jaxpr, consts, out_tree = _initial_style_open_jaxpr(\n\u001b[0;32m---> 58\u001b[0;31m       fun, in_tree, in_avals, primitive_name)\n\u001b[0m\u001b[1;32m     59\u001b[0m   \u001b[0mclosed_jaxpr\u001b[0m \u001b[0;34m=\u001b[0m \u001b[0mcore\u001b[0m\u001b[0;34m.\u001b[0m\u001b[0mClosedJaxpr\u001b[0m\u001b[0;34m(\u001b[0m\u001b[0mpe\u001b[0m\u001b[0;34m.\u001b[0m\u001b[0mconvert_constvars_jaxpr\u001b[0m\u001b[0;34m(\u001b[0m\u001b[0mjaxpr\u001b[0m\u001b[0;34m)\u001b[0m\u001b[0;34m,\u001b[0m \u001b[0;34m(\u001b[0m\u001b[0;34m)\u001b[0m\u001b[0;34m)\u001b[0m\u001b[0;34m\u001b[0m\u001b[0;34m\u001b[0m\u001b[0m\n",
            "\u001b[0;32m/usr/local/lib/python3.7/dist-packages/jax/_src/util.py\u001b[0m in \u001b[0;36mwrapped\u001b[0;34m(weak_arg, *args, **kwargs)\u001b[0m\n\u001b[1;32m    276\u001b[0m       \u001b[0mmisses\u001b[0m \u001b[0;34m+=\u001b[0m \u001b[0;36m1\u001b[0m\u001b[0;34m\u001b[0m\u001b[0;34m\u001b[0m\u001b[0m\n\u001b[0;32m--> 277\u001b[0;31m     \u001b[0mresult\u001b[0m \u001b[0;34m=\u001b[0m \u001b[0mcall\u001b[0m\u001b[0;34m(\u001b[0m\u001b[0mweak_arg\u001b[0m\u001b[0;34m,\u001b[0m \u001b[0;34m*\u001b[0m\u001b[0margs\u001b[0m\u001b[0;34m,\u001b[0m \u001b[0;34m**\u001b[0m\u001b[0mkwargs\u001b[0m\u001b[0;34m)\u001b[0m\u001b[0;34m\u001b[0m\u001b[0;34m\u001b[0m\u001b[0m\n\u001b[0m\u001b[1;32m    278\u001b[0m     \u001b[0;32mwith\u001b[0m \u001b[0mlock\u001b[0m\u001b[0;34m:\u001b[0m\u001b[0;34m\u001b[0m\u001b[0;34m\u001b[0m\u001b[0m\n",
            "\u001b[0;32m/usr/local/lib/python3.7/dist-packages/jax/_src/lax/control_flow/common.py\u001b[0m in \u001b[0;36m_initial_style_open_jaxpr\u001b[0;34m(fun, in_tree, in_avals, primitive_name)\u001b[0m\n\u001b[1;32m     50\u001b[0m   \u001b[0mdebug\u001b[0m \u001b[0;34m=\u001b[0m \u001b[0mpe\u001b[0m\u001b[0;34m.\u001b[0m\u001b[0mdebug_info\u001b[0m\u001b[0;34m(\u001b[0m\u001b[0mfun\u001b[0m\u001b[0;34m,\u001b[0m \u001b[0min_tree\u001b[0m\u001b[0;34m,\u001b[0m \u001b[0;32mFalse\u001b[0m\u001b[0;34m,\u001b[0m \u001b[0mprimitive_name\u001b[0m \u001b[0;32mor\u001b[0m \u001b[0;34m\"<unknown>\"\u001b[0m\u001b[0;34m)\u001b[0m\u001b[0;34m\u001b[0m\u001b[0;34m\u001b[0m\u001b[0m\n\u001b[0;32m---> 51\u001b[0;31m   \u001b[0mjaxpr\u001b[0m\u001b[0;34m,\u001b[0m \u001b[0m_\u001b[0m\u001b[0;34m,\u001b[0m \u001b[0mconsts\u001b[0m \u001b[0;34m=\u001b[0m \u001b[0mpe\u001b[0m\u001b[0;34m.\u001b[0m\u001b[0mtrace_to_jaxpr_dynamic\u001b[0m\u001b[0;34m(\u001b[0m\u001b[0mwrapped_fun\u001b[0m\u001b[0;34m,\u001b[0m \u001b[0min_avals\u001b[0m\u001b[0;34m,\u001b[0m \u001b[0mdebug\u001b[0m\u001b[0;34m)\u001b[0m\u001b[0;34m\u001b[0m\u001b[0;34m\u001b[0m\u001b[0m\n\u001b[0m\u001b[1;32m     52\u001b[0m   \u001b[0;32mreturn\u001b[0m \u001b[0mjaxpr\u001b[0m\u001b[0;34m,\u001b[0m \u001b[0mconsts\u001b[0m\u001b[0;34m,\u001b[0m \u001b[0mout_tree\u001b[0m\u001b[0;34m(\u001b[0m\u001b[0;34m)\u001b[0m\u001b[0;34m\u001b[0m\u001b[0;34m\u001b[0m\u001b[0m\n",
            "\u001b[0;32m/usr/local/lib/python3.7/dist-packages/jax/_src/profiler.py\u001b[0m in \u001b[0;36mwrapper\u001b[0;34m(*args, **kwargs)\u001b[0m\n\u001b[1;32m    312\u001b[0m     \u001b[0;32mwith\u001b[0m \u001b[0mTraceAnnotation\u001b[0m\u001b[0;34m(\u001b[0m\u001b[0mname\u001b[0m\u001b[0;34m,\u001b[0m \u001b[0;34m**\u001b[0m\u001b[0mdecorator_kwargs\u001b[0m\u001b[0;34m)\u001b[0m\u001b[0;34m:\u001b[0m\u001b[0;34m\u001b[0m\u001b[0;34m\u001b[0m\u001b[0m\n\u001b[0;32m--> 313\u001b[0;31m       \u001b[0;32mreturn\u001b[0m \u001b[0mfunc\u001b[0m\u001b[0;34m(\u001b[0m\u001b[0;34m*\u001b[0m\u001b[0margs\u001b[0m\u001b[0;34m,\u001b[0m \u001b[0;34m**\u001b[0m\u001b[0mkwargs\u001b[0m\u001b[0;34m)\u001b[0m\u001b[0;34m\u001b[0m\u001b[0;34m\u001b[0m\u001b[0m\n\u001b[0m\u001b[1;32m    314\u001b[0m     \u001b[0;32mreturn\u001b[0m \u001b[0mwrapper\u001b[0m\u001b[0;34m\u001b[0m\u001b[0;34m\u001b[0m\u001b[0m\n",
            "\u001b[0;32m/usr/local/lib/python3.7/dist-packages/jax/interpreters/partial_eval.py\u001b[0m in \u001b[0;36mtrace_to_jaxpr_dynamic\u001b[0;34m(fun, in_avals, debug_info, keep_inputs)\u001b[0m\n\u001b[1;32m   1929\u001b[0m     jaxpr, out_avals, consts = trace_to_subjaxpr_dynamic(\n\u001b[0;32m-> 1930\u001b[0;31m       fun, main, in_avals, keep_inputs=keep_inputs, debug_info=debug_info)\n\u001b[0m\u001b[1;32m   1931\u001b[0m     \u001b[0;32mdel\u001b[0m \u001b[0mmain\u001b[0m\u001b[0;34m,\u001b[0m \u001b[0mfun\u001b[0m\u001b[0;34m\u001b[0m\u001b[0;34m\u001b[0m\u001b[0m\n",
            "\u001b[0;32m/usr/local/lib/python3.7/dist-packages/jax/interpreters/partial_eval.py\u001b[0m in \u001b[0;36mtrace_to_subjaxpr_dynamic\u001b[0;34m(fun, main, in_avals, keep_inputs, debug_info)\u001b[0m\n\u001b[1;32m   1945\u001b[0m     \u001b[0min_tracers_\u001b[0m \u001b[0;34m=\u001b[0m \u001b[0;34m[\u001b[0m\u001b[0mt\u001b[0m \u001b[0;32mfor\u001b[0m \u001b[0mt\u001b[0m\u001b[0;34m,\u001b[0m \u001b[0mkeep\u001b[0m \u001b[0;32min\u001b[0m \u001b[0mzip\u001b[0m\u001b[0;34m(\u001b[0m\u001b[0min_tracers\u001b[0m\u001b[0;34m,\u001b[0m \u001b[0mkeep_inputs\u001b[0m\u001b[0;34m)\u001b[0m \u001b[0;32mif\u001b[0m \u001b[0mkeep\u001b[0m\u001b[0;34m]\u001b[0m\u001b[0;34m\u001b[0m\u001b[0;34m\u001b[0m\u001b[0m\n\u001b[0;32m-> 1946\u001b[0;31m     \u001b[0mans\u001b[0m \u001b[0;34m=\u001b[0m \u001b[0mfun\u001b[0m\u001b[0;34m.\u001b[0m\u001b[0mcall_wrapped\u001b[0m\u001b[0;34m(\u001b[0m\u001b[0;34m*\u001b[0m\u001b[0min_tracers_\u001b[0m\u001b[0;34m)\u001b[0m\u001b[0;34m\u001b[0m\u001b[0;34m\u001b[0m\u001b[0m\n\u001b[0m\u001b[1;32m   1947\u001b[0m     \u001b[0mout_tracers\u001b[0m \u001b[0;34m=\u001b[0m \u001b[0mmap\u001b[0m\u001b[0;34m(\u001b[0m\u001b[0mtrace\u001b[0m\u001b[0;34m.\u001b[0m\u001b[0mfull_raise\u001b[0m\u001b[0;34m,\u001b[0m \u001b[0mans\u001b[0m\u001b[0;34m)\u001b[0m\u001b[0;34m\u001b[0m\u001b[0;34m\u001b[0m\u001b[0m\n",
            "\u001b[0;32m/usr/local/lib/python3.7/dist-packages/jax/linear_util.py\u001b[0m in \u001b[0;36mcall_wrapped\u001b[0;34m(self, *args, **kwargs)\u001b[0m\n\u001b[1;32m    167\u001b[0m     \u001b[0;32mtry\u001b[0m\u001b[0;34m:\u001b[0m\u001b[0;34m\u001b[0m\u001b[0;34m\u001b[0m\u001b[0m\n\u001b[0;32m--> 168\u001b[0;31m       \u001b[0mans\u001b[0m \u001b[0;34m=\u001b[0m \u001b[0mself\u001b[0m\u001b[0;34m.\u001b[0m\u001b[0mf\u001b[0m\u001b[0;34m(\u001b[0m\u001b[0;34m*\u001b[0m\u001b[0margs\u001b[0m\u001b[0;34m,\u001b[0m \u001b[0;34m**\u001b[0m\u001b[0mdict\u001b[0m\u001b[0;34m(\u001b[0m\u001b[0mself\u001b[0m\u001b[0;34m.\u001b[0m\u001b[0mparams\u001b[0m\u001b[0;34m,\u001b[0m \u001b[0;34m**\u001b[0m\u001b[0mkwargs\u001b[0m\u001b[0;34m)\u001b[0m\u001b[0;34m)\u001b[0m\u001b[0;34m\u001b[0m\u001b[0;34m\u001b[0m\u001b[0m\n\u001b[0m\u001b[1;32m    169\u001b[0m     \u001b[0;32mexcept\u001b[0m\u001b[0;34m:\u001b[0m\u001b[0;34m\u001b[0m\u001b[0;34m\u001b[0m\u001b[0m\n",
            "\u001b[0;32m<ipython-input-48-c261398d8347>\u001b[0m in \u001b[0;36m_step\u001b[0;34m(carry, _)\u001b[0m\n\u001b[1;32m    114\u001b[0m         \u001b[0mprior_mean\u001b[0m \u001b[0;34m=\u001b[0m \u001b[0maggregate_fn\u001b[0m\u001b[0;34m(\u001b[0m\u001b[0mprior_means\u001b[0m\u001b[0;34m)\u001b[0m\u001b[0;34m\u001b[0m\u001b[0;34m\u001b[0m\u001b[0m\n\u001b[0;32m--> 115\u001b[0;31m         \u001b[0mprior_cov\u001b[0m \u001b[0;34m=\u001b[0m \u001b[0mblock_diag\u001b[0m\u001b[0;34m(\u001b[0m\u001b[0mprior_covs\u001b[0m\u001b[0;34m)\u001b[0m\u001b[0;34m\u001b[0m\u001b[0;34m\u001b[0m\u001b[0m\n\u001b[0m\u001b[1;32m    116\u001b[0m \u001b[0;34m\u001b[0m\u001b[0m\n",
            "\u001b[0;32m/usr/local/lib/python3.7/dist-packages/jax/_src/traceback_util.py\u001b[0m in \u001b[0;36mreraise_with_filtered_traceback\u001b[0;34m(*args, **kwargs)\u001b[0m\n\u001b[1;32m    161\u001b[0m     \u001b[0;32mtry\u001b[0m\u001b[0;34m:\u001b[0m\u001b[0;34m\u001b[0m\u001b[0;34m\u001b[0m\u001b[0m\n\u001b[0;32m--> 162\u001b[0;31m       \u001b[0;32mreturn\u001b[0m \u001b[0mfun\u001b[0m\u001b[0;34m(\u001b[0m\u001b[0;34m*\u001b[0m\u001b[0margs\u001b[0m\u001b[0;34m,\u001b[0m \u001b[0;34m**\u001b[0m\u001b[0mkwargs\u001b[0m\u001b[0;34m)\u001b[0m\u001b[0;34m\u001b[0m\u001b[0;34m\u001b[0m\u001b[0m\n\u001b[0m\u001b[1;32m    163\u001b[0m     \u001b[0;32mexcept\u001b[0m \u001b[0mException\u001b[0m \u001b[0;32mas\u001b[0m \u001b[0me\u001b[0m\u001b[0;34m:\u001b[0m\u001b[0;34m\u001b[0m\u001b[0;34m\u001b[0m\u001b[0m\n",
            "\u001b[0;32m/usr/local/lib/python3.7/dist-packages/jax/_src/api.py\u001b[0m in \u001b[0;36mcache_miss\u001b[0;34m(*args, **kwargs)\u001b[0m\n\u001b[1;32m    530\u001b[0m         \u001b[0mdevice\u001b[0m\u001b[0;34m=\u001b[0m\u001b[0mdevice\u001b[0m\u001b[0;34m,\u001b[0m \u001b[0mbackend\u001b[0m\u001b[0;34m=\u001b[0m\u001b[0mbackend\u001b[0m\u001b[0;34m,\u001b[0m \u001b[0mname\u001b[0m\u001b[0;34m=\u001b[0m\u001b[0mflat_fun\u001b[0m\u001b[0;34m.\u001b[0m\u001b[0m__name__\u001b[0m\u001b[0;34m,\u001b[0m\u001b[0;34m\u001b[0m\u001b[0;34m\u001b[0m\u001b[0m\n\u001b[0;32m--> 531\u001b[0;31m         donated_invars=donated_invars, inline=inline, keep_unused=keep_unused)\n\u001b[0m\u001b[1;32m    532\u001b[0m     \u001b[0mout_pytree_def\u001b[0m \u001b[0;34m=\u001b[0m \u001b[0mout_tree\u001b[0m\u001b[0;34m(\u001b[0m\u001b[0;34m)\u001b[0m\u001b[0;34m\u001b[0m\u001b[0;34m\u001b[0m\u001b[0m\n",
            "\u001b[0;32m/usr/local/lib/python3.7/dist-packages/jax/core.py\u001b[0m in \u001b[0;36mbind\u001b[0;34m(self, fun, *args, **params)\u001b[0m\n\u001b[1;32m   1962\u001b[0m   \u001b[0;32mdef\u001b[0m \u001b[0mbind\u001b[0m\u001b[0;34m(\u001b[0m\u001b[0mself\u001b[0m\u001b[0;34m,\u001b[0m \u001b[0mfun\u001b[0m\u001b[0;34m,\u001b[0m \u001b[0;34m*\u001b[0m\u001b[0margs\u001b[0m\u001b[0;34m,\u001b[0m \u001b[0;34m**\u001b[0m\u001b[0mparams\u001b[0m\u001b[0;34m)\u001b[0m\u001b[0;34m:\u001b[0m\u001b[0;34m\u001b[0m\u001b[0;34m\u001b[0m\u001b[0m\n\u001b[0;32m-> 1963\u001b[0;31m     \u001b[0;32mreturn\u001b[0m \u001b[0mcall_bind\u001b[0m\u001b[0;34m(\u001b[0m\u001b[0mself\u001b[0m\u001b[0;34m,\u001b[0m \u001b[0mfun\u001b[0m\u001b[0;34m,\u001b[0m \u001b[0;34m*\u001b[0m\u001b[0margs\u001b[0m\u001b[0;34m,\u001b[0m \u001b[0;34m**\u001b[0m\u001b[0mparams\u001b[0m\u001b[0;34m)\u001b[0m\u001b[0;34m\u001b[0m\u001b[0;34m\u001b[0m\u001b[0m\n\u001b[0m\u001b[1;32m   1964\u001b[0m \u001b[0;34m\u001b[0m\u001b[0m\n",
            "\u001b[0;32m/usr/local/lib/python3.7/dist-packages/jax/core.py\u001b[0m in \u001b[0;36mcall_bind\u001b[0;34m(primitive, fun, *args, **params)\u001b[0m\n\u001b[1;32m   1978\u001b[0m   \u001b[0mfun_\u001b[0m \u001b[0;34m=\u001b[0m \u001b[0mlu\u001b[0m\u001b[0;34m.\u001b[0m\u001b[0mannotate\u001b[0m\u001b[0;34m(\u001b[0m\u001b[0mfun_\u001b[0m\u001b[0;34m,\u001b[0m \u001b[0mfun\u001b[0m\u001b[0;34m.\u001b[0m\u001b[0min_type\u001b[0m\u001b[0;34m)\u001b[0m\u001b[0;34m\u001b[0m\u001b[0;34m\u001b[0m\u001b[0m\n\u001b[0;32m-> 1979\u001b[0;31m   \u001b[0mouts\u001b[0m \u001b[0;34m=\u001b[0m \u001b[0mtop_trace\u001b[0m\u001b[0;34m.\u001b[0m\u001b[0mprocess_call\u001b[0m\u001b[0;34m(\u001b[0m\u001b[0mprimitive\u001b[0m\u001b[0;34m,\u001b[0m \u001b[0mfun_\u001b[0m\u001b[0;34m,\u001b[0m \u001b[0mtracers\u001b[0m\u001b[0;34m,\u001b[0m \u001b[0mparams\u001b[0m\u001b[0;34m)\u001b[0m\u001b[0;34m\u001b[0m\u001b[0;34m\u001b[0m\u001b[0m\n\u001b[0m\u001b[1;32m   1980\u001b[0m   \u001b[0;32mreturn\u001b[0m \u001b[0mmap\u001b[0m\u001b[0;34m(\u001b[0m\u001b[0mfull_lower\u001b[0m\u001b[0;34m,\u001b[0m \u001b[0mapply_todos\u001b[0m\u001b[0;34m(\u001b[0m\u001b[0menv_trace_todo\u001b[0m\u001b[0;34m(\u001b[0m\u001b[0;34m)\u001b[0m\u001b[0;34m,\u001b[0m \u001b[0mouts\u001b[0m\u001b[0;34m)\u001b[0m\u001b[0;34m)\u001b[0m\u001b[0;34m\u001b[0m\u001b[0;34m\u001b[0m\u001b[0m\n",
            "\u001b[0;32m/usr/local/lib/python3.7/dist-packages/jax/interpreters/partial_eval.py\u001b[0m in \u001b[0;36mprocess_call\u001b[0;34m(self, call_primitive, f, explicit_tracers, params)\u001b[0m\n\u001b[1;32m   1683\u001b[0m         \u001b[0mdbg\u001b[0m \u001b[0;34m=\u001b[0m \u001b[0mdebug_info_final\u001b[0m\u001b[0;34m(\u001b[0m\u001b[0mf\u001b[0m\u001b[0;34m,\u001b[0m \u001b[0mcall_primitive\u001b[0m\u001b[0;34m.\u001b[0m\u001b[0mname\u001b[0m\u001b[0;34m)\u001b[0m\u001b[0;34m\u001b[0m\u001b[0;34m\u001b[0m\u001b[0m\n\u001b[0;32m-> 1684\u001b[0;31m         \u001b[0mjaxpr\u001b[0m\u001b[0;34m,\u001b[0m \u001b[0mout_type\u001b[0m\u001b[0;34m,\u001b[0m \u001b[0mconsts\u001b[0m \u001b[0;34m=\u001b[0m \u001b[0mtrace_to_subjaxpr_dynamic2\u001b[0m\u001b[0;34m(\u001b[0m\u001b[0mf\u001b[0m\u001b[0;34m,\u001b[0m \u001b[0mself\u001b[0m\u001b[0;34m.\u001b[0m\u001b[0mmain\u001b[0m\u001b[0;34m,\u001b[0m \u001b[0mdebug_info\u001b[0m\u001b[0;34m=\u001b[0m\u001b[0mdbg\u001b[0m\u001b[0;34m)\u001b[0m\u001b[0;34m\u001b[0m\u001b[0;34m\u001b[0m\u001b[0m\n\u001b[0m\u001b[1;32m   1685\u001b[0m       \u001b[0;32melse\u001b[0m\u001b[0;34m:\u001b[0m\u001b[0;34m\u001b[0m\u001b[0;34m\u001b[0m\u001b[0m\n",
            "\u001b[0;32m/usr/local/lib/python3.7/dist-packages/jax/interpreters/partial_eval.py\u001b[0m in \u001b[0;36mtrace_to_subjaxpr_dynamic2\u001b[0;34m(fun, main, debug_info)\u001b[0m\n\u001b[1;32m   1974\u001b[0m     \u001b[0min_tracers_\u001b[0m \u001b[0;34m=\u001b[0m \u001b[0;34m[\u001b[0m\u001b[0mt\u001b[0m \u001b[0;32mfor\u001b[0m \u001b[0mt\u001b[0m\u001b[0;34m,\u001b[0m \u001b[0mkeep\u001b[0m \u001b[0;32min\u001b[0m \u001b[0mzip\u001b[0m\u001b[0;34m(\u001b[0m\u001b[0min_tracers\u001b[0m\u001b[0;34m,\u001b[0m \u001b[0mkeep_inputs\u001b[0m\u001b[0;34m)\u001b[0m \u001b[0;32mif\u001b[0m \u001b[0mkeep\u001b[0m\u001b[0;34m]\u001b[0m\u001b[0;34m\u001b[0m\u001b[0;34m\u001b[0m\u001b[0m\n\u001b[0;32m-> 1975\u001b[0;31m     \u001b[0mans\u001b[0m \u001b[0;34m=\u001b[0m \u001b[0mfun\u001b[0m\u001b[0;34m.\u001b[0m\u001b[0mcall_wrapped\u001b[0m\u001b[0;34m(\u001b[0m\u001b[0;34m*\u001b[0m\u001b[0min_tracers_\u001b[0m\u001b[0;34m)\u001b[0m\u001b[0;34m\u001b[0m\u001b[0;34m\u001b[0m\u001b[0m\n\u001b[0m\u001b[1;32m   1976\u001b[0m     \u001b[0mout_tracers\u001b[0m \u001b[0;34m=\u001b[0m \u001b[0mmap\u001b[0m\u001b[0;34m(\u001b[0m\u001b[0mtrace\u001b[0m\u001b[0;34m.\u001b[0m\u001b[0mfull_raise\u001b[0m\u001b[0;34m,\u001b[0m \u001b[0mans\u001b[0m\u001b[0;34m)\u001b[0m\u001b[0;34m\u001b[0m\u001b[0;34m\u001b[0m\u001b[0m\n",
            "\u001b[0;32m/usr/local/lib/python3.7/dist-packages/jax/linear_util.py\u001b[0m in \u001b[0;36mcall_wrapped\u001b[0;34m(self, *args, **kwargs)\u001b[0m\n\u001b[1;32m    167\u001b[0m     \u001b[0;32mtry\u001b[0m\u001b[0;34m:\u001b[0m\u001b[0;34m\u001b[0m\u001b[0;34m\u001b[0m\u001b[0m\n\u001b[0;32m--> 168\u001b[0;31m       \u001b[0mans\u001b[0m \u001b[0;34m=\u001b[0m \u001b[0mself\u001b[0m\u001b[0;34m.\u001b[0m\u001b[0mf\u001b[0m\u001b[0;34m(\u001b[0m\u001b[0;34m*\u001b[0m\u001b[0margs\u001b[0m\u001b[0;34m,\u001b[0m \u001b[0;34m**\u001b[0m\u001b[0mdict\u001b[0m\u001b[0;34m(\u001b[0m\u001b[0mself\u001b[0m\u001b[0;34m.\u001b[0m\u001b[0mparams\u001b[0m\u001b[0;34m,\u001b[0m \u001b[0;34m**\u001b[0m\u001b[0mkwargs\u001b[0m\u001b[0;34m)\u001b[0m\u001b[0;34m)\u001b[0m\u001b[0;34m\u001b[0m\u001b[0;34m\u001b[0m\u001b[0m\n\u001b[0m\u001b[1;32m    169\u001b[0m     \u001b[0;32mexcept\u001b[0m\u001b[0;34m:\u001b[0m\u001b[0;34m\u001b[0m\u001b[0;34m\u001b[0m\u001b[0m\n",
            "\u001b[0;32m/usr/local/lib/python3.7/dist-packages/jax/_src/scipy/linalg.py\u001b[0m in \u001b[0;36mblock_diag\u001b[0;34m(*arrs)\u001b[0m\n\u001b[1;32m    466\u001b[0m   \u001b[0marrs\u001b[0m \u001b[0;34m=\u001b[0m \u001b[0mjnp\u001b[0m\u001b[0;34m.\u001b[0m\u001b[0m_promote_dtypes\u001b[0m\u001b[0;34m(\u001b[0m\u001b[0;34m*\u001b[0m\u001b[0marrs\u001b[0m\u001b[0;34m)\u001b[0m\u001b[0;34m\u001b[0m\u001b[0;34m\u001b[0m\u001b[0m\n\u001b[0;32m--> 467\u001b[0;31m   \u001b[0mbad_shapes\u001b[0m \u001b[0;34m=\u001b[0m \u001b[0;34m[\u001b[0m\u001b[0mi\u001b[0m \u001b[0;32mfor\u001b[0m \u001b[0mi\u001b[0m\u001b[0;34m,\u001b[0m \u001b[0ma\u001b[0m \u001b[0;32min\u001b[0m \u001b[0menumerate\u001b[0m\u001b[0;34m(\u001b[0m\u001b[0marrs\u001b[0m\u001b[0;34m)\u001b[0m \u001b[0;32mif\u001b[0m \u001b[0mjnp\u001b[0m\u001b[0;34m.\u001b[0m\u001b[0mndim\u001b[0m\u001b[0;34m(\u001b[0m\u001b[0ma\u001b[0m\u001b[0;34m)\u001b[0m \u001b[0;34m>\u001b[0m \u001b[0;36m2\u001b[0m\u001b[0;34m]\u001b[0m\u001b[0;34m\u001b[0m\u001b[0;34m\u001b[0m\u001b[0m\n\u001b[0m\u001b[1;32m    468\u001b[0m   \u001b[0;32mif\u001b[0m \u001b[0mbad_shapes\u001b[0m\u001b[0;34m:\u001b[0m\u001b[0;34m\u001b[0m\u001b[0;34m\u001b[0m\u001b[0m\n",
            "\u001b[0;32m/usr/local/lib/python3.7/dist-packages/jax/_src/scipy/linalg.py\u001b[0m in \u001b[0;36m<listcomp>\u001b[0;34m(.0)\u001b[0m\n\u001b[1;32m    466\u001b[0m   \u001b[0marrs\u001b[0m \u001b[0;34m=\u001b[0m \u001b[0mjnp\u001b[0m\u001b[0;34m.\u001b[0m\u001b[0m_promote_dtypes\u001b[0m\u001b[0;34m(\u001b[0m\u001b[0;34m*\u001b[0m\u001b[0marrs\u001b[0m\u001b[0;34m)\u001b[0m\u001b[0;34m\u001b[0m\u001b[0;34m\u001b[0m\u001b[0m\n\u001b[0;32m--> 467\u001b[0;31m   \u001b[0mbad_shapes\u001b[0m \u001b[0;34m=\u001b[0m \u001b[0;34m[\u001b[0m\u001b[0mi\u001b[0m \u001b[0;32mfor\u001b[0m \u001b[0mi\u001b[0m\u001b[0;34m,\u001b[0m \u001b[0ma\u001b[0m \u001b[0;32min\u001b[0m \u001b[0menumerate\u001b[0m\u001b[0;34m(\u001b[0m\u001b[0marrs\u001b[0m\u001b[0;34m)\u001b[0m \u001b[0;32mif\u001b[0m \u001b[0mjnp\u001b[0m\u001b[0;34m.\u001b[0m\u001b[0mndim\u001b[0m\u001b[0;34m(\u001b[0m\u001b[0ma\u001b[0m\u001b[0;34m)\u001b[0m \u001b[0;34m>\u001b[0m \u001b[0;36m2\u001b[0m\u001b[0;34m]\u001b[0m\u001b[0;34m\u001b[0m\u001b[0;34m\u001b[0m\u001b[0m\n\u001b[0m\u001b[1;32m    468\u001b[0m   \u001b[0;32mif\u001b[0m \u001b[0mbad_shapes\u001b[0m\u001b[0;34m:\u001b[0m\u001b[0;34m\u001b[0m\u001b[0;34m\u001b[0m\u001b[0m\n",
            "\u001b[0;32m<__array_function__ internals>\u001b[0m in \u001b[0;36mndim\u001b[0;34m(*args, **kwargs)\u001b[0m\n",
            "\u001b[0;32m/usr/local/lib/python3.7/dist-packages/numpy/core/fromnumeric.py\u001b[0m in \u001b[0;36mndim\u001b[0;34m(a)\u001b[0m\n\u001b[1;32m   3161\u001b[0m     \u001b[0;32mexcept\u001b[0m \u001b[0mAttributeError\u001b[0m\u001b[0;34m:\u001b[0m\u001b[0;34m\u001b[0m\u001b[0;34m\u001b[0m\u001b[0m\n\u001b[0;32m-> 3162\u001b[0;31m         \u001b[0;32mreturn\u001b[0m \u001b[0masarray\u001b[0m\u001b[0;34m(\u001b[0m\u001b[0ma\u001b[0m\u001b[0;34m)\u001b[0m\u001b[0;34m.\u001b[0m\u001b[0mndim\u001b[0m\u001b[0;34m\u001b[0m\u001b[0;34m\u001b[0m\u001b[0m\n\u001b[0m\u001b[1;32m   3163\u001b[0m \u001b[0;34m\u001b[0m\u001b[0m\n",
            "\u001b[0;32m/usr/local/lib/python3.7/dist-packages/jax/core.py\u001b[0m in \u001b[0;36m__array__\u001b[0;34m(self, *args, **kw)\u001b[0m\n\u001b[1;32m    535\u001b[0m   \u001b[0;32mdef\u001b[0m \u001b[0m__array__\u001b[0m\u001b[0;34m(\u001b[0m\u001b[0mself\u001b[0m\u001b[0;34m,\u001b[0m \u001b[0;34m*\u001b[0m\u001b[0margs\u001b[0m\u001b[0;34m,\u001b[0m \u001b[0;34m**\u001b[0m\u001b[0mkw\u001b[0m\u001b[0;34m)\u001b[0m\u001b[0;34m:\u001b[0m\u001b[0;34m\u001b[0m\u001b[0;34m\u001b[0m\u001b[0m\n\u001b[0;32m--> 536\u001b[0;31m     \u001b[0;32mraise\u001b[0m \u001b[0mTracerArrayConversionError\u001b[0m\u001b[0;34m(\u001b[0m\u001b[0mself\u001b[0m\u001b[0;34m)\u001b[0m\u001b[0;34m\u001b[0m\u001b[0;34m\u001b[0m\u001b[0m\n\u001b[0m\u001b[1;32m    537\u001b[0m \u001b[0;34m\u001b[0m\u001b[0m\n",
            "\u001b[0;31mUnfilteredStackTrace\u001b[0m: jax._src.errors.TracerArrayConversionError: The numpy.ndarray conversion method __array__() was called on the JAX Tracer object Traced<ShapedArray(float32[3,3])>with<DynamicJaxprTrace(level=2/1)>\nThe error occurred while tracing the function block_diag at /usr/local/lib/python3.7/dist-packages/jax/_src/scipy/linalg.py:461 for xla_call. This concrete value was not available in Python because it depends on the value of the argument 'arrs'.\nSee https://jax.readthedocs.io/en/latest/errors.html#jax.errors.TracerArrayConversionError\n\nThe stack trace below excludes JAX-internal frames.\nThe preceding is the original exception that occurred, unmodified.\n\n--------------------",
            "\nThe above exception was the direct cause of the following exception:\n",
            "\u001b[0;31mTracerArrayConversionError\u001b[0m                Traceback (most recent call last)",
            "\u001b[0;32m<ipython-input-52-ed0018f60662>\u001b[0m in \u001b[0;36m<module>\u001b[0;34m\u001b[0m\n\u001b[1;32m     12\u001b[0m     \u001b[0memission_cov_function\u001b[0m \u001b[0;34m=\u001b[0m \u001b[0;32mlambda\u001b[0m \u001b[0mw\u001b[0m\u001b[0;34m,\u001b[0m \u001b[0mx\u001b[0m\u001b[0;34m:\u001b[0m \u001b[0msigmoid_fn\u001b[0m\u001b[0;34m(\u001b[0m\u001b[0mw\u001b[0m\u001b[0;34m,\u001b[0m \u001b[0mx\u001b[0m\u001b[0;34m)\u001b[0m \u001b[0;34m*\u001b[0m \u001b[0;34m(\u001b[0m\u001b[0;36m1\u001b[0m \u001b[0;34m-\u001b[0m \u001b[0msigmoid_fn\u001b[0m\u001b[0;34m(\u001b[0m\u001b[0mw\u001b[0m\u001b[0;34m,\u001b[0m \u001b[0mx\u001b[0m\u001b[0;34m)\u001b[0m\u001b[0;34m)\u001b[0m\u001b[0;34m\u001b[0m\u001b[0;34m\u001b[0m\u001b[0m\n\u001b[1;32m     13\u001b[0m )\n\u001b[0;32m---> 14\u001b[0;31m \u001b[0mcmgf_ekf_post\u001b[0m \u001b[0;34m=\u001b[0m \u001b[0mdecoupled_conditional_moments_gaussian_filter\u001b[0m\u001b[0;34m(\u001b[0m\u001b[0mcmgf_ekf_params\u001b[0m\u001b[0;34m,\u001b[0m \u001b[0maggregate_fn\u001b[0m\u001b[0;34m,\u001b[0m \u001b[0moutput\u001b[0m\u001b[0;34m,\u001b[0m \u001b[0minputs\u001b[0m\u001b[0;34m=\u001b[0m\u001b[0minput\u001b[0m\u001b[0;34m)\u001b[0m\u001b[0;34m\u001b[0m\u001b[0;34m\u001b[0m\u001b[0m\n\u001b[0m\u001b[1;32m     15\u001b[0m \u001b[0;34m\u001b[0m\u001b[0m\n\u001b[1;32m     16\u001b[0m \u001b[0;31m# Extract history of filtered weight values\u001b[0m\u001b[0;34m\u001b[0m\u001b[0;34m\u001b[0m\u001b[0;34m\u001b[0m\u001b[0m\n",
            "\u001b[0;32m<ipython-input-48-c261398d8347>\u001b[0m in \u001b[0;36mdecoupled_conditional_moments_gaussian_filter\u001b[0;34m(params, aggregate_fn, emissions, num_iter, inputs)\u001b[0m\n\u001b[1;32m    245\u001b[0m     \u001b[0mcarry\u001b[0m \u001b[0;34m=\u001b[0m \u001b[0;34m(\u001b[0m\u001b[0;36m0.0\u001b[0m\u001b[0;34m,\u001b[0m \u001b[0mparams\u001b[0m\u001b[0;34m.\u001b[0m\u001b[0minitial_mean\u001b[0m\u001b[0;34m,\u001b[0m \u001b[0mparams\u001b[0m\u001b[0;34m.\u001b[0m\u001b[0minitial_covariance\u001b[0m\u001b[0;34m)\u001b[0m\u001b[0;34m\u001b[0m\u001b[0;34m\u001b[0m\u001b[0m\n\u001b[1;32m    246\u001b[0m     \u001b[0mjax\u001b[0m\u001b[0;34m.\u001b[0m\u001b[0mdebug\u001b[0m\u001b[0;34m.\u001b[0m\u001b[0mbreakpoint\u001b[0m\u001b[0;34m(\u001b[0m\u001b[0;34m)\u001b[0m\u001b[0;34m\u001b[0m\u001b[0;34m\u001b[0m\u001b[0m\n\u001b[0;32m--> 247\u001b[0;31m     \u001b[0;34m(\u001b[0m\u001b[0mll\u001b[0m\u001b[0;34m,\u001b[0m \u001b[0m_\u001b[0m\u001b[0;34m,\u001b[0m \u001b[0m_\u001b[0m\u001b[0;34m)\u001b[0m\u001b[0;34m,\u001b[0m \u001b[0;34m(\u001b[0m\u001b[0mfiltered_means\u001b[0m\u001b[0;34m,\u001b[0m \u001b[0mfiltered_covs\u001b[0m\u001b[0;34m)\u001b[0m \u001b[0;34m=\u001b[0m \u001b[0mlax\u001b[0m\u001b[0;34m.\u001b[0m\u001b[0mscan\u001b[0m\u001b[0;34m(\u001b[0m\u001b[0m_step\u001b[0m\u001b[0;34m,\u001b[0m \u001b[0mcarry\u001b[0m\u001b[0;34m,\u001b[0m \u001b[0mjnp\u001b[0m\u001b[0;34m.\u001b[0m\u001b[0marange\u001b[0m\u001b[0;34m(\u001b[0m\u001b[0mnum_timesteps\u001b[0m\u001b[0;34m)\u001b[0m\u001b[0;34m)\u001b[0m\u001b[0;34m\u001b[0m\u001b[0;34m\u001b[0m\u001b[0m\n\u001b[0m\u001b[1;32m    248\u001b[0m     \u001b[0;32mreturn\u001b[0m \u001b[0mGSSMPosterior\u001b[0m\u001b[0;34m(\u001b[0m\u001b[0mmarginal_loglik\u001b[0m\u001b[0;34m=\u001b[0m\u001b[0mll\u001b[0m\u001b[0;34m,\u001b[0m \u001b[0mfiltered_means\u001b[0m\u001b[0;34m=\u001b[0m\u001b[0mfiltered_means\u001b[0m\u001b[0;34m,\u001b[0m \u001b[0mfiltered_covariances\u001b[0m\u001b[0;34m=\u001b[0m\u001b[0mfiltered_covs\u001b[0m\u001b[0;34m)\u001b[0m\u001b[0;34m\u001b[0m\u001b[0;34m\u001b[0m\u001b[0m\n\u001b[1;32m    249\u001b[0m \u001b[0;34m\u001b[0m\u001b[0m\n",
            "\u001b[0;32m<ipython-input-48-c261398d8347>\u001b[0m in \u001b[0;36m_step\u001b[0;34m(carry, t)\u001b[0m\n\u001b[1;32m    234\u001b[0m         \u001b[0;31m# Condition on the emission\u001b[0m\u001b[0;34m\u001b[0m\u001b[0;34m\u001b[0m\u001b[0;34m\u001b[0m\u001b[0m\n\u001b[1;32m    235\u001b[0m         log_likelihood, filtered_means, filtered_covs = _decoupled_condition_on(pred_means, pred_covs, aggregate_fn, \n\u001b[0;32m--> 236\u001b[0;31m                                                                                 m_Y, Cov_Y, u, y, g_ev, g_cov, num_iter)\n\u001b[0m\u001b[1;32m    237\u001b[0m         \u001b[0mll\u001b[0m \u001b[0;34m+=\u001b[0m \u001b[0mlog_likelihood\u001b[0m\u001b[0;34m\u001b[0m\u001b[0;34m\u001b[0m\u001b[0m\n\u001b[1;32m    238\u001b[0m \u001b[0;34m\u001b[0m\u001b[0m\n",
            "\u001b[0;32m<ipython-input-48-c261398d8347>\u001b[0m in \u001b[0;36m_decoupled_condition_on\u001b[0;34m(ms, Ps, aggregate_fn, y_cond_mean, y_cond_cov, u, y, g_ev, g_cov, num_iter)\u001b[0m\n\u001b[1;32m    128\u001b[0m     \u001b[0;31m# Iterate re-linearization over posterior mean and covariance\u001b[0m\u001b[0;34m\u001b[0m\u001b[0;34m\u001b[0m\u001b[0;34m\u001b[0m\u001b[0m\n\u001b[1;32m    129\u001b[0m     \u001b[0mcarry\u001b[0m \u001b[0;34m=\u001b[0m \u001b[0;34m(\u001b[0m\u001b[0mms\u001b[0m\u001b[0;34m,\u001b[0m \u001b[0mPs\u001b[0m\u001b[0;34m)\u001b[0m\u001b[0;34m\u001b[0m\u001b[0;34m\u001b[0m\u001b[0m\n\u001b[0;32m--> 130\u001b[0;31m     \u001b[0;34m(\u001b[0m\u001b[0mmu_cond\u001b[0m\u001b[0;34m,\u001b[0m \u001b[0mSigma_cond\u001b[0m\u001b[0;34m)\u001b[0m\u001b[0;34m,\u001b[0m \u001b[0mlls\u001b[0m \u001b[0;34m=\u001b[0m \u001b[0mlax\u001b[0m\u001b[0;34m.\u001b[0m\u001b[0mscan\u001b[0m\u001b[0;34m(\u001b[0m\u001b[0m_step\u001b[0m\u001b[0;34m,\u001b[0m \u001b[0mcarry\u001b[0m\u001b[0;34m,\u001b[0m \u001b[0mjnp\u001b[0m\u001b[0;34m.\u001b[0m\u001b[0marange\u001b[0m\u001b[0;34m(\u001b[0m\u001b[0mnum_iter\u001b[0m\u001b[0;34m)\u001b[0m\u001b[0;34m)\u001b[0m\u001b[0;34m\u001b[0m\u001b[0;34m\u001b[0m\u001b[0m\n\u001b[0m\u001b[1;32m    131\u001b[0m     \u001b[0;32mreturn\u001b[0m \u001b[0mlls\u001b[0m\u001b[0;34m[\u001b[0m\u001b[0;36m0\u001b[0m\u001b[0;34m]\u001b[0m\u001b[0;34m,\u001b[0m \u001b[0mmu_cond\u001b[0m\u001b[0;34m,\u001b[0m \u001b[0mSigma_cond\u001b[0m\u001b[0;34m\u001b[0m\u001b[0;34m\u001b[0m\u001b[0m\n\u001b[1;32m    132\u001b[0m \u001b[0;34m\u001b[0m\u001b[0m\n",
            "\u001b[0;32m<ipython-input-48-c261398d8347>\u001b[0m in \u001b[0;36m_step\u001b[0;34m(carry, _)\u001b[0m\n\u001b[1;32m    113\u001b[0m         \u001b[0;31m# Aggregate separate parameters for update\u001b[0m\u001b[0;34m\u001b[0m\u001b[0;34m\u001b[0m\u001b[0;34m\u001b[0m\u001b[0m\n\u001b[1;32m    114\u001b[0m         \u001b[0mprior_mean\u001b[0m \u001b[0;34m=\u001b[0m \u001b[0maggregate_fn\u001b[0m\u001b[0;34m(\u001b[0m\u001b[0mprior_means\u001b[0m\u001b[0;34m)\u001b[0m\u001b[0;34m\u001b[0m\u001b[0;34m\u001b[0m\u001b[0m\n\u001b[0;32m--> 115\u001b[0;31m         \u001b[0mprior_cov\u001b[0m \u001b[0;34m=\u001b[0m \u001b[0mblock_diag\u001b[0m\u001b[0;34m(\u001b[0m\u001b[0mprior_covs\u001b[0m\u001b[0;34m)\u001b[0m\u001b[0;34m\u001b[0m\u001b[0;34m\u001b[0m\u001b[0m\n\u001b[0m\u001b[1;32m    116\u001b[0m \u001b[0;34m\u001b[0m\u001b[0m\n\u001b[1;32m    117\u001b[0m         \u001b[0myhat\u001b[0m \u001b[0;34m=\u001b[0m \u001b[0mg_ev\u001b[0m\u001b[0;34m(\u001b[0m\u001b[0mm_Y\u001b[0m\u001b[0;34m,\u001b[0m \u001b[0mprior_mean\u001b[0m\u001b[0;34m,\u001b[0m \u001b[0mprior_cov\u001b[0m\u001b[0;34m)\u001b[0m\u001b[0;34m\u001b[0m\u001b[0;34m\u001b[0m\u001b[0m\n",
            "\u001b[0;32m/usr/local/lib/python3.7/dist-packages/jax/_src/scipy/linalg.py\u001b[0m in \u001b[0;36mblock_diag\u001b[0;34m(*arrs)\u001b[0m\n\u001b[1;32m    465\u001b[0m     \u001b[0marrs\u001b[0m \u001b[0;34m=\u001b[0m \u001b[0;34m[\u001b[0m\u001b[0mjnp\u001b[0m\u001b[0;34m.\u001b[0m\u001b[0mzeros\u001b[0m\u001b[0;34m(\u001b[0m\u001b[0;34m(\u001b[0m\u001b[0;36m1\u001b[0m\u001b[0;34m,\u001b[0m \u001b[0;36m0\u001b[0m\u001b[0;34m)\u001b[0m\u001b[0;34m)\u001b[0m\u001b[0;34m]\u001b[0m\u001b[0;34m\u001b[0m\u001b[0;34m\u001b[0m\u001b[0m\n\u001b[1;32m    466\u001b[0m   \u001b[0marrs\u001b[0m \u001b[0;34m=\u001b[0m \u001b[0mjnp\u001b[0m\u001b[0;34m.\u001b[0m\u001b[0m_promote_dtypes\u001b[0m\u001b[0;34m(\u001b[0m\u001b[0;34m*\u001b[0m\u001b[0marrs\u001b[0m\u001b[0;34m)\u001b[0m\u001b[0;34m\u001b[0m\u001b[0;34m\u001b[0m\u001b[0m\n\u001b[0;32m--> 467\u001b[0;31m   \u001b[0mbad_shapes\u001b[0m \u001b[0;34m=\u001b[0m \u001b[0;34m[\u001b[0m\u001b[0mi\u001b[0m \u001b[0;32mfor\u001b[0m \u001b[0mi\u001b[0m\u001b[0;34m,\u001b[0m \u001b[0ma\u001b[0m \u001b[0;32min\u001b[0m \u001b[0menumerate\u001b[0m\u001b[0;34m(\u001b[0m\u001b[0marrs\u001b[0m\u001b[0;34m)\u001b[0m \u001b[0;32mif\u001b[0m \u001b[0mjnp\u001b[0m\u001b[0;34m.\u001b[0m\u001b[0mndim\u001b[0m\u001b[0;34m(\u001b[0m\u001b[0ma\u001b[0m\u001b[0;34m)\u001b[0m \u001b[0;34m>\u001b[0m \u001b[0;36m2\u001b[0m\u001b[0;34m]\u001b[0m\u001b[0;34m\u001b[0m\u001b[0;34m\u001b[0m\u001b[0m\n\u001b[0m\u001b[1;32m    468\u001b[0m   \u001b[0;32mif\u001b[0m \u001b[0mbad_shapes\u001b[0m\u001b[0;34m:\u001b[0m\u001b[0;34m\u001b[0m\u001b[0;34m\u001b[0m\u001b[0m\n\u001b[1;32m    469\u001b[0m     raise ValueError(\"Arguments to jax.scipy.linalg.block_diag must have at \"\n",
            "\u001b[0;32m/usr/local/lib/python3.7/dist-packages/jax/_src/scipy/linalg.py\u001b[0m in \u001b[0;36m<listcomp>\u001b[0;34m(.0)\u001b[0m\n\u001b[1;32m    465\u001b[0m     \u001b[0marrs\u001b[0m \u001b[0;34m=\u001b[0m \u001b[0;34m[\u001b[0m\u001b[0mjnp\u001b[0m\u001b[0;34m.\u001b[0m\u001b[0mzeros\u001b[0m\u001b[0;34m(\u001b[0m\u001b[0;34m(\u001b[0m\u001b[0;36m1\u001b[0m\u001b[0;34m,\u001b[0m \u001b[0;36m0\u001b[0m\u001b[0;34m)\u001b[0m\u001b[0;34m)\u001b[0m\u001b[0;34m]\u001b[0m\u001b[0;34m\u001b[0m\u001b[0;34m\u001b[0m\u001b[0m\n\u001b[1;32m    466\u001b[0m   \u001b[0marrs\u001b[0m \u001b[0;34m=\u001b[0m \u001b[0mjnp\u001b[0m\u001b[0;34m.\u001b[0m\u001b[0m_promote_dtypes\u001b[0m\u001b[0;34m(\u001b[0m\u001b[0;34m*\u001b[0m\u001b[0marrs\u001b[0m\u001b[0;34m)\u001b[0m\u001b[0;34m\u001b[0m\u001b[0;34m\u001b[0m\u001b[0m\n\u001b[0;32m--> 467\u001b[0;31m   \u001b[0mbad_shapes\u001b[0m \u001b[0;34m=\u001b[0m \u001b[0;34m[\u001b[0m\u001b[0mi\u001b[0m \u001b[0;32mfor\u001b[0m \u001b[0mi\u001b[0m\u001b[0;34m,\u001b[0m \u001b[0ma\u001b[0m \u001b[0;32min\u001b[0m \u001b[0menumerate\u001b[0m\u001b[0;34m(\u001b[0m\u001b[0marrs\u001b[0m\u001b[0;34m)\u001b[0m \u001b[0;32mif\u001b[0m \u001b[0mjnp\u001b[0m\u001b[0;34m.\u001b[0m\u001b[0mndim\u001b[0m\u001b[0;34m(\u001b[0m\u001b[0ma\u001b[0m\u001b[0;34m)\u001b[0m \u001b[0;34m>\u001b[0m \u001b[0;36m2\u001b[0m\u001b[0;34m]\u001b[0m\u001b[0;34m\u001b[0m\u001b[0;34m\u001b[0m\u001b[0m\n\u001b[0m\u001b[1;32m    468\u001b[0m   \u001b[0;32mif\u001b[0m \u001b[0mbad_shapes\u001b[0m\u001b[0;34m:\u001b[0m\u001b[0;34m\u001b[0m\u001b[0;34m\u001b[0m\u001b[0m\n\u001b[1;32m    469\u001b[0m     raise ValueError(\"Arguments to jax.scipy.linalg.block_diag must have at \"\n",
            "\u001b[0;32m<__array_function__ internals>\u001b[0m in \u001b[0;36mndim\u001b[0;34m(*args, **kwargs)\u001b[0m\n",
            "\u001b[0;32m/usr/local/lib/python3.7/dist-packages/numpy/core/fromnumeric.py\u001b[0m in \u001b[0;36mndim\u001b[0;34m(a)\u001b[0m\n\u001b[1;32m   3160\u001b[0m         \u001b[0;32mreturn\u001b[0m \u001b[0ma\u001b[0m\u001b[0;34m.\u001b[0m\u001b[0mndim\u001b[0m\u001b[0;34m\u001b[0m\u001b[0;34m\u001b[0m\u001b[0m\n\u001b[1;32m   3161\u001b[0m     \u001b[0;32mexcept\u001b[0m \u001b[0mAttributeError\u001b[0m\u001b[0;34m:\u001b[0m\u001b[0;34m\u001b[0m\u001b[0;34m\u001b[0m\u001b[0m\n\u001b[0;32m-> 3162\u001b[0;31m         \u001b[0;32mreturn\u001b[0m \u001b[0masarray\u001b[0m\u001b[0;34m(\u001b[0m\u001b[0ma\u001b[0m\u001b[0;34m)\u001b[0m\u001b[0;34m.\u001b[0m\u001b[0mndim\u001b[0m\u001b[0;34m\u001b[0m\u001b[0;34m\u001b[0m\u001b[0m\n\u001b[0m\u001b[1;32m   3163\u001b[0m \u001b[0;34m\u001b[0m\u001b[0m\n\u001b[1;32m   3164\u001b[0m \u001b[0;34m\u001b[0m\u001b[0m\n",
            "\u001b[0;31mTracerArrayConversionError\u001b[0m: The numpy.ndarray conversion method __array__() was called on the JAX Tracer object Traced<ShapedArray(float32[3,3])>with<DynamicJaxprTrace(level=2/1)>\nThe error occurred while tracing the function block_diag at /usr/local/lib/python3.7/dist-packages/jax/_src/scipy/linalg.py:461 for xla_call. This concrete value was not available in Python because it depends on the value of the argument 'arrs'.\nSee https://jax.readthedocs.io/en/latest/errors.html#jax.errors.TracerArrayConversionError"
          ]
        }
      ]
    },
    {
      "cell_type": "code",
      "source": [
        "A = jnp.array([[0, 1, 2, 3], [2, 3, 4]])"
      ],
      "metadata": {
        "id": "SOoYKkVRJ1IQ",
        "outputId": "c21f0cb8-a1cd-42c8-ecff-12524eb214e1",
        "colab": {
          "base_uri": "https://localhost:8080/",
          "height": 310
        }
      },
      "execution_count": 55,
      "outputs": [
        {
          "output_type": "error",
          "ename": "ValueError",
          "evalue": "ignored",
          "traceback": [
            "\u001b[0;31m---------------------------------------------------------------------------\u001b[0m",
            "\u001b[0;31mValueError\u001b[0m                                Traceback (most recent call last)",
            "\u001b[0;32m<ipython-input-55-a6ae11dc3622>\u001b[0m in \u001b[0;36m<module>\u001b[0;34m\u001b[0m\n\u001b[0;32m----> 1\u001b[0;31m \u001b[0mA\u001b[0m \u001b[0;34m=\u001b[0m \u001b[0mjnp\u001b[0m\u001b[0;34m.\u001b[0m\u001b[0marray\u001b[0m\u001b[0;34m(\u001b[0m\u001b[0;34m[\u001b[0m\u001b[0;34m[\u001b[0m\u001b[0;36m0\u001b[0m\u001b[0;34m,\u001b[0m \u001b[0;36m1\u001b[0m\u001b[0;34m,\u001b[0m \u001b[0;36m2\u001b[0m\u001b[0;34m,\u001b[0m \u001b[0;36m3\u001b[0m\u001b[0;34m]\u001b[0m\u001b[0;34m,\u001b[0m \u001b[0;34m[\u001b[0m\u001b[0;36m2\u001b[0m\u001b[0;34m,\u001b[0m \u001b[0;36m3\u001b[0m\u001b[0;34m,\u001b[0m \u001b[0;36m4\u001b[0m\u001b[0;34m]\u001b[0m\u001b[0;34m]\u001b[0m\u001b[0;34m)\u001b[0m\u001b[0;34m\u001b[0m\u001b[0;34m\u001b[0m\u001b[0m\n\u001b[0m",
            "\u001b[0;32m/usr/local/lib/python3.7/dist-packages/jax/_src/numpy/lax_numpy.py\u001b[0m in \u001b[0;36marray\u001b[0;34m(object, dtype, copy, order, ndmin)\u001b[0m\n\u001b[1;32m   1881\u001b[0m     \u001b[0;31m# https://github.com/google/jax/pull/6047. More correct would be to call\u001b[0m\u001b[0;34m\u001b[0m\u001b[0;34m\u001b[0m\u001b[0;34m\u001b[0m\u001b[0m\n\u001b[1;32m   1882\u001b[0m     \u001b[0;31m# coerce_to_array on each leaf, but this may have performance implications.\u001b[0m\u001b[0;34m\u001b[0m\u001b[0;34m\u001b[0m\u001b[0;34m\u001b[0m\u001b[0m\n\u001b[0;32m-> 1883\u001b[0;31m     \u001b[0mout\u001b[0m \u001b[0;34m=\u001b[0m \u001b[0mnp\u001b[0m\u001b[0;34m.\u001b[0m\u001b[0marray\u001b[0m\u001b[0;34m(\u001b[0m\u001b[0mobject\u001b[0m\u001b[0;34m,\u001b[0m \u001b[0mdtype\u001b[0m\u001b[0;34m=\u001b[0m\u001b[0mdtype\u001b[0m\u001b[0;34m,\u001b[0m \u001b[0mndmin\u001b[0m\u001b[0;34m=\u001b[0m\u001b[0mndmin\u001b[0m\u001b[0;34m,\u001b[0m \u001b[0mcopy\u001b[0m\u001b[0;34m=\u001b[0m\u001b[0;32mFalse\u001b[0m\u001b[0;34m)\u001b[0m\u001b[0;34m\u001b[0m\u001b[0;34m\u001b[0m\u001b[0m\n\u001b[0m\u001b[1;32m   1884\u001b[0m   \u001b[0;32melif\u001b[0m \u001b[0misinstance\u001b[0m\u001b[0;34m(\u001b[0m\u001b[0mobject\u001b[0m\u001b[0;34m,\u001b[0m \u001b[0mndarray_types\u001b[0m\u001b[0;34m)\u001b[0m\u001b[0;34m:\u001b[0m\u001b[0;34m\u001b[0m\u001b[0;34m\u001b[0m\u001b[0m\n\u001b[1;32m   1885\u001b[0m     \u001b[0;32massert\u001b[0m \u001b[0mobject\u001b[0m\u001b[0;34m.\u001b[0m\u001b[0maval\u001b[0m \u001b[0;32mis\u001b[0m \u001b[0;32mnot\u001b[0m \u001b[0;32mNone\u001b[0m\u001b[0;34m\u001b[0m\u001b[0;34m\u001b[0m\u001b[0m\n",
            "\u001b[0;31mValueError\u001b[0m: setting an array element with a sequence. The requested array has an inhomogeneous shape after 1 dimensions. The detected shape was (2,) + inhomogeneous part."
          ]
        }
      ]
    },
    {
      "cell_type": "code",
      "source": [],
      "metadata": {
        "id": "LTCXTkSIpTch"
      },
      "execution_count": null,
      "outputs": []
    }
  ],
  "metadata": {
    "colab": {
      "provenance": []
    },
    "kernelspec": {
      "display_name": "Python 3.10.4 ('.venv': venv)",
      "language": "python",
      "name": "python3"
    },
    "language_info": {
      "codemirror_mode": {
        "name": "ipython",
        "version": 3
      },
      "file_extension": ".py",
      "mimetype": "text/x-python",
      "name": "python",
      "nbconvert_exporter": "python",
      "pygments_lexer": "ipython3",
      "version": "3.10.4"
    },
    "vscode": {
      "interpreter": {
        "hash": "318f4a281a9045fa754c1e6daf91d23ec39e886b252f1bbccc2b4e9f6d70b1b8"
      }
    }
  },
  "nbformat": 4,
  "nbformat_minor": 0
}
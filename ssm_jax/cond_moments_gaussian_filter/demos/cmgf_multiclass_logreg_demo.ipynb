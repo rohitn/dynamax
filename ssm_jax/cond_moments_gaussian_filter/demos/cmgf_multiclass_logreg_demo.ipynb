{
  "nbformat": 4,
  "nbformat_minor": 0,
  "metadata": {
    "colab": {
      "provenance": []
    },
    "kernelspec": {
      "name": "python3",
      "display_name": "Python 3"
    },
    "language_info": {
      "name": "python"
    }
  },
  "cells": [
    {
      "cell_type": "markdown",
      "source": [
        "# Online Multiclass Logistic Regression using CMGF"
      ],
      "metadata": {
        "id": "4c2rXBc6oQKt"
      }
    },
    {
      "cell_type": "markdown",
      "source": [
        "##0. Imports"
      ],
      "metadata": {
        "id": "D15lpL3fD7f1"
      }
    },
    {
      "cell_type": "code",
      "source": [
        "# Silence WARNING:root:The use of `check_types` is deprecated and does not have any effect.\n",
        "# https://github.com/tensorflow/probability/issues/1523\n",
        "import logging, sys, warnings, os\n",
        "\n",
        "logger = logging.getLogger()\n",
        "\n",
        "\n",
        "class CheckTypesFilter(logging.Filter):\n",
        "    def filter(self, record):\n",
        "        return \"check_types\" not in record.getMessage()\n",
        "\n",
        "\n",
        "logger.addFilter(CheckTypesFilter())\n",
        "\n",
        "# if not sys.warnoptions:\n",
        "#     warnings.simplefilter(\"ignore\")\n",
        "#     os.environ[\"PYTHONWARNINGS\"] = \"ignore\" # Also affect subprocesses"
      ],
      "metadata": {
        "id": "Vo3x6Kglg4IY"
      },
      "execution_count": 1,
      "outputs": []
    },
    {
      "cell_type": "code",
      "source": [
        "try:\n",
        "    from ssm_jax.cond_moments_gaussian_filter.inference import *\n",
        "    from ssm_jax.cond_moments_gaussian_filter.containers import *\n",
        "except ModuleNotFoundError:\n",
        "    print('installing ssm_jax')\n",
        "    %pip install -qq git+https://github.com/probml/ssm-jax.git\n",
        "    from ssm_jax.cond_moments_gaussian_filter.inference import *\n",
        "    from ssm_jax.cond_moments_gaussian_filter.containers import *"
      ],
      "metadata": {
        "id": "uEBbL-EJnWxZ",
        "colab": {
          "base_uri": "https://localhost:8080/"
        },
        "outputId": "0e0900a6-ae3a-441f-87f1-5f00bb9e6a93"
      },
      "execution_count": 2,
      "outputs": [
        {
          "output_type": "stream",
          "name": "stdout",
          "text": [
            "installing ssm_jax\n",
            "  Installing build dependencies ... \u001b[?25l\u001b[?25hdone\n",
            "  Getting requirements to build wheel ... \u001b[?25l\u001b[?25hdone\n",
            "    Preparing wheel metadata ... \u001b[?25l\u001b[?25hdone\n",
            "\u001b[K     |████████████████████████████████| 145 kB 2.8 MB/s \n",
            "\u001b[K     |████████████████████████████████| 180 kB 37.6 MB/s \n",
            "\u001b[K     |████████████████████████████████| 106 kB 50.1 MB/s \n",
            "\u001b[K     |████████████████████████████████| 85 kB 3.4 MB/s \n",
            "\u001b[K     |████████████████████████████████| 128 kB 48.3 MB/s \n",
            "\u001b[K     |████████████████████████████████| 217 kB 45.4 MB/s \n",
            "\u001b[K     |████████████████████████████████| 51 kB 3.7 MB/s \n",
            "\u001b[?25h  Building wheel for ssm-jax (PEP 517) ... \u001b[?25l\u001b[?25hdone\n"
          ]
        },
        {
          "output_type": "stream",
          "name": "stderr",
          "text": [
            "WARNING:absl:No GPU/TPU found, falling back to CPU. (Set TF_CPP_MIN_LOG_LEVEL=0 and rerun for more info.)\n"
          ]
        }
      ]
    },
    {
      "cell_type": "code",
      "source": [
        "from warnings import simplefilter\n",
        "\n",
        "import matplotlib.pyplot as plt\n",
        "\n",
        "import jax\n",
        "import jax.numpy as jnp\n",
        "import jax.random as jr\n",
        "from sklearn.datasets import make_classification\n",
        "from sklearn.model_selection import cross_val_score, KFold, train_test_split\n",
        "from sklearn.linear_model import SGDClassifier\n",
        "from sklearn import preprocessing\n",
        "from sklearn.base import BaseEstimator, ClassifierMixin\n",
        "from sklearn.preprocessing import OneHotEncoder\n",
        "from sklearn.exceptions import ConvergenceWarning\n",
        "from sklearn.metrics import log_loss\n",
        "from sklearn.pipeline import Pipeline\n",
        "from sklearn.utils._testing import ignore_warnings\n",
        "from sklearn.exceptions import ConvergenceWarning"
      ],
      "metadata": {
        "id": "NDRvXsqQpcDv"
      },
      "execution_count": 3,
      "outputs": []
    },
    {
      "cell_type": "markdown",
      "source": [
        "## 1. CMGF Model for Online Multiclass Logistic Regression"
      ],
      "metadata": {
        "id": "2MIMhuR-EF47"
      }
    },
    {
      "cell_type": "markdown",
      "source": [
        "Note that the moments of a (one-hot-encoded) categorical distribution with $K$ possible classes are as follows:\n",
        "\n",
        "$$\\mathbb{E}[\\vec{y}|\\vec{x}, \\textbf{W}] =  \\begin{pmatrix} \\sigma_2(\\textbf{W}^T\\vec{x}) \\\\ \\sigma_3(\\textbf{W}^T\\vec{x}) \\\\ \\vdots \\\\ \\sigma_K(\\textbf{W}^T\\vec{x}) \\end{pmatrix}\n",
        "$$\n",
        "$$Cov[\\vec{y}|\\vec{x}, \\textbf{W}] = \\begin{pmatrix} p_2 (1 - p_2) & -p_2 p_3 & \\dots & -p_2 p_K \\\\\n",
        "-p_2 p_3 & p_3 (1 - p_3) & \\dots  & -p_3 p_K \\\\\n",
        "\\vdots & \\vdots & \\ddots & \\vdots \\\\\n",
        "-p_2 p_K & -p_3 p_K & \\dots & p_K (1 - p_K)\n",
        " \\end{pmatrix}$$\n",
        "where $\\vec{\\sigma}(\\cdot)$ is the softmax function.\n",
        "\n",
        "Note that in order to prevent the \"Dummy Variable Trap,\" we drop the first column.\n",
        "\n",
        "Thus, we can build a generic multiclass CMGF classifier that works with the `scikit-learn` cross validation tool as follows.\n",
        "\n"
      ],
      "metadata": {
        "id": "xExedRgYEv6X"
      }
    },
    {
      "cell_type": "code",
      "source": [
        "def fill_diagonal(A, elts):\n",
        "    # Taken from https://github.com/google/jax/issues/2680\n",
        "    elts = jnp.ravel(elts)\n",
        "    i, j = jnp.diag_indices(min(A.shape[-2:]))\n",
        "    return A.at[..., i, j].set(elts)"
      ],
      "metadata": {
        "id": "q713feGREIXA"
      },
      "execution_count": 4,
      "outputs": []
    },
    {
      "cell_type": "code",
      "source": [
        "class CMGFEstimator(BaseEstimator, ClassifierMixin):\n",
        "    def __init__(self, params_):\n",
        "        self.params_ = params_\n",
        "\n",
        "    def fit(self, X, y):\n",
        "        X, y = jnp.array(X), jnp.array(y)\n",
        "        X_bias = jnp.concatenate([jnp.ones((len(X), 1)), X], axis=1)\n",
        "        self.classes_ = jnp.unique(y)\n",
        "        # Encode output as one-hot-encoded vectors with first column dropped,\n",
        "        # i.e., [0, ..., 0] correspondes to 1st class\n",
        "        # This is done to prevent the \"Dummy Variable Trap\".\n",
        "        enc = OneHotEncoder(drop='first')\n",
        "        y_oh = jnp.array(enc.fit_transform(y.reshape(-1, 1)).toarray())\n",
        "        input_dim = X_bias.shape[-1]\n",
        "        num_classes = y_oh.shape[-1] + 1\n",
        "        weight_dim = input_dim * num_classes\n",
        "        \n",
        "        initial_mean, initial_covariance = jnp.zeros(weight_dim), jnp.eye(weight_dim)\n",
        "        dynamics_function = lambda w, x: w\n",
        "        dynamics_covariance = jnp.zeros((weight_dim, weight_dim))\n",
        "        emission_mean_function = lambda w, x: jax.nn.softmax(x @ w.reshape(input_dim, -1))[1:]\n",
        "        def emission_cov_function(w, x):\n",
        "            ps = jnp.atleast_2d(emission_mean_function(w, x))\n",
        "            return fill_diagonal(ps.T @ -ps, ps * (1-ps))\n",
        "        cmgf_params = self.params_(\n",
        "            initial_mean = initial_mean,\n",
        "            initial_covariance = initial_covariance,\n",
        "            dynamics_function = dynamics_function,\n",
        "            dynamics_covariance = dynamics_covariance,\n",
        "            emission_mean_function = emission_mean_function,\n",
        "            emission_cov_function = emission_cov_function\n",
        "        )\n",
        "        post = conditional_moments_gaussian_filter(cmgf_params, y_oh, inputs = X_bias)\n",
        "        post_means, post_covs = post.filtered_means, post.filtered_covariances\n",
        "        self.mean_, self.cov_ = post_means[-1], post_covs[-1]\n",
        "        return self\n",
        "    \n",
        "    def predict(self, X):\n",
        "        return jnp.argmax(self.predict_proba(X), axis=1)\n",
        "\n",
        "    def predict_proba(self, X):\n",
        "        X = jnp.array(X)\n",
        "        X_bias = jnp.concatenate([jnp.ones((len(X), 1)), X], axis=1)\n",
        "        return jax.nn.softmax(X_bias @ self.mean_.reshape(X_bias.shape[-1], -1))"
      ],
      "metadata": {
        "id": "saBspc73FGNf"
      },
      "execution_count": 5,
      "outputs": []
    },
    {
      "cell_type": "markdown",
      "source": [
        "##2. Accuracy Comparison with SGD"
      ],
      "metadata": {
        "id": "gL591ok4Hs5s"
      }
    },
    {
      "cell_type": "markdown",
      "source": [
        "We compare classification accuracy of CMGF with those of one-pass SGD and multi-pass SGD using 10-fold cross validation."
      ],
      "metadata": {
        "id": "ziBWqA7HYHx8"
      }
    },
    {
      "cell_type": "code",
      "source": [
        "def compute_cv_avg_score(estimator, num_points, num_classes, n_splits=10, scoring='accuracy'):\n",
        "    # Generate dataset\n",
        "    X, y = make_classification(n_samples=num_points, n_features=num_classes+1, \n",
        "                               n_informative=num_classes+1, n_redundant=0, n_classes=num_classes, random_state=0)\n",
        "    \n",
        "    # Set up pipeline to avoid fitting scaler to test dataset\n",
        "    scaler = preprocessing.StandardScaler()\n",
        "    pipeline = Pipeline([('transformer', scaler), ('estimator', estimator)])\n",
        "\n",
        "    # K-fold cross validationaccuracy\n",
        "    cv = KFold(n_splits=n_splits)\n",
        "    scores = cross_val_score(pipeline, X, y, cv=cv, scoring=scoring)\n",
        "\n",
        "    return scores.mean()"
      ],
      "metadata": {
        "id": "JFvfXOraIJoQ"
      },
      "execution_count": 6,
      "outputs": []
    },
    {
      "cell_type": "code",
      "source": [
        "num_points = 1000\n",
        "class_range = range(2, 19)\n",
        "n_splits = 10\n",
        "\n",
        "cmgf_accuracies, sgd_onepass_accuracies, sgd_multipass_accuracies = [], [], []\n",
        "simplefilter(\"ignore\", category=ConvergenceWarning)\n",
        "for num_classes in class_range:\n",
        "    print(f'{num_points} data points, {num_classes} classes.')\n",
        "    \n",
        "    # Initialize estimators\n",
        "    cmgf_est = CMGFEstimator(EKFParams)\n",
        "    sgd_op_est = SGDClassifier(loss='log', max_iter=1)\n",
        "    sgd_mp_est = SGDClassifier(loss='log')\n",
        "    \n",
        "    # Compute cv average scores\n",
        "    cmgf_ac = compute_cv_avg_score(cmgf_est, num_points, num_classes, n_splits=n_splits)\n",
        "    cmgf_accuracies.append(cmgf_ac)\n",
        "    print(f'EKF-CMGF estimate average accuracy = {cmgf_ac}')\n",
        "    sgd_op_ac = compute_cv_avg_score(sgd_op_est, num_points, num_classes, n_splits=n_splits)\n",
        "    sgd_onepass_accuracies.append(sgd_op_ac)\n",
        "    print(f'One-pass sgd estimate average accuracy = {sgd_op_ac}')\n",
        "    sgd_mp_ac = compute_cv_avg_score(sgd_mp_est, num_points, num_classes, n_splits=n_splits)\n",
        "    sgd_multipass_accuracies.append(sgd_mp_ac)\n",
        "    print(f'Multi-pass sgd estimate average accuracy = {sgd_mp_ac}')\n",
        "    "
      ],
      "metadata": {
        "colab": {
          "base_uri": "https://localhost:8080/"
        },
        "id": "LFIhl10fH8z6",
        "outputId": "78751395-c1bd-452f-a9c3-142df178dcd8"
      },
      "execution_count": 7,
      "outputs": [
        {
          "output_type": "stream",
          "name": "stdout",
          "text": [
            "1000 data points, 2 classes.\n",
            "EKF-CMGF estimate average accuracy = 0.7219999999999999\n",
            "One-pass sgd estimate average accuracy = 0.632\n",
            "Multi-pass sgd estimate average accuracy = 0.705\n",
            "1000 data points, 3 classes.\n",
            "EKF-CMGF estimate average accuracy = 0.69\n",
            "One-pass sgd estimate average accuracy = 0.5469999999999999\n",
            "Multi-pass sgd estimate average accuracy = 0.672\n",
            "1000 data points, 4 classes.\n",
            "EKF-CMGF estimate average accuracy = 0.566\n",
            "One-pass sgd estimate average accuracy = 0.441\n",
            "Multi-pass sgd estimate average accuracy = 0.505\n",
            "1000 data points, 5 classes.\n",
            "EKF-CMGF estimate average accuracy = 0.606\n",
            "One-pass sgd estimate average accuracy = 0.43599999999999994\n",
            "Multi-pass sgd estimate average accuracy = 0.5559999999999999\n",
            "1000 data points, 6 classes.\n",
            "EKF-CMGF estimate average accuracy = 0.45899999999999996\n",
            "One-pass sgd estimate average accuracy = 0.31399999999999995\n",
            "Multi-pass sgd estimate average accuracy = 0.382\n",
            "1000 data points, 7 classes.\n",
            "EKF-CMGF estimate average accuracy = 0.437\n",
            "One-pass sgd estimate average accuracy = 0.31099999999999994\n",
            "Multi-pass sgd estimate average accuracy = 0.37700000000000006\n",
            "1000 data points, 8 classes.\n",
            "EKF-CMGF estimate average accuracy = 0.37\n",
            "One-pass sgd estimate average accuracy = 0.25\n",
            "Multi-pass sgd estimate average accuracy = 0.304\n",
            "1000 data points, 9 classes.\n",
            "EKF-CMGF estimate average accuracy = 0.42299999999999993\n",
            "One-pass sgd estimate average accuracy = 0.257\n",
            "Multi-pass sgd estimate average accuracy = 0.316\n",
            "1000 data points, 10 classes.\n",
            "EKF-CMGF estimate average accuracy = 0.37899999999999995\n",
            "One-pass sgd estimate average accuracy = 0.24300000000000002\n",
            "Multi-pass sgd estimate average accuracy = 0.29700000000000004\n",
            "1000 data points, 11 classes.\n",
            "EKF-CMGF estimate average accuracy = 0.347\n",
            "One-pass sgd estimate average accuracy = 0.21000000000000002\n",
            "Multi-pass sgd estimate average accuracy = 0.279\n",
            "1000 data points, 12 classes.\n",
            "EKF-CMGF estimate average accuracy = 0.286\n",
            "One-pass sgd estimate average accuracy = 0.16399999999999998\n",
            "Multi-pass sgd estimate average accuracy = 0.217\n",
            "1000 data points, 13 classes.\n",
            "EKF-CMGF estimate average accuracy = 0.265\n",
            "One-pass sgd estimate average accuracy = 0.175\n",
            "Multi-pass sgd estimate average accuracy = 0.21600000000000003\n",
            "1000 data points, 14 classes.\n",
            "EKF-CMGF estimate average accuracy = 0.28500000000000003\n",
            "One-pass sgd estimate average accuracy = 0.193\n",
            "Multi-pass sgd estimate average accuracy = 0.221\n",
            "1000 data points, 15 classes.\n",
            "EKF-CMGF estimate average accuracy = 0.271\n",
            "One-pass sgd estimate average accuracy = 0.178\n",
            "Multi-pass sgd estimate average accuracy = 0.219\n",
            "1000 data points, 16 classes.\n",
            "EKF-CMGF estimate average accuracy = 0.252\n",
            "One-pass sgd estimate average accuracy = 0.14900000000000002\n",
            "Multi-pass sgd estimate average accuracy = 0.174\n",
            "1000 data points, 17 classes.\n",
            "EKF-CMGF estimate average accuracy = 0.196\n",
            "One-pass sgd estimate average accuracy = 0.174\n",
            "Multi-pass sgd estimate average accuracy = 0.176\n",
            "1000 data points, 18 classes.\n",
            "EKF-CMGF estimate average accuracy = 0.221\n",
            "One-pass sgd estimate average accuracy = 0.16799999999999998\n",
            "Multi-pass sgd estimate average accuracy = 0.20500000000000002\n"
          ]
        }
      ]
    },
    {
      "cell_type": "code",
      "source": [
        "# Plot result\n",
        "fig, ax = plt.subplots()\n",
        "ax.plot(class_range, cmgf_accuracies, 'r', label='CMGF-EKF')\n",
        "ax.plot(class_range, sgd_onepass_accuracies, 'y', label='SGD (single-pass)')\n",
        "ax.plot(class_range, sgd_multipass_accuracies, 'b--', label='SGD (multi-pass)')\n",
        "ax.set_xticks(class_range)\n",
        "ax.set_xlabel('Number of output classes')\n",
        "ax.set_ylabel(f'{n_splits}-fold cv average accuracy')\n",
        "ax.set_title(f'{n_splits}-fold cv accuracy (CMGF vs SGD )')\n",
        "ax.legend();"
      ],
      "metadata": {
        "colab": {
          "base_uri": "https://localhost:8080/",
          "height": 295
        },
        "id": "Gzb7T-PFIE3w",
        "outputId": "4a17d687-af1a-4857-fc0b-49c6419ef014"
      },
      "execution_count": 8,
      "outputs": [
        {
          "output_type": "display_data",
          "data": {
            "text/plain": [
              "<Figure size 432x288 with 1 Axes>"
            ],
            "image/png": "[encoded data removed]"
          },
          "metadata": {
            "needs_background": "light"
          }
        }
      ]
    },
    {
      "cell_type": "markdown",
      "source": [
        "##3. Speed Comparison with SGD"
      ],
      "metadata": {
        "id": "QFI8SWLlZB64"
      }
    },
    {
      "cell_type": "code",
      "source": [
        "data_size_grid = list(range(20, 100, 20)) + list(range(100, 1000, 100)) + list(range(1000, 10000, 1000)) \\\n",
        "                 + list(range(10000, 100000, 10000)) + list(range(100000, 1000000, 100000))"
      ],
      "metadata": {
        "id": "vbUoTxjvZ37D"
      },
      "execution_count": 9,
      "outputs": []
    },
    {
      "cell_type": "code",
      "source": [
        "cmgf_est = CMGFEstimator(EKFParams)\n",
        "sgd_op_est = SGDClassifier(loss='log', max_iter=1)\n",
        "sgd_mp_est = SGDClassifier(loss='log')\n",
        "\n",
        "# Plot timed results against different dataset sizes\n",
        "# with fixed class size (K = 3)\n",
        "import numpy as np\n",
        "import time\n",
        "\n",
        "cmgf_times, sgd_op_times, sgd_mp_times = [], [], []\n",
        "\n",
        "it_times, vec_times = [], []\n",
        "for data_size in data_size_grid:\n",
        "    print(f'dataset of size {data_size}')\n",
        "    simplefilter(\"ignore\", category=ConvergenceWarning)\n",
        "    input, output = make_classification(n_samples=data_size, n_features=4, n_informative=4, \n",
        "                                        n_redundant=0, n_classes=3, random_state=2)\n",
        "    start = time.time()\n",
        "    _ = cmgf_est.fit(input, output)\n",
        "    cmgf_time = time.time() - start\n",
        "    cmgf_times.append(cmgf_time)\n",
        "    print(f'cmgf took {cmgf_time} seconds.')\n",
        "\n",
        "    start = time.time()\n",
        "    _ = sgd_op_est.fit(input, output)\n",
        "    sgd_op_time = time.time() - start\n",
        "    sgd_op_times.append(sgd_op_time)\n",
        "    print(f'one-pass sgd took {sgd_op_time} seconds.')\n",
        "\n",
        "    start = time.time()\n",
        "    _ = sgd_mp_est.fit(input, output)\n",
        "    sgd_mp_time = time.time() - start\n",
        "    sgd_mp_times.append(sgd_mp_time)\n",
        "    print(f'multi-pass sgd took {sgd_mp_time} seconds.')"
      ],
      "metadata": {
        "colab": {
          "base_uri": "https://localhost:8080/"
        },
        "id": "xiavnsxuZrHy",
        "outputId": "bd9bf998-29fd-481c-cc3f-c2962ec88bd9"
      },
      "execution_count": 10,
      "outputs": [
        {
          "output_type": "stream",
          "name": "stdout",
          "text": [
            "dataset of size 20\n",
            "cmgf took 1.1150124073028564 seconds.\n",
            "one-pass sgd took 0.0021767616271972656 seconds.\n",
            "multi-pass sgd took 0.0018458366394042969 seconds.\n",
            "dataset of size 40\n",
            "cmgf took 1.121196985244751 seconds.\n",
            "one-pass sgd took 0.00421452522277832 seconds.\n",
            "multi-pass sgd took 0.0030040740966796875 seconds.\n",
            "dataset of size 60\n",
            "cmgf took 1.1277012825012207 seconds.\n",
            "one-pass sgd took 0.0041201114654541016 seconds.\n",
            "multi-pass sgd took 0.0036385059356689453 seconds.\n",
            "dataset of size 80\n",
            "cmgf took 1.3108961582183838 seconds.\n",
            "one-pass sgd took 0.0022041797637939453 seconds.\n",
            "multi-pass sgd took 0.0021457672119140625 seconds.\n",
            "dataset of size 100\n",
            "cmgf took 1.047846794128418 seconds.\n",
            "one-pass sgd took 0.002250194549560547 seconds.\n",
            "multi-pass sgd took 0.0038504600524902344 seconds.\n",
            "dataset of size 200\n",
            "cmgf took 1.0724709033966064 seconds.\n",
            "one-pass sgd took 0.0022788047790527344 seconds.\n",
            "multi-pass sgd took 0.004683017730712891 seconds.\n",
            "dataset of size 300\n",
            "cmgf took 1.0921356678009033 seconds.\n",
            "one-pass sgd took 0.003208160400390625 seconds.\n",
            "multi-pass sgd took 0.006794452667236328 seconds.\n",
            "dataset of size 400\n",
            "cmgf took 1.073786973953247 seconds.\n",
            "one-pass sgd took 0.0041255950927734375 seconds.\n",
            "multi-pass sgd took 0.010003328323364258 seconds.\n",
            "dataset of size 500\n",
            "cmgf took 1.1216809749603271 seconds.\n",
            "one-pass sgd took 0.0024716854095458984 seconds.\n",
            "multi-pass sgd took 0.012450933456420898 seconds.\n",
            "dataset of size 600\n",
            "cmgf took 1.106210708618164 seconds.\n",
            "one-pass sgd took 0.0040645599365234375 seconds.\n",
            "multi-pass sgd took 0.014448881149291992 seconds.\n",
            "dataset of size 700\n",
            "cmgf took 1.1162779331207275 seconds.\n",
            "one-pass sgd took 0.0025670528411865234 seconds.\n",
            "multi-pass sgd took 0.015207290649414062 seconds.\n",
            "dataset of size 800\n",
            "cmgf took 1.11557936668396 seconds.\n",
            "one-pass sgd took 0.0034537315368652344 seconds.\n",
            "multi-pass sgd took 0.016177654266357422 seconds.\n",
            "dataset of size 900\n",
            "cmgf took 0.8838350772857666 seconds.\n",
            "one-pass sgd took 0.0042040348052978516 seconds.\n",
            "multi-pass sgd took 0.021733999252319336 seconds.\n",
            "dataset of size 1000\n",
            "cmgf took 1.082033395767212 seconds.\n",
            "one-pass sgd took 0.004098415374755859 seconds.\n",
            "multi-pass sgd took 0.022609710693359375 seconds.\n",
            "dataset of size 2000\n",
            "cmgf took 1.0973515510559082 seconds.\n",
            "one-pass sgd took 0.006859779357910156 seconds.\n",
            "multi-pass sgd took 0.042487382888793945 seconds.\n",
            "dataset of size 3000\n",
            "cmgf took 1.6185240745544434 seconds.\n",
            "one-pass sgd took 0.005353212356567383 seconds.\n",
            "multi-pass sgd took 0.05261659622192383 seconds.\n",
            "dataset of size 4000\n",
            "cmgf took 1.123227596282959 seconds.\n",
            "one-pass sgd took 0.0046198368072509766 seconds.\n",
            "multi-pass sgd took 0.07590484619140625 seconds.\n",
            "dataset of size 5000\n",
            "cmgf took 1.1055142879486084 seconds.\n",
            "one-pass sgd took 0.005173683166503906 seconds.\n",
            "multi-pass sgd took 0.10073494911193848 seconds.\n",
            "dataset of size 6000\n",
            "cmgf took 1.1316657066345215 seconds.\n",
            "one-pass sgd took 0.007178306579589844 seconds.\n",
            "multi-pass sgd took 0.12069392204284668 seconds.\n",
            "dataset of size 7000\n",
            "cmgf took 1.1525402069091797 seconds.\n",
            "one-pass sgd took 0.006469249725341797 seconds.\n",
            "multi-pass sgd took 0.09562277793884277 seconds.\n",
            "dataset of size 8000\n",
            "cmgf took 1.1493315696716309 seconds.\n",
            "one-pass sgd took 0.006681203842163086 seconds.\n",
            "multi-pass sgd took 0.12958431243896484 seconds.\n",
            "dataset of size 9000\n",
            "cmgf took 1.1496710777282715 seconds.\n",
            "one-pass sgd took 0.00874471664428711 seconds.\n",
            "multi-pass sgd took 0.1440441608428955 seconds.\n",
            "dataset of size 10000\n",
            "cmgf took 1.1632699966430664 seconds.\n",
            "one-pass sgd took 0.009281635284423828 seconds.\n",
            "multi-pass sgd took 0.147491455078125 seconds.\n",
            "dataset of size 20000\n",
            "cmgf took 1.245692253112793 seconds.\n",
            "one-pass sgd took 0.013967037200927734 seconds.\n",
            "multi-pass sgd took 0.2533690929412842 seconds.\n",
            "dataset of size 30000\n",
            "cmgf took 1.3906278610229492 seconds.\n",
            "one-pass sgd took 0.02052927017211914 seconds.\n",
            "multi-pass sgd took 0.3107144832611084 seconds.\n",
            "dataset of size 40000\n",
            "cmgf took 1.436814546585083 seconds.\n",
            "one-pass sgd took 0.026942968368530273 seconds.\n",
            "multi-pass sgd took 0.36603832244873047 seconds.\n",
            "dataset of size 50000\n",
            "cmgf took 1.537987470626831 seconds.\n",
            "one-pass sgd took 0.03373312950134277 seconds.\n",
            "multi-pass sgd took 0.41802382469177246 seconds.\n",
            "dataset of size 60000\n",
            "cmgf took 1.6362648010253906 seconds.\n",
            "one-pass sgd took 0.04137277603149414 seconds.\n",
            "multi-pass sgd took 0.43616557121276855 seconds.\n",
            "dataset of size 70000\n",
            "cmgf took 1.7137155532836914 seconds.\n",
            "one-pass sgd took 0.045881032943725586 seconds.\n",
            "multi-pass sgd took 0.47916102409362793 seconds.\n",
            "dataset of size 80000\n",
            "cmgf took 1.805607557296753 seconds.\n",
            "one-pass sgd took 0.05409121513366699 seconds.\n",
            "multi-pass sgd took 0.5536937713623047 seconds.\n",
            "dataset of size 90000\n",
            "cmgf took 1.8984427452087402 seconds.\n",
            "one-pass sgd took 0.06125617027282715 seconds.\n",
            "multi-pass sgd took 0.6428306102752686 seconds.\n",
            "dataset of size 100000\n",
            "cmgf took 2.0524814128875732 seconds.\n",
            "one-pass sgd took 0.08556842803955078 seconds.\n",
            "multi-pass sgd took 0.7126150131225586 seconds.\n",
            "dataset of size 200000\n",
            "cmgf took 2.939580202102661 seconds.\n",
            "one-pass sgd took 0.1540060043334961 seconds.\n",
            "multi-pass sgd took 1.2876338958740234 seconds.\n",
            "dataset of size 300000\n",
            "cmgf took 3.8474535942077637 seconds.\n",
            "one-pass sgd took 0.26373720169067383 seconds.\n",
            "multi-pass sgd took 2.06966495513916 seconds.\n",
            "dataset of size 400000\n",
            "cmgf took 4.640012741088867 seconds.\n",
            "one-pass sgd took 0.373762845993042 seconds.\n",
            "multi-pass sgd took 2.691589117050171 seconds.\n",
            "dataset of size 500000\n",
            "cmgf took 5.595150947570801 seconds.\n",
            "one-pass sgd took 0.47392964363098145 seconds.\n",
            "multi-pass sgd took 3.5409328937530518 seconds.\n",
            "dataset of size 600000\n",
            "cmgf took 8.053315877914429 seconds.\n",
            "one-pass sgd took 0.5740339756011963 seconds.\n",
            "multi-pass sgd took 3.8900833129882812 seconds.\n",
            "dataset of size 700000\n",
            "cmgf took 7.355523109436035 seconds.\n",
            "one-pass sgd took 0.6420512199401855 seconds.\n",
            "multi-pass sgd took 4.424995183944702 seconds.\n",
            "dataset of size 800000\n",
            "cmgf took 8.80177640914917 seconds.\n",
            "one-pass sgd took 0.7397539615631104 seconds.\n",
            "multi-pass sgd took 5.263635158538818 seconds.\n",
            "dataset of size 900000\n",
            "cmgf took 9.153842687606812 seconds.\n",
            "one-pass sgd took 0.8479387760162354 seconds.\n",
            "multi-pass sgd took 5.831099271774292 seconds.\n"
          ]
        }
      ]
    },
    {
      "cell_type": "code",
      "source": [
        "# Plot the result\n",
        "fig, ax = plt.subplots()\n",
        "ax.plot(data_size_grid, cmgf_times, label='CMGF-EKF')\n",
        "ax.plot(data_size_grid, sgd_op_times, label='SGD (single pass)')\n",
        "ax.plot(data_size_grid, sgd_mp_times, label='SGD (multi pass)')\n",
        "ax.set_xlabel('Dataset size')\n",
        "ax.set_ylabel('Train time in s')\n",
        "ax.set_title('Train speed vs dataset size (CMGF vs SGD)')\n",
        "ax.legend();\n",
        "plt.show()"
      ],
      "metadata": {
        "colab": {
          "base_uri": "https://localhost:8080/",
          "height": 295
        },
        "id": "u1DP_RYei8q3",
        "outputId": "1cb6d902-3b93-461f-9ee3-c8578e4b2232"
      },
      "execution_count": 11,
      "outputs": [
        {
          "output_type": "display_data",
          "data": {
            "text/plain": [
              "<Figure size 432x288 with 1 Axes>"
            ],
            "image/png": "[encoded data removed]"
          },
          "metadata": {
            "needs_background": "light"
          }
        }
      ]
    },
    {
      "cell_type": "markdown",
      "source": [
        "##4. (K-1) CMGF Binary Regressions"
      ],
      "metadata": {
        "id": "2bmsihchf--d"
      }
    },
    {
      "cell_type": "markdown",
      "source": [
        "Let us try to construct the multinomial logistic regression as a combination of $(K-1)$ binary logistic regressions."
      ],
      "metadata": {
        "id": "DIe2QkTSgLvF"
      }
    },
    {
      "cell_type": "code",
      "source": [
        "sigmoid_fn = lambda w, x: jax.nn.sigmoid(w @ x)\n",
        "\n",
        "class CMGFOneVsAllEstimator(BaseEstimator, ClassifierMixin):\n",
        "    def __init__(self, params, weights=None):\n",
        "        self.params = params\n",
        "        self.weights = weights\n",
        "\n",
        "    def fit(self, X, y):\n",
        "        X, y = jnp.array(X), jnp.array(y)\n",
        "        X_bias = jnp.concatenate([jnp.ones((len(X), 1)), X], axis=1)\n",
        "        input_dim = X_bias.shape[-1]\n",
        "        num_classes = y.max() + 1\n",
        "\n",
        "        # Construct CMGFParams\n",
        "        cmgf_params = self.params(\n",
        "            initial_mean = jnp.zeros(input_dim),\n",
        "            initial_covariance = jnp.eye(input_dim),\n",
        "            dynamics_function = lambda w, x: w,\n",
        "            dynamics_covariance = jnp.zeros((input_dim, input_dim)),\n",
        "            emission_mean_function = sigmoid_fn,\n",
        "            emission_cov_function = lambda w, x: sigmoid_fn(w, x) * (1 - sigmoid_fn(w, x))\n",
        "        )\n",
        "\n",
        "        # Construct (K-1) binary classifiers\n",
        "        classifiers = []\n",
        "        for k in range(num_classes):\n",
        "            y_k = jnp.array((y == k).astype(float))\n",
        "            post = conditional_moments_gaussian_filter(cmgf_params, y_k, inputs=X_bias)\n",
        "            classifiers.append(post.filtered_means[-1])\n",
        "\n",
        "        self.weights = jnp.array(classifiers)\n",
        "        return self\n",
        "    \n",
        "    def predict(self, X):\n",
        "        return jnp.argmax(self.predict_proba(X), axis=1)\n",
        "\n",
        "    def predict_proba(self, X):\n",
        "        X = jnp.array(X)\n",
        "        X_bias = jnp.concatenate([jnp.ones((len(X), 1)), X], axis=1)\n",
        "        return sigmoid_fn(X_bias, self.weights.T)"
      ],
      "metadata": {
        "id": "8hMGH1CtoByz"
      },
      "execution_count": 12,
      "outputs": []
    },
    {
      "cell_type": "markdown",
      "source": [
        "Let's examine the speed-up."
      ],
      "metadata": {
        "id": "WvNJoCREv3LZ"
      }
    },
    {
      "cell_type": "code",
      "source": [
        "cmgf_est = CMGFOneVsAllEstimator(EKFParams)\n",
        "sgd_op_est = SGDClassifier(loss='log', max_iter=1)\n",
        "sgd_mp_est = SGDClassifier(loss='log')\n",
        "\n",
        "# Plot timed results against different dataset sizes\n",
        "# with fixed class size (K = 3)\n",
        "import numpy as np\n",
        "import time\n",
        "\n",
        "cmgf_times, sgd_op_times, sgd_mp_times = [], [], []\n",
        "\n",
        "it_times, vec_times = [], []\n",
        "for data_size in data_size_grid:\n",
        "    print(f'dataset of size {data_size}')\n",
        "    simplefilter(\"ignore\", category=ConvergenceWarning)\n",
        "    input, output = make_classification(n_samples=data_size, n_features=4, n_informative=4, \n",
        "                                        n_redundant=0, n_classes=3, random_state=2)\n",
        "    start = time.time()\n",
        "    _ = cmgf_est.fit(input, output)\n",
        "    cmgf_time = time.time() - start\n",
        "    cmgf_times.append(cmgf_time)\n",
        "    print(f'cmgf took {cmgf_time} seconds.')\n",
        "\n",
        "    start = time.time()\n",
        "    _ = sgd_op_est.fit(input, output)\n",
        "    sgd_op_time = time.time() - start\n",
        "    sgd_op_times.append(sgd_op_time)\n",
        "    print(f'one-pass sgd took {sgd_op_time} seconds.')\n",
        "\n",
        "    start = time.time()\n",
        "    _ = sgd_mp_est.fit(input, output)\n",
        "    sgd_mp_time = time.time() - start\n",
        "    sgd_mp_times.append(sgd_mp_time)\n",
        "    print(f'multi-pass sgd took {sgd_mp_time} seconds.')"
      ],
      "metadata": {
        "id": "baAZZ7M4v7Ha",
        "outputId": "55168f73-6397-4363-b905-2403881ed39d",
        "colab": {
          "base_uri": "https://localhost:8080/"
        }
      },
      "execution_count": 13,
      "outputs": [
        {
          "output_type": "stream",
          "name": "stdout",
          "text": [
            "dataset of size 20\n",
            "cmgf took 2.070965051651001 seconds.\n",
            "one-pass sgd took 0.0027878284454345703 seconds.\n",
            "multi-pass sgd took 0.003916025161743164 seconds.\n",
            "dataset of size 40\n",
            "cmgf took 1.8842933177947998 seconds.\n",
            "one-pass sgd took 0.0031538009643554688 seconds.\n",
            "multi-pass sgd took 0.003062009811401367 seconds.\n",
            "dataset of size 60\n",
            "cmgf took 1.841648817062378 seconds.\n",
            "one-pass sgd took 0.004082918167114258 seconds.\n",
            "multi-pass sgd took 0.0030946731567382812 seconds.\n",
            "dataset of size 80\n",
            "cmgf took 1.843721866607666 seconds.\n",
            "one-pass sgd took 0.003793478012084961 seconds.\n",
            "multi-pass sgd took 0.0027751922607421875 seconds.\n",
            "dataset of size 100\n",
            "cmgf took 1.8558037281036377 seconds.\n",
            "one-pass sgd took 0.0035028457641601562 seconds.\n",
            "multi-pass sgd took 0.003261566162109375 seconds.\n",
            "dataset of size 200\n",
            "cmgf took 1.86561918258667 seconds.\n",
            "one-pass sgd took 0.0038604736328125 seconds.\n",
            "multi-pass sgd took 0.0044939517974853516 seconds.\n",
            "dataset of size 300\n",
            "cmgf took 1.911578893661499 seconds.\n",
            "one-pass sgd took 0.0023522377014160156 seconds.\n",
            "multi-pass sgd took 0.007688999176025391 seconds.\n",
            "dataset of size 400\n",
            "cmgf took 1.8877670764923096 seconds.\n",
            "one-pass sgd took 0.0035524368286132812 seconds.\n",
            "multi-pass sgd took 0.011594057083129883 seconds.\n",
            "dataset of size 500\n",
            "cmgf took 1.8946220874786377 seconds.\n",
            "one-pass sgd took 0.002371072769165039 seconds.\n",
            "multi-pass sgd took 0.01197504997253418 seconds.\n",
            "dataset of size 600\n",
            "cmgf took 1.8358478546142578 seconds.\n",
            "one-pass sgd took 0.0037899017333984375 seconds.\n",
            "multi-pass sgd took 0.01360321044921875 seconds.\n",
            "dataset of size 700\n",
            "cmgf took 1.865715503692627 seconds.\n",
            "one-pass sgd took 0.002501964569091797 seconds.\n",
            "multi-pass sgd took 0.01757049560546875 seconds.\n",
            "dataset of size 800\n",
            "cmgf took 2.504040002822876 seconds.\n",
            "one-pass sgd took 0.0025446414947509766 seconds.\n",
            "multi-pass sgd took 0.017840862274169922 seconds.\n",
            "dataset of size 900\n",
            "cmgf took 1.894629716873169 seconds.\n",
            "one-pass sgd took 0.0029730796813964844 seconds.\n",
            "multi-pass sgd took 0.0244901180267334 seconds.\n",
            "dataset of size 1000\n",
            "cmgf took 1.8341608047485352 seconds.\n",
            "one-pass sgd took 0.0045511722564697266 seconds.\n",
            "multi-pass sgd took 0.022357702255249023 seconds.\n",
            "dataset of size 2000\n",
            "cmgf took 1.9125518798828125 seconds.\n",
            "one-pass sgd took 0.0035696029663085938 seconds.\n",
            "multi-pass sgd took 0.05005836486816406 seconds.\n",
            "dataset of size 3000\n",
            "cmgf took 1.9013993740081787 seconds.\n",
            "one-pass sgd took 0.005183696746826172 seconds.\n",
            "multi-pass sgd took 0.06992030143737793 seconds.\n",
            "dataset of size 4000\n",
            "cmgf took 1.9127984046936035 seconds.\n",
            "one-pass sgd took 0.005830049514770508 seconds.\n",
            "multi-pass sgd took 0.07817220687866211 seconds.\n",
            "dataset of size 5000\n",
            "cmgf took 1.9070539474487305 seconds.\n",
            "one-pass sgd took 0.005212306976318359 seconds.\n",
            "multi-pass sgd took 0.09739065170288086 seconds.\n",
            "dataset of size 6000\n",
            "cmgf took 1.9743413925170898 seconds.\n",
            "one-pass sgd took 0.005303144454956055 seconds.\n",
            "multi-pass sgd took 0.11901545524597168 seconds.\n",
            "dataset of size 7000\n",
            "cmgf took 1.96290922164917 seconds.\n",
            "one-pass sgd took 0.0061817169189453125 seconds.\n",
            "multi-pass sgd took 0.1212005615234375 seconds.\n",
            "dataset of size 8000\n",
            "cmgf took 1.9441819190979004 seconds.\n",
            "one-pass sgd took 0.0063512325286865234 seconds.\n",
            "multi-pass sgd took 0.1055147647857666 seconds.\n",
            "dataset of size 9000\n",
            "cmgf took 1.9682834148406982 seconds.\n",
            "one-pass sgd took 0.008283853530883789 seconds.\n",
            "multi-pass sgd took 0.16208648681640625 seconds.\n",
            "dataset of size 10000\n",
            "cmgf took 1.9884061813354492 seconds.\n",
            "one-pass sgd took 0.008749008178710938 seconds.\n",
            "multi-pass sgd took 0.17382216453552246 seconds.\n",
            "dataset of size 20000\n",
            "cmgf took 2.0335886478424072 seconds.\n",
            "one-pass sgd took 0.013272285461425781 seconds.\n",
            "multi-pass sgd took 0.25022387504577637 seconds.\n",
            "dataset of size 30000\n",
            "cmgf took 2.153282880783081 seconds.\n",
            "one-pass sgd took 0.02062821388244629 seconds.\n",
            "multi-pass sgd took 0.24878168106079102 seconds.\n",
            "dataset of size 40000\n",
            "cmgf took 2.963958740234375 seconds.\n",
            "one-pass sgd took 0.026500940322875977 seconds.\n",
            "multi-pass sgd took 0.3599250316619873 seconds.\n",
            "dataset of size 50000\n",
            "cmgf took 2.399832010269165 seconds.\n",
            "one-pass sgd took 0.03213095664978027 seconds.\n",
            "multi-pass sgd took 0.40804409980773926 seconds.\n",
            "dataset of size 60000\n",
            "cmgf took 2.4960310459136963 seconds.\n",
            "one-pass sgd took 0.041243553161621094 seconds.\n",
            "multi-pass sgd took 0.4151754379272461 seconds.\n",
            "dataset of size 70000\n",
            "cmgf took 2.6087708473205566 seconds.\n",
            "one-pass sgd took 0.060059309005737305 seconds.\n",
            "multi-pass sgd took 0.4938619136810303 seconds.\n",
            "dataset of size 80000\n",
            "cmgf took 2.7070271968841553 seconds.\n",
            "one-pass sgd took 0.05326962471008301 seconds.\n",
            "multi-pass sgd took 0.5639872550964355 seconds.\n",
            "dataset of size 90000\n",
            "cmgf took 2.7773728370666504 seconds.\n",
            "one-pass sgd took 0.06185483932495117 seconds.\n",
            "multi-pass sgd took 0.6219737529754639 seconds.\n",
            "dataset of size 100000\n",
            "cmgf took 2.931556463241577 seconds.\n",
            "one-pass sgd took 0.07200241088867188 seconds.\n",
            "multi-pass sgd took 0.7141485214233398 seconds.\n",
            "dataset of size 200000\n",
            "cmgf took 3.9458913803100586 seconds.\n",
            "one-pass sgd took 0.15632271766662598 seconds.\n",
            "multi-pass sgd took 1.3663921356201172 seconds.\n",
            "dataset of size 300000\n",
            "cmgf took 4.943199396133423 seconds.\n",
            "one-pass sgd took 0.2630033493041992 seconds.\n",
            "multi-pass sgd took 2.116708517074585 seconds.\n",
            "dataset of size 400000\n",
            "cmgf took 6.035227060317993 seconds.\n",
            "one-pass sgd took 0.39856982231140137 seconds.\n",
            "multi-pass sgd took 3.483252763748169 seconds.\n",
            "dataset of size 500000\n",
            "cmgf took 9.370238304138184 seconds.\n",
            "one-pass sgd took 0.48474693298339844 seconds.\n",
            "multi-pass sgd took 3.519075632095337 seconds.\n",
            "dataset of size 600000\n",
            "cmgf took 9.370378494262695 seconds.\n",
            "one-pass sgd took 0.5838074684143066 seconds.\n",
            "multi-pass sgd took 3.9893910884857178 seconds.\n",
            "dataset of size 700000\n",
            "cmgf took 10.718297243118286 seconds.\n",
            "one-pass sgd took 1.2101385593414307 seconds.\n",
            "multi-pass sgd took 5.2551538944244385 seconds.\n",
            "dataset of size 800000\n",
            "cmgf took 10.770354270935059 seconds.\n",
            "one-pass sgd took 0.7756271362304688 seconds.\n",
            "multi-pass sgd took 5.256814479827881 seconds.\n",
            "dataset of size 900000\n",
            "cmgf took 10.94845700263977 seconds.\n",
            "one-pass sgd took 0.8630740642547607 seconds.\n",
            "multi-pass sgd took 6.365302085876465 seconds.\n"
          ]
        }
      ]
    },
    {
      "cell_type": "code",
      "source": [
        "# Plot the result\n",
        "fig, ax = plt.subplots()\n",
        "ax.plot(data_size_grid, cmgf_times, label='CMGF-EKF')\n",
        "ax.plot(data_size_grid, sgd_op_times, label='SGD (single pass)')\n",
        "ax.plot(data_size_grid, sgd_mp_times, label='SGD (multi pass)')\n",
        "ax.set_xlabel('Dataset size')\n",
        "ax.set_ylabel('Train time in s')\n",
        "ax.set_title('Train speed vs dataset size (CMGF vs SGD)')\n",
        "ax.legend();\n",
        "plt.show()"
      ],
      "metadata": {
        "id": "xphGBYR0w9Zw",
        "outputId": "bc37b747-336a-4401-9d09-99d17907918b",
        "colab": {
          "base_uri": "https://localhost:8080/",
          "height": 295
        }
      },
      "execution_count": 14,
      "outputs": [
        {
          "output_type": "display_data",
          "data": {
            "text/plain": [
              "<Figure size 432x288 with 1 Axes>"
            ],
            "image/png": "[encoded data removed]"
          },
          "metadata": {
            "needs_background": "light"
          }
        }
      ]
    },
    {
      "cell_type": "code",
      "source": [
        "num_points = 1000\n",
        "class_range = range(2, 19)\n",
        "n_splits = 5\n",
        "\n",
        "cmgf_accuracies, sgd_onepass_accuracies, sgd_multipass_accuracies = [], [], []\n",
        "for num_classes in class_range:\n",
        "    print(f'{num_points} data points, {num_classes} classes.')\n",
        "    \n",
        "    # Initialize estimators\n",
        "    cmgf_est = CMGFOneVsAllEstimator(EKFParams)\n",
        "    sgd_op_est = SGDClassifier(loss='log', max_iter=1)\n",
        "    sgd_mp_est = SGDClassifier(loss='log')\n",
        "    \n",
        "    # Compute cv average scores\n",
        "    cmgf_ac = compute_cv_avg_score(cmgf_est, num_points, num_classes, n_splits=n_splits)\n",
        "    cmgf_accuracies.append(cmgf_ac)\n",
        "    print(f'EKF-CMGF estimate average accuracy = {cmgf_ac}')\n",
        "    sgd_op_ac = compute_cv_avg_score(sgd_op_est, num_points, num_classes, n_splits=n_splits)\n",
        "    sgd_onepass_accuracies.append(sgd_op_ac)\n",
        "    print(f'One-pass sgd estimate average accuracy = {sgd_op_ac}')\n",
        "    sgd_mp_ac = compute_cv_avg_score(sgd_mp_est, num_points, num_classes, n_splits=n_splits)\n",
        "    sgd_multipass_accuracies.append(sgd_mp_ac)\n",
        "    print(f'Multi-pass sgd estimate average accuracy = {sgd_mp_ac}')"
      ],
      "metadata": {
        "id": "SDbnP3TvfbPJ",
        "outputId": "d1848bf2-13e9-4f54-a518-45aad7a83aa7",
        "colab": {
          "base_uri": "https://localhost:8080/"
        }
      },
      "execution_count": 15,
      "outputs": [
        {
          "output_type": "stream",
          "name": "stdout",
          "text": [
            "1000 data points, 2 classes.\n",
            "EKF-CMGF estimate average accuracy = 0.7190000000000001\n",
            "One-pass sgd estimate average accuracy = 0.659\n",
            "Multi-pass sgd estimate average accuracy = 0.6819999999999999\n",
            "1000 data points, 3 classes.\n",
            "EKF-CMGF estimate average accuracy = 0.69\n",
            "One-pass sgd estimate average accuracy = 0.595\n",
            "Multi-pass sgd estimate average accuracy = 0.654\n",
            "1000 data points, 4 classes.\n",
            "EKF-CMGF estimate average accuracy = 0.557\n",
            "One-pass sgd estimate average accuracy = 0.441\n",
            "Multi-pass sgd estimate average accuracy = 0.516\n",
            "1000 data points, 5 classes.\n",
            "EKF-CMGF estimate average accuracy = 0.601\n",
            "One-pass sgd estimate average accuracy = 0.46399999999999997\n",
            "Multi-pass sgd estimate average accuracy = 0.525\n",
            "1000 data points, 6 classes.\n",
            "EKF-CMGF estimate average accuracy = 0.4640000000000001\n",
            "One-pass sgd estimate average accuracy = 0.316\n",
            "Multi-pass sgd estimate average accuracy = 0.37300000000000005\n",
            "1000 data points, 7 classes.\n",
            "EKF-CMGF estimate average accuracy = 0.43299999999999994\n",
            "One-pass sgd estimate average accuracy = 0.302\n",
            "Multi-pass sgd estimate average accuracy = 0.348\n",
            "1000 data points, 8 classes.\n",
            "EKF-CMGF estimate average accuracy = 0.362\n",
            "One-pass sgd estimate average accuracy = 0.236\n",
            "Multi-pass sgd estimate average accuracy = 0.28800000000000003\n",
            "1000 data points, 9 classes.\n",
            "EKF-CMGF estimate average accuracy = 0.42300000000000004\n",
            "One-pass sgd estimate average accuracy = 0.265\n",
            "Multi-pass sgd estimate average accuracy = 0.341\n",
            "1000 data points, 10 classes.\n",
            "EKF-CMGF estimate average accuracy = 0.36599999999999994\n",
            "One-pass sgd estimate average accuracy = 0.227\n",
            "Multi-pass sgd estimate average accuracy = 0.29100000000000004\n",
            "1000 data points, 11 classes.\n",
            "EKF-CMGF estimate average accuracy = 0.346\n",
            "One-pass sgd estimate average accuracy = 0.19999999999999998\n",
            "Multi-pass sgd estimate average accuracy = 0.275\n",
            "1000 data points, 12 classes.\n",
            "EKF-CMGF estimate average accuracy = 0.286\n",
            "One-pass sgd estimate average accuracy = 0.188\n",
            "Multi-pass sgd estimate average accuracy = 0.22799999999999998\n",
            "1000 data points, 13 classes.\n",
            "EKF-CMGF estimate average accuracy = 0.268\n",
            "One-pass sgd estimate average accuracy = 0.18099999999999997\n",
            "Multi-pass sgd estimate average accuracy = 0.231\n",
            "1000 data points, 14 classes.\n",
            "EKF-CMGF estimate average accuracy = 0.276\n",
            "One-pass sgd estimate average accuracy = 0.197\n",
            "Multi-pass sgd estimate average accuracy = 0.21400000000000002\n",
            "1000 data points, 15 classes.\n",
            "EKF-CMGF estimate average accuracy = 0.26499999999999996\n",
            "One-pass sgd estimate average accuracy = 0.174\n",
            "Multi-pass sgd estimate average accuracy = 0.197\n",
            "1000 data points, 16 classes.\n",
            "EKF-CMGF estimate average accuracy = 0.24500000000000002\n",
            "One-pass sgd estimate average accuracy = 0.14400000000000002\n",
            "Multi-pass sgd estimate average accuracy = 0.18\n",
            "1000 data points, 17 classes.\n",
            "EKF-CMGF estimate average accuracy = 0.233\n",
            "One-pass sgd estimate average accuracy = 0.154\n",
            "Multi-pass sgd estimate average accuracy = 0.169\n",
            "1000 data points, 18 classes.\n",
            "EKF-CMGF estimate average accuracy = 0.266\n",
            "One-pass sgd estimate average accuracy = 0.181\n",
            "Multi-pass sgd estimate average accuracy = 0.202\n"
          ]
        }
      ]
    },
    {
      "cell_type": "code",
      "source": [
        "# Plot result\n",
        "fig, ax = plt.subplots()\n",
        "ax.plot(class_range, cmgf_accuracies, 'r', label='CMGF-EKF (one-vs-all)')\n",
        "ax.plot(class_range, sgd_onepass_accuracies, 'y', label='SGD (single-pass)')\n",
        "ax.plot(class_range, sgd_multipass_accuracies, 'b--', label='SGD (multi-pass)')\n",
        "ax.set_xticks(class_range)\n",
        "ax.set_xlabel('Number of output classes')\n",
        "ax.set_ylabel(f'{n_splits}-fold cv average accuracy')\n",
        "ax.set_title(f'{n_splits}-fold cv accuracy (CMGF (one-vs-all) vs SGD )')\n",
        "ax.legend();"
      ],
      "metadata": {
        "id": "yzVx2UTCsdGj",
        "outputId": "82215c2d-f2ac-47e4-fd69-2bf1d2bdb0c7",
        "colab": {
          "base_uri": "https://localhost:8080/",
          "height": 295
        }
      },
      "execution_count": 16,
      "outputs": [
        {
          "output_type": "display_data",
          "data": {
            "text/plain": [
              "<Figure size 432x288 with 1 Axes>"
            ],
            "image/png": "[encoded data removed]"
          },
          "metadata": {
            "needs_background": "light"
          }
        }
      ]
    },
    {
      "cell_type": "markdown",
      "source": [
        "#5. Statistical and Computational Efficiency Comparison with SGD"
      ],
      "metadata": {
        "id": "-RH7cM29Qbra"
      }
    },
    {
      "cell_type": "markdown",
      "source": [
        "We compare the [statistical and computational efficiencies](https://mc-stan.org/docs/2_22/stan-users-guide/statistical-vs-computational-efficiency.html) of CMGF with those of one-pass and multi-pass SGD.\n",
        "\n",
        "We use 5-fold CV with `scoring='neg_log_loss'` to compute average log-likelihood score."
      ],
      "metadata": {
        "id": "mXyY7b0ORAuj"
      }
    },
    {
      "cell_type": "code",
      "source": [
        "data_size_grid = list(range(20, 100, 20)) + list(range(100, 1000, 100)) + list(range(1000, 10000, 1000))"
      ],
      "metadata": {
        "id": "e1gHaYP5pVta"
      },
      "execution_count": 27,
      "outputs": []
    },
    {
      "cell_type": "markdown",
      "source": [
        "First, we try `num_classes=2`."
      ],
      "metadata": {
        "id": "C41_K4kFpufs"
      }
    },
    {
      "cell_type": "code",
      "source": [
        "num_classes = 2\n",
        "n_splits = 5\n",
        "\n",
        "cmgf_logliks, sgd_onepass_logliks, sgd_multipass_logliks = [], [], []\n",
        "cmgf_times, sgd_op_times, sgd_mp_times = [], [], []\n",
        "simplefilter(\"ignore\", category=ConvergenceWarning)\n",
        "\n",
        "for num_points in data_size_grid:\n",
        "    print(f'{num_points} data points, {num_classes} classes.')\n",
        "    \n",
        "    # Initialize estimators\n",
        "    cmgf_est = CMGFEstimator(EKFParams)\n",
        "    sgd_op_est = SGDClassifier(loss='log', max_iter=1)\n",
        "    sgd_mp_est = SGDClassifier(loss='log')\n",
        "    \n",
        "    # Compute cv average scores\n",
        "    start = time.time()\n",
        "    cmgf_ll = compute_cv_avg_score(cmgf_est, num_points, num_classes, n_splits=n_splits, scoring='neg_log_loss')\n",
        "    cmgf_time = time.time() - start\n",
        "    cmgf_logliks.append(cmgf_ll)\n",
        "    cmgf_times.append(cmgf_time)\n",
        "    print(f'EKF-CMGF estimate average per-sample log-likelihood = {cmgf_ll}')\n",
        "    print(f'cmgf took {cmgf_time} seconds.')\n",
        "\n",
        "    start = time.time()\n",
        "    sgd_op_ll = compute_cv_avg_score(sgd_op_est, num_points, num_classes, n_splits=n_splits, scoring='neg_log_loss')\n",
        "    sgd_op_time = time.time() - start\n",
        "    sgd_onepass_logliks.append(sgd_op_ll)\n",
        "    sgd_op_times.append(sgd_op_time)\n",
        "    print(f'One-pass sgd estimate average per-sample log-likelihood = {sgd_op_ll}')\n",
        "    print(f'one-pass sgd took {sgd_op_time} seconds.')\n",
        "\n",
        "    start = time.time()\n",
        "    sgd_mp_ll = compute_cv_avg_score(sgd_mp_est, num_points, num_classes, n_splits=n_splits, scoring='neg_log_loss')\n",
        "    sgd_mp_time = time.time() - start\n",
        "    sgd_multipass_logliks.append(sgd_mp_ll)\n",
        "    sgd_mp_times.append(sgd_mp_time)\n",
        "    print(f'Multi-pass sgd estimate average per-sample log-likelihood = {sgd_mp_ll}')\n",
        "    print(f'multi-pass sgd took {sgd_mp_time} seconds.')"
      ],
      "metadata": {
        "id": "_4fpVBKKpa2Y",
        "outputId": "5394e17b-c44a-49e7-ca9c-bc2a71874334",
        "colab": {
          "base_uri": "https://localhost:8080/"
        }
      },
      "execution_count": 52,
      "outputs": [
        {
          "output_type": "stream",
          "name": "stdout",
          "text": [
            "150 data points, 2 classes.\n",
            "EKF-CMGF estimate average per-sample log-likelihood = -0.5900775583585103\n",
            "cmgf took 4.68778920173645 seconds.\n",
            "One-pass sgd estimate average per-sample log-likelihood = -4.53335349062879\n",
            "one-pass sgd took 0.019616127014160156 seconds.\n",
            "Multi-pass sgd estimate average per-sample log-likelihood = -1.6552696255587602\n",
            "multi-pass sgd took 0.018758296966552734 seconds.\n",
            "250 data points, 2 classes.\n",
            "EKF-CMGF estimate average per-sample log-likelihood = -0.599076651185751\n",
            "cmgf took 3.8405675888061523 seconds.\n",
            "One-pass sgd estimate average per-sample log-likelihood = -4.4330372174323545\n",
            "one-pass sgd took 0.017893314361572266 seconds.\n",
            "Multi-pass sgd estimate average per-sample log-likelihood = -0.9463959750659274\n",
            "multi-pass sgd took 0.022630691528320312 seconds.\n",
            "350 data points, 2 classes.\n",
            "EKF-CMGF estimate average per-sample log-likelihood = -0.5810717230609485\n",
            "cmgf took 4.656940698623657 seconds.\n",
            "One-pass sgd estimate average per-sample log-likelihood = -3.1583693215500057\n",
            "one-pass sgd took 0.06856703758239746 seconds.\n",
            "Multi-pass sgd estimate average per-sample log-likelihood = -0.866530550868986\n",
            "multi-pass sgd took 0.062174320220947266 seconds.\n",
            "450 data points, 2 classes.\n",
            "EKF-CMGF estimate average per-sample log-likelihood = -0.6409548392064042\n",
            "cmgf took 5.144408464431763 seconds.\n",
            "One-pass sgd estimate average per-sample log-likelihood = -5.914102855444691\n",
            "one-pass sgd took 0.026308774948120117 seconds.\n",
            "Multi-pass sgd estimate average per-sample log-likelihood = -0.8165639747136014\n",
            "multi-pass sgd took 0.039492130279541016 seconds.\n",
            "550 data points, 2 classes.\n",
            "EKF-CMGF estimate average per-sample log-likelihood = -0.6124698098918253\n",
            "cmgf took 4.200468301773071 seconds.\n",
            "One-pass sgd estimate average per-sample log-likelihood = -4.554632300796949\n",
            "one-pass sgd took 0.01982569694519043 seconds.\n",
            "Multi-pass sgd estimate average per-sample log-likelihood = -0.7306494679661608\n",
            "multi-pass sgd took 0.03168940544128418 seconds.\n",
            "650 data points, 2 classes.\n",
            "EKF-CMGF estimate average per-sample log-likelihood = -0.6458360767249878\n",
            "cmgf took 3.9394729137420654 seconds.\n",
            "One-pass sgd estimate average per-sample log-likelihood = -5.573006186911829\n",
            "one-pass sgd took 0.01996469497680664 seconds.\n",
            "Multi-pass sgd estimate average per-sample log-likelihood = -0.7435823588644812\n",
            "multi-pass sgd took 0.03416275978088379 seconds.\n",
            "750 data points, 2 classes.\n",
            "EKF-CMGF estimate average per-sample log-likelihood = -0.6283858782052993\n",
            "cmgf took 4.00553297996521 seconds.\n",
            "One-pass sgd estimate average per-sample log-likelihood = -6.278831080706982\n",
            "one-pass sgd took 0.01927018165588379 seconds.\n",
            "Multi-pass sgd estimate average per-sample log-likelihood = -0.6875555506992226\n",
            "multi-pass sgd took 0.04188179969787598 seconds.\n",
            "850 data points, 2 classes.\n",
            "EKF-CMGF estimate average per-sample log-likelihood = -0.5177359075463541\n",
            "cmgf took 3.9262020587921143 seconds.\n",
            "One-pass sgd estimate average per-sample log-likelihood = -4.1844524399272816\n",
            "one-pass sgd took 0.019690513610839844 seconds.\n",
            "Multi-pass sgd estimate average per-sample log-likelihood = -0.5571806844398738\n",
            "multi-pass sgd took 0.0385594367980957 seconds.\n",
            "950 data points, 2 classes.\n",
            "EKF-CMGF estimate average per-sample log-likelihood = -0.6056071458992205\n",
            "cmgf took 3.9661905765533447 seconds.\n",
            "One-pass sgd estimate average per-sample log-likelihood = -5.211250399943072\n",
            "one-pass sgd took 0.0259401798248291 seconds.\n",
            "Multi-pass sgd estimate average per-sample log-likelihood = -0.6556013763205787\n",
            "multi-pass sgd took 0.046712398529052734 seconds.\n",
            "1000 data points, 2 classes.\n",
            "EKF-CMGF estimate average per-sample log-likelihood = -0.5439235010109842\n",
            "cmgf took 3.705862522125244 seconds.\n",
            "One-pass sgd estimate average per-sample log-likelihood = -3.9228309156693277\n",
            "one-pass sgd took 0.020550966262817383 seconds.\n",
            "Multi-pass sgd estimate average per-sample log-likelihood = -0.6317650577339181\n",
            "multi-pass sgd took 0.042482852935791016 seconds.\n",
            "2000 data points, 2 classes.\n",
            "EKF-CMGF estimate average per-sample log-likelihood = -0.6088900592485442\n",
            "cmgf took 3.669248104095459 seconds.\n",
            "One-pass sgd estimate average per-sample log-likelihood = -2.288752122718828\n",
            "one-pass sgd took 0.02182149887084961 seconds.\n",
            "Multi-pass sgd estimate average per-sample log-likelihood = -0.6237519839596545\n",
            "multi-pass sgd took 0.06421923637390137 seconds.\n",
            "3000 data points, 2 classes.\n",
            "EKF-CMGF estimate average per-sample log-likelihood = -0.6187783275581896\n",
            "cmgf took 3.7133231163024902 seconds.\n",
            "One-pass sgd estimate average per-sample log-likelihood = -2.089605268654931\n",
            "one-pass sgd took 0.026530027389526367 seconds.\n",
            "Multi-pass sgd estimate average per-sample log-likelihood = -0.6461726984162267\n",
            "multi-pass sgd took 0.10887575149536133 seconds.\n",
            "4000 data points, 2 classes.\n",
            "EKF-CMGF estimate average per-sample log-likelihood = -0.5940361193662975\n",
            "cmgf took 3.741567850112915 seconds.\n",
            "One-pass sgd estimate average per-sample log-likelihood = -2.043822337183428\n",
            "one-pass sgd took 0.02599024772644043 seconds.\n",
            "Multi-pass sgd estimate average per-sample log-likelihood = -0.6198943328206127\n",
            "multi-pass sgd took 0.1104269027709961 seconds.\n",
            "5000 data points, 2 classes.\n",
            "EKF-CMGF estimate average per-sample log-likelihood = -0.5721653892751782\n",
            "cmgf took 3.7116153240203857 seconds.\n",
            "One-pass sgd estimate average per-sample log-likelihood = -1.5460294831377912\n",
            "one-pass sgd took 0.02864670753479004 seconds.\n",
            "Multi-pass sgd estimate average per-sample log-likelihood = -0.5850168655734167\n",
            "multi-pass sgd took 0.11737895011901855 seconds.\n",
            "6000 data points, 2 classes.\n",
            "EKF-CMGF estimate average per-sample log-likelihood = -0.6284958705635121\n",
            "cmgf took 4.140342473983765 seconds.\n",
            "One-pass sgd estimate average per-sample log-likelihood = -1.32927140547209\n",
            "one-pass sgd took 0.03322196006774902 seconds.\n",
            "Multi-pass sgd estimate average per-sample log-likelihood = -0.6455622978460351\n",
            "multi-pass sgd took 0.13463759422302246 seconds.\n",
            "7000 data points, 2 classes.\n",
            "EKF-CMGF estimate average per-sample log-likelihood = -0.42369148975239873\n",
            "cmgf took 3.793336868286133 seconds.\n",
            "One-pass sgd estimate average per-sample log-likelihood = -0.8742072826130872\n",
            "one-pass sgd took 0.03322291374206543 seconds.\n",
            "Multi-pass sgd estimate average per-sample log-likelihood = -0.4339671244969579\n",
            "multi-pass sgd took 0.14047837257385254 seconds.\n",
            "8000 data points, 2 classes.\n",
            "EKF-CMGF estimate average per-sample log-likelihood = -0.5999222155767493\n",
            "cmgf took 3.8015995025634766 seconds.\n",
            "One-pass sgd estimate average per-sample log-likelihood = -0.9950245593460195\n",
            "one-pass sgd took 0.03490781784057617 seconds.\n",
            "Multi-pass sgd estimate average per-sample log-likelihood = -0.6045962840134014\n",
            "multi-pass sgd took 0.15877652168273926 seconds.\n",
            "9000 data points, 2 classes.\n",
            "EKF-CMGF estimate average per-sample log-likelihood = -0.5516187523855931\n",
            "cmgf took 3.869342565536499 seconds.\n",
            "One-pass sgd estimate average per-sample log-likelihood = -0.8312477326081161\n",
            "one-pass sgd took 0.04288935661315918 seconds.\n",
            "Multi-pass sgd estimate average per-sample log-likelihood = -0.5602435580043326\n",
            "multi-pass sgd took 0.2022247314453125 seconds.\n"
          ]
        }
      ]
    },
    {
      "cell_type": "code",
      "source": [
        "# Plot result\n",
        "fig, ax = plt.subplots()\n",
        "ax.plot(data_size_grid, cmgf_logliks, 'r', label='CMGF-EKF')\n",
        "ax.plot(data_size_grid, sgd_onepass_logliks, 'y', label='SGD (single-pass)')\n",
        "ax.plot(data_size_grid, sgd_multipass_logliks, 'b--', label='SGD (multi-pass)')\n",
        "ax.set_xlabel('size of dataset')\n",
        "ax.set_ylabel(f'{n_splits}-fold cv average accuracy')\n",
        "ax.set_title(f'{n_splits}-fold cv accuracy ({num_classes} classes)')\n",
        "ax.legend();"
      ],
      "metadata": {
        "id": "F69eMp7DXp1Q",
        "outputId": "f8442b89-2166-457a-ee9b-557fe0d366ca",
        "colab": {
          "base_uri": "https://localhost:8080/",
          "height": 295
        }
      },
      "execution_count": 39,
      "outputs": [
        {
          "output_type": "display_data",
          "data": {
            "text/plain": [
              "<Figure size 432x288 with 1 Axes>"
            ],
            "image/png": "[encoded data removed]"
          },
          "metadata": {
            "needs_background": "light"
          }
        }
      ]
    },
    {
      "cell_type": "code",
      "source": [
        "# Plot the result\n",
        "fig, ax = plt.subplots()\n",
        "ax.plot(cmgf_times, cmgf_logliks, label='CMGF-EKF')\n",
        "ax.plot(sgd_op_times, sgd_onepass_logliks, label='SGD (single pass)')\n",
        "ax.plot(sgd_mp_times, sgd_multipass_logliks, label='SGD (multi pass)')\n",
        "ax.set_xlabel('Train time in s')\n",
        "ax.set_ylabel(f'{n_splits}-fold cv average log-likelihood')\n",
        "ax.set_title('Train speed vs log-likelihood (CMGF vs SGD)')\n",
        "ax.legend();\n",
        "plt.show()"
      ],
      "metadata": {
        "id": "XSO2c1rk7cO5",
        "outputId": "43a02192-8688-41cb-b204-fb65938d75c3",
        "colab": {
          "base_uri": "https://localhost:8080/",
          "height": 295
        }
      },
      "execution_count": 53,
      "outputs": [
        {
          "output_type": "display_data",
          "data": {
            "text/plain": [
              "<Figure size 432x288 with 1 Axes>"
            ],
            "image/png": "[encoded data removed]"
          },
          "metadata": {
            "needs_background": "light"
          }
        }
      ]
    },
    {
      "cell_type": "markdown",
      "source": [
        "Next, we try 4 classes"
      ],
      "metadata": {
        "id": "VM0dqAZ_2Z5L"
      }
    },
    {
      "cell_type": "code",
      "source": [
        "data_size_grid = list(range(60, 100, 20)) + list(range(100, 1000, 100)) + list(range(1000, 10000, 1000))"
      ],
      "metadata": {
        "id": "__JxBPoI2e57"
      },
      "execution_count": 44,
      "outputs": []
    },
    {
      "cell_type": "code",
      "source": [
        "num_classes = 4\n",
        "n_splits = 5\n",
        "\n",
        "cmgf_logliks, sgd_onepass_logliks, sgd_multipass_logliks = [], [], []\n",
        "simplefilter(\"ignore\", category=ConvergenceWarning)\n",
        "for num_points in data_size_grid:\n",
        "    print(f'{num_points} data points, {num_classes} classes.')\n",
        "    \n",
        "    # Initialize estimators\n",
        "    cmgf_est = CMGFEstimator(EKFParams)\n",
        "    sgd_op_est = SGDClassifier(loss='log', max_iter=1)\n",
        "    sgd_mp_est = SGDClassifier(loss='log')\n",
        "    \n",
        "    # Compute cv average scores\n",
        "    cmgf_ll = compute_cv_avg_score(cmgf_est, num_points, num_classes, n_splits=n_splits, scoring='neg_log_loss')\n",
        "    cmgf_logliks.append(cmgf_ll)\n",
        "    print(f'EKF-CMGF estimate average per-sample log-likelihood = {cmgf_ll}')\n",
        "    sgd_op_ll = compute_cv_avg_score(sgd_op_est, num_points, num_classes, n_splits=n_splits, scoring='neg_log_loss')\n",
        "    sgd_onepass_logliks.append(sgd_op_ll)\n",
        "    print(f'One-pass sgd estimate average per-sample log-likelihood = {sgd_op_ll}')\n",
        "    sgd_mp_ll = compute_cv_avg_score(sgd_mp_est, num_points, num_classes, n_splits=n_splits, scoring='neg_log_loss')\n",
        "    sgd_multipass_logliks.append(sgd_mp_ll)\n",
        "    print(f'Multi-pass sgd estimate average per-sample log-likelihood = {sgd_mp_ll}')"
      ],
      "metadata": {
        "id": "FZdrGH9K2Oin",
        "outputId": "0492946d-3dc0-4518-8b81-5f130c30f139",
        "colab": {
          "base_uri": "https://localhost:8080/"
        }
      },
      "execution_count": 45,
      "outputs": [
        {
          "output_type": "stream",
          "name": "stdout",
          "text": [
            "60 data points, 4 classes.\n",
            "EKF-CMGF estimate average per-sample log-likelihood = -1.3658468030393123\n",
            "One-pass sgd estimate average per-sample log-likelihood = -13.751871568727125\n",
            "Multi-pass sgd estimate average per-sample log-likelihood = -8.933542245564537\n",
            "80 data points, 4 classes.\n",
            "EKF-CMGF estimate average per-sample log-likelihood = -1.1990131072700023\n",
            "One-pass sgd estimate average per-sample log-likelihood = -10.820047870845253\n",
            "Multi-pass sgd estimate average per-sample log-likelihood = -8.382061818167523\n",
            "100 data points, 4 classes.\n",
            "EKF-CMGF estimate average per-sample log-likelihood = -1.1242235231399538\n",
            "One-pass sgd estimate average per-sample log-likelihood = -11.665687874186316\n",
            "Multi-pass sgd estimate average per-sample log-likelihood = -6.9021825496079545\n",
            "200 data points, 4 classes.\n",
            "EKF-CMGF estimate average per-sample log-likelihood = -1.0761162827163935\n",
            "One-pass sgd estimate average per-sample log-likelihood = -12.44146026823677\n",
            "Multi-pass sgd estimate average per-sample log-likelihood = -3.889503068824618\n",
            "300 data points, 4 classes.\n",
            "EKF-CMGF estimate average per-sample log-likelihood = -1.025031237291793\n",
            "One-pass sgd estimate average per-sample log-likelihood = -9.383087531190457\n",
            "Multi-pass sgd estimate average per-sample log-likelihood = -1.8143816897793965\n",
            "400 data points, 4 classes.\n",
            "EKF-CMGF estimate average per-sample log-likelihood = -0.9780324681196362\n",
            "One-pass sgd estimate average per-sample log-likelihood = -9.453948655120096\n",
            "Multi-pass sgd estimate average per-sample log-likelihood = -1.3217227044717699\n",
            "500 data points, 4 classes.\n",
            "EKF-CMGF estimate average per-sample log-likelihood = -1.1712101713865997\n",
            "One-pass sgd estimate average per-sample log-likelihood = -8.53032239169444\n",
            "Multi-pass sgd estimate average per-sample log-likelihood = -1.6089443378641488\n",
            "600 data points, 4 classes.\n",
            "EKF-CMGF estimate average per-sample log-likelihood = -1.0294575211654107\n",
            "One-pass sgd estimate average per-sample log-likelihood = -8.238501624041882\n",
            "Multi-pass sgd estimate average per-sample log-likelihood = -1.2349960772974256\n",
            "700 data points, 4 classes.\n",
            "EKF-CMGF estimate average per-sample log-likelihood = -1.058014825215297\n",
            "One-pass sgd estimate average per-sample log-likelihood = -8.673222539675937\n",
            "Multi-pass sgd estimate average per-sample log-likelihood = -1.2591974489535862\n",
            "800 data points, 4 classes.\n",
            "EKF-CMGF estimate average per-sample log-likelihood = -1.1422117956215516\n",
            "One-pass sgd estimate average per-sample log-likelihood = -10.409597543475309\n",
            "Multi-pass sgd estimate average per-sample log-likelihood = -1.3180661285681283\n",
            "900 data points, 4 classes.\n",
            "EKF-CMGF estimate average per-sample log-likelihood = -1.0876126864428322\n",
            "One-pass sgd estimate average per-sample log-likelihood = -8.897792167074225\n",
            "Multi-pass sgd estimate average per-sample log-likelihood = -1.269411411993886\n",
            "1000 data points, 4 classes.\n",
            "EKF-CMGF estimate average per-sample log-likelihood = -1.0364828056013211\n",
            "One-pass sgd estimate average per-sample log-likelihood = -8.513392923571518\n",
            "Multi-pass sgd estimate average per-sample log-likelihood = -1.1896435241647993\n",
            "2000 data points, 4 classes.\n",
            "EKF-CMGF estimate average per-sample log-likelihood = -1.0616647096108645\n",
            "One-pass sgd estimate average per-sample log-likelihood = -6.215659572533509\n",
            "Multi-pass sgd estimate average per-sample log-likelihood = -1.120736767013636\n",
            "3000 data points, 4 classes.\n",
            "EKF-CMGF estimate average per-sample log-likelihood = -1.0807816035915168\n",
            "One-pass sgd estimate average per-sample log-likelihood = -6.525958121838132\n",
            "Multi-pass sgd estimate average per-sample log-likelihood = -1.1403275568245488\n",
            "4000 data points, 4 classes.\n",
            "EKF-CMGF estimate average per-sample log-likelihood = -1.0318968852341641\n",
            "One-pass sgd estimate average per-sample log-likelihood = -3.6322723593428834\n",
            "Multi-pass sgd estimate average per-sample log-likelihood = -1.066745159058295\n",
            "5000 data points, 4 classes.\n",
            "EKF-CMGF estimate average per-sample log-likelihood = -1.0424374562740326\n",
            "One-pass sgd estimate average per-sample log-likelihood = -2.8148507778046556\n",
            "Multi-pass sgd estimate average per-sample log-likelihood = -1.053882952783144\n",
            "6000 data points, 4 classes.\n",
            "EKF-CMGF estimate average per-sample log-likelihood = -1.086802569012468\n",
            "One-pass sgd estimate average per-sample log-likelihood = -3.0201550929555543\n",
            "Multi-pass sgd estimate average per-sample log-likelihood = -1.1159585854551974\n",
            "7000 data points, 4 classes.\n",
            "EKF-CMGF estimate average per-sample log-likelihood = -1.0951545198587034\n",
            "One-pass sgd estimate average per-sample log-likelihood = -2.643218998069721\n",
            "Multi-pass sgd estimate average per-sample log-likelihood = -1.1278073111508191\n",
            "8000 data points, 4 classes.\n",
            "EKF-CMGF estimate average per-sample log-likelihood = -1.029741721177532\n",
            "One-pass sgd estimate average per-sample log-likelihood = -2.1431888609320326\n",
            "Multi-pass sgd estimate average per-sample log-likelihood = -1.083443275628238\n",
            "9000 data points, 4 classes.\n",
            "EKF-CMGF estimate average per-sample log-likelihood = -1.0773430016465588\n",
            "One-pass sgd estimate average per-sample log-likelihood = -2.284595487363383\n",
            "Multi-pass sgd estimate average per-sample log-likelihood = -1.1050368373358785\n"
          ]
        }
      ]
    },
    {
      "cell_type": "code",
      "source": [
        "# Plot result\n",
        "fig, ax = plt.subplots()\n",
        "ax.plot(data_size_grid, cmgf_logliks, 'r', label='CMGF-EKF')\n",
        "ax.plot(data_size_grid, sgd_onepass_logliks, 'y', label='SGD (single-pass)')\n",
        "ax.plot(data_size_grid, sgd_multipass_logliks, 'b--', label='SGD (multi-pass)')\n",
        "ax.set_xlabel('size of dataset')\n",
        "ax.set_ylabel(f'{n_splits}-fold cv average accuracy')\n",
        "ax.set_title(f'{n_splits}-fold cv accuracy ({num_classes} classes)')\n",
        "ax.legend();"
      ],
      "metadata": {
        "id": "xxpWXcdH2gGP",
        "outputId": "3d771fcf-faa3-4893-c488-5b7af7c7c116",
        "colab": {
          "base_uri": "https://localhost:8080/",
          "height": 295
        }
      },
      "execution_count": 46,
      "outputs": [
        {
          "output_type": "display_data",
          "data": {
            "text/plain": [
              "<Figure size 432x288 with 1 Axes>"
            ],
            "image/png": "[encoded data removed]"
          },
          "metadata": {
            "needs_background": "light"
          }
        }
      ]
    },
    {
      "cell_type": "markdown",
      "source": [
        "Finally, we try 10 classes."
      ],
      "metadata": {
        "id": "h6yFGmiE3WoQ"
      }
    },
    {
      "cell_type": "code",
      "source": [
        "data_size_grid = list(range(150, 1000, 100)) + list(range(1000, 10000, 1000))"
      ],
      "metadata": {
        "id": "BXvft6fm3aDu"
      },
      "execution_count": 49,
      "outputs": []
    },
    {
      "cell_type": "code",
      "source": [
        "num_classes = 10\n",
        "n_splits = 5\n",
        "\n",
        "cmgf_logliks, sgd_onepass_logliks, sgd_multipass_logliks = [], [], []\n",
        "simplefilter(\"ignore\", category=ConvergenceWarning)\n",
        "for num_points in data_size_grid:\n",
        "    print(f'{num_points} data points, {num_classes} classes.')\n",
        "    \n",
        "    # Initialize estimators\n",
        "    cmgf_est = CMGFEstimator(EKFParams)\n",
        "    sgd_op_est = SGDClassifier(loss='log', max_iter=1)\n",
        "    sgd_mp_est = SGDClassifier(loss='log')\n",
        "    \n",
        "    # Compute cv average scores\n",
        "    cmgf_ll = compute_cv_avg_score(cmgf_est, num_points, num_classes, n_splits=n_splits, scoring='neg_log_loss')\n",
        "    cmgf_logliks.append(cmgf_ll)\n",
        "    print(f'EKF-CMGF estimate average per-sample log-likelihood = {cmgf_ll}')\n",
        "    sgd_op_ll = compute_cv_avg_score(sgd_op_est, num_points, num_classes, n_splits=n_splits, scoring='neg_log_loss')\n",
        "    sgd_onepass_logliks.append(sgd_op_ll)\n",
        "    print(f'One-pass sgd estimate average per-sample log-likelihood = {sgd_op_ll}')\n",
        "    sgd_mp_ll = compute_cv_avg_score(sgd_mp_est, num_points, num_classes, n_splits=n_splits, scoring='neg_log_loss')\n",
        "    sgd_multipass_logliks.append(sgd_mp_ll)\n",
        "    print(f'Multi-pass sgd estimate average per-sample log-likelihood = {sgd_mp_ll}')"
      ],
      "metadata": {
        "id": "4ZTw7EtK3QEe",
        "outputId": "692a9d77-adbc-4463-b6d5-51cb2ea547c7",
        "colab": {
          "base_uri": "https://localhost:8080/"
        }
      },
      "execution_count": 50,
      "outputs": [
        {
          "output_type": "stream",
          "name": "stdout",
          "text": [
            "150 data points, 10 classes.\n",
            "EKF-CMGF estimate average per-sample log-likelihood = -2.220562877940635\n",
            "One-pass sgd estimate average per-sample log-likelihood = -20.61958856188619\n",
            "Multi-pass sgd estimate average per-sample log-likelihood = -13.773794588066433\n",
            "250 data points, 10 classes.\n",
            "EKF-CMGF estimate average per-sample log-likelihood = -2.2777299651801584\n",
            "One-pass sgd estimate average per-sample log-likelihood = -24.057289260994956\n",
            "Multi-pass sgd estimate average per-sample log-likelihood = -9.455163039021736\n",
            "350 data points, 10 classes.\n",
            "EKF-CMGF estimate average per-sample log-likelihood = -2.042834940701723\n",
            "One-pass sgd estimate average per-sample log-likelihood = -22.041087097961224\n",
            "Multi-pass sgd estimate average per-sample log-likelihood = -5.842910608320743\n",
            "450 data points, 10 classes.\n",
            "EKF-CMGF estimate average per-sample log-likelihood = -1.8853543150011038\n",
            "One-pass sgd estimate average per-sample log-likelihood = -20.313683275905962\n",
            "Multi-pass sgd estimate average per-sample log-likelihood = -3.8728705957284966\n",
            "550 data points, 10 classes.\n",
            "EKF-CMGF estimate average per-sample log-likelihood = -1.9196422133933413\n",
            "One-pass sgd estimate average per-sample log-likelihood = -21.421620489953504\n",
            "Multi-pass sgd estimate average per-sample log-likelihood = -2.97250293504668\n",
            "650 data points, 10 classes.\n",
            "EKF-CMGF estimate average per-sample log-likelihood = -1.9304505625367168\n",
            "One-pass sgd estimate average per-sample log-likelihood = -20.34860775830233\n",
            "Multi-pass sgd estimate average per-sample log-likelihood = -2.8737287387136385\n",
            "750 data points, 10 classes.\n",
            "EKF-CMGF estimate average per-sample log-likelihood = -1.7736971796154974\n",
            "One-pass sgd estimate average per-sample log-likelihood = -20.25608774406836\n",
            "Multi-pass sgd estimate average per-sample log-likelihood = -2.416253235654981\n",
            "850 data points, 10 classes.\n",
            "EKF-CMGF estimate average per-sample log-likelihood = -1.7897411187540961\n",
            "One-pass sgd estimate average per-sample log-likelihood = -18.955576279939567\n",
            "Multi-pass sgd estimate average per-sample log-likelihood = -2.401705407094636\n",
            "950 data points, 10 classes.\n",
            "EKF-CMGF estimate average per-sample log-likelihood = -1.8162609783442398\n",
            "One-pass sgd estimate average per-sample log-likelihood = -19.4817127313297\n",
            "Multi-pass sgd estimate average per-sample log-likelihood = -2.2258130882301264\n",
            "1000 data points, 10 classes.\n",
            "EKF-CMGF estimate average per-sample log-likelihood = -1.7979869986176493\n",
            "One-pass sgd estimate average per-sample log-likelihood = -18.543200731002617\n",
            "Multi-pass sgd estimate average per-sample log-likelihood = -2.319947325618623\n",
            "2000 data points, 10 classes.\n",
            "EKF-CMGF estimate average per-sample log-likelihood = -1.8095978214619681\n",
            "One-pass sgd estimate average per-sample log-likelihood = -16.905884314525856\n",
            "Multi-pass sgd estimate average per-sample log-likelihood = -2.010317435570488\n",
            "3000 data points, 10 classes.\n",
            "EKF-CMGF estimate average per-sample log-likelihood = -1.7888184956957898\n",
            "One-pass sgd estimate average per-sample log-likelihood = -13.868167219625562\n",
            "Multi-pass sgd estimate average per-sample log-likelihood = -1.9198629107564955\n",
            "4000 data points, 10 classes.\n",
            "EKF-CMGF estimate average per-sample log-likelihood = -1.7711934844199568\n",
            "One-pass sgd estimate average per-sample log-likelihood = -12.664361552493252\n",
            "Multi-pass sgd estimate average per-sample log-likelihood = -1.8567004699959\n",
            "5000 data points, 10 classes.\n",
            "EKF-CMGF estimate average per-sample log-likelihood = -1.7385010148748754\n",
            "One-pass sgd estimate average per-sample log-likelihood = -11.404303062707879\n",
            "Multi-pass sgd estimate average per-sample log-likelihood = -1.8463943228733268\n",
            "6000 data points, 10 classes.\n",
            "EKF-CMGF estimate average per-sample log-likelihood = -1.7878437336198985\n",
            "One-pass sgd estimate average per-sample log-likelihood = -9.710529534377297\n",
            "Multi-pass sgd estimate average per-sample log-likelihood = -1.8798622409133323\n",
            "7000 data points, 10 classes.\n",
            "EKF-CMGF estimate average per-sample log-likelihood = -1.7535642912238836\n",
            "One-pass sgd estimate average per-sample log-likelihood = -8.606064564347296\n",
            "Multi-pass sgd estimate average per-sample log-likelihood = -1.8387003651387572\n",
            "8000 data points, 10 classes.\n",
            "EKF-CMGF estimate average per-sample log-likelihood = -1.75565894967271\n",
            "One-pass sgd estimate average per-sample log-likelihood = -7.37406494734986\n",
            "Multi-pass sgd estimate average per-sample log-likelihood = -1.827657669540534\n",
            "9000 data points, 10 classes.\n",
            "EKF-CMGF estimate average per-sample log-likelihood = -1.742940514246002\n",
            "One-pass sgd estimate average per-sample log-likelihood = -6.468343202077793\n",
            "Multi-pass sgd estimate average per-sample log-likelihood = -1.8212655696168192\n"
          ]
        }
      ]
    },
    {
      "cell_type": "code",
      "source": [
        "# Plot result\n",
        "fig, ax = plt.subplots()\n",
        "ax.plot(data_size_grid, cmgf_logliks, 'r', label='CMGF-EKF')\n",
        "ax.plot(data_size_grid, sgd_onepass_logliks, 'y', label='SGD (single-pass)')\n",
        "ax.plot(data_size_grid, sgd_multipass_logliks, 'b--', label='SGD (multi-pass)')\n",
        "ax.set_xlabel('size of dataset')\n",
        "ax.set_ylabel(f'{n_splits}-fold cv average accuracy')\n",
        "ax.set_title(f'{n_splits}-fold cv accuracy ({num_classes} classes)')\n",
        "ax.legend();"
      ],
      "metadata": {
        "id": "4xTvYp-h4TWO",
        "outputId": "3c98916f-dbe7-4d0c-a695-96a140b7a447",
        "colab": {
          "base_uri": "https://localhost:8080/",
          "height": 295
        }
      },
      "execution_count": 51,
      "outputs": [
        {
          "output_type": "display_data",
          "data": {
            "text/plain": [
              "<Figure size 432x288 with 1 Axes>"
            ],
            "image/png": "[encoded data removed]"
          },
          "metadata": {
            "needs_background": "light"
          }
        }
      ]
    },
    {
      "cell_type": "markdown",
      "source": [],
      "metadata": {
        "id": "wCSIumK56Qta"
      }
    }
  ]
}